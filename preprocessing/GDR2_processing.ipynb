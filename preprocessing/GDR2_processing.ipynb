{
 "cells": [
  {
   "cell_type": "code",
   "execution_count": null,
   "id": "21fd4619-f0fb-42c6-9252-50bc73ed1a37",
   "metadata": {},
   "outputs": [],
   "source": [
    "import numpy as np\n",
    "import pandas as pd\n",
    "\n",
    "from os import path"
   ]
  },
  {
   "cell_type": "code",
   "execution_count": null,
   "id": "f73a025f-31b2-47f7-bc20-2bd231ddbb31",
   "metadata": {},
   "outputs": [],
   "source": [
    "# Data directory:\n",
    "data_dir = \"~/Scarlett/OneDrive - Liverpool John Moores University/SEPHI_data/\"\n",
    "#data_dir = \"~/OneDrive/SEPHI_data/\""
   ]
  },
  {
   "cell_type": "code",
   "execution_count": null,
   "id": "5cec23e3-1821-4505-9714-f87e4fc8823c",
   "metadata": {},
   "outputs": [],
   "source": [
    "# Read the dr2 data:\n",
    "dr2 = pd.read_csv(path.join(data_dir, f\"dr2-all-exo-hosts2-result.csv\"), usecols=[\"designation\", \"source_id\", \"teff_val\", \"teff_percentile_lower\", \"teff_percentile_upper\", \"radius_val\", \"radius_percentile_lower\", \"radius_percentile_upper\", \n",
    "                                          \"lum_val\", \"lum_percentile_lower\", \"lum_percentile_upper\"])"
   ]
  },
  {
   "cell_type": "code",
   "execution_count": null,
   "id": "05dd07ab-11ee-4cae-b22a-4d603121621a",
   "metadata": {},
   "outputs": [],
   "source": [
    "# Checking for duplicates in dr2:\n",
    "\n",
    "# The length of dr2 is > the length of exoplanets, so there must be duplicates\n",
    "print(\"Length of dr2: \", dr2.shape[0])\n",
    "\n",
    "no_duplicates = dr2.duplicated().sum()\n",
    "print(\"The number of duplicates: \", no_duplicates)\n",
    "# All columns are duplicated for these rows, so any row can be deleted\n",
    "print(\"The number of stars in dr2 without duplicates: \", dr2.shape[0] - no_duplicates)\n",
    "\n",
    "# Deleting duplicates from dr2:\n",
    "dr2.drop_duplicates(subset=None, keep=\"first\", inplace=True, ignore_index=False)\n",
    "print(\"The duplicates have been deleted. No. rows in dr2: \", dr2.shape[0])"
   ]
  },
  {
   "cell_type": "code",
   "execution_count": null,
   "id": "4ac47e90-4371-46da-8de4-d17e83525740",
   "metadata": {},
   "outputs": [],
   "source": [
    "# Changing the dr2 uncertainties to +/- uncertainties\n",
    "\n",
    "dr2[\"teff_percentile_upper\"] = dr2[\"teff_percentile_upper\"] - dr2[\"teff_val\"] # should come out +ve\n",
    "dr2[\"teff_percentile_lower\"] = dr2[\"teff_percentile_lower\"] - dr2[\"teff_val\"] # should come out -ve\n",
    "\n",
    "# Changing radius errors to +/- uncertainties:\n",
    "dr2[\"radius_percentile_upper\"] = dr2[\"radius_percentile_upper\"] - dr2[\"radius_val\"] # should come out +ve\n",
    "dr2[\"radius_percentile_lower\"] = dr2[\"radius_percentile_lower\"] - dr2[\"radius_val\"] # should come out -ve\n",
    "\n",
    "# Changing luminosity errors to +/- uncertainties:\n",
    "dr2[\"lum_percentile_upper\"] = dr2[\"lum_percentile_upper\"] - dr2[\"lum_val\"] # should come out +ve\n",
    "dr2[\"lum_percentile_lower\"] = dr2[\"lum_percentile_lower\"] - dr2[\"lum_val\"] # should come out -ve\n",
    "\n",
    "# Renaming the columns:\n",
    "new_cols = {\"teff_val\": \"gdr2_teff\",\n",
    "            \"teff_percentile_upper\": \"gdr2_tefferr1\",\n",
    "           \"teff_percentile_lower\": \"gdr2_tefferr2\",\n",
    "            \"radius_val\": \"gdr2_rad\",\n",
    "           \"radius_percentile_upper\": \"gdr2_raderr1\",\n",
    "           \"radius_percentile_lower\": \"gdr2_raderr2\",\n",
    "            \"lum_val\": \"gdr2_lum\",\n",
    "           \"lum_percentile_upper\": \"gdr2_lumerr1\",\n",
    "           \"lum_percentile_lower\": \"gdr2_lumerr2\"}\n",
    "dr2.rename( columns=new_cols, inplace=True )\n",
    "\n",
    "# Delete the designation column from dr2\n",
    "dr2.drop(labels=\"designation\", axis=1, inplace=True)"
   ]
  },
  {
   "cell_type": "code",
   "execution_count": null,
   "id": "6c29ca49-e952-41ba-8a16-59e1bae73e2d",
   "metadata": {},
   "outputs": [],
   "source": [
    "dr2.to_csv( path.join(data_dir, f\"dr2-processed.csv\") , index=False) #create a csv containing the source_id and Host"
   ]
  },
  {
   "cell_type": "code",
   "execution_count": null,
   "id": "3507a729-88ce-46fe-8692-6dcd32fcb1d5",
   "metadata": {},
   "outputs": [],
   "source": [
    "# TODO: save the file you are happy with to a csv"
   ]
  }
 ],
 "metadata": {
  "kernelspec": {
   "display_name": "Python 3 (ipykernel)",
   "language": "python",
   "name": "python3"
  },
  "language_info": {
   "codemirror_mode": {
    "name": "ipython",
    "version": 3
   },
   "file_extension": ".py",
   "mimetype": "text/x-python",
   "name": "python",
   "nbconvert_exporter": "python",
   "pygments_lexer": "ipython3",
   "version": "3.9.7"
  }
 },
 "nbformat": 4,
 "nbformat_minor": 5
}
