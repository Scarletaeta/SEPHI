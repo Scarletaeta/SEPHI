{
 "cells": [
  {
   "cell_type": "code",
   "execution_count": 1,
   "id": "21fd4619-f0fb-42c6-9252-50bc73ed1a37",
   "metadata": {},
   "outputs": [],
   "source": [
    "import numpy as np\n",
    "import pandas as pd\n",
    "\n",
    "from os import path"
   ]
  },
  {
   "cell_type": "code",
   "execution_count": 2,
   "id": "f73a025f-31b2-47f7-bc20-2bd231ddbb31",
   "metadata": {},
   "outputs": [],
   "source": [
    "# Data directory:\n",
    "#data_dir = \"~/Scarlett/OneDrive - Liverpool John Moores University/SEPHI_data/\"\n",
    "DR2_dir = os.path.expanduser(\"~/OneDrive/SEPHI_data/Gaia/DR2/\")\n",
    "data_date = \"2022_04_28\"\n",
    "#data_date = \"2022_02_09\""
   ]
  },
  {
   "cell_type": "code",
   "execution_count": 3,
   "id": "5cec23e3-1821-4505-9714-f87e4fc8823c",
   "metadata": {},
   "outputs": [],
   "source": [
    "# Read the DR2 data:\n",
    "DR2_cols = [\"designation\", \"source_id\", \"teff_val\", \"teff_percentile_lower\", \"teff_percentile_upper\", \"radius_val\", \"radius_percentile_lower\", \"radius_percentile_upper\", \n",
    "                                          \"lum_val\", \"lum_percentile_lower\", \"lum_percentile_upper\"]\n",
    "dr2 = pd.read_csv(path.join(DR2_dir, f\"dr2-all-exo-hosts_\" + data_date + \".csv\"), usecols=DR2_cols)\n"
   ]
  },
  {
   "cell_type": "code",
   "execution_count": 4,
   "id": "05dd07ab-11ee-4cae-b22a-4d603121621a",
   "metadata": {},
   "outputs": [
    {
     "name": "stdout",
     "output_type": "stream",
     "text": [
      "Length of dr2:  5562\n",
      "The number of duplicates:  1366\n",
      "The number of stars in dr2 without duplicates:  4196\n",
      "The duplicates have been deleted. No. rows in dr2:  4196\n"
     ]
    }
   ],
   "source": [
    "# Checking for duplicates in dr2:\n",
    "\n",
    "# The length of dr2 is > the length of exoplanets, so there must be duplicates\n",
    "print(\"Length of dr2: \", dr2.shape[0])\n",
    "\n",
    "no_duplicates = dr2.duplicated().sum()\n",
    "print(\"The number of duplicates: \", no_duplicates)\n",
    "# All columns are duplicated for these rows, so any row can be deleted\n",
    "print(\"The number of stars in dr2 without duplicates: \", dr2.shape[0] - no_duplicates)\n",
    "\n",
    "# Deleting duplicates from dr2:\n",
    "#dr2.drop_duplicates(subset=None, keep=\"first\", inplace=True, ignore_index=False)\n",
    "dr2.drop_duplicates(subset=\"designation\", keep=\"first\", inplace=True, ignore_index=False)\n",
    "print(\"The duplicates have been deleted. No. rows in dr2: \", dr2.shape[0])"
   ]
  },
  {
   "cell_type": "code",
   "execution_count": 5,
   "id": "4ac47e90-4371-46da-8de4-d17e83525740",
   "metadata": {},
   "outputs": [],
   "source": [
    "# Changing the dr2 uncertainties to +/- uncertainties\n",
    "\n",
    "dr2[\"teff_percentile_upper\"] = dr2[\"teff_percentile_upper\"] - dr2[\"teff_val\"] # should come out +ve\n",
    "dr2[\"teff_percentile_lower\"] = dr2[\"teff_percentile_lower\"] - dr2[\"teff_val\"] # should come out -ve\n",
    "\n",
    "# Changing radius errors to +/- uncertainties:\n",
    "dr2[\"radius_percentile_upper\"] = dr2[\"radius_percentile_upper\"] - dr2[\"radius_val\"] # should come out +ve\n",
    "dr2[\"radius_percentile_lower\"] = dr2[\"radius_percentile_lower\"] - dr2[\"radius_val\"] # should come out -ve\n",
    "\n",
    "# Changing luminosity errors to +/- uncertainties:\n",
    "dr2[\"lum_percentile_upper\"] = dr2[\"lum_percentile_upper\"] - dr2[\"lum_val\"] # should come out +ve\n",
    "dr2[\"lum_percentile_lower\"] = dr2[\"lum_percentile_lower\"] - dr2[\"lum_val\"] # should come out -ve\n",
    "\n",
    "# Renaming the columns:\n",
    "new_cols = {\"designation\":\"gaia_designation\",\n",
    "            \"source_id\": \"gaia_source_id\",\n",
    "            \"teff_val\": \"GDR2_st_teff\",\n",
    "            \"teff_percentile_upper\": \"GDR2_st_tefferr1\",\n",
    "           \"teff_percentile_lower\": \"GDR2_st_tefferr2\",\n",
    "            \"radius_val\": \"GDR2_st_rad\",\n",
    "           \"radius_percentile_upper\": \"GDR2_st_raderr1\",\n",
    "           \"radius_percentile_lower\": \"GDR2_st_raderr2\",\n",
    "            \"lum_val\": \"GDR2_st_lum\",\n",
    "           \"lum_percentile_upper\": \"GDR2_st_lumerr1\",\n",
    "           \"lum_percentile_lower\": \"GDR2_st_lumerr2\"}\n",
    "dr2.rename( columns=new_cols, inplace=True )\n",
    "\n",
    "# Delete the gaia_designation column from dr2\n",
    "dr2.drop(labels=\"gaia_designation\", axis=1, inplace=True)"
   ]
  },
  {
   "cell_type": "code",
   "execution_count": 7,
   "id": "6c29ca49-e952-41ba-8a16-59e1bae73e2d",
   "metadata": {},
   "outputs": [],
   "source": [
    "# Saving the processed dr2 data to a csv:\n",
    "dr2.to_csv( path.join(DR2_dir, f\"DR2_processed_\" + data_date + f\".csv\") , index=False)"
   ]
  },
  {
   "cell_type": "code",
   "execution_count": null,
   "id": "3c3a6947-f6db-43b5-ba85-ad9deee2ea5e",
   "metadata": {},
   "outputs": [],
   "source": []
  }
 ],
 "metadata": {
  "kernelspec": {
   "display_name": "Python 3 (ipykernel)",
   "language": "python",
   "name": "python3"
  },
  "language_info": {
   "codemirror_mode": {
    "name": "ipython",
    "version": 3
   },
   "file_extension": ".py",
   "mimetype": "text/x-python",
   "name": "python",
   "nbconvert_exporter": "python",
   "pygments_lexer": "ipython3",
   "version": "3.9.7"
  }
 },
 "nbformat": 4,
 "nbformat_minor": 5
}
