{
 "cells": [
  {
   "cell_type": "code",
   "execution_count": 9,
   "id": "2d635259-4644-4771-8b82-fe87c93d8114",
   "metadata": {},
   "outputs": [],
   "source": [
    "import pandas as pd\n",
    "import numpy as np\n",
    "\n",
    "from os import path\n",
    "\n",
    "from astropy.io import ascii"
   ]
  },
  {
   "cell_type": "code",
   "execution_count": 10,
   "id": "7bc95290-eee7-4b75-9acf-913cccff5c6f",
   "metadata": {},
   "outputs": [],
   "source": [
    "# Data directory:\n",
    "cks_data_dir = \"~/OneDrive/SEPHI_data/CKS/\"\n",
    "#data_dir = \"~/Scarlett/OneDrive - Liverpool John Moores University/SEPHI_data/\"\n"
   ]
  },
  {
   "cell_type": "code",
   "execution_count": 16,
   "id": "9a7fb256-e578-46ef-9af8-6fb93b81cbb2",
   "metadata": {},
   "outputs": [],
   "source": [
    "# CKS column names are specified in https://sites.astro.caltech.edu/~howard/cks/column-definitions.txt\n",
    "\n",
    "identifiers = [\"id_starname\", \"id_koi\", \"id_koicand\", \"koi_disposition\"]\n",
    "#koi_disposition       Exoplanet Archive Disposition\n",
    "Q16 = [\"koi_period\", \"koi_period_err1\", \"koi_period_err2\", \"koi_impact\", \"koi_impact_err1\", \"koi_impact_err2\", \"koi_prad\", \"koi_prad_err1\", \"koi_prad_err2\", \"koi_sma\", \"koi_sma_err1\", \"koi_sma_err2\", \"koi_count\", \"koi_slogg\", \"koi_slogg_err1\", \"koi_slogg_err2\", \"koi_smet\", \"koi_smet_err1\", \"koi_smet_err2\", \"koi_srad\", \"koi_srad_err1\", \"koi_srad_err2\", \"koi_smass\", \"koi_smass_err1\", \"koi_smass_err2\", \"koi_sage\", \"koi_sage_err1\", \"koi_sage_err2\", ]\n",
    "# koi_impact            Impact Parameter [float]\n",
    "# koi_ror               Planet-Star Radius Ratio [float]\n",
    "#koi_srho              Fitted Stellar Density [g/cm**3]\n",
    "#koi_prad              Planetary Radius [Earth radii]\n",
    "#koi_sma               Orbit Semi-Major Axis [AU]\n",
    "#koi_count             Number of Planets\n",
    "#koi_slogg             Stellar Surface Gravity [log10(cm/s**2)]\n",
    "#koi_smet              Stellar Metallicity [dex]\n",
    "#koi_srad              Stellar Radius [Solar radii\n",
    "\n",
    "# Columns from CKS-I\n",
    "CKSI = [\"cks_fpsys\", \"cks_fpsys\", \"cks_steff\", \"cks_steff_err1\", \"cks_steff_err2\", \"cks_slogg\", \"cks_slogg_err1\", \"cks_slogg_err2\", \"cks_smet\", \"cks_smet_err1\", \"cks_smet_err2\"]\n",
    "#cks_fpsys      CKS False positive designation for star/system\n",
    "#cks_fp                CKS False positive designation for candidate\n",
    "#cks_slogg             CKS Stellar Surface Gravity [log10(cm/s**2)]\n",
    "\n",
    "# Columns from CKS-II\n",
    "CKSII = [\"iso_steff\", \"iso_steff_err1\", \"iso_steff_err2\", \"iso_slogg\", \"iso_slogg_err1\", \"iso_slogg_err2\", \"iso_smet\", \"iso_smet_err1\", \"iso_smet_err2\", \"iso_srad\", \"iso_srad_err1\", \"iso_srad_err2\", \"iso_smass\", \"iso_smass_err1\", \"iso_smass_err2\", \"iso_sage\", \"iso_sage_err1\", \"iso_sage_err2\", \"iso_prad\", \"iso_prad_err1\", \"iso_prad_err2\", \"iso_sma\", \"iso_sma_err1\", \"iso_sma_err2\", \"iso_insol\", \"iso_insol_err1\", \"iso_insol_err2\", \"iso_teq\", \"iso_teq_err1\", \"iso_teq_err2\"]\n",
    "#iso_steff             CKS+Isochrone-constrained Effective Temperature [K]\n",
    "#iso_slogg             CKS+Isochrone-constrained Stellar Surface Gravity [log10(cm/s**2)]\n",
    "#iso_insol             CKS+Isochrone-constrained Incident flux [Earth units]\n",
    "#iso_teq               CKS+Isochrone-constrained Planet equilibrium temperature (bond albedo = 0.3)\n",
    "\n",
    "CKS_data= pd.read_csv(path.join(cks_data_dir, f\"cks_physical_merged.csv\"),  usecols=CKSII)"
   ]
  },
  {
   "cell_type": "code",
   "execution_count": 18,
   "id": "24506c4a-60fe-4032-82ec-d8412a67393b",
   "metadata": {},
   "outputs": [
    {
     "name": "stdout",
     "output_type": "stream",
     "text": [
      "      iso_steff  iso_steff_err1  iso_steff_err2  iso_slogg  iso_slogg_err1  \\\n",
      "0        5815.0            66.0           -65.0      4.390           0.078   \n",
      "1        6447.0            65.0           -64.0      4.150           0.110   \n",
      "2        4867.0            66.0           -65.0      4.541           0.039   \n",
      "3        6344.0            65.0           -67.0      4.323           0.060   \n",
      "4        5833.0            60.0           -67.0      4.117           0.106   \n",
      "...         ...             ...             ...        ...             ...   \n",
      "2020     5510.0            65.0           -64.0      4.349           0.079   \n",
      "2021     5411.0            68.0           -68.0      3.990           0.150   \n",
      "2022     5789.0            68.0           -67.0      4.403           0.073   \n",
      "2023     5104.0            65.0           -64.0      4.482           0.052   \n",
      "2024     6332.0            70.0           -66.0      3.299           0.082   \n",
      "\n",
      "      iso_slogg_err2  iso_smet  iso_smet_err1  iso_smet_err2  iso_srad  ...  \\\n",
      "0             -0.091     0.013          0.041         -0.040     1.061  ...   \n",
      "1             -0.110     0.192          0.041         -0.043     1.630  ...   \n",
      "2             -0.034     0.309          0.042         -0.043     0.807  ...   \n",
      "3             -0.084     0.041          0.042         -0.042     1.261  ...   \n",
      "4             -0.096     0.171          0.041         -0.042     1.530  ...   \n",
      "...              ...       ...            ...            ...       ...  ...   \n",
      "2020          -0.104    -0.061          0.053         -0.045     1.042  ...   \n",
      "2021          -0.130    -0.128          0.096         -0.061     1.600  ...   \n",
      "2022          -0.083    -0.227          0.043         -0.044     0.993  ...   \n",
      "2023          -0.045     0.310          0.041         -0.041     0.885  ...   \n",
      "2024          -0.063    -0.108          0.037         -0.037     5.040  ...   \n",
      "\n",
      "      iso_prad_err2   iso_sma  iso_sma_err1  iso_sma_err2    iso_insol  \\\n",
      "0         -1.419266  0.035951      0.000596     -0.000596   890.712853   \n",
      "1         -2.018515  0.036880      0.000727     -0.000727  3029.593093   \n",
      "2         -0.410257  0.052952      0.000883     -0.000883   116.907786   \n",
      "3        -21.966014  0.025383      0.000427     -0.000427  3595.445148   \n",
      "4         -0.596032  0.044247      0.001075     -0.001075  1233.844672   \n",
      "...             ...       ...           ...           ...          ...   \n",
      "2020      -0.944495  1.132670      0.018759     -0.018759     0.696247   \n",
      "2021      -1.350866  0.954796      0.016019     -0.016019     2.199975   \n",
      "2022      -0.207841  1.291013      0.021417     -0.021417     0.594188   \n",
      "2023      -0.588360  0.965517      0.016252     -0.016252     0.507970   \n",
      "2024      -0.799371  0.344078      0.005795     -0.005795   306.970788   \n",
      "\n",
      "      iso_insol_err1  iso_insol_err2      iso_teq  iso_teq_err1  iso_teq_err2  \n",
      "0         184.876216     -184.876216  1392.188224     71.758330    -71.758330  \n",
      "1         931.186264     -931.186264  1890.643307    146.140168   -146.140168  \n",
      "2          20.094411      -20.094411   837.962116     35.981752    -35.981752  \n",
      "3         694.155894     -694.155894  1973.338972     95.179897    -95.179897  \n",
      "4         367.335736     -367.335736  1510.353647    112.889880   -112.889880  \n",
      "...              ...             ...          ...           ...           ...  \n",
      "2020        0.170338       -0.170338   232.784673     14.206211    -14.206211  \n",
      "2021        0.805587       -0.805587   310.361593     28.527735    -28.527735  \n",
      "2022        0.112290       -0.112290   223.740482     10.530478    -10.530478  \n",
      "2023        0.087280       -0.087280   215.140893      9.205141     -9.205141  \n",
      "2024       80.999594      -80.999594  1066.688930     70.078634    -70.078634  \n",
      "\n",
      "[2025 rows x 30 columns]\n"
     ]
    }
   ],
   "source": [
    "print(CKS_data)"
   ]
  },
  {
   "cell_type": "code",
   "execution_count": 17,
   "id": "7260d9af-0ea3-4506-823a-fd5e7be7565f",
   "metadata": {},
   "outputs": [
    {
     "ename": "FileNotFoundError",
     "evalue": "[Errno 2] No such file or directory: '~/OneDrive/SEPHI_data/CKS/CKSII_2017_stars.tsv'",
     "output_type": "error",
     "traceback": [
      "\u001b[0;31m---------------------------------------------------------------------------\u001b[0m",
      "\u001b[0;31mFileNotFoundError\u001b[0m                         Traceback (most recent call last)",
      "\u001b[0;32m/tmp/ipykernel_30846/545124042.py\u001b[0m in \u001b[0;36m<module>\u001b[0;34m\u001b[0m\n\u001b[0;32m----> 1\u001b[0;31m \u001b[0mCKS_data\u001b[0m \u001b[0;34m=\u001b[0m \u001b[0mascii\u001b[0m\u001b[0;34m.\u001b[0m\u001b[0mread\u001b[0m\u001b[0;34m(\u001b[0m\u001b[0;34m\"~/OneDrive/SEPHI_data/CKS/CKSII_2017_stars.tsv\"\u001b[0m\u001b[0;34m,\u001b[0m \u001b[0mdelimiter\u001b[0m \u001b[0;34m=\u001b[0m \u001b[0;34m';'\u001b[0m\u001b[0;34m,\u001b[0m \u001b[0mcomment\u001b[0m\u001b[0;34m=\u001b[0m\u001b[0;34m\"#\"\u001b[0m\u001b[0;34m,\u001b[0m \u001b[0mnames\u001b[0m\u001b[0;34m=\u001b[0m\u001b[0;34m[\u001b[0m \u001b[0;34m\"Name\"\u001b[0m\u001b[0;34m,\u001b[0m \u001b[0;34m\"Teff\"\u001b[0m\u001b[0;34m,\u001b[0m \u001b[0;34m\"eTeff\"\u001b[0m\u001b[0;34m,\u001b[0m \u001b[0;34m\"E_Teff\"\u001b[0m\u001b[0;34m,\u001b[0m \u001b[0;34m\"Mass\"\u001b[0m\u001b[0;34m,\u001b[0m \u001b[0;34m\"e_Mass\"\u001b[0m\u001b[0;34m,\u001b[0m \u001b[0;34m\"e_Mass\"\u001b[0m\u001b[0;34m,\u001b[0m \u001b[0;34m\"logA\"\u001b[0m\u001b[0;34m,\u001b[0m \u001b[0;34m\"e_logA\"\u001b[0m\u001b[0;34m,\u001b[0m \u001b[0;34m\"E_logA\"\u001b[0m \u001b[0;34m]\u001b[0m\u001b[0;34m)\u001b[0m\u001b[0;34m\u001b[0m\u001b[0;34m\u001b[0m\u001b[0m\n\u001b[0m\u001b[1;32m      2\u001b[0m \u001b[0;31m# data_start=2,\u001b[0m\u001b[0;34m\u001b[0m\u001b[0;34m\u001b[0m\u001b[0m\n\u001b[1;32m      3\u001b[0m \u001b[0;34m\u001b[0m\u001b[0m\n\u001b[1;32m      4\u001b[0m \u001b[0mCKS_col_start\u001b[0m \u001b[0;34m=\u001b[0m \u001b[0;36m100\u001b[0m \u001b[0;31m# the row where containing the colum headers#path.join(cks_data_dir, f\"CKSII_2017_stars.tsv\")\u001b[0m\u001b[0;34m\u001b[0m\u001b[0;34m\u001b[0m\u001b[0m\n",
      "\u001b[0;32m~/anaconda3/envs/sephi/lib/python3.9/site-packages/astropy/io/ascii/ui.py\u001b[0m in \u001b[0;36mread\u001b[0;34m(table, guess, **kwargs)\u001b[0m\n\u001b[1;32m    339\u001b[0m         \u001b[0;31m# through below to the non-guess way so that any problems result in a\u001b[0m\u001b[0;34m\u001b[0m\u001b[0;34m\u001b[0m\u001b[0m\n\u001b[1;32m    340\u001b[0m         \u001b[0;31m# more useful traceback.\u001b[0m\u001b[0;34m\u001b[0m\u001b[0;34m\u001b[0m\u001b[0m\n\u001b[0;32m--> 341\u001b[0;31m         \u001b[0mdat\u001b[0m \u001b[0;34m=\u001b[0m \u001b[0m_guess\u001b[0m\u001b[0;34m(\u001b[0m\u001b[0mtable\u001b[0m\u001b[0;34m,\u001b[0m \u001b[0mnew_kwargs\u001b[0m\u001b[0;34m,\u001b[0m \u001b[0mformat\u001b[0m\u001b[0;34m,\u001b[0m \u001b[0mfast_reader\u001b[0m\u001b[0;34m)\u001b[0m\u001b[0;34m\u001b[0m\u001b[0;34m\u001b[0m\u001b[0m\n\u001b[0m\u001b[1;32m    342\u001b[0m         \u001b[0;32mif\u001b[0m \u001b[0mdat\u001b[0m \u001b[0;32mis\u001b[0m \u001b[0;32mNone\u001b[0m\u001b[0;34m:\u001b[0m\u001b[0;34m\u001b[0m\u001b[0;34m\u001b[0m\u001b[0m\n\u001b[1;32m    343\u001b[0m             \u001b[0mguess\u001b[0m \u001b[0;34m=\u001b[0m \u001b[0;32mFalse\u001b[0m\u001b[0;34m\u001b[0m\u001b[0;34m\u001b[0m\u001b[0m\n",
      "\u001b[0;32m~/anaconda3/envs/sephi/lib/python3.9/site-packages/astropy/io/ascii/ui.py\u001b[0m in \u001b[0;36m_guess\u001b[0;34m(table, read_kwargs, format, fast_reader)\u001b[0m\n\u001b[1;32m    504\u001b[0m \u001b[0;34m\u001b[0m\u001b[0m\n\u001b[1;32m    505\u001b[0m             \u001b[0mreader\u001b[0m\u001b[0;34m.\u001b[0m\u001b[0mguessing\u001b[0m \u001b[0;34m=\u001b[0m \u001b[0;32mTrue\u001b[0m\u001b[0;34m\u001b[0m\u001b[0;34m\u001b[0m\u001b[0m\n\u001b[0;32m--> 506\u001b[0;31m             \u001b[0mdat\u001b[0m \u001b[0;34m=\u001b[0m \u001b[0mreader\u001b[0m\u001b[0;34m.\u001b[0m\u001b[0mread\u001b[0m\u001b[0;34m(\u001b[0m\u001b[0mtable\u001b[0m\u001b[0;34m)\u001b[0m\u001b[0;34m\u001b[0m\u001b[0;34m\u001b[0m\u001b[0m\n\u001b[0m\u001b[1;32m    507\u001b[0m             _read_trace.append({'kwargs': copy.deepcopy(guess_kwargs),\n\u001b[1;32m    508\u001b[0m                                 \u001b[0;34m'Reader'\u001b[0m\u001b[0;34m:\u001b[0m \u001b[0mreader\u001b[0m\u001b[0;34m.\u001b[0m\u001b[0m__class__\u001b[0m\u001b[0;34m,\u001b[0m\u001b[0;34m\u001b[0m\u001b[0;34m\u001b[0m\u001b[0m\n",
      "\u001b[0;32m~/anaconda3/envs/sephi/lib/python3.9/site-packages/astropy/io/ascii/fastbasic.py\u001b[0m in \u001b[0;36mread\u001b[0;34m(self, table)\u001b[0m\n\u001b[1;32m    107\u001b[0m         \u001b[0mself\u001b[0m\u001b[0;34m.\u001b[0m\u001b[0mkwargs\u001b[0m\u001b[0;34m[\u001b[0m\u001b[0;34m'fast_reader'\u001b[0m\u001b[0;34m]\u001b[0m \u001b[0;34m=\u001b[0m \u001b[0mfast_reader\u001b[0m\u001b[0;34m\u001b[0m\u001b[0;34m\u001b[0m\u001b[0m\n\u001b[1;32m    108\u001b[0m \u001b[0;34m\u001b[0m\u001b[0m\n\u001b[0;32m--> 109\u001b[0;31m         self.engine = cparser.CParser(table, self.strip_whitespace_lines,\n\u001b[0m\u001b[1;32m    110\u001b[0m                                       \u001b[0mself\u001b[0m\u001b[0;34m.\u001b[0m\u001b[0mstrip_whitespace_fields\u001b[0m\u001b[0;34m,\u001b[0m\u001b[0;34m\u001b[0m\u001b[0;34m\u001b[0m\u001b[0m\n\u001b[1;32m    111\u001b[0m                                       \u001b[0mdelimiter\u001b[0m\u001b[0;34m=\u001b[0m\u001b[0mself\u001b[0m\u001b[0;34m.\u001b[0m\u001b[0mdelimiter\u001b[0m\u001b[0;34m,\u001b[0m\u001b[0;34m\u001b[0m\u001b[0;34m\u001b[0m\u001b[0m\n",
      "\u001b[0;32mastropy/io/ascii/cparser.pyx\u001b[0m in \u001b[0;36mastropy.io.ascii.cparser.CParser.__cinit__\u001b[0;34m()\u001b[0m\n",
      "\u001b[0;32mastropy/io/ascii/cparser.pyx\u001b[0m in \u001b[0;36mastropy.io.ascii.cparser.CParser.setup_tokenizer\u001b[0;34m()\u001b[0m\n",
      "\u001b[0;32mastropy/io/ascii/cparser.pyx\u001b[0m in \u001b[0;36mastropy.io.ascii.cparser.FileString.__cinit__\u001b[0;34m()\u001b[0m\n",
      "\u001b[0;31mFileNotFoundError\u001b[0m: [Errno 2] No such file or directory: '~/OneDrive/SEPHI_data/CKS/CKSII_2017_stars.tsv'"
     ]
    }
   ],
   "source": [
    "#Read data using an astropy table?\n",
    "\n",
    "#CKS_data = ascii.read(\"~/OneDrive/SEPHI_data/CKS/CKSII_2017_stars.tsv\", delimiter = ';', comment=\"#\", names=[ \"Name\", \"Teff\", \"eTeff\", \"E_Teff\", \"Mass\", \"e_Mass\", \"e_Mass\", \"logA\", \"e_logA\", \"E_logA\" ]) \n",
    "# data_start=2,\n",
    "\n",
    "#CKS_col_start = 100 # the row where containing the colum headers#path.join(cks_data_dir, f\"CKSII_2017_stars.tsv\")"
   ]
  },
  {
   "cell_type": "code",
   "execution_count": 12,
   "id": "f0c84e59-96e0-4a2b-a1fc-b79326530ee3",
   "metadata": {},
   "outputs": [
    {
     "ename": "ValueError",
     "evalue": "Usecols do not match columns, columns expected but not found: ['E_Teff', 'Teff', 'Name', 'logA', 'eTeff', 'E_logA', 'Mass', 'e_logA', 'e_Mass']",
     "output_type": "error",
     "traceback": [
      "\u001b[0;31m---------------------------------------------------------------------------\u001b[0m",
      "\u001b[0;31mValueError\u001b[0m                                Traceback (most recent call last)",
      "\u001b[0;32m/tmp/ipykernel_30846/2124868305.py\u001b[0m in \u001b[0;36m<module>\u001b[0;34m\u001b[0m\n\u001b[1;32m      1\u001b[0m \u001b[0;31m# Loading the CKS & Kepler data:\u001b[0m\u001b[0;34m\u001b[0m\u001b[0;34m\u001b[0m\u001b[0m\n\u001b[0;32m----> 2\u001b[0;31m \u001b[0mcks\u001b[0m \u001b[0;34m=\u001b[0m \u001b[0mpd\u001b[0m\u001b[0;34m.\u001b[0m\u001b[0mread_csv\u001b[0m\u001b[0;34m(\u001b[0m\u001b[0mpath\u001b[0m\u001b[0;34m.\u001b[0m\u001b[0mjoin\u001b[0m\u001b[0;34m(\u001b[0m\u001b[0mcks_data_dir\u001b[0m\u001b[0;34m,\u001b[0m \u001b[0;34mf\"CKSII_2017_stars.tsv\"\u001b[0m\u001b[0;34m)\u001b[0m\u001b[0;34m,\u001b[0m \u001b[0msep\u001b[0m \u001b[0;34m=\u001b[0m \u001b[0;34m';'\u001b[0m\u001b[0;34m,\u001b[0m \u001b[0mheader\u001b[0m \u001b[0;34m=\u001b[0m \u001b[0mCKS_col_start\u001b[0m\u001b[0;34m,\u001b[0m \u001b[0musecols\u001b[0m\u001b[0;34m=\u001b[0m\u001b[0;34m[\u001b[0m \u001b[0;34m\"Name\"\u001b[0m\u001b[0;34m,\u001b[0m \u001b[0;34m\"Teff\"\u001b[0m\u001b[0;34m,\u001b[0m \u001b[0;34m\"eTeff\"\u001b[0m\u001b[0;34m,\u001b[0m \u001b[0;34m\"E_Teff\"\u001b[0m\u001b[0;34m,\u001b[0m \u001b[0;34m\"Mass\"\u001b[0m\u001b[0;34m,\u001b[0m \u001b[0;34m\"e_Mass\"\u001b[0m\u001b[0;34m,\u001b[0m \u001b[0;34m\"e_Mass\"\u001b[0m\u001b[0;34m,\u001b[0m \u001b[0;34m\"logA\"\u001b[0m\u001b[0;34m,\u001b[0m \u001b[0;34m\"e_logA\"\u001b[0m\u001b[0;34m,\u001b[0m \u001b[0;34m\"E_logA\"\u001b[0m \u001b[0;34m]\u001b[0m\u001b[0;34m)\u001b[0m\u001b[0;34m\u001b[0m\u001b[0;34m\u001b[0m\u001b[0m\n\u001b[0m\u001b[1;32m      3\u001b[0m \u001b[0;31m#kepler = pd.read_csv(path.join(cks_data_dir, f\"CKSII_2017_planets.tsv\"), sep = ';', header = CKS_col_start, usecols=[ \"Name\", ])\u001b[0m\u001b[0;34m\u001b[0m\u001b[0;34m\u001b[0m\u001b[0m\n",
      "\u001b[0;32m~/anaconda3/envs/sephi/lib/python3.9/site-packages/pandas/util/_decorators.py\u001b[0m in \u001b[0;36mwrapper\u001b[0;34m(*args, **kwargs)\u001b[0m\n\u001b[1;32m    309\u001b[0m                     \u001b[0mstacklevel\u001b[0m\u001b[0;34m=\u001b[0m\u001b[0mstacklevel\u001b[0m\u001b[0;34m,\u001b[0m\u001b[0;34m\u001b[0m\u001b[0;34m\u001b[0m\u001b[0m\n\u001b[1;32m    310\u001b[0m                 )\n\u001b[0;32m--> 311\u001b[0;31m             \u001b[0;32mreturn\u001b[0m \u001b[0mfunc\u001b[0m\u001b[0;34m(\u001b[0m\u001b[0;34m*\u001b[0m\u001b[0margs\u001b[0m\u001b[0;34m,\u001b[0m \u001b[0;34m**\u001b[0m\u001b[0mkwargs\u001b[0m\u001b[0;34m)\u001b[0m\u001b[0;34m\u001b[0m\u001b[0;34m\u001b[0m\u001b[0m\n\u001b[0m\u001b[1;32m    312\u001b[0m \u001b[0;34m\u001b[0m\u001b[0m\n\u001b[1;32m    313\u001b[0m         \u001b[0;32mreturn\u001b[0m \u001b[0mwrapper\u001b[0m\u001b[0;34m\u001b[0m\u001b[0;34m\u001b[0m\u001b[0m\n",
      "\u001b[0;32m~/anaconda3/envs/sephi/lib/python3.9/site-packages/pandas/io/parsers/readers.py\u001b[0m in \u001b[0;36mread_csv\u001b[0;34m(filepath_or_buffer, sep, delimiter, header, names, index_col, usecols, squeeze, prefix, mangle_dupe_cols, dtype, engine, converters, true_values, false_values, skipinitialspace, skiprows, skipfooter, nrows, na_values, keep_default_na, na_filter, verbose, skip_blank_lines, parse_dates, infer_datetime_format, keep_date_col, date_parser, dayfirst, cache_dates, iterator, chunksize, compression, thousands, decimal, lineterminator, quotechar, quoting, doublequote, escapechar, comment, encoding, encoding_errors, dialect, error_bad_lines, warn_bad_lines, on_bad_lines, delim_whitespace, low_memory, memory_map, float_precision, storage_options)\u001b[0m\n\u001b[1;32m    584\u001b[0m     \u001b[0mkwds\u001b[0m\u001b[0;34m.\u001b[0m\u001b[0mupdate\u001b[0m\u001b[0;34m(\u001b[0m\u001b[0mkwds_defaults\u001b[0m\u001b[0;34m)\u001b[0m\u001b[0;34m\u001b[0m\u001b[0;34m\u001b[0m\u001b[0m\n\u001b[1;32m    585\u001b[0m \u001b[0;34m\u001b[0m\u001b[0m\n\u001b[0;32m--> 586\u001b[0;31m     \u001b[0;32mreturn\u001b[0m \u001b[0m_read\u001b[0m\u001b[0;34m(\u001b[0m\u001b[0mfilepath_or_buffer\u001b[0m\u001b[0;34m,\u001b[0m \u001b[0mkwds\u001b[0m\u001b[0;34m)\u001b[0m\u001b[0;34m\u001b[0m\u001b[0;34m\u001b[0m\u001b[0m\n\u001b[0m\u001b[1;32m    587\u001b[0m \u001b[0;34m\u001b[0m\u001b[0m\n\u001b[1;32m    588\u001b[0m \u001b[0;34m\u001b[0m\u001b[0m\n",
      "\u001b[0;32m~/anaconda3/envs/sephi/lib/python3.9/site-packages/pandas/io/parsers/readers.py\u001b[0m in \u001b[0;36m_read\u001b[0;34m(filepath_or_buffer, kwds)\u001b[0m\n\u001b[1;32m    480\u001b[0m \u001b[0;34m\u001b[0m\u001b[0m\n\u001b[1;32m    481\u001b[0m     \u001b[0;31m# Create the parser.\u001b[0m\u001b[0;34m\u001b[0m\u001b[0;34m\u001b[0m\u001b[0m\n\u001b[0;32m--> 482\u001b[0;31m     \u001b[0mparser\u001b[0m \u001b[0;34m=\u001b[0m \u001b[0mTextFileReader\u001b[0m\u001b[0;34m(\u001b[0m\u001b[0mfilepath_or_buffer\u001b[0m\u001b[0;34m,\u001b[0m \u001b[0;34m**\u001b[0m\u001b[0mkwds\u001b[0m\u001b[0;34m)\u001b[0m\u001b[0;34m\u001b[0m\u001b[0;34m\u001b[0m\u001b[0m\n\u001b[0m\u001b[1;32m    483\u001b[0m \u001b[0;34m\u001b[0m\u001b[0m\n\u001b[1;32m    484\u001b[0m     \u001b[0;32mif\u001b[0m \u001b[0mchunksize\u001b[0m \u001b[0;32mor\u001b[0m \u001b[0miterator\u001b[0m\u001b[0;34m:\u001b[0m\u001b[0;34m\u001b[0m\u001b[0;34m\u001b[0m\u001b[0m\n",
      "\u001b[0;32m~/anaconda3/envs/sephi/lib/python3.9/site-packages/pandas/io/parsers/readers.py\u001b[0m in \u001b[0;36m__init__\u001b[0;34m(self, f, engine, **kwds)\u001b[0m\n\u001b[1;32m    809\u001b[0m             \u001b[0mself\u001b[0m\u001b[0;34m.\u001b[0m\u001b[0moptions\u001b[0m\u001b[0;34m[\u001b[0m\u001b[0;34m\"has_index_names\"\u001b[0m\u001b[0;34m]\u001b[0m \u001b[0;34m=\u001b[0m \u001b[0mkwds\u001b[0m\u001b[0;34m[\u001b[0m\u001b[0;34m\"has_index_names\"\u001b[0m\u001b[0;34m]\u001b[0m\u001b[0;34m\u001b[0m\u001b[0;34m\u001b[0m\u001b[0m\n\u001b[1;32m    810\u001b[0m \u001b[0;34m\u001b[0m\u001b[0m\n\u001b[0;32m--> 811\u001b[0;31m         \u001b[0mself\u001b[0m\u001b[0;34m.\u001b[0m\u001b[0m_engine\u001b[0m \u001b[0;34m=\u001b[0m \u001b[0mself\u001b[0m\u001b[0;34m.\u001b[0m\u001b[0m_make_engine\u001b[0m\u001b[0;34m(\u001b[0m\u001b[0mself\u001b[0m\u001b[0;34m.\u001b[0m\u001b[0mengine\u001b[0m\u001b[0;34m)\u001b[0m\u001b[0;34m\u001b[0m\u001b[0;34m\u001b[0m\u001b[0m\n\u001b[0m\u001b[1;32m    812\u001b[0m \u001b[0;34m\u001b[0m\u001b[0m\n\u001b[1;32m    813\u001b[0m     \u001b[0;32mdef\u001b[0m \u001b[0mclose\u001b[0m\u001b[0;34m(\u001b[0m\u001b[0mself\u001b[0m\u001b[0;34m)\u001b[0m\u001b[0;34m:\u001b[0m\u001b[0;34m\u001b[0m\u001b[0;34m\u001b[0m\u001b[0m\n",
      "\u001b[0;32m~/anaconda3/envs/sephi/lib/python3.9/site-packages/pandas/io/parsers/readers.py\u001b[0m in \u001b[0;36m_make_engine\u001b[0;34m(self, engine)\u001b[0m\n\u001b[1;32m   1038\u001b[0m             )\n\u001b[1;32m   1039\u001b[0m         \u001b[0;31m# error: Too many arguments for \"ParserBase\"\u001b[0m\u001b[0;34m\u001b[0m\u001b[0;34m\u001b[0m\u001b[0m\n\u001b[0;32m-> 1040\u001b[0;31m         \u001b[0;32mreturn\u001b[0m \u001b[0mmapping\u001b[0m\u001b[0;34m[\u001b[0m\u001b[0mengine\u001b[0m\u001b[0;34m]\u001b[0m\u001b[0;34m(\u001b[0m\u001b[0mself\u001b[0m\u001b[0;34m.\u001b[0m\u001b[0mf\u001b[0m\u001b[0;34m,\u001b[0m \u001b[0;34m**\u001b[0m\u001b[0mself\u001b[0m\u001b[0;34m.\u001b[0m\u001b[0moptions\u001b[0m\u001b[0;34m)\u001b[0m  \u001b[0;31m# type: ignore[call-arg]\u001b[0m\u001b[0;34m\u001b[0m\u001b[0;34m\u001b[0m\u001b[0m\n\u001b[0m\u001b[1;32m   1041\u001b[0m \u001b[0;34m\u001b[0m\u001b[0m\n\u001b[1;32m   1042\u001b[0m     \u001b[0;32mdef\u001b[0m \u001b[0m_failover_to_python\u001b[0m\u001b[0;34m(\u001b[0m\u001b[0mself\u001b[0m\u001b[0;34m)\u001b[0m\u001b[0;34m:\u001b[0m\u001b[0;34m\u001b[0m\u001b[0;34m\u001b[0m\u001b[0m\n",
      "\u001b[0;32m~/anaconda3/envs/sephi/lib/python3.9/site-packages/pandas/io/parsers/c_parser_wrapper.py\u001b[0m in \u001b[0;36m__init__\u001b[0;34m(self, src, **kwds)\u001b[0m\n\u001b[1;32m    133\u001b[0m                 \u001b[0mself\u001b[0m\u001b[0;34m.\u001b[0m\u001b[0morig_names\u001b[0m\u001b[0;34m\u001b[0m\u001b[0;34m\u001b[0m\u001b[0m\n\u001b[1;32m    134\u001b[0m             ):\n\u001b[0;32m--> 135\u001b[0;31m                 \u001b[0mself\u001b[0m\u001b[0;34m.\u001b[0m\u001b[0m_validate_usecols_names\u001b[0m\u001b[0;34m(\u001b[0m\u001b[0musecols\u001b[0m\u001b[0;34m,\u001b[0m \u001b[0mself\u001b[0m\u001b[0;34m.\u001b[0m\u001b[0morig_names\u001b[0m\u001b[0;34m)\u001b[0m\u001b[0;34m\u001b[0m\u001b[0;34m\u001b[0m\u001b[0m\n\u001b[0m\u001b[1;32m    136\u001b[0m \u001b[0;34m\u001b[0m\u001b[0m\n\u001b[1;32m    137\u001b[0m             \u001b[0;31m# error: Cannot determine type of 'names'\u001b[0m\u001b[0;34m\u001b[0m\u001b[0;34m\u001b[0m\u001b[0m\n",
      "\u001b[0;32m~/anaconda3/envs/sephi/lib/python3.9/site-packages/pandas/io/parsers/base_parser.py\u001b[0m in \u001b[0;36m_validate_usecols_names\u001b[0;34m(self, usecols, names)\u001b[0m\n\u001b[1;32m    864\u001b[0m         \u001b[0mmissing\u001b[0m \u001b[0;34m=\u001b[0m \u001b[0;34m[\u001b[0m\u001b[0mc\u001b[0m \u001b[0;32mfor\u001b[0m \u001b[0mc\u001b[0m \u001b[0;32min\u001b[0m \u001b[0musecols\u001b[0m \u001b[0;32mif\u001b[0m \u001b[0mc\u001b[0m \u001b[0;32mnot\u001b[0m \u001b[0;32min\u001b[0m \u001b[0mnames\u001b[0m\u001b[0;34m]\u001b[0m\u001b[0;34m\u001b[0m\u001b[0;34m\u001b[0m\u001b[0m\n\u001b[1;32m    865\u001b[0m         \u001b[0;32mif\u001b[0m \u001b[0mlen\u001b[0m\u001b[0;34m(\u001b[0m\u001b[0mmissing\u001b[0m\u001b[0;34m)\u001b[0m \u001b[0;34m>\u001b[0m \u001b[0;36m0\u001b[0m\u001b[0;34m:\u001b[0m\u001b[0;34m\u001b[0m\u001b[0;34m\u001b[0m\u001b[0m\n\u001b[0;32m--> 866\u001b[0;31m             raise ValueError(\n\u001b[0m\u001b[1;32m    867\u001b[0m                 \u001b[0;34mf\"Usecols do not match columns, columns expected but not found: \"\u001b[0m\u001b[0;34m\u001b[0m\u001b[0;34m\u001b[0m\u001b[0m\n\u001b[1;32m    868\u001b[0m                 \u001b[0;34mf\"{missing}\"\u001b[0m\u001b[0;34m\u001b[0m\u001b[0;34m\u001b[0m\u001b[0m\n",
      "\u001b[0;31mValueError\u001b[0m: Usecols do not match columns, columns expected but not found: ['E_Teff', 'Teff', 'Name', 'logA', 'eTeff', 'E_logA', 'Mass', 'e_logA', 'e_Mass']"
     ]
    }
   ],
   "source": [
    "#CKS_col_start = 100 # the row where containing the colum headers\n",
    "\n",
    "# Loading the CKS & Kepler data:\n",
    "#cks = pd.read_csv(path.join(cks_data_dir, f\"CKSII_2017_stars.tsv\"), sep = ';', header = CKS_col_start, usecols=[ \"Name\", \"Teff\", \"eTeff\", \"E_Teff\", \"Mass\", \"e_Mass\", \"e_Mass\", \"logA\", \"e_logA\", \"E_logA\" ])\n",
    "#kepler = pd.read_csv(path.join(cks_data_dir, f\"CKSII_2017_planets.tsv\"), sep = ';', header = CKS_col_start, usecols=[ \"Name\", ])"
   ]
  },
  {
   "cell_type": "code",
   "execution_count": null,
   "id": "abb5fb93-82b3-4576-909e-42d3cd9454a7",
   "metadata": {},
   "outputs": [],
   "source": []
  }
 ],
 "metadata": {
  "kernelspec": {
   "display_name": "Python 3 (ipykernel)",
   "language": "python",
   "name": "python3"
  },
  "language_info": {
   "codemirror_mode": {
    "name": "ipython",
    "version": 3
   },
   "file_extension": ".py",
   "mimetype": "text/x-python",
   "name": "python",
   "nbconvert_exporter": "python",
   "pygments_lexer": "ipython3",
   "version": "3.9.7"
  }
 },
 "nbformat": 4,
 "nbformat_minor": 5
}
