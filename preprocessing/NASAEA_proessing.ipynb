{
 "cells": [
  {
   "cell_type": "code",
   "execution_count": null,
   "id": "fca3217b-4fb7-4a87-9407-fe977b8c0f8d",
   "metadata": {},
   "outputs": [],
   "source": [
    "import numpy as np\n",
    "import pandas as pd\n",
    "\n",
    "from os import path"
   ]
  },
  {
   "cell_type": "code",
   "execution_count": null,
   "id": "74223ce2-d983-4025-87b1-abd0ca6f1933",
   "metadata": {},
   "outputs": [],
   "source": [
    "# Data directory:\n",
    "data_dir = \"~/Scarlett/OneDrive - Liverpool John Moores University/SEPHI_data/\"\n",
    "#data_dir = \"~/OneDrive/SEPHI_data/\"\n",
    "header_length = 116"
   ]
  },
  {
   "cell_type": "code",
   "execution_count": null,
   "id": "bd5337a1-b355-459d-a126-f5c9abb6fefa",
   "metadata": {},
   "outputs": [],
   "source": [
    "# Read the NASA_EA data:\n",
    "exoplanets = pd.read_csv( path.join(data_dir, f\"NASA_EA_2022_02_09.csv\"), skiprows=header_length, \n",
    "                         usecols=[\"pl_name\", \"hostname\", \"gaia_id\", \"sy_snum\", \"sy_pnum\", \"discoverymethod\", \"pl_orbper\", \"pl_orbsmax\", \"pl_rade\", \"pl_bmasse\", \"pl_dens\", \"pl_orbeccen\", \"pl_eqt\", \"pl_orbincl\", \"st_teff\", \"st_tefferr1\", \"st_tefferr2\", \"st_rad\", \"st_raderr1\", \"st_raderr2\", \"st_mass\", \"st_met\", \"st_lum\", \"st_lumerr1\", \"st_lumerr2\", \"st_logg\", \"st_age\", \"st_ageerr1\", \"st_ageerr2\", \"sy_dist\", \"sy_plx\", \"sy_gaiamag\"])\n",
    "# pl_orbper = orbital period [days]\n",
    "# pl_orbsmax = orbit semi-major axis [au]\n",
    "\n",
    "# Get rid of exoplanets whose star's haven't been observed by Gaia:\n",
    "exoplanets.dropna(subset=[\"gaia_id\"], inplace=True)\n",
    "\n",
    "# The gaia_id in exoplanets is called the 'designation' in Gaia tables, so rename it:\n",
    "# The designation is the Gaia + space + DR + no. + space + Gaia source_id\n",
    "# e.g. Gaia DR2 3946945413106333696\n",
    "exoplanets.rename(columns={ \"gaia_id\": \"designation\" }, inplace=True )\n",
    "\n",
    "# Add a new column called 'source_id' which is listed in Gaia tables\n",
    "# The source_id is the number in the designation, e.g. 3946945413106333696\n",
    "exoplanets[\"source_id\"] = exoplanets[\"designation\"].str.rsplit(\" \", n=1, expand=True)[1].astype(\"int64\")\n",
    "\n",
    "# Remove the space in 'hostname' (e.g. 11 Com -> 11Com):\n",
    "#exoplanets[\"hostname\"] = exoplanets[\"hostname\"].str.replace(\" \", \"\")\n",
    "\n",
    "print(\"No. rows in NASA EA: \", exoplanets.shape[0])"
   ]
  },
  {
   "cell_type": "code",
   "execution_count": null,
   "id": "5ce0228a-1c20-417f-8262-92e96f0f9a49",
   "metadata": {},
   "outputs": [],
   "source": [
    "# Create a csv containing the designations:\n",
    "# (useful when using the designations to search for satrs in Gaia)\n",
    "exoplanets[[\"designation\"]].to_csv(path.join(data_dir, f\"designations.csv\"), index=False)"
   ]
  },
  {
   "cell_type": "code",
   "execution_count": null,
   "id": "a6807110-8558-4e84-9e69-5cdb7e6bfc0b",
   "metadata": {},
   "outputs": [],
   "source": [
    "# TODO: convert luminosities from log(solar) to solar luminosity?\n",
    "# TODO: (Done sephi_processing atm) Where possible,  calculate teff, L, and R for stars without them listed \n",
    "# TODO: Rename columns\n",
    "# TODO: Save exoplanets df to a csv when happy with it"
   ]
  }
 ],
 "metadata": {
  "kernelspec": {
   "display_name": "Python 3 (ipykernel)",
   "language": "python",
   "name": "python3"
  },
  "language_info": {
   "codemirror_mode": {
    "name": "ipython",
    "version": 3
   },
   "file_extension": ".py",
   "mimetype": "text/x-python",
   "name": "python",
   "nbconvert_exporter": "python",
   "pygments_lexer": "ipython3",
   "version": "3.9.7"
  }
 },
 "nbformat": 4,
 "nbformat_minor": 5
}
