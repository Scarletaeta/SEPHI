{
 "cells": [
  {
   "cell_type": "code",
   "execution_count": 1,
   "id": "fca3217b-4fb7-4a87-9407-fe977b8c0f8d",
   "metadata": {},
   "outputs": [],
   "source": [
    "import numpy as np\n",
    "import pandas as pd\n",
    "from os import path\n",
    "\n",
    "from calc_stellar_params import lum_eqn, lum_unc_eqn, teff_eqn, teff_unc_eqn"
   ]
  },
  {
   "cell_type": "code",
   "execution_count": 2,
   "id": "74223ce2-d983-4025-87b1-abd0ca6f1933",
   "metadata": {},
   "outputs": [],
   "source": [
    "# Data directory:\n",
    "#data_dir = \"~/Scarlett/OneDrive - Liverpool John Moores University/SEPHI_data/\"\n",
    "data_dir = \"~/OneDrive/SEPHI_data/\"\n",
    "header_length = 116"
   ]
  },
  {
   "cell_type": "code",
   "execution_count": 3,
   "id": "bd5337a1-b355-459d-a126-f5c9abb6fefa",
   "metadata": {},
   "outputs": [
    {
     "name": "stdout",
     "output_type": "stream",
     "text": [
      "No. rows in NASA EA:  4734\n"
     ]
    }
   ],
   "source": [
    "# Read the NASA_EA data:\n",
    "exoplanets = pd.read_csv( path.join(data_dir, f\"NASA_EA_2022_02_09.csv\"), skiprows=header_length, \n",
    "                         usecols=[\"pl_name\", \"hostname\", \"gaia_id\", \"sy_snum\", \"sy_pnum\", \"discoverymethod\", \"pl_orbper\", \"pl_orbsmax\", \"pl_rade\", \"pl_bmasse\", \"pl_dens\", \"pl_orbeccen\", \"pl_eqt\", \"pl_orbincl\", \"st_teff\", \"st_tefferr1\", \"st_tefferr2\", \"st_rad\", \"st_raderr1\", \"st_raderr2\", \"st_mass\", \"st_met\", \"st_lum\", \"st_lumerr1\", \"st_lumerr2\", \"st_logg\", \"st_age\", \"st_ageerr1\", \"st_ageerr2\"])\n",
    "# pl_orbper = orbital period [days]\n",
    "# pl_orbsmax = orbit semi-major axis [au]\n",
    "# exculuded \"st_spectype\" from download due to csv formatting\n",
    "# , \"sy_dist\", \"sy_plx\", \"sy_gaiamag\"\n",
    "\n",
    "# Get rid of exoplanets whose star's haven't been observed by Gaia:\n",
    "exoplanets.dropna(subset=[\"gaia_id\"], inplace=True)\n",
    "\n",
    "# The gaia_id in exoplanets is called the 'designation' in Gaia tables, so rename it:\n",
    "# The designation is the Gaia + space + DR + no. + space + Gaia source_id\n",
    "# e.g. Gaia DR2 3946945413106333696\n",
    "exoplanets.rename(columns={ \"gaia_id\": \"designation\" }, inplace=True )\n",
    "\n",
    "# Add a new column called 'source_id' which is listed in Gaia tables\n",
    "# The source_id is the number in the designation, e.g. 3946945413106333696\n",
    "exoplanets[\"source_id\"] = exoplanets[\"designation\"].str.rsplit(\" \", n=1, expand=True)[1].astype(\"int64\")\n",
    "\n",
    "# Remove the space in 'hostname' (e.g. 11 Com -> 11Com):\n",
    "#exoplanets[\"hostname\"] = exoplanets[\"hostname\"].str.replace(\" \", \"\")\n",
    "\n",
    "print(\"No. rows in NASA EA: \", exoplanets.shape[0])"
   ]
  },
  {
   "cell_type": "code",
   "execution_count": 4,
   "id": "5ce0228a-1c20-417f-8262-92e96f0f9a49",
   "metadata": {},
   "outputs": [],
   "source": [
    "# Create a csv containing the designations:\n",
    "# (useful when using the designations to search for satrs in Gaia)\n",
    "exoplanets[[\"designation\"]].to_csv(path.join(data_dir, f\"designations.csv\"), index=False)"
   ]
  },
  {
   "cell_type": "code",
   "execution_count": 5,
   "id": "19e14718-7a8b-482b-af16-0673f629da77",
   "metadata": {},
   "outputs": [
    {
     "name": "stdout",
     "output_type": "stream",
     "text": [
      "0       174.984669\n",
      "1              NaN\n",
      "2        57.942870\n",
      "3              NaN\n",
      "4              NaN\n",
      "           ...    \n",
      "4909           NaN\n",
      "4910           NaN\n",
      "4911           NaN\n",
      "4912     63.095734\n",
      "4913     69.023980\n",
      "Name: st_lum, Length: 4734, dtype: float64\n",
      "0       28.607113\n",
      "1             NaN\n",
      "2             NaN\n",
      "3             NaN\n",
      "4             NaN\n",
      "          ...    \n",
      "4909          NaN\n",
      "4910          NaN\n",
      "4911          NaN\n",
      "4912    32.107609\n",
      "4913          NaN\n",
      "Length: 4734, dtype: float64\n",
      "0      -34.247953\n",
      "1             NaN\n",
      "2             NaN\n",
      "3             NaN\n",
      "4             NaN\n",
      "          ...    \n",
      "4909          NaN\n",
      "4910          NaN\n",
      "4911          NaN\n",
      "4912    -7.990581\n",
      "4913          NaN\n",
      "Length: 4734, dtype: float64\n",
      "0       31.078322\n",
      "1             NaN\n",
      "2             NaN\n",
      "3             NaN\n",
      "4             NaN\n",
      "          ...    \n",
      "4909          NaN\n",
      "4910          NaN\n",
      "4911          NaN\n",
      "4912    41.858508\n",
      "4913          NaN\n",
      "Length: 4734, dtype: float64\n",
      "0      -31.104811\n",
      "1             NaN\n",
      "2             NaN\n",
      "3             NaN\n",
      "4             NaN\n",
      "          ...    \n",
      "4909          NaN\n",
      "4910          NaN\n",
      "4911          NaN\n",
      "4912    -7.505309\n",
      "4913          NaN\n",
      "Length: 4734, dtype: float64\n",
      "(array([ 46,  49,  55, 927]),)\n",
      "46          NaN\n",
      "49     8.554915\n",
      "55          NaN\n",
      "927    0.043585\n",
      "dtype: float64\n",
      "46          NaN\n",
      "49     9.619991\n",
      "55          NaN\n",
      "927    0.045126\n",
      "dtype: float64\n"
     ]
    }
   ],
   "source": [
    "# Convert luminosities and uncs from log(solar) to solar:\n",
    "st_lum_sol = 10**exoplanets[\"st_lum\"] # to undo a log, base^x\n",
    "\n",
    "# Converting the uncertainties:\n",
    "# y = 10^x, \n",
    "# dy/dx = 10^x * ln(10)\n",
    "# y_err = dy/dx * x_err\n",
    "# y_err = 10^x * ln(10) * x_err\n",
    "# y_err = y * x_err * ln(10)\n",
    "st_lum_solerr1 = np.multiply(10**exoplanets[\"st_lum\"], exoplanets[\"st_lumerr1\"]) * np.log(10)\n",
    "st_lum_solerr2 = np.multiply(10**exoplanets[\"st_lum\"], exoplanets[\"st_lumerr2\"]) * np.log(10)\n",
    "print(st_lum_sol)\n",
    "print(st_lum_solerr1)\n",
    "print(st_lum_solerr2)\n",
    "\n",
    "# Comparing to the result from  upper unc = y + y_err - y = 10^(x-x_err) - 10^(x):\n",
    "unc1 = 10**(exoplanets[\"st_lum\"] + exoplanets[\"st_lumerr1\"]) - 10**exoplanets[\"st_lum\"]\n",
    "unc2 = 10**(exoplanets[\"st_lum\"] + exoplanets[\"st_lumerr2\"]) - 10**exoplanets[\"st_lum\"]\n",
    "print(unc1)\n",
    "print(unc2)\n",
    "\n",
    "l = np.where( ( abs(unc1 - st_lum_solerr1) > 10 ) )\n",
    "print(l)\n",
    "print(st_lum_solerr1[l[0]])\n",
    "print(unc1[l[0]])\n",
    "\n",
    "# The two unc. calculation methods seem to yield similar results but not the same\n",
    "# TODO: the check above doesn't seem to be working"
   ]
  },
  {
   "cell_type": "code",
   "execution_count": 6,
   "id": "de8a9515-ef70-4184-874c-d605015a6b07",
   "metadata": {},
   "outputs": [],
   "source": [
    "# Replace in the table:\n",
    "exoplanets[\"st_lum\"] = st_lum_sol\n",
    "exoplanets[\"st_lumerr1\"] = st_lum_solerr1\n",
    "exoplanets[\"st_lumerr2\"] = st_lum_solerr2"
   ]
  },
  {
   "cell_type": "code",
   "execution_count": 7,
   "id": "de887fd7-8c78-45a6-98b0-b475300f96ea",
   "metadata": {},
   "outputs": [],
   "source": [
    "## Calculating lum and unc where teff and rad are available"
   ]
  },
  {
   "cell_type": "code",
   "execution_count": 8,
   "id": "4aef05a1-61fd-4696-86f5-8154db5cacd5",
   "metadata": {},
   "outputs": [],
   "source": [
    "from math import pi, sqrt\n",
    "from astropy.constants import sigma_sb, L_sun, R_sun\n",
    "sigma = sigma_sb.value"
   ]
  },
  {
   "cell_type": "code",
   "execution_count": 10,
   "id": "9db8b08d-4565-454e-837a-9b45c4c07559",
   "metadata": {},
   "outputs": [],
   "source": [
    "# Empty arrays for luminosity and the +ve adn -ve uncs.:\n",
    "calc_lum = np.empty(exoplanets.shape[0])\n",
    "calc_lumerr1 = np.empty(exoplanets.shape[0])\n",
    "calc_lumerr2 = np.empty(exoplanets.shape[0])\n",
    "\n",
    "# Fill the arrays with NaN:\n",
    "calc_lum[:] = np.nan\n",
    "calc_lumerr1[:] = np.nan\n",
    "calc_lumerr2[:] = np.nan\n",
    "\n",
    "# Condition 1: indicies of exoplanets with stellar teff and rad listed:\n",
    "c1 = np.where( np.isfinite(exoplanets[\"st_teff\"]) &  np.isfinite(exoplanets[\"st_rad\"]) )\n",
    "\n",
    "# Condition 2: indicies of exoplanets with dT1 and dR1 listed:\n",
    "c2 = np.where( np.isfinite(exoplanets[\"st_teff\"]) & np.isfinite(exoplanets[\"st_tefferr1\"]) & np.isfinite(exoplanets[\"st_rad\"]) & np.isfinite(exoplanets[\"st_raderr1\"]) )\n",
    "\n",
    "# Condition 3: indicies of exoplanets with dT2 adn dR2 listed\n",
    "c3 = np.where( np.isfinite(exoplanets[\"st_teff\"]) & np.isfinite(exoplanets[\"st_tefferr2\"]) & np.isfinite(exoplanets[\"st_rad\"]) & np.isfinite(exoplanets[\"st_raderr2\"]) )"
   ]
  },
  {
   "cell_type": "code",
   "execution_count": 11,
   "id": "3f4912a7-5c54-4f88-a798-6be86235f16b",
   "metadata": {},
   "outputs": [],
   "source": [
    "# Calculate luminosities for indicies c1:\n",
    "calc_lum[c1] = lum_eqn(exoplanets[\"st_teff\"].iloc[c1], exoplanets[\"st_rad\"].iloc[c1])\n",
    "\n",
    "# Calculate +ve errors for indicies c2:\n",
    "calc_lumerr1[c2] =  lum_unc_eqn(exoplanets[\"st_teff\"].iloc[c2], exoplanets[\"st_tefferr1\"].iloc[c2], exoplanets[\"st_rad\"].iloc[c2], exoplanets[\"st_raderr1\"].iloc[c2]) \n",
    "\n",
    "# Calculate -ve errors for indicies c3:\n",
    "calc_lumerr2[c3] = lum_unc_eqn(exoplanets[\"st_teff\"].iloc[c3], exoplanets[\"st_tefferr2\"].iloc[c3], exoplanets[\"st_rad\"].iloc[c3], exoplanets[\"st_raderr2\"].iloc[c3], positive_unc=False) "
   ]
  },
  {
   "cell_type": "code",
   "execution_count": 12,
   "id": "47184013-5b15-42c2-88a7-1ef1667daaf3",
   "metadata": {},
   "outputs": [],
   "source": [
    "# Add the calculated luminosities and their errors to the NASA EA table:\n",
    "exoplanets[\"NEAc_lum\"] = calc_lum\n",
    "exoplanets[\"NEAc_lumerr1\"] = calc_lumerr1\n",
    "exoplanets[\"NEAc_lumerr2\"] = calc_lumerr2"
   ]
  },
  {
   "cell_type": "code",
   "execution_count": null,
   "id": "8efa9c44-4d48-4852-bc81-5cfddd49ce14",
   "metadata": {},
   "outputs": [],
   "source": [
    "#print(exoplanets)"
   ]
  },
  {
   "cell_type": "code",
   "execution_count": 14,
   "id": "7f703e62-d231-44a9-8ff2-f8605960ee43",
   "metadata": {},
   "outputs": [],
   "source": [
    "# Empty arrays for teff and the +ve and -ve uncs.:\n",
    "calc_teff = np.empty(exoplanets.shape[0])\n",
    "calc_tefferr1 = np.empty(exoplanets.shape[0])\n",
    "calc_tefferr2 = np.empty(exoplanets.shape[0])\n",
    "\n",
    "# Fill the arrays with NaN:\n",
    "calc_teff[:] = np.nan\n",
    "calc_tefferr1[:] = np.nan\n",
    "calc_tefferr2[:] = np.nan\n",
    "\n",
    "# Condition 1: indicies of exoplanets with stellar lum and rad listed:\n",
    "c1 = np.where( np.isfinite(exoplanets[\"st_lum\"]) &  np.isfinite(exoplanets[\"st_rad\"]) )\n",
    "#print(c1[0].size)\n",
    "\n",
    "# Condition 2: indicies of exoplanets with dL1 and dR1 listed:\n",
    "c2 = np.where( np.isfinite(exoplanets[\"st_lum\"]) & np.isfinite(exoplanets[\"st_lumerr1\"]) & np.isfinite(exoplanets[\"st_rad\"]) & np.isfinite(exoplanets[\"st_raderr1\"]) )\n",
    "#print(c2[0].size)\n",
    "\n",
    "# Condition 3: indicies of exoplanets with dL2 adn dR2 listed\n",
    "c3 = np.where( np.isfinite(exoplanets[\"st_lum\"]) & np.isfinite(exoplanets[\"st_lumerr2\"]) & np.isfinite(exoplanets[\"st_rad\"]) & np.isfinite(exoplanets[\"st_raderr2\"]) )\n",
    "#print(c3[0].size)"
   ]
  },
  {
   "cell_type": "code",
   "execution_count": 15,
   "id": "ad3c6c48-29f0-43c8-8e43-0eb1c2fc8c7d",
   "metadata": {},
   "outputs": [],
   "source": [
    "# Calculate teff for indicies c1:\n",
    "calc_teff[c1] = teff_eqn(exoplanets[\"st_lum\"].iloc[c1], exoplanets[\"st_rad\"].iloc[c1])\n",
    "#print(calc_teff[c1].size)\n",
    "\n",
    "# Calculate +ve errors for indicies c2:\n",
    "calc_tefferr1[c2] =  teff_unc_eqn(exoplanets[\"st_lum\"].iloc[c2], exoplanets[\"st_lumerr1\"].iloc[c2], exoplanets[\"st_rad\"].iloc[c2], exoplanets[\"st_raderr1\"].iloc[c2]) \n",
    "\n",
    "# Calculate -ve errors for indicies c3:\n",
    "calc_tefferr2[c3] = teff_unc_eqn(exoplanets[\"st_lum\"].iloc[c3], exoplanets[\"st_lumerr2\"].iloc[c3], exoplanets[\"st_rad\"].iloc[c3], exoplanets[\"st_raderr2\"].iloc[c3], positive_unc=False) "
   ]
  },
  {
   "cell_type": "code",
   "execution_count": 16,
   "id": "e2620350-bc55-4e9a-a0d5-1ad1fff58de1",
   "metadata": {},
   "outputs": [],
   "source": [
    "# Add the calculated effective temperatures and their errors to the NASA EA table:\n",
    "exoplanets[\"NEAc_teff\"] = calc_teff\n",
    "exoplanets[\"NEAc_tefferr1\"] = calc_tefferr1\n",
    "exoplanets[\"NEAc_tefferr2\"] = calc_tefferr2"
   ]
  },
  {
   "cell_type": "code",
   "execution_count": null,
   "id": "7ab219f4-0c69-46d9-8ebf-c879e864f759",
   "metadata": {},
   "outputs": [],
   "source": [
    "#print(exoplanets)"
   ]
  },
  {
   "cell_type": "code",
   "execution_count": 17,
   "id": "73eba90e-711d-4d14-ab8e-737ba968f32d",
   "metadata": {},
   "outputs": [
    {
     "name": "stdout",
     "output_type": "stream",
     "text": [
      "['pl_orbper', 'pl_orbsmax', 'pl_rade', 'pl_bmasse', 'pl_dens', 'pl_orbeccen', 'pl_eqt', 'pl_orbincl', 'teff', 'tefferr1', 'tefferr2', 'rad', 'raderr1', 'raderr2', 'mass', 'met', 'lum', 'lumerr1', 'lumerr2', 'logg', 'age', 'ageerr1', 'ageerr2']\n"
     ]
    }
   ],
   "source": [
    "# Renaming the columns:\n",
    "cols = [\"pl_orbper\", \"pl_orbsmax\", \"pl_rade\", \"pl_bmasse\", \"pl_dens\", \"pl_orbeccen\", \"pl_eqt\", \"pl_orbincl\", \"st_teff\", \"st_tefferr1\", \"st_tefferr2\", \"st_rad\", \"st_raderr1\", \"st_raderr2\", \"st_mass\", \"st_met\", \"st_lum\", \"st_lumerr1\", \"st_lumerr2\", \"st_logg\", \"st_age\", \"st_ageerr1\", \"st_ageerr2\"]\n",
    "#\"pl_name\", \"hostname\", \"gaia_id\", \"sy_snum\", \"sy_pnum\", \"discoverymethod\",  \n",
    "\n",
    "new_cols1 = [i.replace(\"st_\", \"\") for i in cols ] # remove all the st_. Anything with the prefix NEA referrs to the star\n",
    "print(new_cols1)\n",
    "new_cols2 = [\"NEA_\" + str(i) for i in new_cols1] \n",
    "cols_dict = {cols[i]: new_cols2[i] for i in range(len(cols))}\n",
    "\n",
    "exoplanets.rename( columns=cols_dict, inplace=True )\n",
    "#print(exoplanets)"
   ]
  },
  {
   "cell_type": "code",
   "execution_count": 18,
   "id": "e3b4a24c-a477-4558-8a66-90d6aec6dfca",
   "metadata": {},
   "outputs": [],
   "source": [
    "# Saving the exoplanets df to a csv:\n",
    "exoplanets.to_csv( path.join(data_dir, f\"NASA_EA_processed.csv\") , index=False)"
   ]
  }
 ],
 "metadata": {
  "kernelspec": {
   "display_name": "Python 3 (ipykernel)",
   "language": "python",
   "name": "python3"
  },
  "language_info": {
   "codemirror_mode": {
    "name": "ipython",
    "version": 3
   },
   "file_extension": ".py",
   "mimetype": "text/x-python",
   "name": "python",
   "nbconvert_exporter": "python",
   "pygments_lexer": "ipython3",
   "version": "3.9.7"
  }
 },
 "nbformat": 4,
 "nbformat_minor": 5
}
