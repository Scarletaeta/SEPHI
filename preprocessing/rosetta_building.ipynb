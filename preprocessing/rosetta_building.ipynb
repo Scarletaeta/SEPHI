{
 "cells": [
  {
   "cell_type": "code",
   "execution_count": 1,
   "id": "7b7ac978-53eb-44d4-ad08-ad27ef2466cf",
   "metadata": {},
   "outputs": [],
   "source": [
    "import pandas as pd\n",
    "import numpy as np\n",
    "\n",
    "from os import path"
   ]
  },
  {
   "cell_type": "code",
   "execution_count": 2,
   "id": "6bd92c46-deb2-4094-b378-5c73f8188589",
   "metadata": {},
   "outputs": [],
   "source": [
    "# Directories etc:\n",
    "data_dir = \"~/OneDrive/SEPHI_data/CKS/\"\n",
    "#data_dir = \"~/Scarlett/OneDrive - Liverpool John Moores University/SEPHI_data/CKS/\"\n",
    "header_length = 8 #for 2022_04_13\n",
    "data_date = \"2022_04_28\"\n",
    "\n",
    "#data_date = \"2022_04_13\""
   ]
  },
  {
   "cell_type": "code",
   "execution_count": 3,
   "id": "0772aa25-4874-4d75-9032-f91e7ed333ac",
   "metadata": {},
   "outputs": [
    {
     "name": "stdout",
     "output_type": "stream",
     "text": [
      "Rosetta:\n",
      "       st_kepid pl_koi_name pl_kepler_name       pl_name  st_kepid_NEA  \\\n",
      "0     11446443   K00001.01     Kepler-1 b      TrES-2 b  KIC 11446443   \n",
      "1     11904151   K00072.01    Kepler-10 b   Kepler-10 b  KIC 11904151   \n",
      "2     11904151   K00072.02    Kepler-10 c   Kepler-10 c  KIC 11904151   \n",
      "3      6521045   K00041.02   Kepler-100 b  Kepler-100 b   KIC 6521045   \n",
      "4      6521045   K00041.01   Kepler-100 c  Kepler-100 c   KIC 6521045   \n",
      "...        ...         ...            ...           ...           ...   \n",
      "2727   4035640   K01881.01   Kepler-995 b  Kepler-995 b   KIC 4035640   \n",
      "2728   6205228   K01882.01   Kepler-996 b  Kepler-996 b   KIC 6205228   \n",
      "2729  11758544   K01883.01   Kepler-997 b  Kepler-997 b  KIC 11758544   \n",
      "2730  11413812   K01885.01   Kepler-998 b  Kepler-998 b  KIC 11413812   \n",
      "2731   9549648   K01886.01   Kepler-999 b  Kepler-999 b   KIC 9549648   \n",
      "\n",
      "        pl_kepid_NEA st_koi_name st_koi_NEA st_kepler_name     st_name  \n",
      "0     KIC 11446443 b      K00001      K0I-1       Kepler-1      TrES-2  \n",
      "1     KIC 11904151 b      K00072     K0I-72      Kepler-10   Kepler-10  \n",
      "2     KIC 11904151 c      K00072     K0I-72      Kepler-10   Kepler-10  \n",
      "3      KIC 6521045 b      K00041     K0I-41     Kepler-100  Kepler-100  \n",
      "4      KIC 6521045 c      K00041     K0I-41     Kepler-100  Kepler-100  \n",
      "...              ...         ...        ...            ...         ...  \n",
      "2727   KIC 4035640 b      K01881   K0I-1881     Kepler-995  Kepler-995  \n",
      "2728   KIC 6205228 b      K01882   K0I-1882     Kepler-996  Kepler-996  \n",
      "2729  KIC 11758544 b      K01883   K0I-1883     Kepler-997  Kepler-997  \n",
      "2730  KIC 11413812 b      K01885   K0I-1885     Kepler-998  Kepler-998  \n",
      "2731   KIC 9549648 b      K01886   K0I-1886     Kepler-999  Kepler-999  \n",
      "\n",
      "[2732 rows x 10 columns]\n"
     ]
    }
   ],
   "source": [
    "# The Kepler Confirmed nades can be found on the NASA EA, under the tab Data -> Kepler c=Confirmed Names\n",
    "# Here: https://exoplanetarchive.ipac.caltech.edu/cgi-bin/TblView/nph-tblView?app=ExoTbls&config=kep_conf_names\n",
    "\n",
    "# Read in rosetta:\n",
    "rosetta = pd.read_csv(path.join(data_dir, f\"kep_conf_names_\" + data_date + \".csv\"), skiprows=header_length)\n",
    "rosetta_len = rosetta[\"pl_name\"].size\n",
    "\n",
    "# Planet names in NEA format examples:\n",
    "# KOI-13 b\n",
    "# Kepler-10 c\n",
    "# KIC 5095269 b\n",
    "\n",
    "cols_renamed = {\"kepler_name\":\"pl_kepler_name\",\n",
    "               \"koi_name\":\"pl_koi_name\",\n",
    "               \"kepid\":\"st_kepid\"}\n",
    "\n",
    "rosetta.rename( columns=cols_renamed, inplace=True )\n",
    "\n",
    "# Creating new columns in rosetta that have identifiers in the same format that theya re in in the NASA EA:\n",
    "rosetta[\"st_kepid_NEA\"] = \"KIC \" + rosetta[\"st_kepid\"].astype(str) # putting the planet's Kepler ID (/Kepler Input Catalogue no.) into the same format that it's in in the NASA EA (e.g. KIC 5095269 b)\n",
    "rosetta[\"pl_kepid_NEA\"] = rosetta[\"st_kepid_NEA\"] + \" \" + rosetta[\"pl_kepler_name\"].str[-1] # the planet's Kepler ID is the star's Kepler ID + planet letter\n",
    "\n",
    "rosetta[\"st_koi_name\"] = rosetta[\"pl_koi_name\"].str[:-3] # deleting the .?? characters to get the KOI for the star\n",
    "rosetta[\"st_koi_NEA\"] = rosetta[\"st_koi_name\"].str[1:] # putting the KOI into the same format that it's in in the NASA EA\n",
    "rosetta[\"st_koi_NEA\"] = \"K0I-\" + rosetta[\"st_koi_NEA\"].str.lstrip('0').astype(str)\n",
    "\n",
    "rosetta[\"st_kepler_name\"] = rosetta[\"pl_kepler_name\"].str.rsplit(\" \", n=1, expand=True)[0] # deleting the planet letter to get the Kepler- star name\n",
    "rosetta[\"st_name\"] = rosetta[\"pl_name\"].str.rsplit(\" \", n=1, expand=True)[0] # deleting the planet letter to get the generic star name (that should be in the NASA EA)\n",
    "\n",
    "# The pl_kepler_name and pl_name are unique to each planet and are listed for all confirmed planets\n",
    "\n",
    "print(\"Rosetta:\\n\", rosetta)"
   ]
  },
  {
   "cell_type": "code",
   "execution_count": 4,
   "id": "31099a04-9982-4388-936d-f00834dea52c",
   "metadata": {},
   "outputs": [],
   "source": [
    "# Save the rosetta file to a csv:\n",
    "rosetta.to_csv( path.join(data_dir, f\"rosetta_\" + data_date + \".csv\") , index=False)"
   ]
  },
  {
   "cell_type": "code",
   "execution_count": null,
   "id": "d1f69e09-5fea-43fb-b1cc-a7eb91f84301",
   "metadata": {},
   "outputs": [],
   "source": []
  }
 ],
 "metadata": {
  "kernelspec": {
   "display_name": "Python 3 (ipykernel)",
   "language": "python",
   "name": "python3"
  },
  "language_info": {
   "codemirror_mode": {
    "name": "ipython",
    "version": 3
   },
   "file_extension": ".py",
   "mimetype": "text/x-python",
   "name": "python",
   "nbconvert_exporter": "python",
   "pygments_lexer": "ipython3",
   "version": "3.9.7"
  }
 },
 "nbformat": 4,
 "nbformat_minor": 5
}
