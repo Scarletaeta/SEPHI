{
 "cells": [
  {
   "cell_type": "markdown",
   "id": "41c221fc-a950-4031-b715-ad42a5fcd39c",
   "metadata": {},
   "source": [
    "## Importing dependencies"
   ]
  },
  {
   "cell_type": "code",
   "execution_count": 1,
   "id": "3ff3456c-4a1b-4699-baac-2583f468331a",
   "metadata": {},
   "outputs": [],
   "source": [
    "import numpy as np\n",
    "import pandas as pd\n",
    "from os import path\n",
    "from math import pi, sqrt\n",
    "from astropy.constants import sigma_sb, L_sun, R_sun\n",
    "sigma = sigma_sb.value\n",
    "\n",
    "from calc_stellar_params import lum_eqn, lum_unc_eqn, teff_eqn, teff_unc_eqn"
   ]
  },
  {
   "cell_type": "markdown",
   "id": "fb094ffd-0464-4b47-bfae-07d9d4589b59",
   "metadata": {},
   "source": [
    "## Data directories:"
   ]
  },
  {
   "cell_type": "code",
   "execution_count": 2,
   "id": "74223ce2-d983-4025-87b1-abd0ca6f1933",
   "metadata": {},
   "outputs": [],
   "source": [
    "# Data directories:\n",
    "\n",
    "# On PC:\n",
    "#NEA_dir = path.expanduser(\"~/OneDrive/SEPHI_data/NASA_EA/\")\n",
    "#rosetta_dir = path.expanduser(\"~/OneDrive/SEPHI_data/CKS/\")\n",
    "\n",
    "# On my laptop:\n",
    "NEA_dir = path.expanduser(\"~/Scarlett/OneDrive - Liverpool John Moores University/SEPHI_data/NASA_EA/\")\n",
    "rosetta_dir = path.expanduser(\"~/Scarlett/OneDrive - Liverpool John Moores University/SEPHI_data/CKS/\")\n",
    "\n",
    "header_len = 292 # for NASA_EA_2022_04_28.csv\n",
    "data_date = \"2022_04_28\"\n",
    "\n",
    "#header_len = 104 # for NASA_EA_2022_04_27.csv\n",
    "#header_len = 116 # for NASA_EA_2022_02_09.csv"
   ]
  },
  {
   "cell_type": "markdown",
   "id": "1cf509b1-2562-4a91-ac2f-f0ab95cafdce",
   "metadata": {},
   "source": [
    "# Read the NASA Exoplanet Archive (NEA):"
   ]
  },
  {
   "cell_type": "code",
   "execution_count": 3,
   "id": "8b79d180-31f5-47f6-90c0-ad47c4632310",
   "metadata": {},
   "outputs": [],
   "source": [
    "# Dictionary for all the columns in the NEA and the names I assign them for the exoplanets database:\n",
    "NEA_cols_dict = {\n",
    "    \"pl_name\": \"pl_name\",\n",
    "    \"hostname\": \"hostname\",\n",
    "    \"gaia_id\": \"gaia_designation\",\n",
    "    \"sy_snum\": \"sy_snum\", # number of stars\n",
    "    \"sy_pnum\": \"sy_pnum\", # number of planets\n",
    "    \"sy_mnum\": \"sy_mnum\", # number of moons\n",
    "    \"discoverymethod\": \"discoverymethod\",\n",
    "    \"pl_orbper\": \"pl_period\", # [days]\n",
    "    \"pl_orbpererr1\": \"pl_perioderr1\",\n",
    "    \"pl_orbpererr2\": \"pl_perioderr2\",\n",
    "    \"pl_orbsmax\": \"pl_sma\", # [AU]\n",
    "    \"pl_orbsmaxerr1\": \"pl_smaerr1\", \n",
    "    \"pl_orbsmaxerr2\": \"pl_smaerr2\", \n",
    "    \"pl_rade\": \"pl_rad\", # [Earth radius]\n",
    "    \"pl_radeerr1\": \"pl_raderr1\",\n",
    "    \"pl_radeerr2\": \"pl_raderr2\",\n",
    "    \"pl_bmasse\": \"pl_mass\", # [Earth mass]\n",
    "    \"pl_bmasseerr1\": \"pl_masserr1\",\n",
    "    \"pl_bmasseerr2\": \"pl_masserr2\",\n",
    "    \"pl_dens\": \"pl_dens\", # [g/cm**3]\n",
    "    \"pl_denserr1\": \"pl_denserr1\",\n",
    "    \"pl_denserr2\": \"pl_denserr2\",\n",
    "    \"pl_orbeccen\": \"pl_e\", # planet eccentricity, e [None]\n",
    "    \"pl_orbeccenerr1\": \"pl_eerr1\",\n",
    "    \"pl_orbeccenerr2\": \"pl_eerr2\",\n",
    "    \"pl_insol\": \"pl_insol\", # planet insolation flux [Earth flux]\n",
    "    \"pl_insolerr1\": \"pl_insolerr1\",\n",
    "    \"pl_insolerr2\": \"pl_insolerr2\",\n",
    "    \"pl_eqt\": \"pl_teq\", # planet equilibrium temp [K]\n",
    "    \"pl_eqterr1\": \"pl_teqerr1\",\n",
    "    \"pl_eqterr2\": \"pl_teqerr2\",\n",
    "    \"pl_orbincl\": \"pl_i\", # planet inclination, i [deg]\n",
    "    \"pl_orbinclerr1\": \"pl_ierr1\",\n",
    "    \"pl_orbinclerr2\": \"pl_ierr2\",\n",
    "    \"pl_imppar\": \"pl_b\", # planet impact parameter, b [None]\n",
    "    \"pl_impparerr1\": \"pl_berr1\",\n",
    "    \"pl_impparerr2\": \"pl_berr2\",\n",
    "    \"pl_trandep\": \"pl_trandep\", # [%]\n",
    "    \"pl_trandeperr1\": \"pl_trandeperr1\",\n",
    "    \"pl_trandeperr2\": \"pl_trandeperr2\",\n",
    "    \"pl_trandur\": \"pl_trandur\", # planet transit duration [hours]\n",
    "    \"pl_trandurerr1\": \"pl_trandurerr1\",\n",
    "    \"pl_trandurerr2\": \"pl_trandurerr2\",\n",
    "    \"pl_trueobliq\": \"pl_trueobliq\", # planet's true obliquity (axial tilt) [deg]\n",
    "    \"pl_trueobliqerr1\": \"pl_trueobliqerr1\",\n",
    "    \"pl_trueobliqerr2\": \"pl_trueobliqerr2\",\n",
    "    \"st_spectype\": \"st_spectype\", # stellar spectral type\n",
    "    \"st_teff\": \"st_teff\", # [K]\n",
    "    \"st_tefferr1\": \"st_tefferr1\",\n",
    "    \"st_tefferr2\": \"st_tefferr2\",\n",
    "    \"st_rad\": \"st_rad\", # [Solar radius]\n",
    "    \"st_raderr1\": \"st_raderr1\",\n",
    "    \"st_raderr2\": \"st_raderr2\",\n",
    "    \"st_mass\": \"st_mass\", # [Solar mass]\n",
    "    \"st_masserr1\": \"st_masserr1\",\n",
    "    \"st_masserr2\": \"st_masserr2\",\n",
    "    \"st_met\": \"st_met\", # [dex]\n",
    "    \"st_meterr1\": \"st_meterr1\",\n",
    "    \"st_meterr2\": \"st_meterr2\",\n",
    "    \"st_lum\": \"st_lum\", # [log10(Solar lum) -> Solar lum]\n",
    "    \"st_lumerr1\": \"st_lumerr1\",\n",
    "    \"st_lumerr2\": \"st_lumerr2\",\n",
    "    \"st_logg\": \"st_logg\", # [log10(cm/s**2)]\n",
    "    \"st_loggerr1\": \"st_loggerr1\",\n",
    "    \"st_loggerr2\": \"st_loggerr2\",\n",
    "    \"st_age\": \"st_age\", #[Gyr]\n",
    "    \"st_ageerr1\": \"st_ageerr1\",\n",
    "    \"st_ageerr2\": \"st_ageerr2\",\n",
    "    \"st_dens\": \"st_dens\", # [g/cm**3]\n",
    "    \"st_denserr1\": \"st_denserr1\",\n",
    "    \"st_denserr2\": \"st_denserr2\",\n",
    "    \"st_vsin\": \"st_vsin\", # stellar rotational velocity [km/s]\n",
    "    \"st_vsinerr1\": \"st_vsinerr1\",\n",
    "    \"st_vsinerr2\": \"st_vsinerr2\",\n",
    "    \"st_rotp\": \"st_rotp\", # stellar rotational period [days]\n",
    "    \"st_rotperr1\": \"st_rotperr1\",\n",
    "    \"st_rotperr2\": \"st_rotperr2\",\n",
    "    \"st_rv\": \"rv\", # stellar radial velocity [km/s]\n",
    "    \"st_rverr1\": \"rverr1\",\n",
    "    \"st_rverr2\": \"rverr2\",\n",
    "    \"ra\": \"ra\", # decimal\n",
    "    \"raerr1\": \"raerr1\",\n",
    "    \"raerr2\": \"raerr2\",\n",
    "    \"dec\": \"dec\", #decimal\n",
    "    \"decerr1\": \"decerr1\",\n",
    "    \"decerr2\": \"decerr2\",\n",
    "    # do I need galactic lattitude and longitude?\n",
    "    \"sy_pm\": \"pm\", # [mas/year]\n",
    "    \"sy_pmerr1\": \"pmerr1\",\n",
    "    \"sy_pmerr2\": \"pmerr2\",\n",
    "    \"sy_pmra\": \"pmra\", # [mas/year]\n",
    "    \"sy_pmraerr1\": \"pmraerr1\",\n",
    "    \"sy_pmraerr2\": \"pmraerr2\",\n",
    "    \"sy_pmdec\": \"pmdec\", # [mas/year]\n",
    "    \"sy_pmdecerr1\": \"pmdecerr1\",\n",
    "    \"sy_pmdecerr2\": \"pmdecerr2\",\n",
    "    \"sy_dist\": \"distance\", #distance to system [pc]\n",
    "    \"sy_disterr1\": \"distanceerr1\",\n",
    "    \"sy_disterr2\": \"distanceerr2\",\n",
    "    \"sy_plx\": \"parallax\", # parallax [mas]\n",
    "    \"sy_plxerr1\": \"parallaxerr1\",\n",
    "    \"sy_plxerr2\": \"parallaxerr2\",\n",
    "    \"rowupdate\": \"rowupdate\", # date of last update\n",
    "    \"pl_pubdate\": \"pl_pubdate\", # planetary parameter reference publication date\n",
    "    \"releasedate\": \"releasedate\" # release date. TODO: what's the difference between this and the previous?\n",
    "}\n",
    "\n",
    "# The names of all the columns available from the DR2 CSV:\n",
    "#NEA_all_cols = list(NEA_cols_dict.keys()) # used to generate the below:\n",
    "NEA_all_cols = ['pl_name', 'hostname', 'gaia_id', 'sy_snum', 'sy_pnum', 'sy_mnum', 'discoverymethod', 'pl_orbper', 'pl_orbpererr1', 'pl_orbpererr2', 'pl_orbsmax', 'pl_orbsmaxerr1', 'pl_orbsmaxerr2', 'pl_rade', \n",
    "                'pl_radeerr1', 'pl_radeerr2', 'pl_bmasse', 'pl_bmasseerr1', 'pl_bmasseerr2', 'pl_dens', 'pl_denserr1', 'pl_denserr2', 'pl_orbeccen', 'pl_orbeccenerr1', 'pl_orbeccenerr2', 'pl_insol', 'pl_insolerr1', \n",
    "                'pl_insolerr2', 'pl_eqt', 'pl_eqterr1', 'pl_eqterr2', 'pl_orbincl', 'pl_orbinclerr1', 'pl_orbinclerr2', 'pl_imppar', 'pl_impparerr1', 'pl_impparerr2', 'pl_trandep', 'pl_trandeperr1', 'pl_trandeperr2', \n",
    "                'pl_trandur', 'pl_trandurerr1', 'pl_trandurerr2', 'pl_trueobliq', 'pl_trueobliqerr1', 'pl_trueobliqerr2', 'st_spectype', 'st_teff', 'st_tefferr1', 'st_tefferr2', 'st_rad', 'st_raderr1', 'st_raderr2', \n",
    "                'st_mass', 'st_masserr1', 'st_masserr2', 'st_met', 'st_meterr1', 'st_meterr2', 'st_lum', 'st_lumerr1', 'st_lumerr2', 'st_logg', 'st_loggerr1', 'st_loggerr2', 'st_age', 'st_ageerr1', 'st_ageerr2', \n",
    "                'st_dens', 'st_denserr1', 'st_denserr2', 'st_vsin', 'st_vsinerr1', 'st_vsinerr2', 'st_rotp', 'st_rotperr1', 'st_rotperr2', 'st_rv', 'st_rverr1', 'st_rverr2', 'ra', 'raerr1', 'raerr2', 'dec', 'decerr1', \n",
    "                'decerr2', 'sy_pm', 'sy_pmerr1', 'sy_pmerr2', 'sy_pmra', 'sy_pmraerr1', 'sy_pmraerr2', 'sy_pmdec', 'sy_pmdecerr1', 'sy_pmdecerr2', 'sy_dist', 'sy_disterr1', 'sy_disterr2', 'sy_plx', 'sy_plxerr1', \n",
    "                'sy_plxerr2', 'rowupdate', 'pl_pubdate', 'releasedate']\n",
    "#print(NEA_all_cols)\n",
    "\n",
    "# The new column names as I want them to appear in the exoplanets database:\n",
    "#NEA_new_cols =  [\"NEA_\" + str(i) for i in NEA_cols_dict.values()] # used to generate the below (I removed the NEA_ from the first 3 manually):\n",
    "NEA_new_cols = ['pl_name', 'hostname', 'gaia_designation', 'NEA_sy_snum', 'NEA_sy_pnum', 'NEA_sy_mnum', 'NEA_discoverymethod', 'NEA_pl_period', 'NEA_pl_perioderr1', 'NEA_pl_perioderr2', \n",
    "                'NEA_pl_sma', 'NEA_pl_smaerr1', 'NEA_pl_smaerr2', 'NEA_pl_rad', 'NEA_pl_raderr1', 'NEA_pl_raderr2', 'NEA_pl_mass', 'NEA_pl_masserr1', 'NEA_pl_masserr2', 'NEA_pl_dens', 'NEA_pl_denserr1', \n",
    "                'NEA_pl_denserr2', 'NEA_pl_e', 'NEA_pl_eerr1', 'NEA_pl_eerr2', 'NEA_pl_insol', 'NEA_pl_insolerr1', 'NEA_pl_insolerr2', 'NEA_pl_teq', 'NEA_pl_teqerr1', 'NEA_pl_teqerr2', 'NEA_pl_i', 'NEA_pl_ierr1', \n",
    "                'NEA_pl_ierr2', 'NEA_pl_b', 'NEA_pl_berr1', 'NEA_pl_berr2', 'NEA_pl_trandep', 'NEA_pl_trandeperr1', 'NEA_pl_trandeperr2', 'NEA_pl_trandur', 'NEA_pl_trandurerr1', 'NEA_pl_trandurerr2', \n",
    "                'NEA_pl_trueobliq', 'NEA_pl_trueobliqerr1', 'NEA_pl_trueobliqerr2', 'NEA_st_spectype', 'NEA_st_teff', 'NEA_st_tefferr1', 'NEA_st_tefferr2', 'NEA_st_rad', 'NEA_st_raderr1', 'NEA_st_raderr2', \n",
    "                'NEA_st_mass', 'NEA_st_masserr1', 'NEA_st_masserr2', 'NEA_st_met', 'NEA_st_meterr1', 'NEA_st_meterr2', 'NEA_st_lum', 'NEA_st_lumerr1', 'NEA_st_lumerr2', 'NEA_st_logg', 'NEA_st_loggerr1', \n",
    "                'NEA_st_loggerr2', 'NEA_st_age', 'NEA_st_ageerr1', 'NEA_st_ageerr2', 'NEA_st_dens', 'NEA_st_denserr1', 'NEA_st_denserr2', 'NEA_st_vsin', 'NEA_st_vsinerr1', 'NEA_st_vsinerr2', 'NEA_st_rotp', \n",
    "                'NEA_st_rotperr1', 'NEA_st_rotperr2', 'NEA_rv', 'NEA_rverr1', 'NEA_rverr2', 'NEA_ra', 'NEA_raerr1', 'NEA_raerr2', 'NEA_dec', 'NEA_decerr1', 'NEA_decerr2', 'NEA_pm', 'NEA_pmerr1', 'NEA_pmerr2', \n",
    "                'NEA_pmra', 'NEA_pmraerr1', 'NEA_pmraerr2', 'NEA_pmdec', 'NEA_pmdecerr1', 'NEA_pmdecerr2', 'NEA_distance', 'NEA_distanceerr1', 'NEA_distanceerr2', 'NEA_parallax', 'NEA_parallaxerr1', \n",
    "                'NEA_parallaxerr2', 'NEA_rowupdate', 'NEA_pl_pubdate', 'NEA_releasedate']\n",
    "#print(NEA_new_cols)\n",
    "\n",
    "# Dictionary of old names in NEA vs new names for exoplanets database:\n",
    "NEA_cols_dict2 = {NEA_all_cols[i]: NEA_new_cols[i] for i in range(len(NEA_all_cols))}\n",
    "#print(NEA_cols_dict2)\n",
    "\n",
    "# The columns that you want to read in from the NEA CSV (it's big!):\n",
    "NEA_cols = [\"pl_name\", \"hostname\", \"gaia_id\", \"sy_snum\", \"sy_pnum\", \"discoverymethod\", \"pl_orbper\", \"pl_orbsmax\", 'pl_orbsmaxerr1', 'pl_orbsmaxerr2', \"pl_rade\", 'pl_radeerr1', 'pl_radeerr2', \"pl_bmasse\", 'pl_bmasseerr1', 'pl_bmasseerr2', \"pl_dens\", \"pl_orbeccen\", \n",
    "            \"pl_eqt\", \"st_teff\", \"st_tefferr1\", \"st_tefferr2\", \"st_rad\", \"st_raderr1\", \"st_raderr2\", \"st_mass\", 'st_masserr1', 'st_masserr2', \"st_met\", 'st_meterr1', 'st_meterr2', \"st_lum\", \"st_lumerr1\", \"st_lumerr2\", \"st_logg\", \"st_age\", \"st_ageerr1\", \"st_ageerr2\"]\n",
    "# \"pl_orbincl\"\n",
    "# pl_orbper = orbital period [days]\n",
    "# pl_orbsmax = orbit semi-major axis [au]\n",
    "# exculuded \"st_spectype\" from download due to csv formatting\n",
    "# , \"sy_dist\", \"sy_plx\", \"sy_gaiamag\"\n",
    "# In Gaia, the \"source_id\" is the number in the designation, e.g. 3946945413106333696\n",
    "# In Gaia, the \"designation\" is Gaia DR2 3946945413106333696"
   ]
  },
  {
   "cell_type": "code",
   "execution_count": 4,
   "id": "bd5337a1-b355-459d-a126-f5c9abb6fefa",
   "metadata": {},
   "outputs": [
    {
     "name": "stdout",
     "output_type": "stream",
     "text": [
      "         pl_name  hostname              gaia_designation  NEA_sy_snum  \\\n",
      "0       11 Com b    11 Com  Gaia DR2 3946945413106333696            2   \n",
      "1       11 UMi b    11 UMi  Gaia DR2 1696798367260229376            1   \n",
      "2       14 And b    14 And  Gaia DR2 1920113512486282240            1   \n",
      "3       14 Her b    14 Her  Gaia DR2 1385293808145621504            1   \n",
      "4     16 Cyg B b  16 Cyg B  Gaia DR2 2135550755683407232            3   \n",
      "...          ...       ...                           ...          ...   \n",
      "5009   ups And b   ups And   Gaia DR2 348020448377061376            2   \n",
      "5010   ups And c   ups And   Gaia DR2 348020448377061376            2   \n",
      "5011   ups And d   ups And   Gaia DR2 348020448377061376            2   \n",
      "5012   ups Leo b   ups Leo  Gaia DR2 3794167001116433152            1   \n",
      "5013    xi Aql b    xi Aql  Gaia DR2 4298361114750843904            1   \n",
      "\n",
      "      NEA_sy_pnum NEA_discoverymethod  NEA_pl_period  NEA_pl_sma  \\\n",
      "0               1     Radial Velocity     326.030000    1.290000   \n",
      "1               1     Radial Velocity     516.219970    1.530000   \n",
      "2               1     Radial Velocity     185.840000    0.830000   \n",
      "3               2     Radial Velocity    1773.400020    2.930000   \n",
      "4               1     Radial Velocity     798.500000    1.660000   \n",
      "...           ...                 ...            ...         ...   \n",
      "5009            3     Radial Velocity       4.617033    0.059222   \n",
      "5010            3     Radial Velocity     241.258000    0.827774   \n",
      "5011            3     Radial Velocity    1276.460000    2.513290   \n",
      "5012            1     Radial Velocity     385.200000    1.180000   \n",
      "5013            1     Radial Velocity     136.750000    0.680000   \n",
      "\n",
      "      NEA_pl_smaerr1  NEA_pl_smaerr2  ...  NEA_st_meterr1  NEA_st_meterr2  \\\n",
      "0           0.050000       -0.050000  ...           0.090          -0.090   \n",
      "1           0.070000       -0.070000  ...             NaN             NaN   \n",
      "2                NaN             NaN  ...           0.030          -0.030   \n",
      "3           0.080000       -0.080000  ...             NaN             NaN   \n",
      "4           0.030000       -0.030000  ...             NaN             NaN   \n",
      "...              ...             ...  ...             ...             ...   \n",
      "5009        0.000000        0.000000  ...             NaN             NaN   \n",
      "5010        0.000015       -0.000015  ...             NaN             NaN   \n",
      "5011        0.000750       -0.000750  ...             NaN             NaN   \n",
      "5012        0.110000       -0.320000  ...           0.090          -0.080   \n",
      "5013             NaN             NaN  ...           0.039          -0.039   \n",
      "\n",
      "      NEA_st_lum  NEA_st_lumerr1  NEA_st_lumerr2  NEA_st_logg  NEA_st_age  \\\n",
      "0          2.243           0.071          -0.085         2.31         NaN   \n",
      "1            NaN             NaN             NaN         1.93         NaN   \n",
      "2          1.763             NaN             NaN         2.63         NaN   \n",
      "3            NaN             NaN             NaN         4.45         NaN   \n",
      "4            NaN             NaN             NaN         4.36         NaN   \n",
      "...          ...             ...             ...          ...         ...   \n",
      "5009         NaN             NaN             NaN          NaN         5.0   \n",
      "5010         NaN             NaN             NaN          NaN         5.0   \n",
      "5011         NaN             NaN             NaN          NaN         5.0   \n",
      "5012       1.800           0.221          -0.055         2.46         NaN   \n",
      "5013       1.839             NaN             NaN         2.66         NaN   \n",
      "\n",
      "      NEA_st_ageerr1  NEA_st_ageerr2       gaia_source_id  \n",
      "0                NaN             NaN  3946945413106333696  \n",
      "1                NaN             NaN  1696798367260229376  \n",
      "2                NaN             NaN  1920113512486282240  \n",
      "3                NaN             NaN  1385293808145621504  \n",
      "4                NaN             NaN  2135550755683407232  \n",
      "...              ...             ...                  ...  \n",
      "5009             NaN             NaN   348020448377061376  \n",
      "5010             NaN             NaN   348020448377061376  \n",
      "5011             NaN             NaN   348020448377061376  \n",
      "5012             NaN             NaN  3794167001116433152  \n",
      "5013             NaN             NaN  4298361114750843904  \n",
      "\n",
      "[5014 rows x 39 columns]\n",
      "No. rows in NASA EA:  5014\n"
     ]
    }
   ],
   "source": [
    "# Read the NASA_EA data:\n",
    "NEA = pd.read_csv( path.join(NEA_dir, f\"NASA_EA_\" + data_date + f\".csv\"), skiprows=header_len, \n",
    "                         usecols=NEA_cols)\n",
    "\n",
    "# Rename the columns:\n",
    "NEA.rename( columns=NEA_cols_dict2, inplace=True )\n",
    "\n",
    "# Add a new column called 'gaia_source_id' which is listed in Gaia tables\n",
    "# The source_id is the number in the designation, e.g. 3946945413106333696\n",
    "c1 = np.where( NEA[\"gaia_designation\"].notnull() )\n",
    "gaia_source_id = np.empty(NEA[\"gaia_designation\"].size).astype(int)\n",
    "gaia_source_id[c1] = NEA[\"gaia_designation\"].iloc[c1].str.rsplit(\" \", n=1, expand=True)[1].astype(\"int64\")\n",
    "#print(gaia_source_id)\n",
    "NEA[\"gaia_source_id\"] = gaia_source_id\n",
    "\n",
    "print(NEA)\n",
    "print(\"No. rows in NASA EA: \", NEA.shape[0])"
   ]
  },
  {
   "cell_type": "markdown",
   "id": "ab54b7c1-c128-4b41-9ee1-da32e7191e0a",
   "metadata": {
    "tags": []
   },
   "source": [
    "## Saving a list of the exoplanets whose hosts are in the Gaia database"
   ]
  },
  {
   "cell_type": "code",
   "execution_count": 5,
   "id": "5ce0228a-1c20-417f-8262-92e96f0f9a49",
   "metadata": {},
   "outputs": [],
   "source": [
    "# Create a csv containing the non NaN gaia designations:\n",
    "# (useful when using the designations to search for stars in Gaia)\n",
    "#NEA[\"gaia_designation\"][~NEA[\"gaia_designation\"].isnull()].to_csv(path.join(NEA_dir, f\"gaia_designations_\" + data_date + f\".csv\"), index=False)\n",
    "NEA[\"gaia_designation\"][NEA[\"gaia_designation\"].notnull()].to_csv(path.join(NEA_dir, f\"gaia_designations_\" + data_date + f\".csv\"), index=False)"
   ]
  },
  {
   "cell_type": "markdown",
   "id": "e7fcc1e7-f01b-4840-a1e1-dbb8e58e811f",
   "metadata": {},
   "source": [
    "# Convert NEA luminosities from log(solar) to solar"
   ]
  },
  {
   "cell_type": "code",
   "execution_count": 6,
   "id": "19e14718-7a8b-482b-af16-0673f629da77",
   "metadata": {},
   "outputs": [
    {
     "name": "stdout",
     "output_type": "stream",
     "text": [
      "0       174.984669\n",
      "1              NaN\n",
      "2        57.942870\n",
      "3              NaN\n",
      "4              NaN\n",
      "           ...    \n",
      "5009           NaN\n",
      "5010           NaN\n",
      "5011           NaN\n",
      "5012     63.095734\n",
      "5013     69.023980\n",
      "Name: NEA_st_lum, Length: 5014, dtype: float64\n",
      "0       28.607113\n",
      "1             NaN\n",
      "2             NaN\n",
      "3             NaN\n",
      "4             NaN\n",
      "          ...    \n",
      "5009          NaN\n",
      "5010          NaN\n",
      "5011          NaN\n",
      "5012    32.107609\n",
      "5013          NaN\n",
      "Length: 5014, dtype: float64\n",
      "0      -34.247953\n",
      "1             NaN\n",
      "2             NaN\n",
      "3             NaN\n",
      "4             NaN\n",
      "          ...    \n",
      "5009          NaN\n",
      "5010          NaN\n",
      "5011          NaN\n",
      "5012    -7.990581\n",
      "5013          NaN\n",
      "Length: 5014, dtype: float64\n",
      "0       31.078322\n",
      "1             NaN\n",
      "2             NaN\n",
      "3             NaN\n",
      "4             NaN\n",
      "          ...    \n",
      "5009          NaN\n",
      "5010          NaN\n",
      "5011          NaN\n",
      "5012    41.858508\n",
      "5013          NaN\n",
      "Length: 5014, dtype: float64\n",
      "0      -31.104811\n",
      "1             NaN\n",
      "2             NaN\n",
      "3             NaN\n",
      "4             NaN\n",
      "          ...    \n",
      "5009          NaN\n",
      "5010          NaN\n",
      "5011          NaN\n",
      "5012    -7.505309\n",
      "5013          NaN\n",
      "Length: 5014, dtype: float64\n",
      "(array([ 48,  51,  57, 942]),)\n",
      "48     161.563675\n",
      "51     176.716439\n",
      "57      37.215994\n",
      "942    215.579953\n",
      "dtype: float64\n",
      "48     190.643737\n",
      "51     473.110638\n",
      "57      55.734973\n",
      "942    245.340158\n",
      "dtype: float64\n"
     ]
    }
   ],
   "source": [
    "# Convert luminosities and uncs from log(solar) to solar:\n",
    "st_lum_sol = 10**NEA[\"NEA_st_lum\"] # to undo a log, base^x\n",
    "\n",
    "# Converting the uncertainties:\n",
    "# y = 10^x, \n",
    "# dy/dx = 10^x * ln(10)\n",
    "# y_err = dy/dx * x_err\n",
    "# y_err = 10^x * ln(10) * x_err\n",
    "# y_err = y * x_err * ln(10)\n",
    "st_lum_solerr1 = np.multiply(10**NEA[\"NEA_st_lum\"], NEA[\"NEA_st_lumerr1\"]) * np.log(10)\n",
    "st_lum_solerr2 = np.multiply(10**NEA[\"NEA_st_lum\"], NEA[\"NEA_st_lumerr2\"]) * np.log(10)\n",
    "print(st_lum_sol)\n",
    "print(st_lum_solerr1)\n",
    "print(st_lum_solerr2)\n",
    "\n",
    "# Comparing to the result from  upper unc = y + y_err - y = 10^(x-x_err) - 10^(x):\n",
    "unc1 = 10**(NEA[\"NEA_st_lum\"] + NEA[\"NEA_st_lumerr1\"]) - 10**NEA[\"NEA_st_lum\"]\n",
    "unc2 = 10**(NEA[\"NEA_st_lum\"] + NEA[\"NEA_st_lumerr2\"]) - 10**NEA[\"NEA_st_lum\"]\n",
    "print(unc1)\n",
    "print(unc2)\n",
    "\n",
    "l = np.where( ( abs(unc1 - st_lum_solerr1) > 10 ) )\n",
    "print(l)\n",
    "print(st_lum_solerr1[l[0]])\n",
    "print(unc1[l[0]])\n",
    "\n",
    "# The two unc. calculation methods seem to yield similar results but not the same\n",
    "# TODO: the check above doesn't seem to be workingr"
   ]
  },
  {
   "cell_type": "code",
   "execution_count": 7,
   "id": "de8a9515-ef70-4184-874c-d605015a6b07",
   "metadata": {},
   "outputs": [],
   "source": [
    "# Replace in the table:\n",
    "NEA[\"NEA_st_lum\"] = st_lum_sol\n",
    "NEA[\"NEA_st_lumerr1\"] = st_lum_solerr1\n",
    "NEA[\"NEA_st_lumerr2\"] = st_lum_solerr2"
   ]
  },
  {
   "cell_type": "markdown",
   "id": "9c9ebb9a-0834-4ec1-8c57-2743d9ba1198",
   "metadata": {},
   "source": [
    "# Calculating lum and unc where teff and rad are available"
   ]
  },
  {
   "cell_type": "markdown",
   "id": "4c00ebad-1ffc-44a4-8cf6-e56bc3d5b09b",
   "metadata": {},
   "source": [
    "## Conditions for luminosity calculations"
   ]
  },
  {
   "cell_type": "code",
   "execution_count": 8,
   "id": "9db8b08d-4565-454e-837a-9b45c4c07559",
   "metadata": {},
   "outputs": [],
   "source": [
    "# Empty arrays for luminosity and the +ve and -ve uncs.:\n",
    "calc_lum = np.empty(NEA.shape[0])\n",
    "calc_lumerr1 = np.empty(NEA.shape[0])\n",
    "calc_lumerr2 = np.empty(NEA.shape[0])\n",
    "\n",
    "# Fill the arrays with NaN:\n",
    "calc_lum[:] = np.nan\n",
    "calc_lumerr1[:] = np.nan\n",
    "calc_lumerr2[:] = np.nan\n",
    "\n",
    "# Condition 1: indicies of exoplanets with stellar teff and rad listed:\n",
    "c1 = np.where( np.isfinite(NEA[\"NEA_st_teff\"]) &  np.isfinite(NEA[\"NEA_st_rad\"]) )\n",
    "\n",
    "# Condition 2: indicies of exoplanets with dT1 and dR1 listed:\n",
    "c2 = np.where( np.isfinite(NEA[\"NEA_st_teff\"]) & np.isfinite(NEA[\"NEA_st_tefferr1\"]) & np.isfinite(NEA[\"NEA_st_rad\"]) & np.isfinite(NEA[\"NEA_st_raderr1\"]) )\n",
    "\n",
    "# Condition 3: indicies of exoplanets with dT2 adn dR2 listed\n",
    "c3 = np.where( np.isfinite(NEA[\"NEA_st_teff\"]) & np.isfinite(NEA[\"NEA_st_tefferr2\"]) & np.isfinite(NEA[\"NEA_st_rad\"]) & np.isfinite(NEA[\"NEA_st_raderr2\"]) )"
   ]
  },
  {
   "cell_type": "markdown",
   "id": "8740ad7b-cf30-4a14-886d-b90fd475ce93",
   "metadata": {},
   "source": [
    "## Calculating luminosities"
   ]
  },
  {
   "cell_type": "code",
   "execution_count": 9,
   "id": "3f4912a7-5c54-4f88-a798-6be86235f16b",
   "metadata": {},
   "outputs": [],
   "source": [
    "# Calculate luminosities for indicies c1:\n",
    "calc_lum[c1] = lum_eqn(NEA[\"NEA_st_teff\"].iloc[c1], NEA[\"NEA_st_rad\"].iloc[c1])\n",
    "\n",
    "# Calculate +ve errors for indicies c2:\n",
    "calc_lumerr1[c2] =  lum_unc_eqn(NEA[\"NEA_st_teff\"].iloc[c2], NEA[\"NEA_st_tefferr1\"].iloc[c2], NEA[\"NEA_st_rad\"].iloc[c2], NEA[\"NEA_st_raderr1\"].iloc[c2]) \n",
    "\n",
    "# Calculate -ve errors for indicies c3:\n",
    "calc_lumerr2[c3] = lum_unc_eqn(NEA[\"NEA_st_teff\"].iloc[c3], NEA[\"NEA_st_tefferr2\"].iloc[c3], NEA[\"NEA_st_rad\"].iloc[c3], NEA[\"NEA_st_raderr2\"].iloc[c3], positive_unc=False) "
   ]
  },
  {
   "cell_type": "code",
   "execution_count": 10,
   "id": "47184013-5b15-42c2-88a7-1ef1667daaf3",
   "metadata": {},
   "outputs": [],
   "source": [
    "# Add the calculated luminosities and their errors to the NASA EA table:\n",
    "NEA[\"NEAc_lum\"] = calc_lum\n",
    "NEA[\"NEAc_lumerr1\"] = calc_lumerr1\n",
    "NEA[\"NEAc_lumerr2\"] = calc_lumerr2"
   ]
  },
  {
   "cell_type": "markdown",
   "id": "545aaa93-4241-4585-acac-cbee28f19f49",
   "metadata": {},
   "source": [
    "## Conditions for effective temperature calculations"
   ]
  },
  {
   "cell_type": "code",
   "execution_count": 11,
   "id": "7f703e62-d231-44a9-8ff2-f8605960ee43",
   "metadata": {},
   "outputs": [],
   "source": [
    "# Empty arrays for teff and the +ve and -ve uncs.:\n",
    "calc_teff = np.empty(NEA.shape[0])\n",
    "calc_tefferr1 = np.empty(NEA.shape[0])\n",
    "calc_tefferr2 = np.empty(NEA.shape[0])\n",
    "\n",
    "# Fill the arrays with NaN:\n",
    "calc_teff[:] = np.nan\n",
    "calc_tefferr1[:] = np.nan\n",
    "calc_tefferr2[:] = np.nan\n",
    "\n",
    "# Condition 1: indicies of exoplanets with stellar lum and rad listed:\n",
    "c1 = np.where( np.isfinite(NEA[\"NEA_st_lum\"]) &  np.isfinite(NEA[\"NEA_st_rad\"]) )\n",
    "#print(c1[0].size)\n",
    "\n",
    "# Condition 2: indicies of exoplanets with dL1 and dR1 listed:\n",
    "c2 = np.where( np.isfinite(NEA[\"NEA_st_lum\"]) & np.isfinite(NEA[\"NEA_st_lumerr1\"]) & np.isfinite(NEA[\"NEA_st_rad\"]) & np.isfinite(NEA[\"NEA_st_raderr1\"]) )\n",
    "#print(c2[0].size)\n",
    "\n",
    "# Condition 3: indicies of exoplanets with dL2 adn dR2 listed\n",
    "c3 = np.where( np.isfinite(NEA[\"NEA_st_lum\"]) & np.isfinite(NEA[\"NEA_st_lumerr2\"]) & np.isfinite(NEA[\"NEA_st_rad\"]) & np.isfinite(NEA[\"NEA_st_raderr2\"]) )\n",
    "#print(c3[0].size)"
   ]
  },
  {
   "cell_type": "markdown",
   "id": "a7a5bda6-8248-405d-89b5-1fdba1c2ee4f",
   "metadata": {},
   "source": [
    "## Calculating effective temperature"
   ]
  },
  {
   "cell_type": "code",
   "execution_count": 12,
   "id": "ad3c6c48-29f0-43c8-8e43-0eb1c2fc8c7d",
   "metadata": {},
   "outputs": [],
   "source": [
    "# Calculate teff for indicies c1:\n",
    "calc_teff[c1] = teff_eqn(NEA[\"NEA_st_lum\"].iloc[c1], NEA[\"NEA_st_rad\"].iloc[c1])\n",
    "#print(calc_teff[c1].size)\n",
    "\n",
    "# Calculate +ve errors for indicies c2:\n",
    "calc_tefferr1[c2] =  teff_unc_eqn(NEA[\"NEA_st_lum\"].iloc[c2], NEA[\"NEA_st_lumerr1\"].iloc[c2], NEA[\"NEA_st_rad\"].iloc[c2], NEA[\"NEA_st_raderr1\"].iloc[c2]) \n",
    "\n",
    "# Calculate -ve errors for indicies c3:\n",
    "calc_tefferr2[c3] = teff_unc_eqn(NEA[\"NEA_st_lum\"].iloc[c3], NEA[\"NEA_st_lumerr2\"].iloc[c3], NEA[\"NEA_st_rad\"].iloc[c3], NEA[\"NEA_st_raderr2\"].iloc[c3], positive_unc=False) "
   ]
  },
  {
   "cell_type": "code",
   "execution_count": 13,
   "id": "e2620350-bc55-4e9a-a0d5-1ad1fff58de1",
   "metadata": {},
   "outputs": [],
   "source": [
    "# Add the calculated effective temperatures and their errors to the NASA EA table:\n",
    "NEA[\"NEAc_teff\"] = calc_teff\n",
    "NEA[\"NEAc_tefferr1\"] = calc_tefferr1\n",
    "NEA[\"NEAc_tefferr2\"] = calc_tefferr2"
   ]
  },
  {
   "cell_type": "code",
   "execution_count": 14,
   "id": "7ab219f4-0c69-46d9-8ebf-c879e864f759",
   "metadata": {},
   "outputs": [],
   "source": [
    "#print(NEA)"
   ]
  },
  {
   "cell_type": "markdown",
   "id": "6f321380-4678-428e-b651-43a4b37f157f",
   "metadata": {},
   "source": [
    "# Crosmatching the NASA data with rosetta (to get the Kepler names and KOI names)"
   ]
  },
  {
   "cell_type": "markdown",
   "id": "fdc9aa9a-9ac0-4be7-8778-343c1c1cd2bf",
   "metadata": {},
   "source": [
    "## Loading the rosetta database"
   ]
  },
  {
   "cell_type": "code",
   "execution_count": 15,
   "id": "0b0c4dab-e862-4842-8245-9c67c1d95ce9",
   "metadata": {},
   "outputs": [
    {
     "name": "stdout",
     "output_type": "stream",
     "text": [
      "2732\n",
      "     pl_koi_name       pl_name\n",
      "0      K00001.01      TrES-2 b\n",
      "1      K00072.01   Kepler-10 b\n",
      "2      K00072.02   Kepler-10 c\n",
      "3      K00041.02  Kepler-100 b\n",
      "4      K00041.01  Kepler-100 c\n",
      "...          ...           ...\n",
      "2727   K01881.01  Kepler-995 b\n",
      "2728   K01882.01  Kepler-996 b\n",
      "2729   K01883.01  Kepler-997 b\n",
      "2730   K01885.01  Kepler-998 b\n",
      "2731   K01886.01  Kepler-999 b\n",
      "\n",
      "[2732 rows x 2 columns]\n"
     ]
    }
   ],
   "source": [
    "# I only need the planet name (in NEA) and Kepler ID (in CKS):\n",
    "rosetta_cols = [\"pl_name\",\"pl_koi_name\"] #, \"pl_kepler_name\"]\n",
    "\n",
    "# Reading the csv file:\n",
    "rosetta = pd.read_csv(path.join(rosetta_dir, f\"rosetta_\" + data_date + f\".csv\"), usecols=rosetta_cols) # TODO: stopping here on laptop\n",
    "rosetta_len = rosetta[\"pl_name\"].size\n",
    "print(rosetta_len)\n",
    "print(rosetta)"
   ]
  },
  {
   "cell_type": "markdown",
   "id": "7c5bfd7d-5d45-4d9e-9620-302d8a7a3511",
   "metadata": {},
   "source": [
    "## Merging the NEA and rosetta"
   ]
  },
  {
   "cell_type": "code",
   "execution_count": 16,
   "id": "fe0ef619-acae-4a64-bccd-71ceec0dc21f",
   "metadata": {},
   "outputs": [
    {
     "name": "stdout",
     "output_type": "stream",
     "text": [
      "5014\n",
      "Number of Kepler (rosetta) planets in the NEA: 2732 out of 2732 Kepler planets.\n",
      "Number of Kepler (rosetta) planets in the NEA: 2732 out of 2732 Kepler planets.\n",
      "Number of unmatched stars from Rosetta: 0\n"
     ]
    }
   ],
   "source": [
    "# Merging:\n",
    "NEA = pd.merge(NEA, rosetta, on=\"pl_name\", how=\"left\", indicator=\"NEAorRos\", validate=\"one_to_one\")\n",
    "# indicator. bool or str, default False. If True, adds a column to the output DataFrame called “_merge” with information on the source of each row. \n",
    "# validate. str, optional. If specified, checks if merge is of specified type. “one_to_one” or “1:1”: check if merge keys are unique in both left and right datasets.\n",
    "NEA_len = NEA[\"pl_name\"].size\n",
    "print(NEA_len)\n",
    "#print(NEA)\n",
    "\n",
    "# How many NEA planets were successfully matched with rosetta?\n",
    "# Use the _merge column (from indicator=True)\n",
    "# The column will have a Categorical type with the value of “left_only” for observations whose merge key only appears in the left DataFrame, \n",
    "#“right_only” for observations whose merge key only appears in the right DataFrame, and “both” if the observation’s merge key is found in both DataFrames.\n",
    "\n",
    "# The indicies of Kepler planets in the NEA:\n",
    "in_rosetta = np.where(NEA[\"NEAorRos\"] == \"both\")\n",
    "print(\"Number of Kepler (rosetta) planets in the NEA:\", in_rosetta[0].size, \"out of\", rosetta_len, \"Kepler planets.\")\n",
    "\n",
    "# The indicies of Kepler planets in NEA that were matched with Kepler planets in rosetta:\n",
    "matched_rosetta = np.where(NEA[\"NEAorRos\"] == \"both\")\n",
    "not_matched_rosetta = np.where(NEA[\"NEAorRos\"] == \"right_only\")\n",
    "print(\"Number of Kepler (rosetta) planets in the NEA:\", matched_rosetta[0].size, \"out of\", rosetta_len, \"Kepler planets.\")\n",
    "print(\"Number of unmatched stars from Rosetta:\", not_matched_rosetta[0].size)"
   ]
  },
  {
   "cell_type": "markdown",
   "id": "9127452e-9493-4760-9094-c306c50194fe",
   "metadata": {},
   "source": [
    "# Saving the processed NEA df to a csv"
   ]
  },
  {
   "cell_type": "code",
   "execution_count": 17,
   "id": "e3b4a24c-a477-4558-8a66-90d6aec6dfca",
   "metadata": {},
   "outputs": [],
   "source": [
    "# Saving to csv:\n",
    "NEA.to_csv( path.join(NEA_dir, f\"NASA_EA_processed_\" + data_date + f\".csv\") , index=False)"
   ]
  },
  {
   "cell_type": "code",
   "execution_count": null,
   "id": "efb35819-74b9-4ba5-bbd9-d4f67af98f70",
   "metadata": {},
   "outputs": [],
   "source": []
  }
 ],
 "metadata": {
  "kernelspec": {
   "display_name": "Python 3 (ipykernel)",
   "language": "python",
   "name": "python3"
  },
  "language_info": {
   "codemirror_mode": {
    "name": "ipython",
    "version": 3
   },
   "file_extension": ".py",
   "mimetype": "text/x-python",
   "name": "python",
   "nbconvert_exporter": "python",
   "pygments_lexer": "ipython3",
   "version": "3.9.7"
  }
 },
 "nbformat": 4,
 "nbformat_minor": 5
}
