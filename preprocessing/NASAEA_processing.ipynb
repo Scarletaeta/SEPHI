{
 "cells": [
  {
   "cell_type": "code",
   "execution_count": 1,
   "id": "fca3217b-4fb7-4a87-9407-fe977b8c0f8d",
   "metadata": {},
   "outputs": [],
   "source": [
    "import numpy as np\n",
    "import pandas as pd\n",
    "from os import path\n",
    "\n",
    "from calc_stellar_params import lum_eqn, lum_unc_eqn, teff_eqn, teff_unc_eqn"
   ]
  },
  {
   "cell_type": "code",
   "execution_count": 2,
   "id": "74223ce2-d983-4025-87b1-abd0ca6f1933",
   "metadata": {},
   "outputs": [],
   "source": [
    "# Data directory:\n",
    "#NEA_dir = \"~/Scarlett/OneDrive - Liverpool John Moores University/SEPHI_data/\"\n",
    "NEA_dir = \"~/OneDrive/SEPHI_data/NASA_EA/\"\n",
    "header_len = 292 # for NASA_EA_2022_04_28.csv\n",
    "rosetta_dir = \"~/OneDrive/SEPHI_data/CKS/\"\n",
    "data_date = \"2022_04_28\"\n",
    "\n",
    "#header_len = 104 # for NASA_EA_2022_04_27.csv\n",
    "#header_len = 116 # for NASA_EA_2022_02_09.csv"
   ]
  },
  {
   "cell_type": "code",
   "execution_count": 3,
   "id": "bd5337a1-b355-459d-a126-f5c9abb6fefa",
   "metadata": {},
   "outputs": [
    {
     "name": "stdout",
     "output_type": "stream",
     "text": [
      "No. rows in NASA EA:  5014\n"
     ]
    }
   ],
   "source": [
    "# Read the NASA_EA data:\n",
    "NEA_cols = [\"pl_name\", \"hostname\", \"gaia_id\", \"sy_snum\", \"sy_pnum\", \"discoverymethod\", \"pl_orbper\", \"pl_orbsmax\", \"pl_rade\", \"pl_bmasse\", \"pl_dens\", \"pl_orbeccen\", \"pl_eqt\", \"st_teff\", \"st_tefferr1\", \"st_tefferr2\", \"st_rad\", \"st_raderr1\", \"st_raderr2\", \"st_mass\", \"st_met\", \"st_lum\", \"st_lumerr1\", \"st_lumerr2\", \"st_logg\", \"st_age\", \"st_ageerr1\", \"st_ageerr2\"]\n",
    "NEA = pd.read_csv( path.join(NEA_dir, f\"NASA_EA_\" + data_date + f\".csv\"), skiprows=header_len, \n",
    "                         usecols=NEA_cols)\n",
    "# \"pl_orbincl\"\n",
    "# pl_orbper = orbital period [days]\n",
    "# pl_orbsmax = orbit semi-major axis [au]\n",
    "# exculuded \"st_spectype\" from download due to csv formatting\n",
    "# , \"sy_dist\", \"sy_plx\", \"sy_gaiamag\"\n",
    "\n",
    "# The gaia_id in NEA is called the 'designation' in Gaia tables, so rename it:\n",
    "# The gaia_designation is the Gaia + space + DR + no. + space + Gaia source_id\n",
    "# e.g. Gaia DR2 3946945413106333696\n",
    "NEA.rename(columns={ \"gaia_id\": \"gaia_designation\" }, inplace=True )\n",
    "\n",
    "# Add a new column called 'gaia_source_id' which is listed in Gaia tables\n",
    "# The source_id is the number in the designation, e.g. 3946945413106333696\n",
    "c1 = np.where( NEA[\"gaia_designation\"].notnull() )\n",
    "gaia_source_id = np.empty(NEA[\"gaia_designation\"].size).astype(int)\n",
    "gaia_source_id[c1] = NEA[\"gaia_designation\"].iloc[c1].str.rsplit(\" \", n=1, expand=True)[1].astype(\"int64\")\n",
    "#print(gaia_source_id)\n",
    "NEA[\"gaia_source_id\"] = gaia_source_id\n",
    "\n",
    "# Remove the space in 'hostname' (e.g. 11 Com -> 11Com):\n",
    "#NEA[\"hostname\"] = NEA[\"hostname\"].str.replace(\" \", \"\")\n",
    "\n",
    "print(\"No. rows in NASA EA: \", NEA.shape[0])"
   ]
  },
  {
   "cell_type": "code",
   "execution_count": 4,
   "id": "dc0e930d-db9c-4dec-b9cd-5536a15ef0ae",
   "metadata": {},
   "outputs": [
    {
     "name": "stdout",
     "output_type": "stream",
     "text": [
      "         pl_name  hostname              gaia_designation  sy_snum  sy_pnum  \\\n",
      "0       11 Com b    11 Com  Gaia DR2 3946945413106333696        2        1   \n",
      "1       11 UMi b    11 UMi  Gaia DR2 1696798367260229376        1        1   \n",
      "2       14 And b    14 And  Gaia DR2 1920113512486282240        1        1   \n",
      "3       14 Her b    14 Her  Gaia DR2 1385293808145621504        1        2   \n",
      "4     16 Cyg B b  16 Cyg B  Gaia DR2 2135550755683407232        3        1   \n",
      "...          ...       ...                           ...      ...      ...   \n",
      "5009   ups And b   ups And   Gaia DR2 348020448377061376        2        3   \n",
      "5010   ups And c   ups And   Gaia DR2 348020448377061376        2        3   \n",
      "5011   ups And d   ups And   Gaia DR2 348020448377061376        2        3   \n",
      "5012   ups Leo b   ups Leo  Gaia DR2 3794167001116433152        1        1   \n",
      "5013    xi Aql b    xi Aql  Gaia DR2 4298361114750843904        1        1   \n",
      "\n",
      "      discoverymethod    pl_orbper  pl_orbsmax  pl_rade   pl_bmasse  ...  \\\n",
      "0     Radial Velocity   326.030000    1.290000      NaN  6165.60000  ...   \n",
      "1     Radial Velocity   516.219970    1.530000      NaN  4684.81420  ...   \n",
      "2     Radial Velocity   185.840000    0.830000      NaN  1525.50000  ...   \n",
      "3     Radial Velocity  1773.400020    2.930000      NaN  1481.08780  ...   \n",
      "4     Radial Velocity   798.500000    1.660000      NaN   565.73740  ...   \n",
      "...               ...          ...         ...      ...         ...  ...   \n",
      "5009  Radial Velocity     4.617033    0.059222      NaN   218.53100  ...   \n",
      "5010  Radial Velocity   241.258000    0.827774      NaN   629.59500  ...   \n",
      "5011  Radial Velocity  1276.460000    2.513290      NaN  1313.22000  ...   \n",
      "5012  Radial Velocity   385.200000    1.180000      NaN   162.09249  ...   \n",
      "5013  Radial Velocity   136.750000    0.680000      NaN   890.00000  ...   \n",
      "\n",
      "      st_mass  st_met  st_lum  st_lumerr1  st_lumerr2  st_logg  st_age  \\\n",
      "0        2.70  -0.350   2.243       0.071      -0.085     2.31     NaN   \n",
      "1        2.78  -0.020     NaN         NaN         NaN     1.93     NaN   \n",
      "2        2.20  -0.240   1.763         NaN         NaN     2.63     NaN   \n",
      "3        0.90   0.410     NaN         NaN         NaN     4.45     NaN   \n",
      "4        1.08   0.060     NaN         NaN         NaN     4.36     NaN   \n",
      "...       ...     ...     ...         ...         ...      ...     ...   \n",
      "5009     1.30     NaN     NaN         NaN         NaN      NaN     5.0   \n",
      "5010     1.30     NaN     NaN         NaN         NaN      NaN     5.0   \n",
      "5011     1.30     NaN     NaN         NaN         NaN      NaN     5.0   \n",
      "5012     1.48  -0.200   1.800       0.221      -0.055     2.46     NaN   \n",
      "5013     2.20  -0.205   1.839         NaN         NaN     2.66     NaN   \n",
      "\n",
      "      st_ageerr1  st_ageerr2       gaia_source_id  \n",
      "0            NaN         NaN  3946945413106333696  \n",
      "1            NaN         NaN  1696798367260229376  \n",
      "2            NaN         NaN  1920113512486282240  \n",
      "3            NaN         NaN  1385293808145621504  \n",
      "4            NaN         NaN  2135550755683407232  \n",
      "...          ...         ...                  ...  \n",
      "5009         NaN         NaN   348020448377061376  \n",
      "5010         NaN         NaN   348020448377061376  \n",
      "5011         NaN         NaN   348020448377061376  \n",
      "5012         NaN         NaN  3794167001116433152  \n",
      "5013         NaN         NaN  4298361114750843904  \n",
      "\n",
      "[5014 rows x 29 columns]\n"
     ]
    }
   ],
   "source": [
    "print(NEA)"
   ]
  },
  {
   "cell_type": "code",
   "execution_count": 5,
   "id": "5ce0228a-1c20-417f-8262-92e96f0f9a49",
   "metadata": {},
   "outputs": [],
   "source": [
    "# Create a csv containing the non NaN gaia designations:\n",
    "# (useful when using the designations to search for stars in Gaia)\n",
    "#NEA[\"gaia_designation\"][~NEA[\"gaia_designation\"].isnull()].to_csv(path.join(NEA_dir, f\"gaia_designations_\" + data_date + f\".csv\"), index=False)\n",
    "NEA[\"gaia_designation\"][NEA[\"gaia_designation\"].notnull()].to_csv(path.join(NEA_dir, f\"gaia_designations_\" + data_date + f\".csv\"), index=False)"
   ]
  },
  {
   "cell_type": "code",
   "execution_count": 6,
   "id": "19e14718-7a8b-482b-af16-0673f629da77",
   "metadata": {},
   "outputs": [
    {
     "name": "stdout",
     "output_type": "stream",
     "text": [
      "0       174.984669\n",
      "1              NaN\n",
      "2        57.942870\n",
      "3              NaN\n",
      "4              NaN\n",
      "           ...    \n",
      "5009           NaN\n",
      "5010           NaN\n",
      "5011           NaN\n",
      "5012     63.095734\n",
      "5013     69.023980\n",
      "Name: st_lum, Length: 5014, dtype: float64\n",
      "0       28.607113\n",
      "1             NaN\n",
      "2             NaN\n",
      "3             NaN\n",
      "4             NaN\n",
      "          ...    \n",
      "5009          NaN\n",
      "5010          NaN\n",
      "5011          NaN\n",
      "5012    32.107609\n",
      "5013          NaN\n",
      "Length: 5014, dtype: float64\n",
      "0      -34.247953\n",
      "1             NaN\n",
      "2             NaN\n",
      "3             NaN\n",
      "4             NaN\n",
      "          ...    \n",
      "5009          NaN\n",
      "5010          NaN\n",
      "5011          NaN\n",
      "5012    -7.990581\n",
      "5013          NaN\n",
      "Length: 5014, dtype: float64\n",
      "0       31.078322\n",
      "1             NaN\n",
      "2             NaN\n",
      "3             NaN\n",
      "4             NaN\n",
      "          ...    \n",
      "5009          NaN\n",
      "5010          NaN\n",
      "5011          NaN\n",
      "5012    41.858508\n",
      "5013          NaN\n",
      "Length: 5014, dtype: float64\n",
      "0      -31.104811\n",
      "1             NaN\n",
      "2             NaN\n",
      "3             NaN\n",
      "4             NaN\n",
      "          ...    \n",
      "5009          NaN\n",
      "5010          NaN\n",
      "5011          NaN\n",
      "5012    -7.505309\n",
      "5013          NaN\n",
      "Length: 5014, dtype: float64\n",
      "(array([ 48,  51,  57, 942]),)\n",
      "48     161.563675\n",
      "51     176.716439\n",
      "57      37.215994\n",
      "942    215.579953\n",
      "dtype: float64\n",
      "48     190.643737\n",
      "51     473.110638\n",
      "57      55.734973\n",
      "942    245.340158\n",
      "dtype: float64\n"
     ]
    }
   ],
   "source": [
    "# Convert luminosities and uncs from log(solar) to solar:\n",
    "st_lum_sol = 10**NEA[\"st_lum\"] # to undo a log, base^x\n",
    "\n",
    "# Converting the uncertainties:\n",
    "# y = 10^x, \n",
    "# dy/dx = 10^x * ln(10)\n",
    "# y_err = dy/dx * x_err\n",
    "# y_err = 10^x * ln(10) * x_err\n",
    "# y_err = y * x_err * ln(10)\n",
    "st_lum_solerr1 = np.multiply(10**NEA[\"st_lum\"], NEA[\"st_lumerr1\"]) * np.log(10)\n",
    "st_lum_solerr2 = np.multiply(10**NEA[\"st_lum\"], NEA[\"st_lumerr2\"]) * np.log(10)\n",
    "print(st_lum_sol)\n",
    "print(st_lum_solerr1)\n",
    "print(st_lum_solerr2)\n",
    "\n",
    "# Comparing to the result from  upper unc = y + y_err - y = 10^(x-x_err) - 10^(x):\n",
    "unc1 = 10**(NEA[\"st_lum\"] + NEA[\"st_lumerr1\"]) - 10**NEA[\"st_lum\"]\n",
    "unc2 = 10**(NEA[\"st_lum\"] + NEA[\"st_lumerr2\"]) - 10**NEA[\"st_lum\"]\n",
    "print(unc1)\n",
    "print(unc2)\n",
    "\n",
    "l = np.where( ( abs(unc1 - st_lum_solerr1) > 10 ) )\n",
    "print(l)\n",
    "print(st_lum_solerr1[l[0]])\n",
    "print(unc1[l[0]])\n",
    "\n",
    "# The two unc. calculation methods seem to yield similar results but not the same\n",
    "# TODO: the check above doesn't seem to be working"
   ]
  },
  {
   "cell_type": "code",
   "execution_count": 7,
   "id": "de8a9515-ef70-4184-874c-d605015a6b07",
   "metadata": {},
   "outputs": [],
   "source": [
    "# Replace in the table:\n",
    "NEA[\"st_lum\"] = st_lum_sol\n",
    "NEA[\"st_lumerr1\"] = st_lum_solerr1\n",
    "NEA[\"st_lumerr2\"] = st_lum_solerr2"
   ]
  },
  {
   "cell_type": "code",
   "execution_count": 8,
   "id": "de887fd7-8c78-45a6-98b0-b475300f96ea",
   "metadata": {},
   "outputs": [],
   "source": [
    "## Calculating lum and unc where teff and rad are available"
   ]
  },
  {
   "cell_type": "code",
   "execution_count": 9,
   "id": "4aef05a1-61fd-4696-86f5-8154db5cacd5",
   "metadata": {},
   "outputs": [],
   "source": [
    "from math import pi, sqrt\n",
    "from astropy.constants import sigma_sb, L_sun, R_sun\n",
    "sigma = sigma_sb.value"
   ]
  },
  {
   "cell_type": "code",
   "execution_count": 10,
   "id": "9db8b08d-4565-454e-837a-9b45c4c07559",
   "metadata": {},
   "outputs": [],
   "source": [
    "# Empty arrays for luminosity and the +ve adn -ve uncs.:\n",
    "calc_lum = np.empty(NEA.shape[0])\n",
    "calc_lumerr1 = np.empty(NEA.shape[0])\n",
    "calc_lumerr2 = np.empty(NEA.shape[0])\n",
    "\n",
    "# Fill the arrays with NaN:\n",
    "calc_lum[:] = np.nan\n",
    "calc_lumerr1[:] = np.nan\n",
    "calc_lumerr2[:] = np.nan\n",
    "\n",
    "# Condition 1: indicies of exoplanets with stellar teff and rad listed:\n",
    "c1 = np.where( np.isfinite(NEA[\"st_teff\"]) &  np.isfinite(NEA[\"st_rad\"]) )\n",
    "\n",
    "# Condition 2: indicies of exoplanets with dT1 and dR1 listed:\n",
    "c2 = np.where( np.isfinite(NEA[\"st_teff\"]) & np.isfinite(NEA[\"st_tefferr1\"]) & np.isfinite(NEA[\"st_rad\"]) & np.isfinite(NEA[\"st_raderr1\"]) )\n",
    "\n",
    "# Condition 3: indicies of exoplanets with dT2 adn dR2 listed\n",
    "c3 = np.where( np.isfinite(NEA[\"st_teff\"]) & np.isfinite(NEA[\"st_tefferr2\"]) & np.isfinite(NEA[\"st_rad\"]) & np.isfinite(NEA[\"st_raderr2\"]) )"
   ]
  },
  {
   "cell_type": "code",
   "execution_count": 11,
   "id": "3f4912a7-5c54-4f88-a798-6be86235f16b",
   "metadata": {},
   "outputs": [],
   "source": [
    "# Calculate luminosities for indicies c1:\n",
    "calc_lum[c1] = lum_eqn(NEA[\"st_teff\"].iloc[c1], NEA[\"st_rad\"].iloc[c1])\n",
    "\n",
    "# Calculate +ve errors for indicies c2:\n",
    "calc_lumerr1[c2] =  lum_unc_eqn(NEA[\"st_teff\"].iloc[c2], NEA[\"st_tefferr1\"].iloc[c2], NEA[\"st_rad\"].iloc[c2], NEA[\"st_raderr1\"].iloc[c2]) \n",
    "\n",
    "# Calculate -ve errors for indicies c3:\n",
    "calc_lumerr2[c3] = lum_unc_eqn(NEA[\"st_teff\"].iloc[c3], NEA[\"st_tefferr2\"].iloc[c3], NEA[\"st_rad\"].iloc[c3], NEA[\"st_raderr2\"].iloc[c3], positive_unc=False) "
   ]
  },
  {
   "cell_type": "code",
   "execution_count": 12,
   "id": "47184013-5b15-42c2-88a7-1ef1667daaf3",
   "metadata": {},
   "outputs": [],
   "source": [
    "# Add the calculated luminosities and their errors to the NASA EA table:\n",
    "NEA[\"NEAc_lum\"] = calc_lum\n",
    "NEA[\"NEAc_lumerr1\"] = calc_lumerr1\n",
    "NEA[\"NEAc_lumerr2\"] = calc_lumerr2"
   ]
  },
  {
   "cell_type": "code",
   "execution_count": 13,
   "id": "8efa9c44-4d48-4852-bc81-5cfddd49ce14",
   "metadata": {},
   "outputs": [],
   "source": [
    "#print(NEA)"
   ]
  },
  {
   "cell_type": "code",
   "execution_count": 14,
   "id": "7f703e62-d231-44a9-8ff2-f8605960ee43",
   "metadata": {},
   "outputs": [],
   "source": [
    "# Empty arrays for teff and the +ve and -ve uncs.:\n",
    "calc_teff = np.empty(NEA.shape[0])\n",
    "calc_tefferr1 = np.empty(NEA.shape[0])\n",
    "calc_tefferr2 = np.empty(NEA.shape[0])\n",
    "\n",
    "# Fill the arrays with NaN:\n",
    "calc_teff[:] = np.nan\n",
    "calc_tefferr1[:] = np.nan\n",
    "calc_tefferr2[:] = np.nan\n",
    "\n",
    "# Condition 1: indicies of exoplanets with stellar lum and rad listed:\n",
    "c1 = np.where( np.isfinite(NEA[\"st_lum\"]) &  np.isfinite(NEA[\"st_rad\"]) )\n",
    "#print(c1[0].size)\n",
    "\n",
    "# Condition 2: indicies of exoplanets with dL1 and dR1 listed:\n",
    "c2 = np.where( np.isfinite(NEA[\"st_lum\"]) & np.isfinite(NEA[\"st_lumerr1\"]) & np.isfinite(NEA[\"st_rad\"]) & np.isfinite(NEA[\"st_raderr1\"]) )\n",
    "#print(c2[0].size)\n",
    "\n",
    "# Condition 3: indicies of exoplanets with dL2 adn dR2 listed\n",
    "c3 = np.where( np.isfinite(NEA[\"st_lum\"]) & np.isfinite(NEA[\"st_lumerr2\"]) & np.isfinite(NEA[\"st_rad\"]) & np.isfinite(NEA[\"st_raderr2\"]) )\n",
    "#print(c3[0].size)"
   ]
  },
  {
   "cell_type": "code",
   "execution_count": 15,
   "id": "ad3c6c48-29f0-43c8-8e43-0eb1c2fc8c7d",
   "metadata": {},
   "outputs": [],
   "source": [
    "# Calculate teff for indicies c1:\n",
    "calc_teff[c1] = teff_eqn(NEA[\"st_lum\"].iloc[c1], NEA[\"st_rad\"].iloc[c1])\n",
    "#print(calc_teff[c1].size)\n",
    "\n",
    "# Calculate +ve errors for indicies c2:\n",
    "calc_tefferr1[c2] =  teff_unc_eqn(NEA[\"st_lum\"].iloc[c2], NEA[\"st_lumerr1\"].iloc[c2], NEA[\"st_rad\"].iloc[c2], NEA[\"st_raderr1\"].iloc[c2]) \n",
    "\n",
    "# Calculate -ve errors for indicies c3:\n",
    "calc_tefferr2[c3] = teff_unc_eqn(NEA[\"st_lum\"].iloc[c3], NEA[\"st_lumerr2\"].iloc[c3], NEA[\"st_rad\"].iloc[c3], NEA[\"st_raderr2\"].iloc[c3], positive_unc=False) "
   ]
  },
  {
   "cell_type": "code",
   "execution_count": 16,
   "id": "e2620350-bc55-4e9a-a0d5-1ad1fff58de1",
   "metadata": {},
   "outputs": [],
   "source": [
    "# Add the calculated effective temperatures and their errors to the NASA EA table:\n",
    "NEA[\"NEAc_teff\"] = calc_teff\n",
    "NEA[\"NEAc_tefferr1\"] = calc_tefferr1\n",
    "NEA[\"NEAc_tefferr2\"] = calc_tefferr2"
   ]
  },
  {
   "cell_type": "code",
   "execution_count": 17,
   "id": "7ab219f4-0c69-46d9-8ebf-c879e864f759",
   "metadata": {},
   "outputs": [],
   "source": [
    "#print(NEA)"
   ]
  },
  {
   "cell_type": "code",
   "execution_count": 18,
   "id": "555e4327-a45f-4d58-bacc-ea26baca2ad0",
   "metadata": {},
   "outputs": [
    {
     "name": "stdout",
     "output_type": "stream",
     "text": [
      "['NEA_pl_orbper', 'NEA_pl_sma', 'NEA_pl_rade', 'NEA_pl_bmasse', 'NEA_pl_dens', 'NEA_pl_orbeccen', 'NEA_pl_eqt', 'NEA_pl_orbincl', 'NEA_st_teff', 'NEA_st_tefferr1', 'NEA_st_tefferr2', 'NEA_st_rad', 'NEA_st_raderr1', 'NEA_st_raderr2', 'NEA_st_mass', 'NEA_st_met', 'NEA_st_lum', 'NEA_st_lumerr1', 'NEA_st_lumerr2', 'NEA_st_logg', 'NEA_st_age', 'NEA_st_ageerr1', 'NEA_st_ageerr2']\n"
     ]
    }
   ],
   "source": [
    "# Renaming some of the columns:\n",
    "cols = [\"pl_orbper\", \"pl_orbsmax\", \"pl_rade\", \"pl_bmasse\", \"pl_dens\", \"pl_orbeccen\", \"pl_eqt\", \"pl_orbincl\", \"st_teff\", \"st_tefferr1\", \"st_tefferr2\", \"st_rad\", \"st_raderr1\", \"st_raderr2\", \"st_mass\", \"st_met\", \"st_lum\", \"st_lumerr1\", \"st_lumerr2\", \"st_logg\", \"st_age\", \"st_ageerr1\", \"st_ageerr2\"]\n",
    "# The other columns are: \"pl_name\", \"hostname\", \"gaia_id\", \"sy_snum\", \"sy_pnum\", \"discoverymethod\",  \n",
    "\n",
    "#new_cols = [i.replace(\"st_\", \"s\") for i in NEA_cols ] # remove all the st_. Anything with the prefix NEA referrs to the star\n",
    "#new_cols = [i.replace(\"pl_\", \"p\") for i in NEA_cols ]\n",
    "new_cols = [i.replace(\"orbsmax\", \"sma\") for i in cols ]\n",
    "#new_NEA_cols = [i.replace(\"err\", \"_err\") for i in new_cols1 ]\n",
    "new_cols = [\"NEA_\" + str(i) for i in new_cols] \n",
    "print(new_cols)\n",
    "cols_dict = {cols[i]: new_cols[i] for i in range(len(cols))}\n",
    "\n",
    "NEA.rename( columns=cols_dict, inplace=True )\n",
    "#print(NEA)"
   ]
  },
  {
   "cell_type": "code",
   "execution_count": 19,
   "id": "0b0c4dab-e862-4842-8245-9c67c1d95ce9",
   "metadata": {},
   "outputs": [
    {
     "name": "stdout",
     "output_type": "stream",
     "text": [
      "2732\n",
      "2732\n"
     ]
    }
   ],
   "source": [
    "## Crosmatching the NASA data with rosetta (to get the Kepler names and KOI names)\n",
    "\n",
    "# Loading the rosetta database:\n",
    "rosetta_cols = [\"pl_name\",\"pl_koi_name\", \"pl_kepler_name\"]\n",
    "rosetta = pd.read_csv(path.join(rosetta_dir, f\"rosetta_\" + data_date + \".csv\"), usecols=rosetta_cols)\n",
    "rosetta_len = rosetta[\"pl_name\"].size\n",
    "print(rosetta_len)\n",
    "#print(rosetta)\n",
    "\n",
    "# Trimming rosetta down so it only has the planet name (in NEA) and Kepler ID (in CKS):\n",
    "rosetta2 = pd.DataFrame(data= [ rosetta[\"pl_name\"], rosetta[\"pl_koi_name\"] ] ).transpose()\n",
    "#, rosetta[\"pl_kepler_name\"] \n",
    "rosetta2_len = rosetta2[\"pl_name\"].size\n",
    "print(rosetta2_len)\n",
    "#print(rosetta2)"
   ]
  },
  {
   "cell_type": "code",
   "execution_count": 20,
   "id": "fe0ef619-acae-4a64-bccd-71ceec0dc21f",
   "metadata": {},
   "outputs": [
    {
     "name": "stdout",
     "output_type": "stream",
     "text": [
      "5014\n",
      "Number of Kepler (rosetta) planets in the NEA: 2732 out of 2732 Kepler planets.\n",
      "Number of Kepler (rosetta2) planets in the NEA: 2732 out of 2732 Kepler planets.\n",
      "Number of unmatched stars from Rosetta: 0\n"
     ]
    }
   ],
   "source": [
    "# Merging the NEA and rosetta:\n",
    "NEA = pd.merge(NEA, rosetta2, on=\"pl_name\", how=\"left\", indicator=\"NEAorRos\", validate=\"one_to_one\")\n",
    "# indicator. bool or str, default False. If True, adds a column to the output DataFrame called “_merge” with information on the source of each row. \n",
    "# validate. str, optional. If specified, checks if merge is of specified type. “one_to_one” or “1:1”: check if merge keys are unique in both left and right datasets.\n",
    "NEA_len = NEA[\"pl_name\"].size\n",
    "print(NEA_len)\n",
    "#print(NEA)\n",
    "\n",
    "# How many NEA planets were successfully matched with rosetta2?\n",
    "# Use the _merge column (from indicator=True)\n",
    "# The column will have a Categorical type with the value of “left_only” for observations whose merge key only appears in the left DataFrame, \n",
    "#“right_only” for observations whose merge key only appears in the right DataFrame, and “both” if the observation’s merge key is found in both DataFrames.\n",
    "\n",
    "# The indicies of Kepler planets in the NEA:\n",
    "in_rosetta2 = np.where(NEA[\"NEAorRos\"] == \"both\")\n",
    "print(\"Number of Kepler (rosetta) planets in the NEA:\", in_rosetta2[0].size, \"out of\", rosetta2_len, \"Kepler planets.\")\n",
    "\n",
    "# The indicies of Kepler planets in NEA that were matched with Kepler planets in rosetta:\n",
    "matched_rosetta2 = np.where(NEA[\"NEAorRos\"] == \"both\")\n",
    "not_matched_rosetta2 = np.where(NEA[\"NEAorRos\"] == \"right_only\")\n",
    "print(\"Number of Kepler (rosetta2) planets in the NEA:\", matched_rosetta2[0].size, \"out of\", rosetta2_len, \"Kepler planets.\")\n",
    "print(\"Number of unmatched stars from Rosetta:\", not_matched_rosetta2[0].size)"
   ]
  },
  {
   "cell_type": "code",
   "execution_count": 22,
   "id": "e3b4a24c-a477-4558-8a66-90d6aec6dfca",
   "metadata": {},
   "outputs": [],
   "source": [
    "# Saving the processed NEA df to a csv:\n",
    "NEA.to_csv( path.join(NEA_dir, f\"NASA_EA_processed_\" + data_date + f\".csv\") , index=False)"
   ]
  },
  {
   "cell_type": "code",
   "execution_count": null,
   "id": "efb35819-74b9-4ba5-bbd9-d4f67af98f70",
   "metadata": {},
   "outputs": [],
   "source": []
  }
 ],
 "metadata": {
  "kernelspec": {
   "display_name": "Python 3 (ipykernel)",
   "language": "python",
   "name": "python3"
  },
  "language_info": {
   "codemirror_mode": {
    "name": "ipython",
    "version": 3
   },
   "file_extension": ".py",
   "mimetype": "text/x-python",
   "name": "python",
   "nbconvert_exporter": "python",
   "pygments_lexer": "ipython3",
   "version": "3.9.7"
  }
 },
 "nbformat": 4,
 "nbformat_minor": 5
}
