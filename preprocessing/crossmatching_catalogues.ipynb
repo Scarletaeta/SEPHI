{
 "cells": [
  {
   "cell_type": "markdown",
   "id": "a7dbc10e-446b-44bc-9292-a96052a196ed",
   "metadata": {},
   "source": [
    "## Dependencies:"
   ]
  },
  {
   "cell_type": "code",
   "execution_count": 9,
   "id": "72f91089-943a-486f-98f3-e9f1d2e413d4",
   "metadata": {},
   "outputs": [],
   "source": [
    "import numpy as np\n",
    "import pandas as pd\n",
    "#from math import pi, sqrt\n",
    "from os import path\n",
    "#from analyse_errs import calc_percent_errs, combined_percent_errs\n",
    "from analyse_errs2 import calc_percent_errs, mean_percent_errs"
   ]
  },
  {
   "cell_type": "markdown",
   "id": "9a8a486f-e4f0-4577-8212-4d8a04adbd06",
   "metadata": {
    "tags": []
   },
   "source": [
    "## Data directories:"
   ]
  },
  {
   "cell_type": "code",
   "execution_count": 10,
   "id": "eb48932d-6ca1-4f62-8096-48d087e13c18",
   "metadata": {},
   "outputs": [],
   "source": [
    "# On PC:\n",
    "#NEA_dir = path.expanduser(\"~/OneDrive/SEPHI_data/NASA_EA/\")\n",
    "#DR2_dir = path.expanduser(\"~/OneDrive/SEPHI_data/Gaia/DR2/\")\n",
    "#CKS_dir = path.expanduser(\"~/OneDrive/SEPHI_data/CKS/\")\n",
    "#exoplanets_dir = path.expanduser(\"~/OneDrive/SEPHI_data/exoplanets/\")\n",
    "\n",
    "# On my laptop:\n",
    "NEA_dir = path.expanduser(\"~/Scarlett/OneDrive - Liverpool John Moores University/SEPHI_data/NASA_EA/\")\n",
    "DR2_dir = path.expanduser(\"~/Scarlett/OneDrive - Liverpool John Moores University/SEPHI_data/Gaia/DR2/\")\n",
    "CKS_dir = path.expanduser(\"~/Scarlett/OneDrive - Liverpool John Moores University/SEPHI_data/CKS/\")\n",
    "exoplanets_dir = path.expanduser(\"~/Scarlett/OneDrive - Liverpool John Moores University/SEPHI_data/exoplanets/\")\n",
    "\n",
    "data_date = \"2022_04_28\""
   ]
  },
  {
   "cell_type": "markdown",
   "id": "e7f35d7a-6c41-4f44-92d5-3a682d745c0a",
   "metadata": {
    "tags": []
   },
   "source": [
    "# Loading data:"
   ]
  },
  {
   "cell_type": "code",
   "execution_count": 11,
   "id": "5c49a843-5749-437b-960e-f13776f368c3",
   "metadata": {},
   "outputs": [
    {
     "name": "stdout",
     "output_type": "stream",
     "text": [
      "Length of NEA: 5014\n"
     ]
    }
   ],
   "source": [
    "# Read the NASA Exoplanet Archive data:\n",
    "NEA = pd.read_csv(path.join(NEA_dir, f\"NASA_EA_processed_\"+ data_date + \".csv\")) \n",
    "print(\"Length of NEA:\", NEA.shape[0])\n",
    "#print(NEA.head())"
   ]
  },
  {
   "cell_type": "code",
   "execution_count": 12,
   "id": "f157ce19-a36f-4a5a-bd36-0babc02f6f88",
   "metadata": {},
   "outputs": [
    {
     "name": "stdout",
     "output_type": "stream",
     "text": [
      "Length of Gaia DR2: 4196\n"
     ]
    }
   ],
   "source": [
    "# Read the Gaia DR2 data:\n",
    "DR2 = pd.read_csv(path.join(DR2_dir, f\"DR2_processed_\" + data_date + \".csv\"))\n",
    "DR2_len = DR2.shape[0]\n",
    "print(\"Length of Gaia DR2:\", DR2_len)\n",
    "#print(DR2.head())"
   ]
  },
  {
   "cell_type": "code",
   "execution_count": 13,
   "id": "6b19f980-7212-4175-a026-971418a68076",
   "metadata": {},
   "outputs": [
    {
     "name": "stdout",
     "output_type": "stream",
     "text": [
      "Length of CKS: 2025\n"
     ]
    }
   ],
   "source": [
    "# Read in CKS data:\n",
    "CKS = pd.read_csv(path.join(CKS_dir, f\"CKS_processed_\"+ data_date + \".csv\")) \n",
    "CKS_len = CKS.shape[0]\n",
    "print(\"Length of CKS:\", CKS_len)\n",
    "#print(CKS.head())"
   ]
  },
  {
   "cell_type": "code",
   "execution_count": 14,
   "id": "bf6ce96b-7e5d-434b-a635-c77ad96eb8e0",
   "metadata": {},
   "outputs": [
    {
     "name": "stdout",
     "output_type": "stream",
     "text": [
      "Length of rosetta: 2732\n",
      "Length of rosetta2: 2732\n"
     ]
    }
   ],
   "source": [
    "# Read in Rosetta (the file with planet name, KOI name, and Kepler name):\n",
    "rosetta = pd.read_csv(path.join(CKS_dir, f\"rosetta_\" + data_date + \".csv\"))\n",
    "rosetta_len = rosetta[\"pl_name\"].size\n",
    "print(\"Length of rosetta:\", rosetta_len)\n",
    "\n",
    "# Trimming rosetta down so it only has the planet name (in NEA) and Kepler ID (in CKS):\n",
    "rosetta2 = pd.DataFrame(data= [ rosetta[\"pl_name\"], rosetta[\"pl_koi_name\"] ] ).transpose()\n",
    "#, rosetta[\"pl_kepler_name\"] \n",
    "rosetta2_len = rosetta2[\"pl_name\"].size\n",
    "print(\"Length of rosetta2:\", rosetta2_len)\n",
    "#print(rosetta2)"
   ]
  },
  {
   "cell_type": "markdown",
   "id": "8809b73f-2fc0-4c9d-85f4-5f9e02c2b552",
   "metadata": {},
   "source": [
    "# Crossmatching"
   ]
  },
  {
   "cell_type": "code",
   "execution_count": 15,
   "id": "46894b22-79da-443c-a7b2-58ab2b8c31b4",
   "metadata": {},
   "outputs": [
    {
     "name": "stdout",
     "output_type": "stream",
     "text": [
      "Length of exoplanets: 5014\n",
      "Stars in Gaia DR2 were matched with 4514 exoplanets in the NEA.\n",
      "Total number of stars in Gaia DR2 df: 4196\n"
     ]
    }
   ],
   "source": [
    "# Merging the NASA EA and Gaia DR2 to start the exoplanets data frame:\n",
    "exoplanets = pd.merge(NEA, DR2, on=\"gaia_source_id\", how=\"left\", indicator = \"NEAorDR2\", validate=\"many_to_one\")\n",
    "print(\"Length of exoplanets:\", exoplanets.shape[0])\n",
    "#print(exoplanets)\n",
    "\n",
    "# The indicies of stars in the NEA that are also in the DR2 df (now merged into the exoplanets df):\n",
    "matched_DR2 = np.where(exoplanets[\"NEAorDR2\"] == \"both\")\n",
    "#not_matched_DR2 = np.where(exoplanets[\"NEAorDR2\"] == \"right_only\")\n",
    "#print(\"Number of stars in DR2 df merged with NEA:\", in_DR2[0].size, \"out of\", DR2_len , \"stars in DR2 df.\" )\n",
    "print(\"Stars in Gaia DR2 were matched with\", matched_DR2[0].size, \"exoplanets in the NEA.\\nTotal number of stars in Gaia DR2 df:\", DR2_len)\n",
    "#print(\"Number of unmatched stars from Gaia DR2 df:\", not_matched_DR2[0].size)\n",
    "# TODO: the no. unmatched isn'ta ccurate"
   ]
  },
  {
   "cell_type": "code",
   "execution_count": 16,
   "id": "b43d0c8d-5711-4d38-841e-f6d8be716a53",
   "metadata": {},
   "outputs": [
    {
     "name": "stdout",
     "output_type": "stream",
     "text": [
      "5014\n",
      "         pl_name  hostname              gaia_designation  NEA_sy_snum  \\\n",
      "0       11 Com b    11 Com  Gaia DR2 3946945413106333696            2   \n",
      "1       11 UMi b    11 UMi  Gaia DR2 1696798367260229376            1   \n",
      "2       14 And b    14 And  Gaia DR2 1920113512486282240            1   \n",
      "3       14 Her b    14 Her  Gaia DR2 1385293808145621504            1   \n",
      "4     16 Cyg B b  16 Cyg B  Gaia DR2 2135550755683407232            3   \n",
      "...          ...       ...                           ...          ...   \n",
      "5009   ups And b   ups And   Gaia DR2 348020448377061376            2   \n",
      "5010   ups And c   ups And   Gaia DR2 348020448377061376            2   \n",
      "5011   ups And d   ups And   Gaia DR2 348020448377061376            2   \n",
      "5012   ups Leo b   ups Leo  Gaia DR2 3794167001116433152            1   \n",
      "5013    xi Aql b    xi Aql  Gaia DR2 4298361114750843904            1   \n",
      "\n",
      "      NEA_sy_pnum NEA_discoverymethod  NEA_pl_period  NEA_pl_sma  \\\n",
      "0               1     Radial Velocity     326.030000    1.290000   \n",
      "1               1     Radial Velocity     516.219970    1.530000   \n",
      "2               1     Radial Velocity     185.840000    0.830000   \n",
      "3               2     Radial Velocity    1773.400020    2.930000   \n",
      "4               1     Radial Velocity     798.500000    1.660000   \n",
      "...           ...                 ...            ...         ...   \n",
      "5009            3     Radial Velocity       4.617033    0.059222   \n",
      "5010            3     Radial Velocity     241.258000    0.827774   \n",
      "5011            3     Radial Velocity    1276.460000    2.513290   \n",
      "5012            1     Radial Velocity     385.200000    1.180000   \n",
      "5013            1     Radial Velocity     136.750000    0.680000   \n",
      "\n",
      "      NEA_pl_smaerr1  NEA_pl_smaerr2  ...  CKSII_st_age  CKSII_st_ageerr1  \\\n",
      "0           0.050000       -0.050000  ...           NaN               NaN   \n",
      "1           0.070000       -0.070000  ...           NaN               NaN   \n",
      "2                NaN             NaN  ...           NaN               NaN   \n",
      "3           0.080000       -0.080000  ...           NaN               NaN   \n",
      "4           0.030000       -0.030000  ...           NaN               NaN   \n",
      "...              ...             ...  ...           ...               ...   \n",
      "5009        0.000000        0.000000  ...           NaN               NaN   \n",
      "5010        0.000015       -0.000015  ...           NaN               NaN   \n",
      "5011        0.000750       -0.000750  ...           NaN               NaN   \n",
      "5012        0.110000       -0.320000  ...           NaN               NaN   \n",
      "5013             NaN             NaN  ...           NaN               NaN   \n",
      "\n",
      "      CKSII_st_ageerr2  CKSII_pl_rad  CKSII_pl_raderr1  CKSII_pl_raderr2  \\\n",
      "0                  NaN           NaN               NaN               NaN   \n",
      "1                  NaN           NaN               NaN               NaN   \n",
      "2                  NaN           NaN               NaN               NaN   \n",
      "3                  NaN           NaN               NaN               NaN   \n",
      "4                  NaN           NaN               NaN               NaN   \n",
      "...                ...           ...               ...               ...   \n",
      "5009               NaN           NaN               NaN               NaN   \n",
      "5010               NaN           NaN               NaN               NaN   \n",
      "5011               NaN           NaN               NaN               NaN   \n",
      "5012               NaN           NaN               NaN               NaN   \n",
      "5013               NaN           NaN               NaN               NaN   \n",
      "\n",
      "      CKSII_pl_sma  CKSII_pl_smaerr1  CKSII_pl_smaerr2   EXOorCKS  \n",
      "0              NaN               NaN               NaN  left_only  \n",
      "1              NaN               NaN               NaN  left_only  \n",
      "2              NaN               NaN               NaN  left_only  \n",
      "3              NaN               NaN               NaN  left_only  \n",
      "4              NaN               NaN               NaN  left_only  \n",
      "...            ...               ...               ...        ...  \n",
      "5009           NaN               NaN               NaN  left_only  \n",
      "5010           NaN               NaN               NaN  left_only  \n",
      "5011           NaN               NaN               NaN  left_only  \n",
      "5012           NaN               NaN               NaN  left_only  \n",
      "5013           NaN               NaN               NaN  left_only  \n",
      "\n",
      "[5014 rows x 82 columns]\n",
      "Number of CKS planets crossmatched with the exoplanets df (i.e. the NEA atm): 1445 out of 2025 Kepler planets in CKS.\n"
     ]
    }
   ],
   "source": [
    "# Merging exoplanets with CKS to start the exoplanets data frame:\n",
    "exoplanets = pd.merge(exoplanets, CKS, on=\"pl_koi_name\", how=\"left\", indicator = \"EXOorCKS\")\n",
    "print(exoplanets.shape[0])\n",
    "print(exoplanets)\n",
    "\n",
    "# The indicies of stars in the NEA that are also in the DR2 df (now merged into the exoplanets df):\n",
    "matched_CKS = np.where(exoplanets[\"EXOorCKS\"] == \"both\")\n",
    "#not_matched_CKS = np.where(exoplanets[\"EXOorCKS\"] == \"right_only\")\n",
    "print(\"Number of CKS planets crossmatched with the exoplanets df (i.e. the NEA atm):\", matched_CKS[0].size, \"out of\", CKS_len, \"Kepler planets in CKS.\")\n",
    "#print(\"Number of unmatched stars from CKS:\", not_matched_CKS[0].size)"
   ]
  },
  {
   "cell_type": "code",
   "execution_count": 17,
   "id": "9ef5e7ca-29fd-4b4a-9c59-d1574d8fd469",
   "metadata": {},
   "outputs": [],
   "source": [
    "# Why does it say 0 \n",
    "#unmatched stars from CKS?\n",
    "# ^ I'm getting rid of the instances where the entry is only in the \n",
    "#right-hand column\n",
    "# some of the CKS planets are unconfirmed! the NEA only containes \n",
    "#confirmed planets\n",
    "# I do not delete the unconfirmed planets from CKS because the status \n",
    "#isn't up to date. There are 1298 confirmed and 464 not dispositioned\n",
    "# planets in CKS 2022_04_28 (numbers in CKS_processing)"
   ]
  },
  {
   "cell_type": "markdown",
   "id": "599aa8f4-4544-4612-a9a6-3e5d6a376e14",
   "metadata": {
    "tags": []
   },
   "source": [
    "# Classifying the uncertainties:"
   ]
  },
  {
   "cell_type": "code",
   "execution_count": 18,
   "id": "381ac664-3f1e-420e-912b-8f45bf14e9f9",
   "metadata": {},
   "outputs": [],
   "source": [
    "## Classifying the uncertainties\n",
    "\n",
    "# TODO: classify which parameters are the 'best'\n",
    "# TODO: calculate SEPHI from best params\n",
    "# pl_mass, pl_rad, pl_sma, st_teff, st_lum, st_mass, st_age, st_met (st_met less important atm)\n",
    "# do st_mass first, as a tester\n",
    "# then st_age\n",
    "\n",
    "exo_cols = list(exoplanets)\n",
    "parameters = ['st_mass', 'st_age', 'st_lum', 'st_teff', 'st_met', 'pl_mass', 'pl_rad', 'pl_sma']\n",
    "catalogues = ['NEA_', 'GDR_', 'Q16_', 'CKSI_', 'CKSII_'] # TODO: I could loop over these strings to look over the column headers\n",
    "#print(cols)"
   ]
  },
  {
   "cell_type": "code",
   "execution_count": 19,
   "id": "38f76109-b117-4521-88f4-b3df7bb3b49d",
   "metadata": {},
   "outputs": [
    {
     "name": "stdout",
     "output_type": "stream",
     "text": [
      "5014\n"
     ]
    }
   ],
   "source": [
    "print(len(exoplanets))"
   ]
  },
  {
   "cell_type": "code",
   "execution_count": null,
   "id": "a9088081-658b-4134-8b5c-e0db720c172b",
   "metadata": {},
   "outputs": [],
   "source": [
    "# Method for flagging best values:\n",
    "def flag_best_values(df, param, catalogues):\n",
    "    \"\"\"\n",
    "    df = data frame\n",
    "    param = the parameter\n",
    "    catalogues = list of catalogue names e.g. 'NEA_'\n",
    "    \"\"\"\n",
    "    \n",
    "    means = pd.DataFrame()\n",
    "    \n",
    "    for l in catalogues:\n",
    "        \n",
    "        param_cols = []\n",
    "        string = l + param\n",
    "        exo_cols = list(df)\n",
    "        \n",
    "        for j in exo_cols:\n",
    "            \n",
    "            if j.__contains__(string):\n",
    "                \n",
    "                param_cols.append(j)\n",
    "                \n",
    "        if len(param_cols) > 0:\n",
    "            \n",
    "            means[string] = mean_percent_errs(df[param_cols])\n",
    "            \n",
    "            #c1 = np.where(np.isfinite(means[string]))\n",
    "            #print(\"no. of finite means for\", string, c1[0].size)\n",
    "            \n",
    "    flags = means.idxmin(axis=1, skipna=True)\n",
    "    # Returns the column name/index of the smallest value in each row\n",
    "    # With skipna=True, NaNs are ignored if there are real values in the row\n",
    "    # If all values in the row are NaN, then NaN is returned\n",
    "    #c2 = np.where(~flags.isnull())[0]\n",
    "    #print('flags:\\n', flags)\n",
    "    #print(len(flags))\n",
    "    #print('no. not null flags:', c2.size)\n",
    "    \n",
    "    return flags"
   ]
  },
  {
   "cell_type": "code",
   "execution_count": null,
   "id": "25b8874c-ec85-4b2c-86ee-f30b55684d5e",
   "metadata": {},
   "outputs": [
    {
     "name": "stdout",
     "output_type": "stream",
     "text": [
      "          st_mass       st_age       st_lum      st_teff       st_met  \\\n",
      "0     NEA_st_mass  NEA_st_mass  NEA_st_mass  NEA_st_mass  NEA_st_mass   \n",
      "1     NEA_st_mass  NEA_st_mass  NEA_st_mass  NEA_st_mass  NEA_st_mass   \n",
      "2     NEA_st_mass  NEA_st_mass  NEA_st_mass  NEA_st_mass  NEA_st_mass   \n",
      "3     NEA_st_mass  NEA_st_mass  NEA_st_mass  NEA_st_mass  NEA_st_mass   \n",
      "4     NEA_st_mass  NEA_st_mass  NEA_st_mass  NEA_st_mass  NEA_st_mass   \n",
      "...           ...          ...          ...          ...          ...   \n",
      "5009          NaN          NaN          NaN          NaN          NaN   \n",
      "5010          NaN          NaN          NaN          NaN          NaN   \n",
      "5011          NaN          NaN          NaN          NaN          NaN   \n",
      "5012  NEA_st_mass  NEA_st_mass  NEA_st_mass  NEA_st_mass  NEA_st_mass   \n",
      "5013          NaN          NaN          NaN          NaN          NaN   \n",
      "\n",
      "          pl_mass       pl_rad       pl_sma  \n",
      "0     NEA_st_mass  NEA_st_mass  NEA_st_mass  \n",
      "1     NEA_st_mass  NEA_st_mass  NEA_st_mass  \n",
      "2     NEA_st_mass  NEA_st_mass  NEA_st_mass  \n",
      "3     NEA_st_mass  NEA_st_mass  NEA_st_mass  \n",
      "4     NEA_st_mass  NEA_st_mass  NEA_st_mass  \n",
      "...           ...          ...          ...  \n",
      "5009          NaN          NaN          NaN  \n",
      "5010          NaN          NaN          NaN  \n",
      "5011          NaN          NaN          NaN  \n",
      "5012  NEA_st_mass  NEA_st_mass  NEA_st_mass  \n",
      "5013          NaN          NaN          NaN  \n",
      "\n",
      "[5014 rows x 8 columns]\n"
     ]
    }
   ],
   "source": [
    "# Looping over all parameters\n",
    "all_flags2 = pd.DataFrame()\n",
    "\n",
    "for i in parameters:\n",
    "    flags = flag_best_values(exoplanets, 'st_mass', catalogues)\n",
    "    all_flags2[i] = flags\n",
    "    \n",
    "print(all_flags2)"
   ]
  },
  {
   "cell_type": "code",
   "execution_count": 25,
   "id": "4ef0674e-1a3d-4e59-8bfa-0c4664e4ae16",
   "metadata": {},
   "outputs": [
    {
     "name": "stdout",
     "output_type": "stream",
     "text": [
      "         pl_name  hostname              gaia_designation  NEA_sy_snum  \\\n",
      "0       11 Com b    11 Com  Gaia DR2 3946945413106333696            2   \n",
      "1       11 UMi b    11 UMi  Gaia DR2 1696798367260229376            1   \n",
      "2       14 And b    14 And  Gaia DR2 1920113512486282240            1   \n",
      "3       14 Her b    14 Her  Gaia DR2 1385293808145621504            1   \n",
      "4     16 Cyg B b  16 Cyg B  Gaia DR2 2135550755683407232            3   \n",
      "...          ...       ...                           ...          ...   \n",
      "5009   ups And b   ups And   Gaia DR2 348020448377061376            2   \n",
      "5010   ups And c   ups And   Gaia DR2 348020448377061376            2   \n",
      "5011   ups And d   ups And   Gaia DR2 348020448377061376            2   \n",
      "5012   ups Leo b   ups Leo  Gaia DR2 3794167001116433152            1   \n",
      "5013    xi Aql b    xi Aql  Gaia DR2 4298361114750843904            1   \n",
      "\n",
      "      NEA_sy_pnum NEA_discoverymethod  NEA_pl_period  NEA_pl_sma  \\\n",
      "0               1     Radial Velocity     326.030000    1.290000   \n",
      "1               1     Radial Velocity     516.219970    1.530000   \n",
      "2               1     Radial Velocity     185.840000    0.830000   \n",
      "3               2     Radial Velocity    1773.400020    2.930000   \n",
      "4               1     Radial Velocity     798.500000    1.660000   \n",
      "...           ...                 ...            ...         ...   \n",
      "5009            3     Radial Velocity       4.617033    0.059222   \n",
      "5010            3     Radial Velocity     241.258000    0.827774   \n",
      "5011            3     Radial Velocity    1276.460000    2.513290   \n",
      "5012            1     Radial Velocity     385.200000    1.180000   \n",
      "5013            1     Radial Velocity     136.750000    0.680000   \n",
      "\n",
      "      NEA_pl_smaerr1  NEA_pl_smaerr2  ...  CKSII_pl_smaerr2   EXOorCKS  \\\n",
      "0           0.050000       -0.050000  ...               NaN  left_only   \n",
      "1           0.070000       -0.070000  ...               NaN  left_only   \n",
      "2                NaN             NaN  ...               NaN  left_only   \n",
      "3           0.080000       -0.080000  ...               NaN  left_only   \n",
      "4           0.030000       -0.030000  ...               NaN  left_only   \n",
      "...              ...             ...  ...               ...        ...   \n",
      "5009        0.000000        0.000000  ...               NaN  left_only   \n",
      "5010        0.000015       -0.000015  ...               NaN  left_only   \n",
      "5011        0.000750       -0.000750  ...               NaN  left_only   \n",
      "5012        0.110000       -0.320000  ...               NaN  left_only   \n",
      "5013             NaN             NaN  ...               NaN  left_only   \n",
      "\n",
      "      st_mass_best  st_age_best  st_lum_best  st_teff_best  st_met_best  \\\n",
      "0      NEA_st_mass          NaN   NEA_st_lum   NEA_st_teff   NEA_st_met   \n",
      "1      NEA_st_mass          NaN          NaN   NEA_st_teff          NaN   \n",
      "2      NEA_st_mass          NaN          NaN   NEA_st_teff   NEA_st_met   \n",
      "3      NEA_st_mass          NaN          NaN   NEA_st_teff          NaN   \n",
      "4      NEA_st_mass          NaN          NaN   NEA_st_teff          NaN   \n",
      "...            ...          ...          ...           ...          ...   \n",
      "5009           NaN          NaN          NaN           NaN          NaN   \n",
      "5010           NaN          NaN          NaN           NaN          NaN   \n",
      "5011           NaN          NaN          NaN           NaN          NaN   \n",
      "5012   NEA_st_mass          NaN   NEA_st_lum           NaN   NEA_st_met   \n",
      "5013           NaN          NaN          NaN   NEA_st_teff   NEA_st_met   \n",
      "\n",
      "      pl_mass_best  pl_rad_best  pl_sma_best  \n",
      "0      NEA_pl_mass          NaN   NEA_pl_sma  \n",
      "1      NEA_pl_mass          NaN   NEA_pl_sma  \n",
      "2              NaN          NaN          NaN  \n",
      "3      NEA_pl_mass          NaN   NEA_pl_sma  \n",
      "4      NEA_pl_mass          NaN   NEA_pl_sma  \n",
      "...            ...          ...          ...  \n",
      "5009   NEA_pl_mass          NaN   NEA_pl_sma  \n",
      "5010   NEA_pl_mass          NaN   NEA_pl_sma  \n",
      "5011   NEA_pl_mass          NaN   NEA_pl_sma  \n",
      "5012   NEA_pl_mass          NaN   NEA_pl_sma  \n",
      "5013           NaN          NaN          NaN  \n",
      "\n",
      "[5014 rows x 90 columns]\n"
     ]
    }
   ],
   "source": [
    "# Rename the best cols\n",
    "#best_cols = [str(i) + '_best' for i in parameters] # generates the below\n",
    "#print(best_cols)\n",
    "best_cols = ['st_mass_best', 'st_age_best', 'st_lum_best', 'st_teff_best', 'st_met_best', 'pl_mass_best', 'pl_rad_best', 'pl_sma_best']\n",
    "best_cols_dict = {parameters[i]: best_cols[i] for i in range(len(parameters))}\n",
    "all_flags.rename(columns=best_cols_dict, inplace=True)\n",
    "\n",
    "# Adding the all_flags df to exoplanets:\n",
    "exoplanets = pd.concat([exoplanets, all_flags], axis=1)\n",
    "\n",
    "print(exoplanets)"
   ]
  },
  {
   "cell_type": "code",
   "execution_count": 37,
   "id": "de72e6fb-f0bc-4d4b-9cca-c88e3a3d0c17",
   "metadata": {},
   "outputs": [],
   "source": [
    "# Method for selecting the best parameter:\n",
    "\n",
    "def get_best_values(df, param):\n",
    "    \n",
    "    param = param + '_best'\n",
    "    best_values = np.zeros(len(df), dtype=np.float64)\n",
    "    \n",
    "    for m in range(len(df)):\n",
    "        if df[param].iloc[m] != df[param].iloc[m]:\n",
    "            \n",
    "            best_values[m] = np.nan\n",
    "            \n",
    "        else:\n",
    "            best_values[m] = df[ df[param].iloc[m] ].iloc[m]\n",
    "            \n",
    "    return best_values"
   ]
  },
  {
   "cell_type": "code",
   "execution_count": 38,
   "id": "f9fa7204-b3f8-48c6-9748-220c53ea40f0",
   "metadata": {},
   "outputs": [],
   "source": [
    "masses = get_best_values(exoplanets, 'st_mass')"
   ]
  },
  {
   "cell_type": "code",
   "execution_count": 39,
   "id": "35b88a9a-722d-45b2-bca9-7c5ae65acedb",
   "metadata": {},
   "outputs": [
    {
     "name": "stdout",
     "output_type": "stream",
     "text": [
      "[2.7  2.78 2.2  ...  nan 1.48  nan]\n"
     ]
    }
   ],
   "source": [
    "print(masses)"
   ]
  },
  {
   "cell_type": "code",
   "execution_count": 42,
   "id": "3371b46c-ef5c-4a73-b586-13fdf763bb43",
   "metadata": {},
   "outputs": [
    {
     "name": "stdout",
     "output_type": "stream",
     "text": [
      "      st_mass  st_age      st_lum  st_teff  st_met     pl_mass  pl_rad  \\\n",
      "0        2.70     NaN  174.984669   4742.0  -0.350  6165.60000     NaN   \n",
      "1        2.78     NaN         NaN   4213.0     NaN  4684.81420     NaN   \n",
      "2        2.20     NaN         NaN   4813.0  -0.240         NaN     NaN   \n",
      "3        0.90     NaN         NaN   5338.0     NaN  1481.08780     NaN   \n",
      "4        1.08     NaN         NaN   5750.0     NaN   565.73740     NaN   \n",
      "...       ...     ...         ...      ...     ...         ...     ...   \n",
      "5009      NaN     NaN         NaN      NaN     NaN   218.53100     NaN   \n",
      "5010      NaN     NaN         NaN      NaN     NaN   629.59500     NaN   \n",
      "5011      NaN     NaN         NaN      NaN     NaN  1313.22000     NaN   \n",
      "5012     1.48     NaN   63.095734      NaN  -0.200   162.09249     NaN   \n",
      "5013      NaN     NaN         NaN   4780.0  -0.205         NaN     NaN   \n",
      "\n",
      "        pl_sma  \n",
      "0     1.290000  \n",
      "1     1.530000  \n",
      "2          NaN  \n",
      "3     2.930000  \n",
      "4     1.660000  \n",
      "...        ...  \n",
      "5009  0.059222  \n",
      "5010  0.827774  \n",
      "5011  2.513290  \n",
      "5012  1.180000  \n",
      "5013       NaN  \n",
      "\n",
      "[5014 rows x 8 columns]\n"
     ]
    }
   ],
   "source": [
    "# Looping over all parameters\n",
    "\n",
    "best_values_all2 = pd.DataFrame()\n",
    "for i in parameters:\n",
    "    best_values = get_best_values(exoplanets, i)\n",
    "    best_values_all2[i] = best_values \n",
    "    \n",
    "print(best_values_all2)"
   ]
  },
  {
   "cell_type": "code",
   "execution_count": 12,
   "id": "e53f2388-e99d-48c6-bc3a-1be310fe51b6",
   "metadata": {},
   "outputs": [
    {
     "name": "stdout",
     "output_type": "stream",
     "text": [
      "no. of finite means for NEA_st_mass 3941\n",
      "no. of finite means for CKSII_st_mass 1445\n",
      "no. of finite means for NEA_st_age 2162\n",
      "no. of finite means for CKSII_st_age 1445\n",
      "no. of finite means for NEA_st_lum 786\n",
      "no. of finite means for NEA_st_teff 4458\n",
      "no. of finite means for CKSI_st_teff 1445\n",
      "no. of finite means for CKSII_st_teff 1445\n"
     ]
    },
    {
     "name": "stderr",
     "output_type": "stream",
     "text": [
      "/mnt/c/Users/Scarlett/SEPHI/preprocessing/analyse_errs2.py:31: RuntimeWarning: divide by zero encountered in reciprocal\n",
      "  percent_errs1 =  np.absolute( np.multiply(errs1, values**(-1)) ) * 100\n",
      "/mnt/c/Users/Scarlett/SEPHI/preprocessing/analyse_errs2.py:32: RuntimeWarning: divide by zero encountered in reciprocal\n",
      "  percent_errs2 =  np.absolute( np.multiply(errs2, values**(-1)) ) * 100\n",
      "/mnt/c/Users/Scarlett/SEPHI/preprocessing/analyse_errs2.py:14: RuntimeWarning: divide by zero encountered in reciprocal\n",
      "  percent_errs =  np.absolute( np.multiply(errs, values**(-1)) ) * 100\n"
     ]
    },
    {
     "name": "stdout",
     "output_type": "stream",
     "text": [
      "no. of finite means for NEA_st_met 3139\n",
      "no. of finite means for NEA_pl_mass 1913\n",
      "no. of finite means for NEA_pl_rad 3501\n",
      "no. of finite means for CKSII_pl_rad 1443\n",
      "no. of finite means for NEA_pl_sma 1995\n",
      "no. of finite means for CKSII_pl_sma 1443\n",
      "all flags:\n",
      "           st_mass st_age      st_lum      st_teff      st_met      pl_mass  \\\n",
      "0     NEA_st_mass    NaN  NEA_st_lum  NEA_st_teff  NEA_st_met  NEA_pl_mass   \n",
      "1     NEA_st_mass    NaN         NaN  NEA_st_teff         NaN  NEA_pl_mass   \n",
      "2     NEA_st_mass    NaN         NaN  NEA_st_teff  NEA_st_met          NaN   \n",
      "3     NEA_st_mass    NaN         NaN  NEA_st_teff         NaN  NEA_pl_mass   \n",
      "4     NEA_st_mass    NaN         NaN  NEA_st_teff         NaN  NEA_pl_mass   \n",
      "...           ...    ...         ...          ...         ...          ...   \n",
      "5009          NaN    NaN         NaN          NaN         NaN  NEA_pl_mass   \n",
      "5010          NaN    NaN         NaN          NaN         NaN  NEA_pl_mass   \n",
      "5011          NaN    NaN         NaN          NaN         NaN  NEA_pl_mass   \n",
      "5012  NEA_st_mass    NaN  NEA_st_lum          NaN  NEA_st_met  NEA_pl_mass   \n",
      "5013          NaN    NaN         NaN  NEA_st_teff  NEA_st_met          NaN   \n",
      "\n",
      "     pl_rad      pl_sma  \n",
      "0       NaN  NEA_pl_sma  \n",
      "1       NaN  NEA_pl_sma  \n",
      "2       NaN         NaN  \n",
      "3       NaN  NEA_pl_sma  \n",
      "4       NaN  NEA_pl_sma  \n",
      "...     ...         ...  \n",
      "5009    NaN  NEA_pl_sma  \n",
      "5010    NaN  NEA_pl_sma  \n",
      "5011    NaN  NEA_pl_sma  \n",
      "5012    NaN  NEA_pl_sma  \n",
      "5013    NaN         NaN  \n",
      "\n",
      "[5014 rows x 8 columns]\n",
      "best_values all:\n",
      "       st_mass  st_age      st_lum  st_teff  st_met     pl_mass  pl_rad  \\\n",
      "0        2.70     NaN  174.984669   4742.0  -0.350  6165.60000     NaN   \n",
      "1        2.78     NaN         NaN   4213.0     NaN  4684.81420     NaN   \n",
      "2        2.20     NaN         NaN   4813.0  -0.240         NaN     NaN   \n",
      "3        0.90     NaN         NaN   5338.0     NaN  1481.08780     NaN   \n",
      "4        1.08     NaN         NaN   5750.0     NaN   565.73740     NaN   \n",
      "...       ...     ...         ...      ...     ...         ...     ...   \n",
      "5009      NaN     NaN         NaN      NaN     NaN   218.53100     NaN   \n",
      "5010      NaN     NaN         NaN      NaN     NaN   629.59500     NaN   \n",
      "5011      NaN     NaN         NaN      NaN     NaN  1313.22000     NaN   \n",
      "5012     1.48     NaN   63.095734      NaN  -0.200   162.09249     NaN   \n",
      "5013      NaN     NaN         NaN   4780.0  -0.205         NaN     NaN   \n",
      "\n",
      "        pl_sma  \n",
      "0     1.290000  \n",
      "1     1.530000  \n",
      "2          NaN  \n",
      "3     2.930000  \n",
      "4     1.660000  \n",
      "...        ...  \n",
      "5009  0.059222  \n",
      "5010  0.827774  \n",
      "5011  2.513290  \n",
      "5012  1.180000  \n",
      "5013       NaN  \n",
      "\n",
      "[5014 rows x 8 columns]\n"
     ]
    }
   ],
   "source": [
    "# The original alltogether method: generates flags and best_values:\n",
    "\n",
    "best_values_all = pd.DataFrame()\n",
    "all_flags = pd.DataFrame()\n",
    "for i in parameters:\n",
    "    means = pd.DataFrame()\n",
    "    for l in catalogues:\n",
    "        \n",
    "        param_cols = []\n",
    "        string = l + i # e.g. 'NEA_' + 'st_mass'\n",
    "        #print(string)\n",
    "        #print(type(string))\n",
    "        \n",
    "        for j in exo_cols:\n",
    "            if j.__contains__(string):\n",
    "                # add string to param+cat_cols\n",
    "                param_cols.append(j)\n",
    "        #print(param_cols) # [value, err1, err2]\n",
    "        #print(len(param_cols))\n",
    "        \n",
    "        if len(param_cols) > 0:\n",
    "            \n",
    "            #print(exoplanets[param_cols])\n",
    "            means[string] = mean_percent_errs(exoplanets[param_cols])\n",
    "        \n",
    "            c1 = np.where(np.isfinite(means[string]))\n",
    "            print(\"no. of finite means for\", string, c1[0].size)\n",
    "            \n",
    "    #print('means:\\n', means)\n",
    "        \n",
    "    flags = means.idxmin(axis=1, skipna=True)\n",
    "    c2 = np.where(~flags.isnull())[0]\n",
    "    #print('flags:\\n', flags)\n",
    "    #print(len(flags))\n",
    "    #print('no. not null flags:', c2.size)\n",
    "    #print(c2[10])\n",
    "        \n",
    "    all_flags[i] = flags\n",
    "\n",
    "    best_values = [] # TODO: change this to np.zeros(len(exoplanets)) in order to use proper floats\n",
    "        \n",
    "    for m in range(len(flags)):\n",
    "        #print('m', m)\n",
    "        #print('flags[m]', flags[m])\n",
    "        #print('iloc', flags.iloc[m])\n",
    "        \n",
    "        if flags[m] != flags[m]: # NaN != NaN\n",
    "            best_values.append(np.nan) # TODO: this isn't working\n",
    "        else:\n",
    "            best_values.append(exoplanets[flags[m]].iloc[m]) #some of the flags are nan\n",
    "            # for st_mass, the best values are being shown to a couple of dp\n",
    "            # TODO: change to: best_values[m] = exoplanets[flags[m]].iloc[m]\n",
    "        \n",
    "    #print(best_values)\n",
    "    best_values_all[i] = best_values # TODO: you will want to add\n",
    "    \n",
    "print('all flags:\\n', all_flags)\n",
    "print('best_values all:\\n', best_values_all)\n",
    "    \n"
   ]
  },
  {
   "cell_type": "code",
   "execution_count": 13,
   "id": "bd92e519-5ff4-4738-a5d9-1a01c0ac6086",
   "metadata": {},
   "outputs": [],
   "source": [
    "# TODO: separate the flags and best values methods?\n",
    "# add the flags to the exoplanets database? - Y, do this, could be useful for later\n",
    "# then get list of best values?\n",
    "# use the best values to make the cuts in plotting"
   ]
  },
  {
   "cell_type": "markdown",
   "id": "0575c324-9547-41dd-ab5a-cb4ac4d0915b",
   "metadata": {},
   "source": [
    "# Save data:"
   ]
  },
  {
   "cell_type": "code",
   "execution_count": null,
   "id": "e48623ad-d42c-45b1-a4fe-630fddc1efa6",
   "metadata": {},
   "outputs": [],
   "source": [
    "exoplanets.to_csv( path.join( exoplanets_dir, f\"exoplanets_\" + data_date + f\".csv\"), index=False)"
   ]
  }
 ],
 "metadata": {
  "kernelspec": {
   "display_name": "Python 3 (ipykernel)",
   "language": "python",
   "name": "python3"
  },
  "language_info": {
   "codemirror_mode": {
    "name": "ipython",
    "version": 3
   },
   "file_extension": ".py",
   "mimetype": "text/x-python",
   "name": "python",
   "nbconvert_exporter": "python",
   "pygments_lexer": "ipython3",
   "version": "3.9.7"
  }
 },
 "nbformat": 4,
 "nbformat_minor": 5
}
