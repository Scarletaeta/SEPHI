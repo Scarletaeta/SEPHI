{
 "cells": [
  {
   "cell_type": "code",
   "execution_count": 1,
   "id": "df935967-924c-48d5-8f8f-37daeddbcb04",
   "metadata": {},
   "outputs": [],
   "source": [
    "# Importing dependencies\n",
    "import numpy as np\n",
    "import pandas as pd\n",
    "#from math import pi, sqrt\n",
    "from os import path, listdir"
   ]
  },
  {
   "cell_type": "markdown",
   "id": "c6e7e924-b861-41b3-b65f-d2a16e03016b",
   "metadata": {
    "tags": []
   },
   "source": [
    "## Load data:"
   ]
  },
  {
   "cell_type": "code",
   "execution_count": 2,
   "id": "d7a873ae-d30b-4f5c-90ac-f4a64b8342c9",
   "metadata": {},
   "outputs": [],
   "source": [
    "# Data directories:\n",
    "\n",
    "# On PC:\n",
    "#exoplanets_dir = path.expanduser(\"~/OneDrive/SEPHI_data/exoplanets/\")\n",
    "#phase_space_dir = path.expanduser(\"~/OneDrive/phase_space_density_data/classification/dr3/\")\n",
    "\n",
    "# The first file is features_densities_gaiaedr3_6d_0_200000.csv\n",
    "# The next file is 400,000\n",
    "# Goes up in incraments of 200,000\n",
    "\n",
    "#On my laptop:\n",
    "exoplanets_dir = path.expanduser(\"~/Scarlett/OneDrive - Liverpool John Moores University/SEPHI_data/exoplanets/\")\n",
    "phase_space_dir = path.expanduser(\"~/Scarlett/OneDrive - Liverpool John Moores University/phase_space_density_data/classification/edr3/\")\n",
    "\n",
    "# The date that the exoplanets data (NASA EA) was downloaded:\n",
    "data_date = \"2022_04_28\""
   ]
  },
  {
   "cell_type": "code",
   "execution_count": 3,
   "id": "20991492-ac99-4222-ba9c-57a1124f2f90",
   "metadata": {},
   "outputs": [],
   "source": [
    "# Load exoplanets data:\n",
    "exoplanets = pd.read_csv(path.join(exoplanets_dir, f\"exoplanets_\" + data_date + f\".csv\"))"
   ]
  },
  {
   "cell_type": "code",
   "execution_count": 4,
   "id": "f7dcbfd0-0f4b-43be-ae76-d345570e75b9",
   "metadata": {},
   "outputs": [],
   "source": [
    "def load_data(data_dir):\n",
    "    \"\"\"\n",
    "    Takes in a data directory and sorts out which files contain 5d and 6d \n",
    "    information. Returns two lists of file names, 5d and 6d.\n",
    "    \"\"\"\n",
    "    #list_5d = []\n",
    "    list_6d = []\n",
    "    for file in sorted(listdir(data_dir)):\n",
    "        if \"apg\" in file:\n",
    "            continue\n",
    "        df = pd.read_csv(path.join(data_dir, file), index_col=0)    \n",
    "        if \"6d\" in file:\n",
    "            list_6d.append(df)\n",
    "        df = pd.read_csv(path.join(data_dir, file), index_col=0)\n",
    "        #elif \"5d\" in file:\n",
    "            #list_5d.append(df)\n",
    "                \n",
    "    # TODO: what does concat do?\n",
    "    #df_5d = pd.concat(list_5d, axis=0, ignore_index=True)\n",
    "    df_6d = pd.concat(list_6d, axis=0, ignore_index=True)\n",
    "    return df_6d\n",
    "    #return df_5d, df_6d"
   ]
  },
  {
   "cell_type": "code",
   "execution_count": 5,
   "id": "e8d6a636-f53b-4866-8b45-0e5587406441",
   "metadata": {},
   "outputs": [],
   "source": [
    "df_6d = load_data( phase_space_dir )\n",
    "#df_5d, df_6d = load_data( phase_space_dir )\n",
    "\n",
    "new_cols = {\"Host\":\"gaia_source_id\", \n",
    "            \"target_density\":\"psd\", \n",
    "            \"class\":\"class_6d\", \n",
    "            \"gm_p_low\":\"gm_p_low_6d\", \n",
    "            \"gm_p_high\":\"gm_p_high_6d\", \n",
    "            \"class\":\"class_6d\"}\n",
    "# TODO: what about planets with Pnull > 0 .05??\n",
    "\n",
    "df_6d.rename(columns=new_cols, inplace=True)\n",
    "# TODO: whyy, is it telling me the directory etc??\n",
    "\n",
    "# I'm only using the 6d phase-space density reults for now, but if I wanted to \n",
    "#merge the 5d and 6d data frames, I would run the following:\n",
    "#df = pd.merge(df_5d, df_6d[[\"Host\", \"class_6d\", \"gm_p_high_6d\"]], on=\"Host\")"
   ]
  },
  {
   "cell_type": "markdown",
   "id": "65a063de-3de4-4014-8270-7ed051e1ef88",
   "metadata": {
    "tags": []
   },
   "source": [
    "# Crossmatch with the exoplanets data"
   ]
  },
  {
   "cell_type": "code",
   "execution_count": 6,
   "id": "1fafcdfa-20bc-4913-95ed-260613631190",
   "metadata": {},
   "outputs": [
    {
     "name": "stdout",
     "output_type": "stream",
     "text": [
      "(array([], dtype=int64),)\n"
     ]
    }
   ],
   "source": [
    "# Check for repeated gaia ids in df_6D\n",
    "duplicates = df_6d.duplicated(subset=\"gaia_source_id\", keep='first')\n",
    "i = np.where(duplicates == True)\n",
    "print(i)\n",
    "# There are no duplicated gaia ids in df_6D"
   ]
  },
  {
   "cell_type": "code",
   "execution_count": 7,
   "id": "b2ae7567-c478-4272-926a-d42f71071ec1",
   "metadata": {},
   "outputs": [],
   "source": [
    "# Columns I am interested in:\n",
    "# host i.e. gaia ID\n",
    "# psd = phase space density\n",
    "# gp_p_low_6d\n",
    "# gm_p_high_6d\n",
    "# psd_class (phase space density class)\n",
    "\n",
    "exoplanets = pd.merge(exoplanets, df_6d[[\"gaia_source_id\", \"psd\", \"gm_p_low_6d\", \"gm_p_high_6d\", \"class_6d\"]], on=\"gaia_source_id\", how=\"left\", indicator=\"EXOorPSD\", validate=\"many_to_many\")\n",
    "#validate=\"many_to_one\"\n",
    "# TODO:\n",
    "# error: Merge keys are not unique in right dataset; not a many-to-one merge"
   ]
  },
  {
   "cell_type": "code",
   "execution_count": 8,
   "id": "99d7858a-4d09-4342-80c2-78986fb81d23",
   "metadata": {},
   "outputs": [
    {
     "name": "stdout",
     "output_type": "stream",
     "text": [
      "Planets in exoplanets were matched with 1639 stellar phase-space-densities.\n"
     ]
    }
   ],
   "source": [
    "matched_psd = np.where(exoplanets[\"EXOorPSD\"] == \"both\")\n",
    "print(\"Planets in exoplanets were matched with\", matched_psd[0].size, \"stellar phase-space-densities.\")"
   ]
  },
  {
   "cell_type": "markdown",
   "id": "6000449b-2a21-4745-952c-b29827c04749",
   "metadata": {},
   "source": [
    "# Saving the data:"
   ]
  },
  {
   "cell_type": "code",
   "execution_count": 9,
   "id": "2b2051d6-a673-4605-bd50-9975a2efc451",
   "metadata": {},
   "outputs": [],
   "source": [
    "exoplanets.to_csv( path.join( exoplanets_dir, f\"exoplanets_psd_\" + data_date + f\".csv\"), index=False )"
   ]
  }
 ],
 "metadata": {
  "kernelspec": {
   "display_name": "Python 3 (ipykernel)",
   "language": "python",
   "name": "python3"
  },
  "language_info": {
   "codemirror_mode": {
    "name": "ipython",
    "version": 3
   },
   "file_extension": ".py",
   "mimetype": "text/x-python",
   "name": "python",
   "nbconvert_exporter": "python",
   "pygments_lexer": "ipython3",
   "version": "3.9.7"
  },
  "toc-autonumbering": false,
  "toc-showmarkdowntxt": false
 },
 "nbformat": 4,
 "nbformat_minor": 5
}
