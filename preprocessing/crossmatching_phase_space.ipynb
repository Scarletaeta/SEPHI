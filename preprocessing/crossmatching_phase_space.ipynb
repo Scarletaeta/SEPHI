{
 "cells": [
  {
   "cell_type": "code",
   "execution_count": 1,
   "id": "df935967-924c-48d5-8f8f-37daeddbcb04",
   "metadata": {},
   "outputs": [],
   "source": [
    "# Importing dependencies\n",
    "import numpy as np\n",
    "import pandas as pd\n",
    "#from math import pi, sqrt\n",
    "from os import path, listdir"
   ]
  },
  {
   "cell_type": "markdown",
   "id": "c6e7e924-b861-41b3-b65f-d2a16e03016b",
   "metadata": {
    "tags": []
   },
   "source": [
    "## Load data:"
   ]
  },
  {
   "cell_type": "code",
   "execution_count": 2,
   "id": "d7a873ae-d30b-4f5c-90ac-f4a64b8342c9",
   "metadata": {},
   "outputs": [],
   "source": [
    "# Data directories:\n",
    "\n",
    "# On PC:\n",
    "#exoplanets_dir = path.expanduser(\"~/OneDrive/SEPHI_data/exoplanets/\")\n",
    "#phase_space_dir = path.expanduser(\"~/OneDrive/phase_space_density_data/classification/dr3/\")\n",
    "\n",
    "# The first file is features_densities_gaiaedr3_6d_0_200000.csv\n",
    "# The next file is 400,000\n",
    "# Goes up in incraments of 200,000\n",
    "\n",
    "#On my laptop:\n",
    "exoplanets_dir = path.expanduser(\"~/Scarlett/OneDrive - Liverpool John Moores University/SEPHI_data/exoplanets/\")\n",
    "phase_space_dir = path.expanduser(\"~/Scarlett/OneDrive - Liverpool John Moores University/phase_space_density_data/classification/edr3/\")\n",
    "\n",
    "# The date that the exoplanets data (NASA EA) was downloaded:\n",
    "data_date = \"2022_04_28\""
   ]
  },
  {
   "cell_type": "markdown",
   "id": "1da7e776-2800-47e2-9cfc-618f866c4154",
   "metadata": {},
   "source": [
    "## Load exoplanets"
   ]
  },
  {
   "cell_type": "code",
   "execution_count": 3,
   "id": "20991492-ac99-4222-ba9c-57a1124f2f90",
   "metadata": {},
   "outputs": [],
   "source": [
    "# Load exoplanets data:\n",
    "exoplanets = pd.read_csv(path.join(exoplanets_dir, f\"exoplanets_\" + data_date + f\".csv\"))"
   ]
  },
  {
   "cell_type": "markdown",
   "id": "d36ae59c-554f-4cd9-b51e-f19b9e911dea",
   "metadata": {},
   "source": [
    "## Method for loading psd data:"
   ]
  },
  {
   "cell_type": "code",
   "execution_count": 4,
   "id": "f7dcbfd0-0f4b-43be-ae76-d345570e75b9",
   "metadata": {},
   "outputs": [],
   "source": [
    "def load_data(data_dir):\n",
    "    \"\"\"\n",
    "    Takes in a data directory and sorts out which files contain 5d and 6d \n",
    "    information. Returns two lists of file names, 5d and 6d.\n",
    "    \"\"\"\n",
    "    #list_5d = []\n",
    "    list_6d = []\n",
    "    for file in sorted(listdir(data_dir)):\n",
    "        if \"apg\" in file:\n",
    "            continue\n",
    "        df = pd.read_csv(path.join(data_dir, file), index_col=0)    \n",
    "        if \"6d\" in file:\n",
    "            list_6d.append(df)\n",
    "        df = pd.read_csv(path.join(data_dir, file), index_col=0)\n",
    "        #elif \"5d\" in file:\n",
    "            #list_5d.append(df)\n",
    "                \n",
    "    # TODO: what does concat do?\n",
    "    #df_5d = pd.concat(list_5d, axis=0, ignore_index=True)\n",
    "    df_6d = pd.concat(list_6d, axis=0, ignore_index=True)\n",
    "    return df_6d\n",
    "    #return df_5d, df_6d"
   ]
  },
  {
   "cell_type": "markdown",
   "id": "e71e63f0-b81a-4a7a-ac66-b5921babd2ec",
   "metadata": {},
   "source": [
    "## Load psd data:"
   ]
  },
  {
   "cell_type": "code",
   "execution_count": 5,
   "id": "e8d6a636-f53b-4866-8b45-0e5587406441",
   "metadata": {},
   "outputs": [],
   "source": [
    "df_6d = load_data( phase_space_dir )\n",
    "#df_5d, df_6d = load_data( phase_space_dir )\n",
    "\n",
    "new_cols = {\"Host\":\"gaia_source_id\", \n",
    "            \"target_density\":\"psd\", \n",
    "            \"class\":\"class_6d\", \n",
    "            \"gm_p_low\":\"gm_p_low_6d\", \n",
    "            \"gm_p_high\":\"gm_p_high_6d\", \n",
    "            \"class\":\"class_6d\"}\n",
    "# TODO: what about planets with Pnull > 0 .05??\n",
    "\n",
    "df_6d.rename(columns=new_cols, inplace=True)\n",
    "# TODO: whyy, is it telling me the directory etc??\n",
    "\n",
    "# I'm only using the 6d phase-space density reults for now, but if I wanted to \n",
    "# merge the 5d and 6d data frames, I would run the following:\n",
    "#df = pd.merge(df_5d, df_6d[[\"Host\", \"class_6d\", \"gm_p_high_6d\"]], on=\"Host\", indicator=\"XXX\")"
   ]
  },
  {
   "cell_type": "code",
   "execution_count": 17,
   "id": "e6973601-bfd4-4f30-94a8-c9f78c4a5b6b",
   "metadata": {},
   "outputs": [
    {
     "name": "stdout",
     "output_type": "stream",
     "text": [
      "Length of 6d psd data: 1824654\n",
      "<class 'pandas.core.frame.DataFrame'>\n",
      "RangeIndex: 1824654 entries, 0 to 1824653\n",
      "Data columns (total 17 columns):\n",
      " #   Column          Dtype  \n",
      "---  ------          -----  \n",
      " 0   gaia_source_id  int64  \n",
      " 1   n_40pc_stars    int64  \n",
      " 2   n_80pc_stars    int64  \n",
      " 3   densities_mean  float64\n",
      " 4   densities_std   float64\n",
      " 5   densities_max   float64\n",
      " 6   densities_min   float64\n",
      " 7   psd             float64\n",
      " 8   gm_p_low_6d     float64\n",
      " 9   gm_p_high_6d    float64\n",
      " 10  gm_mean_low     float64\n",
      " 11  gm_mean_high    float64\n",
      " 12  gm_cov_low      float64\n",
      " 13  gm_cov_high     float64\n",
      " 14  gm_aic          float64\n",
      " 15  gm_bic          float64\n",
      " 16  class_6d        int64  \n",
      "dtypes: float64(13), int64(4)\n",
      "memory usage: 236.7 MB\n",
      "\n",
      "Info\n",
      " None\n",
      "\n",
      "Describe\n",
      ":        gaia_source_id  n_40pc_stars  n_80pc_stars  densities_mean  \\\n",
      "count    1.824654e+06  1.824654e+06  1.824654e+06    1.824654e+06   \n",
      "mean     3.663105e+18  1.421200e+03  1.109246e+04    2.483017e-01   \n",
      "std      2.035464e+18  1.044677e+03  7.814202e+03    4.817219e-01   \n",
      "min      2.851858e+12  3.990000e+02  2.110000e+03   -1.007195e-02   \n",
      "25%      1.962061e+18  6.480000e+02  5.160000e+03    1.092143e-01   \n",
      "50%      3.755231e+18  1.058000e+03  8.407000e+03    1.397331e-01   \n",
      "75%      5.560307e+18  1.853000e+03  1.465075e+04    1.807798e-01   \n",
      "max      6.917528e+18  5.988000e+03  4.109600e+04    4.705921e+00   \n",
      "\n",
      "       densities_std  densities_max  densities_min           psd  \\\n",
      "count   1.824654e+06   1.824654e+06   1.824654e+06  1.824654e+06   \n",
      "mean    3.126464e-01   1.191485e+00  -5.299833e+00 -1.696616e-01   \n",
      "std     6.939598e-01   8.360177e-01   1.332946e+00  7.422999e-01   \n",
      "min    -1.687492e-01   4.550967e-01  -9.997282e+00 -9.295207e+00   \n",
      "25%     6.787963e-02   8.366452e-01  -6.316590e+00 -4.931152e-01   \n",
      "50%     1.288749e-01   9.462487e-01  -5.320008e+00  1.721316e-02   \n",
      "75%     2.083555e-01   1.102998e+00  -4.238388e+00  3.227718e-01   \n",
      "max     5.562211e+00   6.705360e+00  -1.671102e+00  6.460990e+00   \n",
      "\n",
      "        gm_p_low_6d   gm_p_high_6d   gm_mean_low  gm_mean_high    gm_cov_low  \\\n",
      "count  1.824654e+06   1.824654e+06  1.824654e+06  1.824654e+06  1.824654e+06   \n",
      "mean   3.580194e-01   6.419806e-01 -6.937749e-01  2.159075e-01  1.973111e-01   \n",
      "std    4.065141e-01   4.065141e-01  9.974253e-02  1.329110e-01  8.519155e-02   \n",
      "min    9.351622e-29  1.332361e-203 -1.532793e+00 -1.261969e-01  5.852163e-02   \n",
      "25%    2.279855e-02   1.418939e-01 -7.589217e-01  1.800511e-01  1.609097e-01   \n",
      "50%    1.027939e-01   8.972061e-01 -6.965629e-01  2.081907e-01  1.866177e-01   \n",
      "75%    8.581061e-01   9.772015e-01 -6.303677e-01  2.388678e-01  2.167734e-01   \n",
      "max    1.000000e+00   1.000000e+00 -4.558231e-02  4.055360e+00  3.365589e+00   \n",
      "\n",
      "        gm_cov_high        gm_aic        gm_bic      class_6d  \n",
      "count  1.824654e+06  1.824654e+06  1.824654e+06  1.824654e+06  \n",
      "mean   9.049210e-02  1.226350e+01  2.263501e+00  1.295654e+00  \n",
      "std    5.808580e-02  6.491644e+00  6.491644e+00  8.478376e-01  \n",
      "min    5.611425e-03  8.976534e+00 -1.023466e+00  0.000000e+00  \n",
      "25%    6.882309e-02  1.037709e+01  3.770852e-01  0.000000e+00  \n",
      "50%    8.131957e-02  1.119095e+01  1.190952e+00  2.000000e+00  \n",
      "75%    9.731144e-02  1.233042e+01  2.330420e+00  2.000000e+00  \n",
      "max    3.915466e+00  4.019333e+02  3.919333e+02  2.000000e+00  \n"
     ]
    }
   ],
   "source": [
    "# Info. on the psd data:\n",
    "df_6d_len = df_6d.shape[0]\n",
    "print(\"Length of 6d psd data:\", df_6d_len)\n",
    "print('\\nInfo\\n', df_6d.info())\n",
    "print('\\nDescribe\\n:', df_6d.describe())"
   ]
  },
  {
   "cell_type": "markdown",
   "id": "65a063de-3de4-4014-8270-7ed051e1ef88",
   "metadata": {
    "tags": []
   },
   "source": [
    "# Crossmatch with the exoplanets data"
   ]
  },
  {
   "cell_type": "code",
   "execution_count": 6,
   "id": "1fafcdfa-20bc-4913-95ed-260613631190",
   "metadata": {},
   "outputs": [
    {
     "name": "stdout",
     "output_type": "stream",
     "text": [
      "(array([], dtype=int64),)\n"
     ]
    }
   ],
   "source": [
    "# Check for repeated gaia ids in df_6D\n",
    "duplicates = df_6d.duplicated(subset=\"gaia_source_id\", keep='first')\n",
    "i = np.where(duplicates == True)\n",
    "print(i)\n",
    "# There are no duplicated gaia ids in df_6D"
   ]
  },
  {
   "cell_type": "code",
   "execution_count": 7,
   "id": "b2ae7567-c478-4272-926a-d42f71071ec1",
   "metadata": {},
   "outputs": [],
   "source": [
    "# Columns I am interested in:\n",
    "# host i.e. gaia ID\n",
    "# psd = phase space density\n",
    "# gp_p_low_6d\n",
    "# gm_p_high_6d\n",
    "# psd_class (phase space density class)\n",
    "\n",
    "exoplanets = pd.merge(exoplanets, df_6d[[\"gaia_source_id\", \"psd\", \"gm_p_low_6d\", \"gm_p_high_6d\", \"class_6d\"]], on=\"gaia_source_id\", how=\"left\", indicator=\"EXOorPSD\", validate=\"many_to_many\")\n",
    "# cannot validate because the merge is many to many (on gaia_source_id i.e. there are multiple of the same star)"
   ]
  },
  {
   "cell_type": "markdown",
   "id": "32721c64-dce6-41f2-9e5e-24d542d727f3",
   "metadata": {},
   "source": [
    "## Merge results:"
   ]
  },
  {
   "cell_type": "code",
   "execution_count": 11,
   "id": "99d7858a-4d09-4342-80c2-78986fb81d23",
   "metadata": {},
   "outputs": [
    {
     "name": "stdout",
     "output_type": "stream",
     "text": [
      "Planets in exoplanets were matched with 1639 stellar phase-space-densities.\n",
      "Planets in exoplanets with no phase-space-density: 3375\n",
      "matched_psd.size + in_exo_only.size = 5014\n"
     ]
    }
   ],
   "source": [
    "matched_psd = np.where(exoplanets[\"EXOorPSD\"] == \"both\")[0]\n",
    "in_exo_only = np.where(exoplanets[\"EXOorPSD\"] == \"left_only\")[0]\n",
    "\n",
    "print(\"Planets in exoplanets were matched with\", matched_psd.size, \"stellar phase-space-densities.\")\n",
    "print(\"Planets in exoplanets with no phase-space-density:\", in_exo_only.size)\n",
    "print(\"matched_psd.size + in_exo_only.size =\", matched_psd.size + in_exo_only.size) "
   ]
  },
  {
   "cell_type": "code",
   "execution_count": 10,
   "id": "2e580d3c-d23a-417b-8de8-05239ed9b701",
   "metadata": {},
   "outputs": [
    {
     "name": "stdout",
     "output_type": "stream",
     "text": [
      "<class 'pandas.core.frame.DataFrame'>\n",
      "Int64Index: 5014 entries, 0 to 5013\n",
      "Data columns (total 95 columns):\n",
      " #   Column               Non-Null Count  Dtype   \n",
      "---  ------               --------------  -----   \n",
      " 0   pl_name              5014 non-null   object  \n",
      " 1   hostname             5014 non-null   object  \n",
      " 2   gaia_designation     4828 non-null   object  \n",
      " 3   NEA_sy_snum          5014 non-null   int64   \n",
      " 4   NEA_sy_pnum          5014 non-null   int64   \n",
      " 5   NEA_discoverymethod  5014 non-null   object  \n",
      " 6   NEA_pl_period        4841 non-null   float64 \n",
      " 7   NEA_pl_sma           2807 non-null   float64 \n",
      " 8   NEA_pl_smaerr1       1996 non-null   float64 \n",
      " 9   NEA_pl_smaerr2       1995 non-null   float64 \n",
      " 10  NEA_pl_rad           3883 non-null   float64 \n",
      " 11  NEA_pl_raderr1       3501 non-null   float64 \n",
      " 12  NEA_pl_raderr2       3501 non-null   float64 \n",
      " 13  NEA_pl_mass          2076 non-null   float64 \n",
      " 14  NEA_pl_masserr1      1913 non-null   float64 \n",
      " 15  NEA_pl_masserr2      1913 non-null   float64 \n",
      " 16  NEA_pl_dens          695 non-null    float64 \n",
      " 17  NEA_pl_e             1767 non-null   float64 \n",
      " 18  NEA_pl_teq           946 non-null    float64 \n",
      " 19  NEA_st_teff          4651 non-null   float64 \n",
      " 20  NEA_st_tefferr1      4485 non-null   float64 \n",
      " 21  NEA_st_tefferr2      4458 non-null   float64 \n",
      " 22  NEA_st_rad           4555 non-null   float64 \n",
      " 23  NEA_st_raderr1       4402 non-null   float64 \n",
      " 24  NEA_st_raderr2       4377 non-null   float64 \n",
      " 25  NEA_st_mass          4254 non-null   float64 \n",
      " 26  NEA_st_masserr1      3966 non-null   float64 \n",
      " 27  NEA_st_masserr2      3941 non-null   float64 \n",
      " 28  NEA_st_met           3612 non-null   float64 \n",
      " 29  NEA_st_meterr1       3282 non-null   float64 \n",
      " 30  NEA_st_meterr2       3282 non-null   float64 \n",
      " 31  NEA_st_lum           934 non-null    float64 \n",
      " 32  NEA_st_lumerr1       799 non-null    float64 \n",
      " 33  NEA_st_lumerr2       786 non-null    float64 \n",
      " 34  NEA_st_logg          4394 non-null   float64 \n",
      " 35  NEA_st_age           2339 non-null   float64 \n",
      " 36  NEA_st_ageerr1       2162 non-null   float64 \n",
      " 37  NEA_st_ageerr2       2162 non-null   float64 \n",
      " 38  gaia_source_id       5014 non-null   int64   \n",
      " 39  NEAc_lum             4448 non-null   float64 \n",
      " 40  NEAc_lumerr1         4260 non-null   float64 \n",
      " 41  NEAc_lumerr2         4236 non-null   float64 \n",
      " 42  NEAc_teff            831 non-null    float64 \n",
      " 43  NEAc_tefferr1        731 non-null    float64 \n",
      " 44  NEAc_tefferr2        720 non-null    float64 \n",
      " 45  pl_koi_name          2679 non-null   object  \n",
      " 46  NEAorRos             5014 non-null   object  \n",
      " 47  gdr2_st_teff         4498 non-null   float64 \n",
      " 48  gdr2_st_tefferr2     4498 non-null   float64 \n",
      " 49  gdr2_st_tefferr1     4498 non-null   float64 \n",
      " 50  gdr2_st_rad          4209 non-null   float64 \n",
      " 51  gdr2_st_raderr2      4209 non-null   float64 \n",
      " 52  gdr2_st_raderr1      4209 non-null   float64 \n",
      " 53  gdr2_st_lum          4209 non-null   float64 \n",
      " 54  gdr2_st_lumerr2      4209 non-null   float64 \n",
      " 55  gdr2_st_lumerr1      4209 non-null   float64 \n",
      " 56  NEAorDR2             5014 non-null   object  \n",
      " 57  st_koi_name          1445 non-null   object  \n",
      " 58  pl_kepler_name       1298 non-null   object  \n",
      " 59  status               1445 non-null   object  \n",
      " 60  CKSI_st_teff         1445 non-null   float64 \n",
      " 61  CKSI_st_tefferr1     1445 non-null   float64 \n",
      " 62  CKSI_st_tefferr2     1445 non-null   float64 \n",
      " 63  CKSII_st_teff        1445 non-null   float64 \n",
      " 64  CKSII_st_tefferr1    1445 non-null   float64 \n",
      " 65  CKSII_st_tefferr2    1445 non-null   float64 \n",
      " 66  CKSII_st_rad         1445 non-null   float64 \n",
      " 67  CKSII_st_raderr1     1445 non-null   float64 \n",
      " 68  CKSII_st_raderr2     1445 non-null   float64 \n",
      " 69  CKSII_st_mass        1445 non-null   float64 \n",
      " 70  CKSII_st_masserr1    1445 non-null   float64 \n",
      " 71  CKSII_st_masserr2    1445 non-null   float64 \n",
      " 72  CKSII_st_age         1445 non-null   float64 \n",
      " 73  CKSII_st_ageerr1     1445 non-null   float64 \n",
      " 74  CKSII_st_ageerr2     1445 non-null   float64 \n",
      " 75  CKSII_pl_rad         1443 non-null   float64 \n",
      " 76  CKSII_pl_raderr1     1443 non-null   float64 \n",
      " 77  CKSII_pl_raderr2     1443 non-null   float64 \n",
      " 78  CKSII_pl_sma         1443 non-null   float64 \n",
      " 79  CKSII_pl_smaerr1     1443 non-null   float64 \n",
      " 80  CKSII_pl_smaerr2     1443 non-null   float64 \n",
      " 81  EXOorCKS             5014 non-null   object  \n",
      " 82  st_mass_best         4539 non-null   object  \n",
      " 83  st_age_best          3012 non-null   object  \n",
      " 84  st_lum_best          786 non-null    object  \n",
      " 85  st_teff_best         4510 non-null   object  \n",
      " 86  st_met_best          3282 non-null   object  \n",
      " 87  pl_mass_best         1913 non-null   object  \n",
      " 88  pl_rad_best          3660 non-null   object  \n",
      " 89  pl_sma_best          3310 non-null   object  \n",
      " 90  psd                  1639 non-null   float64 \n",
      " 91  gm_p_low_6d          1639 non-null   float64 \n",
      " 92  gm_p_high_6d         1639 non-null   float64 \n",
      " 93  class_6d             1639 non-null   float64 \n",
      " 94  EXOorPSD             5014 non-null   category\n",
      "dtypes: category(1), float64(72), int64(3), object(19)\n",
      "memory usage: 3.6+ MB\n",
      "Info:\n",
      " None\n",
      "\n",
      "Describe:\n",
      "        NEA_sy_snum  NEA_sy_pnum  NEA_pl_period   NEA_pl_sma  NEA_pl_smaerr1  \\\n",
      "count  5014.000000  5014.000000   4.841000e+03  2807.000000     1996.000000   \n",
      "mean      1.102712     1.758277   8.689291e+04    11.661027        3.040878   \n",
      "std       0.340762     1.149596   5.779857e+06   183.936229      116.611556   \n",
      "min       1.000000     1.000000   9.070629e-02     0.004400        0.000000   \n",
      "25%       1.000000     1.000000   4.465630e+00     0.055705        0.000900   \n",
      "50%       1.000000     1.000000   1.153533e+01     0.117000        0.003000   \n",
      "75%       1.000000     2.000000   3.898530e+01     0.714000        0.040000   \n",
      "max       4.000000     8.000000   4.020000e+08  7506.000000     5205.000000   \n",
      "\n",
      "       NEA_pl_smaerr2   NEA_pl_rad  NEA_pl_raderr1  NEA_pl_raderr2  \\\n",
      "count     1995.000000  3883.000000     3501.000000     3501.000000   \n",
      "mean        -1.431486     4.156064        0.567864       -0.446731   \n",
      "std         46.404335     4.656381        1.625780        0.979509   \n",
      "min      -2060.000000     0.296000        0.000000      -32.506000   \n",
      "25%         -0.040000     1.580000        0.140000       -0.503000   \n",
      "50%         -0.003100     2.350000        0.290000       -0.230000   \n",
      "75%         -0.000900     3.540000        0.620000       -0.120000   \n",
      "max          0.000000    77.342000       68.910000        0.000000   \n",
      "\n",
      "        NEA_pl_mass  ...  CKSII_pl_rad  CKSII_pl_raderr1  CKSII_pl_raderr2  \\\n",
      "count   2076.000000  ...   1443.000000       1443.000000       1443.000000   \n",
      "mean     720.937353  ...      7.849136          3.937165         -3.937165   \n",
      "std     1334.740569  ...    119.080522         76.804662         76.804662   \n",
      "min        0.020000  ...      0.277709          0.029773      -1973.512791   \n",
      "25%       15.972875  ...      1.447016          0.157131         -0.368073   \n",
      "50%      214.317625  ...      2.171523          0.235438         -0.235438   \n",
      "75%      734.166825  ...      2.901215          0.368073         -0.157131   \n",
      "max    17668.169700  ...   3720.315265       1973.512791         -0.029773   \n",
      "\n",
      "       CKSII_pl_sma  CKSII_pl_smaerr1  CKSII_pl_smaerr2          psd  \\\n",
      "count   1443.000000       1443.000000       1443.000000  1639.000000   \n",
      "mean       0.155184          0.002789         -0.002789    -0.193511   \n",
      "std        0.173440          0.003375          0.003375     0.822334   \n",
      "min        0.011625          0.000193         -0.054719    -4.061137   \n",
      "25%        0.060716          0.001053         -0.003254    -0.593809   \n",
      "50%        0.102357          0.001789         -0.001789    -0.044253   \n",
      "75%        0.179330          0.003254         -0.001053     0.305075   \n",
      "max        2.041010          0.054719         -0.000193     6.460990   \n",
      "\n",
      "       gm_p_low_6d  gm_p_high_6d     class_6d  \n",
      "count  1639.000000  1.639000e+03  1639.000000  \n",
      "mean      0.377061  6.229386e-01     1.251373  \n",
      "std       0.404570  4.045702e-01     0.845311  \n",
      "min       0.000818  1.258508e-28     0.000000  \n",
      "25%       0.025797  1.186517e-01     0.000000  \n",
      "50%       0.130963  8.690370e-01     2.000000  \n",
      "75%       0.881348  9.742027e-01     2.000000  \n",
      "max       1.000000  9.991824e-01     2.000000  \n",
      "\n",
      "[8 rows x 75 columns]\n"
     ]
    }
   ],
   "source": [
    "print(\"Info:\\n\", exoplanets.info())\n",
    "print(\"\\nDescribe:\\n\", exoplanets.describe())"
   ]
  },
  {
   "cell_type": "markdown",
   "id": "6000449b-2a21-4745-952c-b29827c04749",
   "metadata": {},
   "source": [
    "# Saving the data:"
   ]
  },
  {
   "cell_type": "code",
   "execution_count": 9,
   "id": "2b2051d6-a673-4605-bd50-9975a2efc451",
   "metadata": {},
   "outputs": [],
   "source": [
    "exoplanets.to_csv( path.join( exoplanets_dir, f\"exoplanets_psd_\" + data_date + f\".csv\"), index=False )"
   ]
  }
 ],
 "metadata": {
  "kernelspec": {
   "display_name": "Python 3 (ipykernel)",
   "language": "python",
   "name": "python3"
  },
  "language_info": {
   "codemirror_mode": {
    "name": "ipython",
    "version": 3
   },
   "file_extension": ".py",
   "mimetype": "text/x-python",
   "name": "python",
   "nbconvert_exporter": "python",
   "pygments_lexer": "ipython3",
   "version": "3.9.7"
  },
  "toc-autonumbering": false,
  "toc-showmarkdowntxt": false
 },
 "nbformat": 4,
 "nbformat_minor": 5
}
