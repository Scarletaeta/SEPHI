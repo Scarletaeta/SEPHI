{
 "cells": [
  {
   "cell_type": "code",
   "execution_count": 2,
   "id": "df935967-924c-48d5-8f8f-37daeddbcb04",
   "metadata": {},
   "outputs": [],
   "source": [
    "# Importing dependencies\n",
    "import numpy as np\n",
    "import pandas as pd\n",
    "#from math import pi, sqrt\n",
    "from os import path, listdir"
   ]
  },
  {
   "cell_type": "markdown",
   "id": "c6e7e924-b861-41b3-b65f-d2a16e03016b",
   "metadata": {
    "tags": []
   },
   "source": [
    "## Load data:"
   ]
  },
  {
   "cell_type": "code",
   "execution_count": 3,
   "id": "d7a873ae-d30b-4f5c-90ac-f4a64b8342c9",
   "metadata": {},
   "outputs": [],
   "source": [
    "# Data directories:\n",
    "exoplanets_dir = path.expanduser(\"~/OneDrive/SEPHI_data/exoplanets/\")\n",
    "phase_space_dir = path.expanduser(\"~/OneDrive/phase_space_density_data/classification/dr3/\")\n",
    "# The first file is features_densities_gaiaedr3_6d_0_200000.csv\n",
    "# The next file is 400,000\n",
    "# Goes up in incraments of 200,000\n",
    "\n",
    "# The date that the exoplanets data (NASA EA) was downloaded:\n",
    "data_date = \"2022_04_28\""
   ]
  },
  {
   "cell_type": "code",
   "execution_count": 4,
   "id": "20991492-ac99-4222-ba9c-57a1124f2f90",
   "metadata": {},
   "outputs": [],
   "source": [
    "# Load exoplanets data:\n",
    "exoplanets = pd.read_csv(path.join(exoplanets_dir, f\"exoplanets_\" + data_date + f\".csv\"))"
   ]
  },
  {
   "cell_type": "code",
   "execution_count": 5,
   "id": "f7dcbfd0-0f4b-43be-ae76-d345570e75b9",
   "metadata": {},
   "outputs": [],
   "source": [
    "def load_data(data_dir):\n",
    "    \"\"\"\n",
    "    Takes in a data directory and sorts out which files contain 5d and 6d \n",
    "    information. Returns two lists of file names, 5d and 6d.\n",
    "    \"\"\"\n",
    "    #list_5d = []\n",
    "    list_6d = []\n",
    "    for file in sorted(listdir(data_dir)):\n",
    "        if \"apg\" in file:\n",
    "            continue\n",
    "        df = pd.read_csv(path.join(data_dir, file), index_col=0)    \n",
    "        if \"6d\" in file:\n",
    "            list_6d.append(df)\n",
    "        df = pd.read_csv(path.join(data_dir, file), index_col=0)\n",
    "        #elif \"5d\" in file:\n",
    "            #list_5d.append(df)\n",
    "                \n",
    "    # TODO: what does concat do?\n",
    "    #df_5d = pd.concat(list_5d, axis=0, ignore_index=True)\n",
    "    df_6d = pd.concat(list_6d, axis=0, ignore_index=True)\n",
    "    return df_6d\n",
    "    #return df_5d, df_6d"
   ]
  },
  {
   "cell_type": "code",
   "execution_count": 6,
   "id": "e8d6a636-f53b-4866-8b45-0e5587406441",
   "metadata": {},
   "outputs": [],
   "source": [
    "df_6d = load_data( phase_space_dir )\n",
    "#df_5d, df_6d = load_data( phase_space_dir )\n",
    "\n",
    "new_cols = {\"Host\":\"gaia_source_id\", \n",
    "            \"target_density\":\"psd\", \n",
    "            \"class\":\"class_6d\", \n",
    "            \"gm_p_low\":\"gm_p_low_6d\", \n",
    "            \"gm_p_high\":\"gm_p_high_6d\", \n",
    "            \"class\":\"class_6d\"}\n",
    "\n",
    "df_6d.rename(columns=new_cols, inplace=True)\n",
    "# TODO: whyy, is it telling me the directory etc??\n",
    "\n",
    "# I'm only using the 6d phase-space density reults for now, but if I wanted to \n",
    "#merge the 5d and 6d data frames, I would run the following:\n",
    "#df = pd.merge(df_5d, df_6d[[\"Host\", \"class_6d\", \"gm_p_high_6d\"]], on=\"Host\")"
   ]
  },
  {
   "cell_type": "markdown",
   "id": "65a063de-3de4-4014-8270-7ed051e1ef88",
   "metadata": {},
   "source": [
    "# Crossmatch with the exoplanets data"
   ]
  },
  {
   "cell_type": "code",
   "execution_count": 12,
   "id": "1fafcdfa-20bc-4913-95ed-260613631190",
   "metadata": {},
   "outputs": [
    {
     "name": "stdout",
     "output_type": "stream",
     "text": [
      "(array([], dtype=int64),)\n"
     ]
    }
   ],
   "source": [
    "# Check for repeated gaia ids in df_6D\n",
    "duplicates = df_6d.duplicated(subset=\"gaia_source_id\", keep='first')\n",
    "i = np.where(duplicates == True)\n",
    "print(i)\n",
    "# There are no duplicated gaia ids in df_6D"
   ]
  },
  {
   "cell_type": "code",
   "execution_count": 13,
   "id": "b2ae7567-c478-4272-926a-d42f71071ec1",
   "metadata": {},
   "outputs": [],
   "source": [
    "# Columns I am interested in:\n",
    "# host i.e. gaia ID\n",
    "# psd = phase space density\n",
    "# gp_p_low_6d\n",
    "# gm_p_high_6d\n",
    "# psd_class (phase space density class)\n",
    "\n",
    "exoplanets = pd.merge(exoplanets, df_6d[[\"gaia_source_id\", \"psd\", \"gm_p_low_6d\", \"gm_p_high_6d\", \"class_6d\"]], on=\"gaia_source_id\", how=\"left\", indicator=\"EXOorPSD\", validate=\"many_to_many\")\n",
    "#validate=\"many_to_one\"\n",
    "# TODO:\n",
    "# error: Merge keys are not unique in right dataset; not a many-to-one merge"
   ]
  },
  {
   "cell_type": "code",
   "execution_count": 14,
   "id": "99d7858a-4d09-4342-80c2-78986fb81d23",
   "metadata": {},
   "outputs": [
    {
     "name": "stdout",
     "output_type": "stream",
     "text": [
      "Planets in exoplanets were matched with 1639 stellar phase-space-densities.\n"
     ]
    }
   ],
   "source": [
    "matched_psd = np.where(exoplanets[\"EXOorPSD\"] == \"both\")\n",
    "print(\"Planets in exoplanets were matched with\", matched_psd[0].size, \"stellar phase-space-densities.\")"
   ]
  },
  {
   "cell_type": "markdown",
   "id": "6000449b-2a21-4745-952c-b29827c04749",
   "metadata": {},
   "source": [
    "# Saving the data:"
   ]
  },
  {
   "cell_type": "code",
   "execution_count": 15,
   "id": "2b2051d6-a673-4605-bd50-9975a2efc451",
   "metadata": {},
   "outputs": [],
   "source": [
    "exoplanets.to_csv( path.join( exoplanets_dir, f\"exoplanets_psd_\" + data_date + f\".csv\"), index=False )"
   ]
  },
  {
   "cell_type": "markdown",
   "id": "eab394c8-e7e6-46cf-9f16-74d69731aa92",
   "metadata": {},
   "source": [
    "# Reproducing W20 plots:"
   ]
  },
  {
   "cell_type": "code",
   "execution_count": 21,
   "id": "f6e41542-707c-4ef7-88ef-c6e7a677d20a",
   "metadata": {},
   "outputs": [
    {
     "name": "stdout",
     "output_type": "stream",
     "text": [
      "0       0.0\n",
      "1       2.0\n",
      "2       0.0\n",
      "3       2.0\n",
      "4       2.0\n",
      "       ... \n",
      "5009    NaN\n",
      "5010    NaN\n",
      "5011    NaN\n",
      "5012    NaN\n",
      "5013    NaN\n",
      "Name: class_6d, Length: 5014, dtype: float64\n"
     ]
    }
   ],
   "source": [
    "import matplotlib.pyplot as plt\n",
    "%matplotlib inline\n",
    "# TODO: plot log(planet mass [Earth mass]) vs log(semi-major axis [AU])\n",
    "# for low and high phase space density\n",
    "# Classifications:\n",
    "# 0 = low\n",
    "# 1 = ambiguous\n",
    "# 2 = high\n",
    "print(exoplanets[\"class_6d\"])\n",
    "# Indicies of low and high phase-space density planets:\n",
    "low_index = np.where(exoplanets[\"class_6d\"] == 0. )\n",
    "high_index = np.where(exoplanets[\"class_6d\"] == 2.)"
   ]
  },
  {
   "cell_type": "code",
   "execution_count": 25,
   "id": "141d54cf-e192-4608-b5f5-3ed22844704b",
   "metadata": {},
   "outputs": [
    {
     "data": {
      "text/plain": [
       "<matplotlib.collections.PathCollection at 0x7fe0025ff8b0>"
      ]
     },
     "execution_count": 25,
     "metadata": {},
     "output_type": "execute_result"
    },
    {
     "data": {
      "image/png": "[encoded data removed]",
      "text/plain": [
       "<Figure size 432x288 with 1 Axes>"
      ]
     },
     "metadata": {
      "needs_background": "light"
     },
     "output_type": "display_data"
    }
   ],
   "source": [
    "plt.scatter( np.log10(exoplanets[\"NEA_pl_bmasse\"].iloc[low_index]), np.log10(exoplanets[\"NEA_pl_sma\"].iloc[low_index]) )\n",
    "plt.scatter( np.log10(exoplanets[\"NEA_pl_bmasse\"].iloc[high_index]), np.log10(exoplanets[\"NEA_pl_sma\"].iloc[high_index]) )"
   ]
  },
  {
   "cell_type": "code",
   "execution_count": 55,
   "id": "300d3fd8-31b8-4585-ba01-856eb7922aab",
   "metadata": {},
   "outputs": [
    {
     "data": {
      "text/plain": [
       "Text(0.02, 0.5, 'log(M_p [M_E])')"
      ]
     },
     "execution_count": 55,
     "metadata": {},
     "output_type": "execute_result"
    },
    {
     "data": {
      "image/png": "[encoded data removed]",
      "text/plain": [
       "<Figure size 576x288 with 2 Axes>"
      ]
     },
     "metadata": {
      "needs_background": "light"
     },
     "output_type": "display_data"
    }
   ],
   "source": [
    "fig, (ax_l, ax_h) = plt.subplots(nrows=1, ncols=2, sharex=True, sharey=True, figsize=[8,4], tight_layout=True)\n",
    "\n",
    "ax_l.scatter( np.log10(exoplanets[\"NEA_pl_sma\"].iloc[low_index]), np.log10(exoplanets[\"NEA_pl_bmasse\"].iloc[low_index]) )\n",
    "ax_h.scatter( np.log10(exoplanets[\"NEA_pl_sma\"].iloc[high_index]), np.log10(exoplanets[\"NEA_pl_bmasse\"].iloc[high_index]) )\n",
    "# sharex makes them share the x-axis scale\n",
    "\n",
    "fig.supxlabel('log(a_p [AU])')\n",
    "fig.supylabel('log(M_p [M_E])')\n"
   ]
  },
  {
   "cell_type": "code",
   "execution_count": 16,
   "id": "1ab6d659-d6a9-4081-a231-bcef3d0efe1b",
   "metadata": {},
   "outputs": [
    {
     "name": "stdout",
     "output_type": "stream",
     "text": [
      "      pl_name  hostname              gaia_designation  sy_snum  sy_pnum  \\\n",
      "0    11 Com b    11 Com  Gaia DR2 3946945413106333696        2        1   \n",
      "1    11 UMi b    11 UMi  Gaia DR2 1696798367260229376        1        1   \n",
      "2    14 And b    14 And  Gaia DR2 1920113512486282240        1        1   \n",
      "3    14 Her b    14 Her  Gaia DR2 1385293808145621504        1        2   \n",
      "4  16 Cyg B b  16 Cyg B  Gaia DR2 2135550755683407232        3        1   \n",
      "\n",
      "   discoverymethod  NEA_pl_orbper  NEA_pl_sma  NEA_pl_rade  NEA_pl_bmasse  \\\n",
      "0  Radial Velocity      326.03000        1.29          NaN      6165.6000   \n",
      "1  Radial Velocity      516.21997        1.53          NaN      4684.8142   \n",
      "2  Radial Velocity      185.84000        0.83          NaN      1525.5000   \n",
      "3  Radial Velocity     1773.40002        2.93          NaN      1481.0878   \n",
      "4  Radial Velocity      798.50000        1.66          NaN       565.7374   \n",
      "\n",
      "   ...  CKSII_pl_raderr2  CKSII_pl_sma  CKSII_pl_smaerr1  CKSII_pl_smaerr2  \\\n",
      "0  ...               NaN           NaN               NaN               NaN   \n",
      "1  ...               NaN           NaN               NaN               NaN   \n",
      "2  ...               NaN           NaN               NaN               NaN   \n",
      "3  ...               NaN           NaN               NaN               NaN   \n",
      "4  ...               NaN           NaN               NaN               NaN   \n",
      "\n",
      "    EXOorCKS       psd  gm_p_low_6d  gm_p_high_6d  class_6d  EXOorPSD  \n",
      "0  left_only -1.394487     0.999620  3.804340e-04       0.0      both  \n",
      "1  left_only  0.327381     0.027102  9.728975e-01       2.0      both  \n",
      "2  left_only -2.152628     1.000000  4.883372e-12       0.0      both  \n",
      "3  left_only  0.018539     0.085552  9.144478e-01       2.0      both  \n",
      "4  left_only  0.256541     0.036119  9.638812e-01       2.0      both  \n",
      "\n",
      "[5 rows x 77 columns]\n"
     ]
    }
   ],
   "source": [
    "print(exoplanets.head())"
   ]
  },
  {
   "cell_type": "code",
   "execution_count": null,
   "id": "a71db18f-d48b-482b-82e3-443f01cc75aa",
   "metadata": {},
   "outputs": [],
   "source": []
  }
 ],
 "metadata": {
  "kernelspec": {
   "display_name": "Python 3 (ipykernel)",
   "language": "python",
   "name": "python3"
  },
  "language_info": {
   "codemirror_mode": {
    "name": "ipython",
    "version": 3
   },
   "file_extension": ".py",
   "mimetype": "text/x-python",
   "name": "python",
   "nbconvert_exporter": "python",
   "pygments_lexer": "ipython3",
   "version": "3.9.7"
  },
  "toc-autonumbering": false,
  "toc-showmarkdowntxt": false
 },
 "nbformat": 4,
 "nbformat_minor": 5
}
