{
 "cells": [
  {
   "cell_type": "code",
   "execution_count": 1,
   "id": "7ecd57bb-e8b6-4667-b308-9d4952b40050",
   "metadata": {},
   "outputs": [],
   "source": [
    "import numpy as np\n",
    "import pandas as pd\n",
    "#from math import pi, sqrt\n",
    "from os import path\n"
   ]
  },
  {
   "cell_type": "code",
   "execution_count": 2,
   "id": "eb48932d-6ca1-4f62-8096-48d087e13c18",
   "metadata": {},
   "outputs": [],
   "source": [
    "# Data directories:\n",
    "NEA_dir = \"~/OneDrive/SEPHI_data/NASA_EA/\"\n",
    "DR2_dir = \"~/OneDrive/SEPHI_data/Gaia/DR2/\"\n",
    "CKS_dir = \"~/OneDrive/SEPHI_data/CKS/\"\n",
    "# NB: I don't have the CKS data saved yet\n",
    "\n",
    "data_date = \"2022_04_28\"\n",
    "#data_dir = \"~/Scarlett/OneDrive - Liverpool John Moores University/SEPHI_data/\""
   ]
  },
  {
   "cell_type": "code",
   "execution_count": 3,
   "id": "5c49a843-5749-437b-960e-f13776f368c3",
   "metadata": {},
   "outputs": [
    {
     "name": "stdout",
     "output_type": "stream",
     "text": [
      "Length of NEA: 5014\n",
      "      pl_name  hostname              gaia_designation  sy_snum  sy_pnum  \\\n",
      "0    11 Com b    11 Com  Gaia DR2 3946945413106333696        2        1   \n",
      "1    11 UMi b    11 UMi  Gaia DR2 1696798367260229376        1        1   \n",
      "2    14 And b    14 And  Gaia DR2 1920113512486282240        1        1   \n",
      "3    14 Her b    14 Her  Gaia DR2 1385293808145621504        1        2   \n",
      "4  16 Cyg B b  16 Cyg B  Gaia DR2 2135550755683407232        3        1   \n",
      "\n",
      "   discoverymethod  NEA_pl_orbper  NEA_pl_sma  NEA_pl_rade  NEA_pl_bmasse  \\\n",
      "0  Radial Velocity      326.03000        1.29          NaN      6165.6000   \n",
      "1  Radial Velocity      516.21997        1.53          NaN      4684.8142   \n",
      "2  Radial Velocity      185.84000        0.83          NaN      1525.5000   \n",
      "3  Radial Velocity     1773.40002        2.93          NaN      1481.0878   \n",
      "4  Radial Velocity      798.50000        1.66          NaN       565.7374   \n",
      "\n",
      "   ...  NEA_st_ageerr2       gaia_source_id    NEAc_lum  NEAc_lumerr1  \\\n",
      "0  ...             NaN  3946945413106333696  164.454999     37.297832   \n",
      "1  ...             NaN  1696798367260229376  251.883965     49.270035   \n",
      "2  ...             NaN  1920113512486282240   58.498199     10.680389   \n",
      "3  ...             NaN  1385293808145621504    0.632665      0.018044   \n",
      "4  ...             NaN  2135550755683407232    1.257540      0.023332   \n",
      "\n",
      "   NEAc_lumerr2    NEAc_teff  NEAc_tefferr1  NEAc_tefferr2  pl_koi_name  \\\n",
      "0    -37.297832  4816.147508     196.840213    -235.653776          NaN   \n",
      "1    -49.270035          NaN            NaN            NaN          NaN   \n",
      "2    -10.680389  4801.536536            NaN            NaN          NaN   \n",
      "3     -0.018044          NaN            NaN            NaN          NaN   \n",
      "4     -0.023332          NaN            NaN            NaN          NaN   \n",
      "\n",
      "    NEAorRos  \n",
      "0  left_only  \n",
      "1  left_only  \n",
      "2  left_only  \n",
      "3  left_only  \n",
      "4  left_only  \n",
      "\n",
      "[5 rows x 37 columns]\n"
     ]
    }
   ],
   "source": [
    "# Read the NASA Exoplanet Archive data:\n",
    "NEA = pd.read_csv(path.join(NEA_dir, f\"NASA_EA_processed_\"+ data_date + \".csv\")) \n",
    "print(\"Length of NEA:\", NEA.shape[0])\n",
    "#print(NEA.head())"
   ]
  },
  {
   "cell_type": "code",
   "execution_count": 4,
   "id": "f157ce19-a36f-4a5a-bd36-0babc02f6f88",
   "metadata": {},
   "outputs": [
    {
     "name": "stdout",
     "output_type": "stream",
     "text": [
      "Length of Gaia DR2: 4196\n"
     ]
    }
   ],
   "source": [
    "# Read the Gaia DR2 data:\n",
    "DR2 = pd.read_csv(path.join(DR2_dir, f\"DR2_processed_\" + data_date + \".csv\"))\n",
    "DR2_len = DR2.shape[0]\n",
    "print(\"Length of Gaia DR2:\", DR2_len)\n",
    "#print(DR2.head())"
   ]
  },
  {
   "cell_type": "code",
   "execution_count": 5,
   "id": "6b19f980-7212-4175-a026-971418a68076",
   "metadata": {},
   "outputs": [
    {
     "name": "stdout",
     "output_type": "stream",
     "text": [
      "Length of CKS: 2025\n"
     ]
    }
   ],
   "source": [
    "# Read in CKS data:\n",
    "CKS = pd.read_csv(path.join(CKS_dir, f\"CKS_processed_\"+ data_date + \".csv\")) \n",
    "CKS_len = CKS.shape[0]\n",
    "print(\"Length of CKS:\", CKS_len)\n",
    "#print(CKS.head())"
   ]
  },
  {
   "cell_type": "code",
   "execution_count": 6,
   "id": "bf6ce96b-7e5d-434b-a635-c77ad96eb8e0",
   "metadata": {},
   "outputs": [
    {
     "name": "stdout",
     "output_type": "stream",
     "text": [
      "2732\n",
      "2732\n"
     ]
    }
   ],
   "source": [
    "# Read in Rosetta (the file with planet name, KOI name, and Kepler name):\n",
    "rosetta = pd.read_csv(path.join(CKS_dir, f\"rosetta_\" + data_date + \".csv\"))\n",
    "rosetta_len = rosetta[\"pl_name\"].size\n",
    "print(\"Length of rosetta:\", rosetta_len)\n",
    "\n",
    "# Trimming rosetta down so it only has the planet name (in NEA) and Kepler ID (in CKS):\n",
    "rosetta2 = pd.DataFrame(data= [ rosetta[\"pl_name\"], rosetta[\"pl_koi_name\"] ] ).transpose()\n",
    "#, rosetta[\"pl_kepler_name\"] \n",
    "rosetta2_len = rosetta2[\"pl_name\"].size\n",
    "print(\"Length of rosetta2:\", rosetta2_len)\n",
    "#print(rosetta2)"
   ]
  },
  {
   "cell_type": "code",
   "execution_count": 7,
   "id": "3a971e2f-0b8c-41a2-9d2f-5f3a527e2f43",
   "metadata": {},
   "outputs": [],
   "source": [
    "## Crossmatching"
   ]
  },
  {
   "cell_type": "code",
   "execution_count": 8,
   "id": "46894b22-79da-443c-a7b2-58ab2b8c31b4",
   "metadata": {},
   "outputs": [
    {
     "name": "stdout",
     "output_type": "stream",
     "text": [
      "5014\n",
      "Stars in Gaia DR2 were matched with 4514 exoplanets in the NEA.\n",
      "Total number of stars in Gaia DR2 df: 4196\n",
      "Number of unmatched stars from Gaia DR2 df: 0\n"
     ]
    }
   ],
   "source": [
    "# Merging the NASA EA and Gaia DR2 to start the exoplanets data frame:\n",
    "exoplanets = pd.merge(NEA, DR2, on=\"gaia_source_id\", how=\"left\", indicator = \"NEAorDR2\", validate=\"many_to_one\")\n",
    "print(\"Length of exoplanets:\", exoplanets.shape[0])\n",
    "#print(exoplanets)\n",
    "\n",
    "# The indicies of stars in the NEA that are also in the DR2 df (now merged into the exoplanets df):\n",
    "matched_DR2 = np.where(exoplanets[\"NEAorDR2\"] == \"both\")\n",
    "not_matched_DR2 = np.where(exoplanets[\"NEAorDR2\"] == \"right_only\")\n",
    "#print(\"Number of stars in DR2 df merged with NEA:\", in_DR2[0].size, \"out of\", DR2_len , \"stars in DR2 df.\" )\n",
    "print(\"Stars in Gaia DR2 were matched with\", matched_DR2[0].size, \"exoplanets in the NEA.\\nTotal number of stars in Gaia DR2 df:\", DR2_len)\n",
    "#print(\"Number of unmatched stars from Gaia DR2 df:\", not_matched_DR2[0].size)\n",
    "# TODO: the no. unmatched isn'ta ccurate"
   ]
  },
  {
   "cell_type": "code",
   "execution_count": 10,
   "id": "b43d0c8d-5711-4d38-841e-f6d8be716a53",
   "metadata": {},
   "outputs": [
    {
     "name": "stdout",
     "output_type": "stream",
     "text": [
      "5014\n",
      "         pl_name  hostname              gaia_designation  sy_snum  sy_pnum  \\\n",
      "0       11 Com b    11 Com  Gaia DR2 3946945413106333696        2        1   \n",
      "1       11 UMi b    11 UMi  Gaia DR2 1696798367260229376        1        1   \n",
      "2       14 And b    14 And  Gaia DR2 1920113512486282240        1        1   \n",
      "3       14 Her b    14 Her  Gaia DR2 1385293808145621504        1        2   \n",
      "4     16 Cyg B b  16 Cyg B  Gaia DR2 2135550755683407232        3        1   \n",
      "...          ...       ...                           ...      ...      ...   \n",
      "5009   ups And b   ups And   Gaia DR2 348020448377061376        2        3   \n",
      "5010   ups And c   ups And   Gaia DR2 348020448377061376        2        3   \n",
      "5011   ups And d   ups And   Gaia DR2 348020448377061376        2        3   \n",
      "5012   ups Leo b   ups Leo  Gaia DR2 3794167001116433152        1        1   \n",
      "5013    xi Aql b    xi Aql  Gaia DR2 4298361114750843904        1        1   \n",
      "\n",
      "      discoverymethod  NEA_pl_orbper  NEA_pl_sma  NEA_pl_rade  NEA_pl_bmasse  \\\n",
      "0     Radial Velocity     326.030000    1.290000          NaN     6165.60000   \n",
      "1     Radial Velocity     516.219970    1.530000          NaN     4684.81420   \n",
      "2     Radial Velocity     185.840000    0.830000          NaN     1525.50000   \n",
      "3     Radial Velocity    1773.400020    2.930000          NaN     1481.08780   \n",
      "4     Radial Velocity     798.500000    1.660000          NaN      565.73740   \n",
      "...               ...            ...         ...          ...            ...   \n",
      "5009  Radial Velocity       4.617033    0.059222          NaN      218.53100   \n",
      "5010  Radial Velocity     241.258000    0.827774          NaN      629.59500   \n",
      "5011  Radial Velocity    1276.460000    2.513290          NaN     1313.22000   \n",
      "5012  Radial Velocity     385.200000    1.180000          NaN      162.09249   \n",
      "5013  Radial Velocity     136.750000    0.680000          NaN      890.00000   \n",
      "\n",
      "      ...  CKSII_st_age  CKSII_st_ageerr1  CKSII_st_ageerr2  CKSII_pl_rad  \\\n",
      "0     ...           NaN               NaN               NaN           NaN   \n",
      "1     ...           NaN               NaN               NaN           NaN   \n",
      "2     ...           NaN               NaN               NaN           NaN   \n",
      "3     ...           NaN               NaN               NaN           NaN   \n",
      "4     ...           NaN               NaN               NaN           NaN   \n",
      "...   ...           ...               ...               ...           ...   \n",
      "5009  ...           NaN               NaN               NaN           NaN   \n",
      "5010  ...           NaN               NaN               NaN           NaN   \n",
      "5011  ...           NaN               NaN               NaN           NaN   \n",
      "5012  ...           NaN               NaN               NaN           NaN   \n",
      "5013  ...           NaN               NaN               NaN           NaN   \n",
      "\n",
      "      CKSII_pl_raderr1  CKSII_pl_raderr2  CKSII_pl_sma  CKSII_pl_smaerr1  \\\n",
      "0                  NaN               NaN           NaN               NaN   \n",
      "1                  NaN               NaN           NaN               NaN   \n",
      "2                  NaN               NaN           NaN               NaN   \n",
      "3                  NaN               NaN           NaN               NaN   \n",
      "4                  NaN               NaN           NaN               NaN   \n",
      "...                ...               ...           ...               ...   \n",
      "5009               NaN               NaN           NaN               NaN   \n",
      "5010               NaN               NaN           NaN               NaN   \n",
      "5011               NaN               NaN           NaN               NaN   \n",
      "5012               NaN               NaN           NaN               NaN   \n",
      "5013               NaN               NaN           NaN               NaN   \n",
      "\n",
      "      CKSII_pl_smaerr2   EXOorCKS  \n",
      "0                  NaN  left_only  \n",
      "1                  NaN  left_only  \n",
      "2                  NaN  left_only  \n",
      "3                  NaN  left_only  \n",
      "4                  NaN  left_only  \n",
      "...                ...        ...  \n",
      "5009               NaN  left_only  \n",
      "5010               NaN  left_only  \n",
      "5011               NaN  left_only  \n",
      "5012               NaN  left_only  \n",
      "5013               NaN  left_only  \n",
      "\n",
      "[5014 rows x 72 columns]\n",
      "Number of CKS planets crossmatched with the exoplanets df (i.e. the NEA atm): 1445 out of 2025 Kepler planets in CKS.\n"
     ]
    }
   ],
   "source": [
    "# Merging exoplanets with CKS to start the exoplanets data frame:\n",
    "exoplanets = pd.merge(exoplanets, CKS, on=\"pl_koi_name\", how=\"left\", indicator = \"EXOorCKS\")\n",
    "print(exoplanets.shape[0])\n",
    "print(exoplanets)\n",
    "\n",
    "# The indicies of stars in the NEA that are also in the DR2 df (now merged into the exoplanets df):\n",
    "matched_CKS = np.where(exoplanets[\"EXOorCKS\"] == \"both\")\n",
    "not_matched_CKS = np.where(exoplanets[\"EXOorCKS\"] == \"right_only\")\n",
    "print(\"Number of CKS planets crossmatched with the exoplanets df (i.e. the NEA atm):\", matched_CKS[0].size, \"out of\", CKS_len, \"Kepler planets in CKS.\")\n",
    "#print(\"Number of unmatched stars from CKS:\", not_matched_CKS[0].size)"
   ]
  },
  {
   "cell_type": "code",
   "execution_count": 11,
   "id": "24fc3b0a-742b-4c29-84ad-11a3b8d5d8ac",
   "metadata": {},
   "outputs": [],
   "source": [
    "# Why does it say 0 \n",
    "#unmatched stars from CKS?\n",
    "# ^ I'm getting rid of the instances where the entry is only in the \n",
    "#right-hand column\n",
    "# some of the CKS planets are unconfirmed! the NEA only containes \n",
    "#confirmed planets\n",
    "# I do not delete the unconfirmed planets from CKS because the status \n",
    "#isn't up to date. There are 1298 confirmed and 464 not dispositioned\n",
    "# planets in CKS 2022_04_28 (numbers in CKS_processing)"
   ]
  },
  {
   "cell_type": "code",
   "execution_count": 15,
   "id": "1986ab37-533a-41ea-a490-0ead8d553f5b",
   "metadata": {},
   "outputs": [],
   "source": [
    "## Crossmatching with Michal's stellar phase-space densities:"
   ]
  },
  {
   "cell_type": "code",
   "execution_count": null,
   "id": "381d5c1c-43c8-439a-b900-5d1e24067894",
   "metadata": {},
   "outputs": [],
   "source": [
    "# TODO: load phase space densities earlier, only load/use cols u need\n",
    "# crossmatch"
   ]
  },
  {
   "cell_type": "code",
   "execution_count": 13,
   "id": "8a6eccc3-8d13-4310-9ac1-031203252f88",
   "metadata": {},
   "outputs": [],
   "source": [
    "## Classifying the uncertainties\n",
    "\n",
    "# TODO: classify which parameters are the 'best'\n",
    "# TODO: calculate SEPHI from best params"
   ]
  },
  {
   "cell_type": "code",
   "execution_count": 14,
   "id": "012cdf99-4bdd-4bc9-be9b-50ce71c8c84d",
   "metadata": {},
   "outputs": [
    {
     "ename": "NameError",
     "evalue": "name 'combined_percent_errs' is not defined",
     "output_type": "error",
     "traceback": [
      "\u001b[0;31m---------------------------------------------------------------------------\u001b[0m",
      "\u001b[0;31mNameError\u001b[0m                                 Traceback (most recent call last)",
      "\u001b[0;32m/tmp/ipykernel_58399/532820724.py\u001b[0m in \u001b[0;36m<module>\u001b[0;34m\u001b[0m\n\u001b[1;32m      1\u001b[0m \u001b[0;31m# Calculating the mean percentage error for each version of stellar lum:\u001b[0m\u001b[0;34m\u001b[0m\u001b[0;34m\u001b[0m\u001b[0m\n\u001b[0;32m----> 2\u001b[0;31m \u001b[0mNEA_comb_errs\u001b[0m \u001b[0;34m=\u001b[0m \u001b[0mcombined_percent_errs\u001b[0m\u001b[0;34m(\u001b[0m\u001b[0mexoplanets\u001b[0m\u001b[0;34m[\u001b[0m\u001b[0;34m\"NEA_lum\"\u001b[0m\u001b[0;34m]\u001b[0m\u001b[0;34m,\u001b[0m \u001b[0mexoplanets\u001b[0m\u001b[0;34m[\u001b[0m\u001b[0;34m\"NEA_lumerr1\"\u001b[0m\u001b[0;34m]\u001b[0m\u001b[0;34m,\u001b[0m \u001b[0mexoplanets\u001b[0m\u001b[0;34m[\u001b[0m\u001b[0;34m\"NEA_lumerr2\"\u001b[0m\u001b[0;34m]\u001b[0m \u001b[0;34m)\u001b[0m\u001b[0;34m\u001b[0m\u001b[0;34m\u001b[0m\u001b[0m\n\u001b[0m\u001b[1;32m      3\u001b[0m \u001b[0mNEAc_comb_errs\u001b[0m \u001b[0;34m=\u001b[0m \u001b[0mcombined_percent_errs\u001b[0m\u001b[0;34m(\u001b[0m\u001b[0mexoplanets\u001b[0m\u001b[0;34m[\u001b[0m\u001b[0;34m\"NEAc_lum\"\u001b[0m\u001b[0;34m]\u001b[0m\u001b[0;34m,\u001b[0m \u001b[0mexoplanets\u001b[0m\u001b[0;34m[\u001b[0m\u001b[0;34m\"NEAc_lumerr1\"\u001b[0m\u001b[0;34m]\u001b[0m\u001b[0;34m,\u001b[0m \u001b[0mexoplanets\u001b[0m\u001b[0;34m[\u001b[0m\u001b[0;34m\"NEAc_lumerr2\"\u001b[0m\u001b[0;34m]\u001b[0m \u001b[0;34m)\u001b[0m\u001b[0;34m\u001b[0m\u001b[0;34m\u001b[0m\u001b[0m\n\u001b[1;32m      4\u001b[0m \u001b[0;34m\u001b[0m\u001b[0m\n\u001b[1;32m      5\u001b[0m \u001b[0;31m# Calculating the mean percentage error for each version of stellar teff:\u001b[0m\u001b[0;34m\u001b[0m\u001b[0;34m\u001b[0m\u001b[0m\n",
      "\u001b[0;31mNameError\u001b[0m: name 'combined_percent_errs' is not defined"
     ]
    }
   ],
   "source": [
    "# Calculating the mean percentage error for each version of stellar lum:\n",
    "NEA_comb_errs = combined_percent_errs(exoplanets[\"NEA_lum\"], exoplanets[\"NEA_lumerr1\"], exoplanets[\"NEA_lumerr2\"] )\n",
    "NEAc_comb_errs = combined_percent_errs(exoplanets[\"NEAc_lum\"], exoplanets[\"NEAc_lumerr1\"], exoplanets[\"NEAc_lumerr2\"] )\n",
    "\n",
    "# Calculating the mean percentage error for each version of stellar teff:\n",
    "\n",
    "\n",
    "# Calculating the mean percentage error for each version of stellar age:\n"
   ]
  },
  {
   "cell_type": "code",
   "execution_count": null,
   "id": "f999ff48-6880-41dc-8572-a617dee5605f",
   "metadata": {},
   "outputs": [],
   "source": [
    "# Calculating the percentage errors\n",
    "\n",
    "# Luminosity:\n",
    "lum_percentage_errs = pd.DataFrame(data=[NEA_comb_errs, NEAc_comb_errs]).transpose()\n",
    "# TODO: Is there a way to do this without transposing?\n",
    "print(lum_percentage_errs)\n",
    "\n",
    "# Effective temp:\n",
    "#teff_percentage_errs =\n",
    "\n",
    "# Stellar age:\n",
    "#age_percentage_errs ="
   ]
  },
  {
   "cell_type": "code",
   "execution_count": null,
   "id": "929e76f5-d2e6-478f-9caf-0512318d3781",
   "metadata": {},
   "outputs": [],
   "source": [
    "# Find the location of the minimum value in each row\n",
    "\n",
    "# Luminosity:\n",
    "lum_flags = lum_percentage_errs.idxmin(axis=1, skipna=True)\n",
    "# Returns the column name/index of the smallest value in each row\n",
    "# With skipna=True, NaNs are ignored if there are real values in the row\n",
    "# If all values in the row are NaN, then NaN is returned\n",
    "print(lum_flags)\n",
    "\n",
    "# Effective temp:\n",
    "#teff_flags = teff_percentage_errs.idxmin(axis=1, skipna=True)\n",
    "\n",
    "# Stellar age:\n",
    "#age_flags = age_percentage_errs.idxmin(axis=1, skipna=True)"
   ]
  },
  {
   "cell_type": "code",
   "execution_count": null,
   "id": "3b3e9d2e-1776-4877-bb3a-d5d5989abc7b",
   "metadata": {},
   "outputs": [],
   "source": [
    "# TODO: add flags columns to exoplanets df\n",
    "#exoplanets[\"lum_flags\"] = lum_flags\n",
    "#[[\"lum_flags\", \"teff_flags\", \"age_flags\"]] \n",
    "\n",
    "# TODO: make arrays of the 'best' values using the flags"
   ]
  }
 ],
 "metadata": {
  "kernelspec": {
   "display_name": "Python 3 (ipykernel)",
   "language": "python",
   "name": "python3"
  },
  "language_info": {
   "codemirror_mode": {
    "name": "ipython",
    "version": 3
   },
   "file_extension": ".py",
   "mimetype": "text/x-python",
   "name": "python",
   "nbconvert_exporter": "python",
   "pygments_lexer": "ipython3",
   "version": "3.9.7"
  }
 },
 "nbformat": 4,
 "nbformat_minor": 5
}
