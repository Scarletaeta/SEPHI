{
 "cells": [
  {
   "cell_type": "code",
   "execution_count": 1,
   "id": "7ecd57bb-e8b6-4667-b308-9d4952b40050",
   "metadata": {},
   "outputs": [],
   "source": [
    "import numpy as np\n",
    "import pandas as pd\n",
    "#from math import pi, sqrt\n",
    "from os import path\n",
    "\n",
    "#import astropy.table #import tables\n",
    "#from astropy import units as u\n",
    "#from astropy import constants as const\n",
    "\n",
    "from analyse_errs import calc_percent_errs, combined_percent_errs"
   ]
  },
  {
   "cell_type": "code",
   "execution_count": 2,
   "id": "eb48932d-6ca1-4f62-8096-48d087e13c18",
   "metadata": {},
   "outputs": [],
   "source": [
    "# Data directory:\n",
    "data_dir = \"~/OneDrive/SEPHI_data/\"\n",
    "#data_dir = \"~/Scarlett/OneDrive - Liverpool John Moores University/SEPHI_data/\""
   ]
  },
  {
   "cell_type": "code",
   "execution_count": 9,
   "id": "5c49a843-5749-437b-960e-f13776f368c3",
   "metadata": {},
   "outputs": [
    {
     "name": "stdout",
     "output_type": "stream",
     "text": [
      "4734\n"
     ]
    }
   ],
   "source": [
    "# Read the NASA Exoplanet Archive data:\n",
    "NASA_EA = pd.read_csv(path.join(data_dir, f\"NASA_EA_processed.csv\")) \n",
    "print(NASA_EA.shape[0])\n",
    "#print(NASA_EA.head())"
   ]
  },
  {
   "cell_type": "code",
   "execution_count": null,
   "id": "f157ce19-a36f-4a5a-bd36-0babc02f6f88",
   "metadata": {},
   "outputs": [],
   "source": [
    "# Read the Gaia DR2 data:\n",
    "dr2 = pd.read_csv(path.join(data_dir, f\"dr2-processed.csv\"))\n",
    "print(dr2.shape[0])"
   ]
  },
  {
   "cell_type": "code",
   "execution_count": null,
   "id": "3a971e2f-0b8c-41a2-9d2f-5f3a527e2f43",
   "metadata": {},
   "outputs": [],
   "source": [
    "## Crossmatching"
   ]
  },
  {
   "cell_type": "code",
   "execution_count": 10,
   "id": "46894b22-79da-443c-a7b2-58ab2b8c31b4",
   "metadata": {},
   "outputs": [],
   "source": [
    "# Merging the NASA EA and Gaia DR2 to start the exoplanets data frame:\n",
    "exoplanets = pd.merge(NASA_EA, dr2, on=\"source_id\", how=\"left\")\n",
    "# TODO: I should get the merge to repeat itself on repeated host stars\n",
    "# Or should I get rid of repeated hosts, do everything I need to do on one entry (i.e. the first planet around each host)\n",
    "# Then reintroduce the rest of the planets?"
   ]
  },
  {
   "cell_type": "code",
   "execution_count": null,
   "id": "3749f0c5-86e3-4f07-9172-255929b2a826",
   "metadata": {},
   "outputs": [],
   "source": []
  },
  {
   "cell_type": "code",
   "execution_count": null,
   "id": "b43d0c8d-5711-4d38-841e-f6d8be716a53",
   "metadata": {},
   "outputs": [],
   "source": [
    "# TODO: Read the CKS data\n",
    "# TODO: Apply CKS code\n",
    "# TODO: classify which parameters are the 'best'\n",
    "# TODO: calculate "
   ]
  },
  {
   "cell_type": "code",
   "execution_count": null,
   "id": "24fc3b0a-742b-4c29-84ad-11a3b8d5d8ac",
   "metadata": {},
   "outputs": [],
   "source": []
  },
  {
   "cell_type": "code",
   "execution_count": null,
   "id": "8a6eccc3-8d13-4310-9ac1-031203252f88",
   "metadata": {},
   "outputs": [],
   "source": [
    "## Classifying the uncertainties"
   ]
  },
  {
   "cell_type": "code",
   "execution_count": 4,
   "id": "012cdf99-4bdd-4bc9-be9b-50ce71c8c84d",
   "metadata": {},
   "outputs": [],
   "source": [
    "# Calculating the mean percentage error for each version of stellar lum:\n",
    "NEA_comb_errs = combined_percent_errs(exoplanets[\"NEA_lum\"], exoplanets[\"NEA_lumerr1\"], exoplanets[\"NEA_lumerr2\"] )\n",
    "NEAc_comb_errs = combined_percent_errs(exoplanets[\"NEAc_lum\"], exoplanets[\"NEAc_lumerr1\"], exoplanets[\"NEAc_lumerr2\"] )\n",
    "\n",
    "# Calculating the mean percentage error for each version of stellar teff:\n",
    "\n",
    "\n",
    "# Calculating the mean percentage error for each version of stellar age:\n"
   ]
  },
  {
   "cell_type": "code",
   "execution_count": 5,
   "id": "f999ff48-6880-41dc-8572-a617dee5605f",
   "metadata": {},
   "outputs": [
    {
     "name": "stdout",
     "output_type": "stream",
     "text": [
      "              0          1\n",
      "0     17.960164  22.679658\n",
      "1           NaN  19.560608\n",
      "2           NaN  18.257637\n",
      "3           NaN   2.852068\n",
      "4           NaN   1.855344\n",
      "...         ...        ...\n",
      "4729        NaN        NaN\n",
      "4730        NaN        NaN\n",
      "4731        NaN        NaN\n",
      "4732  31.775674        NaN\n",
      "4733        NaN        NaN\n",
      "\n",
      "[4734 rows x 2 columns]\n"
     ]
    }
   ],
   "source": [
    "# Calculating the percentage errors\n",
    "\n",
    "# Luminosity:\n",
    "lum_percentage_errs = pd.DataFrame(data=[NEA_comb_errs, NEAc_comb_errs]).transpose()\n",
    "# TODO: Is there a way to do this without transposing?\n",
    "print(lum_percentage_errs)\n",
    "\n",
    "# Effective temp:\n",
    "#teff_percentage_errs =\n",
    "\n",
    "# Stellar age:\n",
    "#age_percentage_errs ="
   ]
  },
  {
   "cell_type": "code",
   "execution_count": 6,
   "id": "929e76f5-d2e6-478f-9caf-0512318d3781",
   "metadata": {},
   "outputs": [
    {
     "data": {
      "text/plain": [
       "0       0.0\n",
       "1       1.0\n",
       "2       1.0\n",
       "3       1.0\n",
       "4       1.0\n",
       "       ... \n",
       "4729    NaN\n",
       "4730    NaN\n",
       "4731    NaN\n",
       "4732    0.0\n",
       "4733    NaN\n",
       "Length: 4734, dtype: float64"
      ]
     },
     "execution_count": 6,
     "metadata": {},
     "output_type": "execute_result"
    }
   ],
   "source": [
    "# Find the location of the minimum value in each row\n",
    "\n",
    "# Luminosity:\n",
    "lum_flags = lum_percentage_errs.idxmin(axis=1, skipna=True)\n",
    "# Returns the column name/index of the smallest value in each row\n",
    "# With skipna=True, NaNs are ignored if there are real values in the row\n",
    "# If all values in the row are NaN, then NaN is returned\n",
    "print(lum_flags)\n",
    "\n",
    "# Effective temp:\n",
    "#teff_flags = teff_percentage_errs.idxmin(axis=1, skipna=True)\n",
    "\n",
    "# Stellar age:\n",
    "#age_flags = age_percentage_errs.idxmin(axis=1, skipna=True)"
   ]
  },
  {
   "cell_type": "code",
   "execution_count": null,
   "id": "3b3e9d2e-1776-4877-bb3a-d5d5989abc7b",
   "metadata": {},
   "outputs": [],
   "source": [
    "# TODO: add flags columns to exoplanets df\n",
    "#exoplanets[\"lum_flags\"] = lum_flags\n",
    "#[[\"lum_flags\", \"teff_flags\", \"age_flags\"]] \n",
    "\n",
    "# TODO: make arrays of the 'best' values using the flags"
   ]
  }
 ],
 "metadata": {
  "kernelspec": {
   "display_name": "Python 3 (ipykernel)",
   "language": "python",
   "name": "python3"
  },
  "language_info": {
   "codemirror_mode": {
    "name": "ipython",
    "version": 3
   },
   "file_extension": ".py",
   "mimetype": "text/x-python",
   "name": "python",
   "nbconvert_exporter": "python",
   "pygments_lexer": "ipython3",
   "version": "3.9.7"
  }
 },
 "nbformat": 4,
 "nbformat_minor": 5
}
