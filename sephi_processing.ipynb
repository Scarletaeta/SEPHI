{
 "cells": [
  {
   "cell_type": "code",
   "execution_count": 6,
   "id": "3bbbe58d-24fb-4ab2-880e-dde3b326b6fc",
   "metadata": {},
   "outputs": [],
   "source": [
    "import numpy as np\n",
    "import pandas as pd\n",
    "from astropy.constants import sigma_sb, L_sun, R_sun\n",
    "from math import pi, sqrt\n",
    "\n",
    "#from preprocessing.calc_stellar_params import calc_st_lum, calc_st_teff\n",
    "from preprocessing.calc_stellar_params import calc_st_lum\n",
    "import preprocessing.calc_sephi"
   ]
  },
  {
   "cell_type": "code",
   "execution_count": 2,
   "id": "cdbbadb7-da36-4706-be90-64a573103b9d",
   "metadata": {},
   "outputs": [],
   "source": [
    "# Exoplanet directory:\n",
    "exoplanets_dir = \"~/Scarlett/OneDrive - Liverpool John Moores University/SEPHI_data/NASA_EA_2022_02_09.csv\"\n",
    "#exoplanets_dir = \"~/OneDrive/SEPHI_data/NASA_EA_2022_02_09.csv\"\n",
    "\n",
    "# The length of the header in the exoplanets csv file:\n",
    "header_length = 116"
   ]
  },
  {
   "cell_type": "code",
   "execution_count": 3,
   "id": "d213db90-00a3-450b-a2ea-0454cd71e6f8",
   "metadata": {},
   "outputs": [],
   "source": [
    "# Read data\n",
    "exoplanets = pd.read_csv(exoplanets_dir, skiprows=header_length, \n",
    "                         usecols=[\"pl_name\", \"hostname\", \"gaia_id\", \"sy_snum\", \"sy_pnum\", \"discoverymethod\", \"pl_orbper\", \"pl_orbsmax\", \"pl_rade\", \"pl_bmasse\", \"pl_dens\", \"pl_orbeccen\", \"pl_eqt\", \"pl_orbincl\", \"st_teff\", \"st_tefferr1\", \"st_tefferr2\", \"st_rad\", \"st_raderr1\", \"st_raderr2\", \"st_mass\", \"st_met\", \"st_lum\", \"st_lumerr1\", \"st_lumerr2\", \"st_logg\", \"st_age\", \"st_ageerr1\", \"st_ageerr2\", \"sy_dist\", \"sy_plx\", \"sy_gaiamag\"])\n",
    "#exculuded \"st_spectype\" due to csv formatting"
   ]
  },
  {
   "cell_type": "code",
   "execution_count": 4,
   "id": "1effc4d5-fa41-4818-94c7-bd9b3c1b2323",
   "metadata": {},
   "outputs": [
    {
     "name": "stdout",
     "output_type": "stream",
     "text": [
      "      pl_name  hostname                       gaia_id  sy_snum  sy_pnum  \\\n",
      "0    11 Com b    11 Com  Gaia DR2 3946945413106333696        2        1   \n",
      "1    11 UMi b    11 UMi  Gaia DR2 1696798367260229376        1        1   \n",
      "2    14 And b    14 And  Gaia DR2 1920113512486282240        1        1   \n",
      "3    14 Her b    14 Her  Gaia DR2 1385293808145621504        1        2   \n",
      "4  16 Cyg B b  16 Cyg B  Gaia DR2 2135550755683407232        3        1   \n",
      "\n",
      "   discoverymethod   pl_orbper  pl_orbsmax  pl_rade  pl_bmasse  ...  st_lum  \\\n",
      "0  Radial Velocity   326.03000        1.29      NaN  6165.6000  ...   2.243   \n",
      "1  Radial Velocity   516.21997        1.53      NaN  4684.8142  ...     NaN   \n",
      "2  Radial Velocity   185.84000        0.83      NaN  1525.5000  ...   1.763   \n",
      "3  Radial Velocity  1773.40002        2.93      NaN  1481.0878  ...     NaN   \n",
      "4  Radial Velocity   798.50000        1.66      NaN   565.7374  ...     NaN   \n",
      "\n",
      "   st_lumerr1  st_lumerr2  st_logg  st_age  st_ageerr1  st_ageerr2   sy_dist  \\\n",
      "0       0.071      -0.085     2.31     NaN         NaN         NaN   93.1846   \n",
      "1         NaN         NaN     1.93     NaN         NaN         NaN  125.3210   \n",
      "2         NaN         NaN     2.63     NaN         NaN         NaN   75.4392   \n",
      "3         NaN         NaN     4.45     NaN         NaN         NaN   17.9323   \n",
      "4         NaN         NaN     4.36     NaN         NaN         NaN   21.1397   \n",
      "\n",
      "     sy_plx  sy_gaiamag  \n",
      "0  10.71040     4.44038  \n",
      "1   7.95388     4.56216  \n",
      "2  13.22890     4.91781  \n",
      "3  55.73630     6.38300  \n",
      "4  47.27540     6.06428  \n",
      "\n",
      "[5 rows x 32 columns]\n"
     ]
    }
   ],
   "source": [
    "print(exoplanets.head())"
   ]
  },
  {
   "cell_type": "code",
   "execution_count": 4,
   "id": "a6ccf2aa-63af-4576-8989-cb099d61a039",
   "metadata": {},
   "outputs": [],
   "source": [
    "# Get rid of exoplanets whose star's haven't been observed by Gaia\n",
    "exoplanets.dropna(subset=[\"gaia_id\"], inplace=True)"
   ]
  },
  {
   "cell_type": "code",
   "execution_count": 31,
   "id": "72db17b1-7385-4a3e-856e-2c4fe78e1bd5",
   "metadata": {},
   "outputs": [
    {
     "name": "stdout",
     "output_type": "stream",
     "text": [
      "Number of exoplanets with no stellar age listed:  2450\n",
      "Number of exoplanets with stellar age listed:  2284\n"
     ]
    }
   ],
   "source": [
    "# Not many of the exoplanets have the stellar age listed. Working out how many have stellar age:\n",
    "#count_NaN = exoplanets[\"st_age\"].isna().sum()\n",
    "#count_value = exoplanets[\"st_age\"].notna().sum()\n",
    "\n",
    "print(\"Number of exoplanets with no stellar age listed: \", exoplanets[\"st_age\"].isna().sum())\n",
    "print(\"Number of exoplanets with stellar age listed: \", exoplanets[\"st_age\"].notna().sum())"
   ]
  },
  {
   "cell_type": "code",
   "execution_count": 5,
   "id": "22d06095-0e3e-4d44-aa2e-77954f8fc1e1",
   "metadata": {},
   "outputs": [
    {
     "name": "stdout",
     "output_type": "stream",
     "text": [
      "Number of exoplanets with no teff listed:  227\n",
      "Number of exoplanets with teff listed:  4507\n"
     ]
    }
   ],
   "source": [
    "# A few don't have stellar effective temperature listed (st_teff):\n",
    "print(\"Number of exoplanets with no teff listed: \", exoplanets[\"st_teff\"].isna().sum())\n",
    "print(\"Number of exoplanets with teff listed: \", exoplanets[\"st_teff\"].notna().sum())"
   ]
  },
  {
   "cell_type": "code",
   "execution_count": 10,
   "id": "0587b96a-0445-4158-9d04-f8a952b51333",
   "metadata": {},
   "outputs": [
    {
     "name": "stdout",
     "output_type": "stream",
     "text": [
      "Number of exoplanets with no st_rad listed:  456\n",
      "Number of exoplanets with st_rad listed:  4458\n",
      "Number of exoplanets with st_raderr1 listed:  4305\n",
      "Number of exoplanets with st_raderr2 listed:  4280\n"
     ]
    }
   ],
   "source": [
    "# Some don't have stellar radius listed\n",
    "print(\"Number of exoplanets with no st_rad listed: \", exoplanets[\"st_rad\"].isna().sum())\n",
    "print(\"Number of exoplanets with st_rad listed: \", exoplanets[\"st_rad\"].notna().sum())\n",
    "\n",
    "print(\"Number of exoplanets with st_raderr1 listed: \", exoplanets[\"st_raderr1\"].notna().sum())\n",
    "print(\"Number of exoplanets with st_raderr2 listed: \", exoplanets[\"st_raderr2\"].notna().sum())"
   ]
  },
  {
   "cell_type": "code",
   "execution_count": 7,
   "id": "49930776-d8c6-44f8-b373-d85fe9502818",
   "metadata": {},
   "outputs": [
    {
     "name": "stdout",
     "output_type": "stream",
     "text": [
      "Number of exoplanets with no st_age listed:  2450\n",
      "Number of exoplanets with st_age listed:  2284\n"
     ]
    }
   ],
   "source": [
    "# Some don't have stellar age listed\n",
    "print(\"Number of exoplanets with no st_age listed: \", exoplanets[\"st_age\"].isna().sum())\n",
    "print(\"Number of exoplanets with st_age listed: \", exoplanets[\"st_age\"].notna().sum())"
   ]
  },
  {
   "cell_type": "code",
   "execution_count": 41,
   "id": "1dec675a-74d7-40bc-b4ad-7703a40c561b",
   "metadata": {},
   "outputs": [
    {
     "name": "stdout",
     "output_type": "stream",
     "text": [
      "Number of exoplanets with st_eff and st_rad listed (can calc L):  4311\n",
      "Number of exoplanets with st_eff, st_rad and st_age listed (can calc SEPHI):  2148\n"
     ]
    }
   ],
   "source": [
    "# Number of stars with st_rad and st_teff:\n",
    "count = 0\n",
    "for i in range(exoplanets.shape[0]):\n",
    "    if pd.notna(exoplanets[\"st_teff\"].iloc[i]) and pd.notna(exoplanets[\"st_rad\"].iloc[i]):\n",
    "        count+=1\n",
    "    else:\n",
    "        continue\n",
    "\n",
    "print(\"Number of exoplanets with st_eff and st_rad listed (can calc L): \", count)\n",
    "\n",
    "#exoplanets[\"st_teff\"].iloc[i]\n",
    "    \n",
    "# Number of stars with st_rad, st_teff and st_age:\n",
    "count = 0\n",
    "for i in range(exoplanets.shape[0]):\n",
    "    if pd.notna(exoplanets[\"st_teff\"].iloc[i]) and pd.notna(exoplanets[\"st_rad\"].iloc[i]) and pd.notna(exoplanets[\"st_age\"].iloc[i]):\n",
    "        count+=1\n",
    "    else:\n",
    "        continue\n",
    "\n",
    "print(\"Number of exoplanets with st_eff, st_rad and st_age listed (can calc SEPHI): \", count)"
   ]
  },
  {
   "cell_type": "code",
   "execution_count": null,
   "id": "4b76e482-acef-4a19-ab81-a0da2ea8111c",
   "metadata": {},
   "outputs": [
    {
     "name": "stdout",
     "output_type": "stream",
     "text": [
      "Number of exoplanets with no L listed:  3825\n",
      "Number of exoplanets with L listed:  909\n"
     ]
    }
   ],
   "source": [
    "# Not many have stellar luminosity listed (but this can be calculated):\n",
    "print(\"Number of exoplanets with no L listed: \", exoplanets[\"st_lum\"].isna().sum())\n",
    "print(\"Number of exoplanets with L listed: \", exoplanets[\"st_lum\"].notna().sum())"
   ]
  },
  {
   "cell_type": "code",
   "execution_count": 23,
   "id": "c4b5c7ec-d660-41c5-8108-47df672aabc8",
   "metadata": {},
   "outputs": [
    {
     "name": "stdout",
     "output_type": "stream",
     "text": [
      "3.828e+26\n"
     ]
    }
   ],
   "source": [
    "# Do more have their luminosities listed in Gaia?\n",
    "print(L_sun.value)"
   ]
  },
  {
   "cell_type": "code",
   "execution_count": null,
   "id": "297b374c-fd51-4bc9-ad2f-00e85463c205",
   "metadata": {},
   "outputs": [],
   "source": [
    "def calc_st_teff(R, dR1, dR2, L, dL1, dL2):\n",
    "    \"\"\"\n",
    "    R = stellar radius [solar radius]\n",
    "    dR1 = positive error\n",
    "    dR2 = negative error\n",
    "    L = stellar luminosity\n",
    "    dL1 = positive error\n",
    "    dL2 = negative error\n",
    "    \n",
    "    returns stellar effective temperature, positive error, negative error\n",
    "    \"\"\"\n",
    "    T = (2*R)**(-2) * ( L / (pi*sigma) )**(0.25)\n",
    "    dT1 = 0\n",
    "    dT2 = 0\n",
    "    return T, dT1, dT2"
   ]
  },
  {
   "cell_type": "code",
   "execution_count": 18,
   "id": "e17ed89a-f04a-40d6-91b4-a8de73dd397b",
   "metadata": {},
   "outputs": [
    {
     "name": "stdout",
     "output_type": "stream",
     "text": [
      "4734\n"
     ]
    }
   ],
   "source": [
    "print(exoplanets.shape[0])"
   ]
  },
  {
   "cell_type": "code",
   "execution_count": 7,
   "id": "3044524f-dee6-4525-b4d4-f1656d937341",
   "metadata": {},
   "outputs": [
    {
     "name": "stdout",
     "output_type": "stream",
     "text": [
      "[[ 2.21604708  0.0984965   4.44469367 -0.0984965   4.44469367]\n",
      " [ 2.40120052  0.08495064  3.53784033 -0.08495064  3.53784033]\n",
      " [ 1.7671425   0.07929191  4.48701278 -0.07929191  4.48701278]\n",
      " ...\n",
      " [        nan         nan         nan         nan         nan]\n",
      " [ 1.79262456         nan         nan         nan         nan]\n",
      " [ 1.83076776         nan         nan         nan         nan]]\n"
     ]
    }
   ],
   "source": [
    "# Estimate L for stars in 'exoplanets'\n",
    "luminosities = np.zeros( (exoplanets.shape[0],5) )\n",
    "for i in range(exoplanets.shape[0]):\n",
    "\n",
    "    luminosities[i] = calc_st_lum(exoplanets[\"st_teff\"].iloc[i], exoplanets[\"st_tefferr1\"].iloc[i], exoplanets[\"st_tefferr2\"].iloc[i], exoplanets[\"st_rad\"].iloc[i], exoplanets[\"st_raderr1\"].iloc[i], exoplanets[\"st_raderr2\"].iloc[i]) \n",
    "    # TODO: If st_lum is listed as nan or if it is a real value with a larger error than the new value then overwrite the previous values\n",
    "    \"\"\"\n",
    "    if pd.isna(exoplanets[\"st_lum\"].iloc[i]) or ( dL1 < exoplanets[\"st_lumerr1\"].iloc[i] and pd.notna(exoplanets[\"st_lum\"].iloc[i]) ): \n",
    "        #TODO: overwrite the previous values in exoplanets df\n",
    "        exoplanets.loc[i,\"st_lum\"] = L\n",
    "        exoplanets.loc[i, \"st_lumerr1\"] = dL1\n",
    "        exoplanets.loc[i, \"st_lumerr2\"] = dL2               \n",
    "        print(L, dL1, dL2)                   \n",
    "    else:                                                        \n",
    "        continue  \n",
    "        \"\"\"\n",
    "print(luminosities)"
   ]
  },
  {
   "cell_type": "code",
   "execution_count": 8,
   "id": "488429c6-268a-4606-8c63-acd5d584d4d9",
   "metadata": {},
   "outputs": [],
   "source": [
    "# Add the luminosities columns to the exoplanets data frame:\n",
    "exoplanets[ [\"calc_L\", \"calc_Lerr1\", \"calc_L%err1\", \"calc_Lerr2\", \"calc_L%err2\"] ] = luminosities\n",
    "#print(exoplanets)"
   ]
  },
  {
   "cell_type": "code",
   "execution_count": 10,
   "id": "21b1f15d-c6e4-4cf9-b95d-682e6d9138ba",
   "metadata": {},
   "outputs": [
    {
     "name": "stdout",
     "output_type": "stream",
     "text": [
      "[1 2 2 2 2 1 3 1 1 1 1 2 1 1 3 3 3 2 3 2 2 2 1 1 1 1 1 2 2 2 2 2 3 2 2 2 1\n",
      " 1 3 2 2 2 2 3 2 2 1 2 1 2 2 2 2 2 3 2 1 1 3 2 3 3 1 1 2 3 2 2 2 2 1 2 3 3\n",
      " 2 3 2 2 2 2 2 2 2 2 2 1 2 3 3 2 2 2 2 2 2 2 2 2 2 2]\n",
      "4734\n"
     ]
    }
   ],
   "source": [
    "# Compare the uncertainties in st_lum and calc_L where calc_L has been computed: \n",
    "# Give a classification according to which error is lower:\n",
    "# 0 (equal), 1 (st_lum_combined is 'best'), 2 (calc_L_combined is 'best'), 3 (no classification, neither have both +ve and -ve errors avaiable)\n",
    "\n",
    "# Array to store classification:\n",
    "classification = np.zeros( (exoplanets.shape[0]), dtype=int )\n",
    "\n",
    "for i in range(exoplanets.shape[0]):\n",
    "    \n",
    "    # If both positive and negative errors are available for both st_lum and calc_L:\n",
    "    if pd.notna(exoplanets[\"st_lumerr1\"].iloc[i]) and pd.notna(exoplanets[\"st_lumerr2\"].iloc[i]) and pd.notna(exoplanets[\"calc_Lerr1\"].iloc[i]) and pd.notna(exoplanets[\"calc_Lerr2\"].iloc[i]):\n",
    "        # Calculate the percentage errors in st_lum:\n",
    "        percent_err1 = exoplanets[\"st_lumerr1\"].iloc[i] / exoplanets[\"st_lum\"].iloc[i] * 100\n",
    "        percent_err2 = (-1) * exoplanets[\"st_lumerr2\"].iloc[i] / exoplanets[\"st_lum\"].iloc[i] * 100\n",
    "        \n",
    "        # The mean percentage error on st_lum: \n",
    "        st_lum_combined = ( percent_err1 + percent_err2 ) / 2\n",
    "        \n",
    "        # The mean percentage error on calc_L:\n",
    "        calc_L_combined = ( exoplanets[\"calc_L%err1\"].iloc[i] + exoplanets[\"calc_L%err1\"].iloc[i] ) / 2\n",
    "        \n",
    "        # Compare the mean percentage errors and assign a classification accorsing to which is smallest:\n",
    "        if st_lum_combined == calc_L_combined:\n",
    "            classification[i] = 0\n",
    "        elif st_lum_combined < calc_L_combined:\n",
    "            classification[i] = 1\n",
    "        else: #calc_L_combined < st_lum_combined:\n",
    "            classification[i] = 2\n",
    "            \n",
    "    # If the error is available on st_lum but not on calc_L, count st_lum as the 'better' one:\n",
    "    elif pd.notna(exoplanets[\"st_lumerr1\"].iloc[i]) and pd.notna(exoplanets[\"st_lumerr2\"].iloc[i]) and pd.isna(exoplanets[\"calc_Lerr1\"].iloc[i]) and pd.isna(exoplanets[\"calc_Lerr2\"].iloc[i]):\n",
    "        classification[i] = 1\n",
    "    \n",
    "     # If the error is available on calc_L and but not on st_lum, count calc_L as the 'better' one:\n",
    "    elif pd.isna(exoplanets[\"st_lumerr1\"].iloc[i]) and pd.isna(exoplanets[\"st_lumerr2\"].iloc[i]) and pd.notna(exoplanets[\"calc_Lerr1\"].iloc[i]) and pd.notna(exoplanets[\"calc_Lerr2\"].iloc[i]):\n",
    "        classification[i] = 2\n",
    "    \n",
    "    # If neither st_lum nor calc_L have both positive and negative errors, then they get no classification (3):\n",
    "    else:\n",
    "        classification[i] = 3\n",
    "                                                                                                             \n",
    "print(classification[0:100])\n",
    "print(len(classification))"
   ]
  },
  {
   "cell_type": "code",
   "execution_count": 11,
   "id": "04c4b578-bcc4-4058-8048-21b4f67251bb",
   "metadata": {},
   "outputs": [
    {
     "name": "stdout",
     "output_type": "stream",
     "text": [
      "Number of exoplanets with errors in st_lum < calc_L:  448 \n",
      "NB: there are 909 planets with st_lum listed.\n",
      "Number of exoplanets with errors in calc_L < st_lum:  3774\n"
     ]
    }
   ],
   "source": [
    "print(\"Number of exoplanets with errors in st_lum < calc_L: \", np.count_nonzero(classification == 1),\"\\nNB: there are 909 planets with st_lum listed.\") \n",
    "print(\"Number of exoplanets with errors in calc_L < st_lum: \", np.count_nonzero(classification == 2))"
   ]
  },
  {
   "cell_type": "code",
   "execution_count": 16,
   "id": "27603a96-4449-421a-93bc-92f3b1c4e1ee",
   "metadata": {},
   "outputs": [
    {
     "ename": "NameError",
     "evalue": "name 'classification' is not defined",
     "output_type": "error",
     "traceback": [
      "\u001b[0;31m---------------------------------------------------------------------------\u001b[0m",
      "\u001b[0;31mNameError\u001b[0m                                 Traceback (most recent call last)",
      "\u001b[0;32m/tmp/ipykernel_258/345671157.py\u001b[0m in \u001b[0;36m<module>\u001b[0;34m\u001b[0m\n\u001b[1;32m      1\u001b[0m \u001b[0;31m# Add the crror class column to the exoplanets data frame\u001b[0m\u001b[0;34m\u001b[0m\u001b[0;34m\u001b[0m\u001b[0m\n\u001b[0;32m----> 2\u001b[0;31m \u001b[0mexoplanets\u001b[0m\u001b[0;34m[\u001b[0m \u001b[0;34m\"err_class\"\u001b[0m \u001b[0;34m]\u001b[0m \u001b[0;34m=\u001b[0m \u001b[0mclassification\u001b[0m\u001b[0;34m\u001b[0m\u001b[0;34m\u001b[0m\u001b[0m\n\u001b[0m\u001b[1;32m      3\u001b[0m \u001b[0;31m#print(exoplanets)\u001b[0m\u001b[0;34m\u001b[0m\u001b[0;34m\u001b[0m\u001b[0m\n",
      "\u001b[0;31mNameError\u001b[0m: name 'classification' is not defined"
     ]
    }
   ],
   "source": [
    "# Add the crror class column to the exoplanets data frame\n",
    "exoplanets[ \"err_class\" ] = classification\n",
    "#print(exoplanets)"
   ]
  },
  {
   "cell_type": "code",
   "execution_count": 14,
   "id": "cb063a40-06be-4de4-83b9-645606704b9b",
   "metadata": {},
   "outputs": [],
   "source": [
    "# Calculate the stellar effective temperature from st_rad and st_lum:\n",
    "def calc_st_teff(R, dR1, dR2, log_L, dlog_L1, dlog_L2):\n",
    "    \"\"\"\n",
    "    R = stellar radius [solar radius]\n",
    "    dR1 = positive error\n",
    "    dR2 = negative error\n",
    "    log_L = stellar luminosity\n",
    "    dlog_L1 = positive error\n",
    "    dlog_L2 = negative error\n",
    "    \n",
    "    returns stellar effective temperature, positive error, negative error\n",
    "    \"\"\"\n",
    "    \n",
    "    sigma = sigma_sb.value\n",
    "    \n",
    "    # Calculate T if R and L /= NaN\n",
    "    if np.isfinite(R) and np.isfinite(log_L):\n",
    "        \n",
    "        # Convert R, dR1 and dR2 to meters:\n",
    "        R = R * R_sun.value\n",
    "        #dR1 = dR1 * R_sun.value\n",
    "        #dR2 = dR2 * R_sun.value \n",
    "    \n",
    "        # Convert log_L, dlog_L1 and dlog_L2 to W:\n",
    "        L = 10**log_L * L_sun.value # [W]\n",
    "        #dL1 = 10**log_L * np.log(10) * dlog_L1 * L_sun.value\n",
    "        #dL2 = 10**log_L * np.log(10) * dlog_L2 * L_sun.value\n",
    "        \n",
    "        #T = (2*R)**(-2) * ( L / (pi*sigma) )**(0.25)\n",
    "        T = (4*pi*sigma)**(-0.25) * L**(0.25) * R**(-0.5)\n",
    "        \n",
    "        # TODO: calculate negative and positive errors in T if errors in R and dlog_L are available:\n",
    "        if np.isfinite(dR1) and np.isfinite(dlog_L1):\n",
    "            # Convert dR1 to W:\n",
    "            dR1 = dR1 * R_sun.value\n",
    "            # Convert dlog_L1 to W\n",
    "            dL1 = 10**log_L * np.log(10) * dlog_L1 * L_sun.value\n",
    "            \n",
    "            # Calc dT1:\n",
    "            dT1 = 0.5*(4*pi*sigma)**(-0.25) * sqrt( ( 0.5*L**(-0.75)*dL1 / sqrt(R) )**2 + ( L**(-0.25)*R**(-1.5)*dR1 )**2 )\n",
    "            percent_err1 = dT1 / T * 100\n",
    "            \n",
    "        # If dR1 and dlog_L1 aren't both avaiable, we can't calc dT1\n",
    "        else:\n",
    "            dT1 = np.nan\n",
    "            percent_err1 = np.nan\n",
    "        \n",
    "        if np.isfinite(dR2) and np.isfinite(dlog_L2):\n",
    "            # Convert dR1 to W:\n",
    "            dR2 = dR2 * R_sun.value\n",
    "            # Convert dlog_L1 to W\n",
    "            dL2 = 10**log_L * np.log(10) * dlog_L2 * L_sun.value\n",
    "            \n",
    "            # Calc dT2:\n",
    "            dT2 = 0.5*(4*pi*sigma)**(-0.25) * sqrt( ( 0.5*L**(-0.75)*dL2 / sqrt(R) )**2 + ( L**(-0.25)*R**(-1.5)*dR2 )**2 )\n",
    "            percent_err2 = dT2 / T * 100\n",
    "            \n",
    "        # If dR2 and dlog_L2 aren't both avaiable, we can't calc dT2:\n",
    "        else:\n",
    "            dT2 = np.nan\n",
    "            percent_err2 = np.nan\n",
    "        \n",
    "    # If either R or L are NaN, then we can't calc T or its errors:\n",
    "    else:\n",
    "        T = np.nan\n",
    "        dT1 = np.nan\n",
    "        dT2 = np.nan\n",
    "        percent_err1 = np.nan\n",
    "        percent_err2 = np.nan\n",
    "    \n",
    "    \n",
    "    return T, dT1, percent_err1, dT2, percent_err2"
   ]
  },
  {
   "cell_type": "code",
   "execution_count": 15,
   "id": "e580456c-0670-4b86-81d7-382bc7a51880",
   "metadata": {},
   "outputs": [
    {
     "name": "stdout",
     "output_type": "stream",
     "text": [
      "[[4.81614751e+03 1.96840213e+02 4.08708854e+00 2.35653776e+02\n",
      "  4.89299332e+00]\n",
      " [           nan            nan            nan            nan\n",
      "             nan]\n",
      " [4.80153654e+03            nan            nan            nan\n",
      "             nan]\n",
      " ...\n",
      " [           nan            nan            nan            nan\n",
      "             nan]\n",
      " [4.85657558e+03 6.17842989e+02 1.27217826e+01 1.53761830e+02\n",
      "  3.16605450e+00]\n",
      " [4.80270551e+03            nan            nan            nan\n",
      "             nan]]\n"
     ]
    }
   ],
   "source": [
    "# Estimate T for stars in 'exoplanets'\n",
    "temps = np.zeros( (exoplanets.shape[0], 5) )\n",
    "for i in range(exoplanets.shape[0]):\n",
    "\n",
    "    temps[i] = calc_st_teff(exoplanets[\"st_rad\"].iloc[i], exoplanets[\"st_raderr1\"].iloc[i], exoplanets[\"st_raderr2\"].iloc[i], exoplanets[\"st_lum\"].iloc[i], exoplanets[\"st_lumerr1\"].iloc[i], exoplanets[\"st_lumerr2\"].iloc[i]) \n",
    "\n",
    "print(temps)\n",
    "\n",
    "# TODO: compare the results with the exoplanets spreadsheet"
   ]
  },
  {
   "cell_type": "code",
   "execution_count": null,
   "id": "1e020d76-4866-4e01-a774-576a7c59818d",
   "metadata": {},
   "outputs": [],
   "source": [
    "# TODO: add calc_teff to exoplanets df\n",
    "# TODO: compare the uncertainties in st_teff with temps\n",
    "# TODO: determine which uncertainties are smallest\n",
    "# TODO: count how many st_teff have smaller error and how many temp have smaller error"
   ]
  },
  {
   "cell_type": "code",
   "execution_count": null,
   "id": "2f24c412-cf59-4a16-9315-64f19fca2ae0",
   "metadata": {},
   "outputs": [],
   "source": [
    "# I could then merge the exoplanets data with the phase-space densities calculated from edr3.\n",
    "# I would need to use a "
   ]
  }
 ],
 "metadata": {
  "kernelspec": {
   "display_name": "Python 3 (ipykernel)",
   "language": "python",
   "name": "python3"
  },
  "language_info": {
   "codemirror_mode": {
    "name": "ipython",
    "version": 3
   },
   "file_extension": ".py",
   "mimetype": "text/x-python",
   "name": "python",
   "nbconvert_exporter": "python",
   "pygments_lexer": "ipython3",
   "version": "3.9.7"
  }
 },
 "nbformat": 4,
 "nbformat_minor": 5
}
