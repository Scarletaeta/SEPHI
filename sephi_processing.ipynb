{
 "cells": [
  {
   "cell_type": "code",
   "execution_count": 2,
   "id": "3bbbe58d-24fb-4ab2-880e-dde3b326b6fc",
   "metadata": {},
   "outputs": [],
   "source": [
    "import numpy as np\n",
    "import pandas as pd\n",
    "from astropy.constants import sigma_sb, L_sun\n",
    "from math import pi, sqrt\n",
    "\n",
    "import sephi_SNL"
   ]
  },
  {
   "cell_type": "code",
   "execution_count": 3,
   "id": "cdbbadb7-da36-4706-be90-64a573103b9d",
   "metadata": {},
   "outputs": [],
   "source": [
    "# DExoplanet directory:\n",
    "exoplanets_dir = \"~/OneDrive/data/NASA_EA_2022_02_09.csv\"\n",
    "\n",
    "# The length of the header in the exoplanets csv file:\n",
    "header_length = 116"
   ]
  },
  {
   "cell_type": "code",
   "execution_count": 4,
   "id": "d213db90-00a3-450b-a2ea-0454cd71e6f8",
   "metadata": {},
   "outputs": [],
   "source": [
    "# Read data\n",
    "exoplanets = pd.read_csv(exoplanets_dir, skiprows=header_length, \n",
    "                         usecols=[\"pl_name\", \"hostname\", \"gaia_id\", \"sy_snum\", \"sy_pnum\", \"discoverymethod\", \"pl_orbper\", \"pl_orbsmax\", \"pl_rade\", \"pl_bmasse\", \"pl_dens\", \"pl_orbeccen\", \"pl_eqt\", \"pl_orbincl\", \"st_teff\", \"st_tefferr1\", \"st_tefferr2\", \"st_rad\", \"st_raderr1\", \"st_raderr2\", \"st_mass\", \"st_met\", \"st_lum\", \"st_lumerr1\", \"st_lumerr2\", \"st_logg\", \"st_age\", \"st_ageerr1\", \"st_ageerr2\", \"sy_dist\", \"sy_plx\", \"sy_gaiamag\"])\n",
    "#exculuded \"st_spectype\" due to csv formatting"
   ]
  },
  {
   "cell_type": "code",
   "execution_count": 32,
   "id": "1effc4d5-fa41-4818-94c7-bd9b3c1b2323",
   "metadata": {},
   "outputs": [
    {
     "name": "stdout",
     "output_type": "stream",
     "text": [
      "      pl_name  hostname                       gaia_id  sy_snum  sy_pnum  \\\n",
      "0    11 Com b    11 Com  Gaia DR2 3946945413106333696        2        1   \n",
      "1    11 UMi b    11 UMi  Gaia DR2 1696798367260229376        1        1   \n",
      "2    14 And b    14 And  Gaia DR2 1920113512486282240        1        1   \n",
      "3    14 Her b    14 Her  Gaia DR2 1385293808145621504        1        2   \n",
      "4  16 Cyg B b  16 Cyg B  Gaia DR2 2135550755683407232        3        1   \n",
      "\n",
      "   discoverymethod   pl_orbper  pl_orbsmax  pl_rade  pl_bmasse  ...  st_lum  \\\n",
      "0  Radial Velocity   326.03000        1.29      NaN  6165.6000  ...   2.243   \n",
      "1  Radial Velocity   516.21997        1.53      NaN  4684.8142  ...     NaN   \n",
      "2  Radial Velocity   185.84000        0.83      NaN  1525.5000  ...   1.763   \n",
      "3  Radial Velocity  1773.40002        2.93      NaN  1481.0878  ...     NaN   \n",
      "4  Radial Velocity   798.50000        1.66      NaN   565.7374  ...     NaN   \n",
      "\n",
      "   st_lumerr1  st_lumerr2  st_logg  st_age  st_ageerr1  st_ageerr2   sy_dist  \\\n",
      "0       0.071      -0.085     2.31     NaN         NaN         NaN   93.1846   \n",
      "1         NaN         NaN     1.93     NaN         NaN         NaN  125.3210   \n",
      "2         NaN         NaN     2.63     NaN         NaN         NaN   75.4392   \n",
      "3         NaN         NaN     4.45     NaN         NaN         NaN   17.9323   \n",
      "4         NaN         NaN     4.36     NaN         NaN         NaN   21.1397   \n",
      "\n",
      "     sy_plx  sy_gaiamag  \n",
      "0  10.71040     4.44038  \n",
      "1   7.95388     4.56216  \n",
      "2  13.22890     4.91781  \n",
      "3  55.73630     6.38300  \n",
      "4  47.27540     6.06428  \n",
      "\n",
      "[5 rows x 32 columns]\n"
     ]
    }
   ],
   "source": [
    "print(exoplanets.head())"
   ]
  },
  {
   "cell_type": "code",
   "execution_count": 5,
   "id": "a6ccf2aa-63af-4576-8989-cb099d61a039",
   "metadata": {},
   "outputs": [],
   "source": [
    "# Get rid of exoplanets whose star's haven't been observed by Gaia\n",
    "exoplanets.dropna(subset=[\"gaia_id\"], inplace=True)"
   ]
  },
  {
   "cell_type": "code",
   "execution_count": 31,
   "id": "72db17b1-7385-4a3e-856e-2c4fe78e1bd5",
   "metadata": {},
   "outputs": [
    {
     "name": "stdout",
     "output_type": "stream",
     "text": [
      "Number of exoplanets with no stellar age listed:  2450\n",
      "Number of exoplanets with stellar age listed:  2284\n"
     ]
    }
   ],
   "source": [
    "# Not many of the exoplanets have the stellar age listed. Working out how many have stellar age:\n",
    "#count_NaN = exoplanets[\"st_age\"].isna().sum()\n",
    "#count_value = exoplanets[\"st_age\"].notna().sum()\n",
    "\n",
    "print(\"Number of exoplanets with no stellar age listed: \", exoplanets[\"st_age\"].isna().sum())\n",
    "print(\"Number of exoplanets with stellar age listed: \", exoplanets[\"st_age\"].notna().sum())"
   ]
  },
  {
   "cell_type": "code",
   "execution_count": 5,
   "id": "22d06095-0e3e-4d44-aa2e-77954f8fc1e1",
   "metadata": {},
   "outputs": [
    {
     "name": "stdout",
     "output_type": "stream",
     "text": [
      "Number of exoplanets with no teff listed:  227\n",
      "Number of exoplanets with teff listed:  4507\n"
     ]
    }
   ],
   "source": [
    "# A few don't have stellar effective temperature listed (st_teff):\n",
    "print(\"Number of exoplanets with no teff listed: \", exoplanets[\"st_teff\"].isna().sum())\n",
    "print(\"Number of exoplanets with teff listed: \", exoplanets[\"st_teff\"].notna().sum())"
   ]
  },
  {
   "cell_type": "code",
   "execution_count": 10,
   "id": "0587b96a-0445-4158-9d04-f8a952b51333",
   "metadata": {},
   "outputs": [
    {
     "name": "stdout",
     "output_type": "stream",
     "text": [
      "Number of exoplanets with no st_rad listed:  456\n",
      "Number of exoplanets with st_rad listed:  4458\n",
      "Number of exoplanets with st_raderr1 listed:  4305\n",
      "Number of exoplanets with st_raderr2 listed:  4280\n"
     ]
    }
   ],
   "source": [
    "# Some don't have stellar radius listed\n",
    "print(\"Number of exoplanets with no st_rad listed: \", exoplanets[\"st_rad\"].isna().sum())\n",
    "print(\"Number of exoplanets with st_rad listed: \", exoplanets[\"st_rad\"].notna().sum())\n",
    "\n",
    "print(\"Number of exoplanets with st_raderr1 listed: \", exoplanets[\"st_raderr1\"].notna().sum())\n",
    "print(\"Number of exoplanets with st_raderr2 listed: \", exoplanets[\"st_raderr2\"].notna().sum())"
   ]
  },
  {
   "cell_type": "code",
   "execution_count": 7,
   "id": "49930776-d8c6-44f8-b373-d85fe9502818",
   "metadata": {},
   "outputs": [
    {
     "name": "stdout",
     "output_type": "stream",
     "text": [
      "Number of exoplanets with no st_age listed:  2450\n",
      "Number of exoplanets with st_age listed:  2284\n"
     ]
    }
   ],
   "source": [
    "# Some don't have stellar age listed\n",
    "print(\"Number of exoplanets with no st_age listed: \", exoplanets[\"st_age\"].isna().sum())\n",
    "print(\"Number of exoplanets with st_age listed: \", exoplanets[\"st_age\"].notna().sum())"
   ]
  },
  {
   "cell_type": "code",
   "execution_count": 41,
   "id": "1dec675a-74d7-40bc-b4ad-7703a40c561b",
   "metadata": {},
   "outputs": [
    {
     "name": "stdout",
     "output_type": "stream",
     "text": [
      "Number of exoplanets with st_eff and st_rad listed (can calc L):  4311\n",
      "Number of exoplanets with st_eff, st_rad and st_age listed (can calc SEPHI):  2148\n"
     ]
    }
   ],
   "source": [
    "# Number of stars with st_rad and st_teff:\n",
    "count = 0\n",
    "for i in range(exoplanets.shape[0]):\n",
    "    if pd.notna(exoplanets[\"st_teff\"].iloc[i]) and pd.notna(exoplanets[\"st_rad\"].iloc[i]):\n",
    "        count+=1\n",
    "    else:\n",
    "        continue\n",
    "\n",
    "print(\"Number of exoplanets with st_eff and st_rad listed (can calc L): \", count)\n",
    "\n",
    "#exoplanets[\"st_teff\"].iloc[i]\n",
    "    \n",
    "# Number of stars with st_rad, st_teff and st_age:\n",
    "count = 0\n",
    "for i in range(exoplanets.shape[0]):\n",
    "    if pd.notna(exoplanets[\"st_teff\"].iloc[i]) and pd.notna(exoplanets[\"st_rad\"].iloc[i]) and pd.notna(exoplanets[\"st_age\"].iloc[i]):\n",
    "        count+=1\n",
    "    else:\n",
    "        continue\n",
    "\n",
    "print(\"Number of exoplanets with st_eff, st_rad and st_age listed (can calc SEPHI): \", count)"
   ]
  },
  {
   "cell_type": "code",
   "execution_count": null,
   "id": "4b76e482-acef-4a19-ab81-a0da2ea8111c",
   "metadata": {},
   "outputs": [
    {
     "name": "stdout",
     "output_type": "stream",
     "text": [
      "Number of exoplanets with no L listed:  3825\n",
      "Number of exoplanets with L listed:  909\n"
     ]
    }
   ],
   "source": [
    "# Not many have stellar luminosity listed (but this can be calculated):\n",
    "print(\"Number of exoplanets with no L listed: \", exoplanets[\"st_lum\"].isna().sum())\n",
    "print(\"Number of exoplanets with L listed: \", exoplanets[\"st_lum\"].notna().sum())"
   ]
  },
  {
   "cell_type": "code",
   "execution_count": 49,
   "id": "c4b5c7ec-d660-41c5-8108-47df672aabc8",
   "metadata": {},
   "outputs": [
    {
     "name": "stdout",
     "output_type": "stream",
     "text": [
      "5.6703744191844314e-08\n"
     ]
    }
   ],
   "source": [
    "# Do more have their luminosities listed in Gaia?\n"
   ]
  },
  {
   "cell_type": "code",
   "execution_count": 26,
   "id": "1cccf49e-e41a-4443-b659-b15856236089",
   "metadata": {},
   "outputs": [],
   "source": [
    "# Calc. L, R, T\n",
    "def calc_st_lum(T,  dT1, dT2, R, dR1, dR2):\n",
    "    \"\"\"\n",
    "    T = stellar effective temperature [K]\n",
    "    dT1 = positive error\n",
    "    dT2 = negative error\n",
    "    R = stellar radius [solar radius]\n",
    "    dR1 = positive error\n",
    "    dR2 = negative error\n",
    "    \n",
    "    returns stellar luminosity [W], positive error, negative error\n",
    "    \"\"\"\n",
    "    #TODO: convert R to meters\n",
    "    \n",
    "    sigma=sigma_sb.value\n",
    "    L = 4 * pi * sigma * R**2 * T**4\n",
    "    #TODO: convert to log(solar)\n",
    "    dL1 = 8*pi*sigma * sqrt(dR1**2 + 4*R**2*T**6*dT1**2)\n",
    "    #print(dR2**2 + 4*R**2*T**6*dT2)\n",
    "    dL2 = 8*pi*sigma * sqrt(dR2**2 + 4*R**2*T**6*dT2**2)\n",
    "    return L, dL1, dL2\n",
    "    \n",
    "    \n",
    "def calc_st_rad(T, dT1, dT2, L, dL1, dL2):\n",
    "    \"\"\"\n",
    "    T = stellar effective temperature\n",
    "    dT1 = positive error\n",
    "    dT2 = negative error\n",
    "    L = stellar luminosity\n",
    "    dL1 = positive error\n",
    "    dL2 = negative error\n",
    "    \n",
    "    returns stellar radius, positive error, negative error\n",
    "    \"\"\"\n",
    "    R = 0.5*T**(-2) * sqrt( L / (pi*sigma) )\n",
    "    dR1 = 0\n",
    "    dR2 = 0\n",
    "    return R, dR1, dR2\n",
    "\n",
    "# I don't need stellar radius for SEPHI calculations\n",
    "def calc_st_teff(R, dR1, dR2, L, dL1, dL2):\n",
    "    \"\"\"\n",
    "    R = stellar radius\n",
    "    dR1 = positive error\n",
    "    dR2 = negative error\n",
    "    L = stellar luminosity\n",
    "    dL1 = positive error\n",
    "    dL2 = negative error\n",
    "    \n",
    "    returns stellar effective temperature, positive error, negative error\n",
    "    \"\"\"\n",
    "    T = (2*R)**(-2) * ( L / (pi*sigma) )**(0.25)\n",
    "    dT1 = 0\n",
    "    dT2 = 0\n",
    "    return T, dT1, dT2"
   ]
  },
  {
   "cell_type": "code",
   "execution_count": 18,
   "id": "e17ed89a-f04a-40d6-91b4-a8de73dd397b",
   "metadata": {},
   "outputs": [
    {
     "name": "stdout",
     "output_type": "stream",
     "text": [
      "4734\n"
     ]
    }
   ],
   "source": [
    "print(exoplanets.shape[0])"
   ]
  },
  {
   "cell_type": "code",
   "execution_count": 43,
   "id": "a3e657f8-3b21-4f5a-8ed8-05bd1e86bc62",
   "metadata": {},
   "outputs": [
    {
     "name": "stdout",
     "output_type": "stream",
     "text": [
      "False\n"
     ]
    }
   ],
   "source": [
    "#print(exoplanets.loc[:,\"st_teff\"])\n",
    "print(pd.isna(exoplanets.loc[0,\"st_teff\"]))"
   ]
  },
  {
   "cell_type": "code",
   "execution_count": 45,
   "id": "3044524f-dee6-4525-b4d4-f1656d937341",
   "metadata": {},
   "outputs": [
    {
     "name": "stdout",
     "output_type": "stream",
     "text": [
      "130069359344.14908 577457254.7410556 577457254.7410556\n",
      "199217939360.44016 292068220.26135623 292068220.26135623\n",
      "199217939360.44016 292068220.26135623 292068220.26135623\n",
      "46266901709.52111 69912021.16921385 69912021.16921385\n",
      "500382111.68881285 10079529.43772612 10079529.43772612\n",
      "500382111.68881285 10079529.43772612 10079529.43772612\n",
      "994603232.5299102 4898392.218692902 4898392.218692902\n",
      "994603232.5299102 4898392.218692902 4898392.218692902\n",
      "142959063027.07693 58378018.23556005 53070925.668690965\n",
      "31639379464.095116 nan nan\n",
      "46238711095.48197 53289313.599159576 53289313.599159576\n",
      "11556147734.384087 81419764.50355077 81419764.50355077\n",
      "11556147734.384087 81419764.50355077 81419764.50355077\n",
      "46433021.82370213 7132568.636513385 7132568.636513385\n"
     ]
    },
    {
     "ename": "KeyError",
     "evalue": "12",
     "output_type": "error",
     "traceback": [
      "\u001b[0;31m---------------------------------------------------------------------------\u001b[0m",
      "\u001b[0;31mKeyError\u001b[0m                                  Traceback (most recent call last)",
      "\u001b[0;32m~/anaconda3/envs/sephi/lib/python3.9/site-packages/pandas/core/indexes/base.py\u001b[0m in \u001b[0;36mget_loc\u001b[0;34m(self, key, method, tolerance)\u001b[0m\n\u001b[1;32m   3360\u001b[0m             \u001b[0;32mtry\u001b[0m\u001b[0;34m:\u001b[0m\u001b[0;34m\u001b[0m\u001b[0;34m\u001b[0m\u001b[0m\n\u001b[0;32m-> 3361\u001b[0;31m                 \u001b[0;32mreturn\u001b[0m \u001b[0mself\u001b[0m\u001b[0;34m.\u001b[0m\u001b[0m_engine\u001b[0m\u001b[0;34m.\u001b[0m\u001b[0mget_loc\u001b[0m\u001b[0;34m(\u001b[0m\u001b[0mcasted_key\u001b[0m\u001b[0;34m)\u001b[0m\u001b[0;34m\u001b[0m\u001b[0;34m\u001b[0m\u001b[0m\n\u001b[0m\u001b[1;32m   3362\u001b[0m             \u001b[0;32mexcept\u001b[0m \u001b[0mKeyError\u001b[0m \u001b[0;32mas\u001b[0m \u001b[0merr\u001b[0m\u001b[0;34m:\u001b[0m\u001b[0;34m\u001b[0m\u001b[0;34m\u001b[0m\u001b[0m\n",
      "\u001b[0;32m~/anaconda3/envs/sephi/lib/python3.9/site-packages/pandas/_libs/index.pyx\u001b[0m in \u001b[0;36mpandas._libs.index.IndexEngine.get_loc\u001b[0;34m()\u001b[0m\n",
      "\u001b[0;32m~/anaconda3/envs/sephi/lib/python3.9/site-packages/pandas/_libs/index.pyx\u001b[0m in \u001b[0;36mpandas._libs.index.IndexEngine.get_loc\u001b[0;34m()\u001b[0m\n",
      "\u001b[0;32mpandas/_libs/hashtable_class_helper.pxi\u001b[0m in \u001b[0;36mpandas._libs.hashtable.Int64HashTable.get_item\u001b[0;34m()\u001b[0m\n",
      "\u001b[0;32mpandas/_libs/hashtable_class_helper.pxi\u001b[0m in \u001b[0;36mpandas._libs.hashtable.Int64HashTable.get_item\u001b[0;34m()\u001b[0m\n",
      "\u001b[0;31mKeyError\u001b[0m: 12",
      "\nThe above exception was the direct cause of the following exception:\n",
      "\u001b[0;31mKeyError\u001b[0m                                  Traceback (most recent call last)",
      "\u001b[0;32m/tmp/ipykernel_24842/37697259.py\u001b[0m in \u001b[0;36m<module>\u001b[0;34m\u001b[0m\n\u001b[1;32m      1\u001b[0m \u001b[0;31m# Estimate L for stars with T and R listed\u001b[0m\u001b[0;34m\u001b[0m\u001b[0;34m\u001b[0m\u001b[0m\n\u001b[1;32m      2\u001b[0m \u001b[0;32mfor\u001b[0m \u001b[0mi\u001b[0m \u001b[0;32min\u001b[0m \u001b[0mrange\u001b[0m\u001b[0;34m(\u001b[0m\u001b[0mexoplanets\u001b[0m\u001b[0;34m.\u001b[0m\u001b[0mshape\u001b[0m\u001b[0;34m[\u001b[0m\u001b[0;36m0\u001b[0m\u001b[0;34m]\u001b[0m\u001b[0;34m)\u001b[0m\u001b[0;34m:\u001b[0m\u001b[0;34m\u001b[0m\u001b[0;34m\u001b[0m\u001b[0m\n\u001b[0;32m----> 3\u001b[0;31m     \u001b[0;32mif\u001b[0m \u001b[0mpd\u001b[0m\u001b[0;34m.\u001b[0m\u001b[0mnotna\u001b[0m\u001b[0;34m(\u001b[0m\u001b[0mexoplanets\u001b[0m\u001b[0;34m.\u001b[0m\u001b[0mloc\u001b[0m\u001b[0;34m[\u001b[0m\u001b[0mi\u001b[0m\u001b[0;34m,\u001b[0m\u001b[0;34m\"st_teff\"\u001b[0m\u001b[0;34m]\u001b[0m\u001b[0;34m)\u001b[0m \u001b[0;32mand\u001b[0m \u001b[0mpd\u001b[0m\u001b[0;34m.\u001b[0m\u001b[0mnotna\u001b[0m\u001b[0;34m(\u001b[0m\u001b[0mexoplanets\u001b[0m\u001b[0;34m.\u001b[0m\u001b[0mloc\u001b[0m\u001b[0;34m[\u001b[0m\u001b[0mi\u001b[0m\u001b[0;34m,\u001b[0m\u001b[0;34m\"st_rad\"\u001b[0m\u001b[0;34m]\u001b[0m\u001b[0;34m)\u001b[0m\u001b[0;34m:\u001b[0m\u001b[0;34m\u001b[0m\u001b[0;34m\u001b[0m\u001b[0m\n\u001b[0m\u001b[1;32m      4\u001b[0m         \u001b[0mL\u001b[0m\u001b[0;34m,\u001b[0m \u001b[0mdL1\u001b[0m\u001b[0;34m,\u001b[0m \u001b[0mdL2\u001b[0m \u001b[0;34m=\u001b[0m \u001b[0mcalc_st_lum\u001b[0m\u001b[0;34m(\u001b[0m\u001b[0mexoplanets\u001b[0m\u001b[0;34m.\u001b[0m\u001b[0mloc\u001b[0m\u001b[0;34m[\u001b[0m\u001b[0mi\u001b[0m\u001b[0;34m,\u001b[0m\u001b[0;34m\"st_teff\"\u001b[0m\u001b[0;34m]\u001b[0m\u001b[0;34m,\u001b[0m \u001b[0mexoplanets\u001b[0m\u001b[0;34m.\u001b[0m\u001b[0mloc\u001b[0m\u001b[0;34m[\u001b[0m\u001b[0mi\u001b[0m\u001b[0;34m,\u001b[0m\u001b[0;34m\"st_tefferr1\"\u001b[0m\u001b[0;34m]\u001b[0m\u001b[0;34m,\u001b[0m \u001b[0mexoplanets\u001b[0m\u001b[0;34m.\u001b[0m\u001b[0mloc\u001b[0m\u001b[0;34m[\u001b[0m\u001b[0mi\u001b[0m\u001b[0;34m,\u001b[0m\u001b[0;34m\"st_tefferr2\"\u001b[0m\u001b[0;34m]\u001b[0m\u001b[0;34m,\u001b[0m \u001b[0mexoplanets\u001b[0m\u001b[0;34m.\u001b[0m\u001b[0mloc\u001b[0m\u001b[0;34m[\u001b[0m\u001b[0mi\u001b[0m\u001b[0;34m,\u001b[0m\u001b[0;34m\"st_rad\"\u001b[0m\u001b[0;34m]\u001b[0m\u001b[0;34m,\u001b[0m \u001b[0mexoplanets\u001b[0m\u001b[0;34m.\u001b[0m\u001b[0mloc\u001b[0m\u001b[0;34m[\u001b[0m\u001b[0mi\u001b[0m\u001b[0;34m,\u001b[0m\u001b[0;34m\"st_raderr1\"\u001b[0m\u001b[0;34m]\u001b[0m\u001b[0;34m,\u001b[0m \u001b[0mexoplanets\u001b[0m\u001b[0;34m.\u001b[0m\u001b[0mloc\u001b[0m\u001b[0;34m[\u001b[0m\u001b[0mi\u001b[0m\u001b[0;34m,\u001b[0m\u001b[0;34m\"st_raderr2\"\u001b[0m\u001b[0;34m]\u001b[0m\u001b[0;34m)\u001b[0m\u001b[0;34m\u001b[0m\u001b[0;34m\u001b[0m\u001b[0m\n\u001b[1;32m      5\u001b[0m         \u001b[0mprint\u001b[0m\u001b[0;34m(\u001b[0m\u001b[0mL\u001b[0m\u001b[0;34m,\u001b[0m \u001b[0mdL1\u001b[0m\u001b[0;34m,\u001b[0m \u001b[0mdL2\u001b[0m\u001b[0;34m)\u001b[0m\u001b[0;34m\u001b[0m\u001b[0;34m\u001b[0m\u001b[0m\n",
      "\u001b[0;32m~/anaconda3/envs/sephi/lib/python3.9/site-packages/pandas/core/indexing.py\u001b[0m in \u001b[0;36m__getitem__\u001b[0;34m(self, key)\u001b[0m\n\u001b[1;32m    923\u001b[0m                 \u001b[0;32mwith\u001b[0m \u001b[0msuppress\u001b[0m\u001b[0;34m(\u001b[0m\u001b[0mKeyError\u001b[0m\u001b[0;34m,\u001b[0m \u001b[0mIndexError\u001b[0m\u001b[0;34m)\u001b[0m\u001b[0;34m:\u001b[0m\u001b[0;34m\u001b[0m\u001b[0;34m\u001b[0m\u001b[0m\n\u001b[1;32m    924\u001b[0m                     \u001b[0;32mreturn\u001b[0m \u001b[0mself\u001b[0m\u001b[0;34m.\u001b[0m\u001b[0mobj\u001b[0m\u001b[0;34m.\u001b[0m\u001b[0m_get_value\u001b[0m\u001b[0;34m(\u001b[0m\u001b[0;34m*\u001b[0m\u001b[0mkey\u001b[0m\u001b[0;34m,\u001b[0m \u001b[0mtakeable\u001b[0m\u001b[0;34m=\u001b[0m\u001b[0mself\u001b[0m\u001b[0;34m.\u001b[0m\u001b[0m_takeable\u001b[0m\u001b[0;34m)\u001b[0m\u001b[0;34m\u001b[0m\u001b[0;34m\u001b[0m\u001b[0m\n\u001b[0;32m--> 925\u001b[0;31m             \u001b[0;32mreturn\u001b[0m \u001b[0mself\u001b[0m\u001b[0;34m.\u001b[0m\u001b[0m_getitem_tuple\u001b[0m\u001b[0;34m(\u001b[0m\u001b[0mkey\u001b[0m\u001b[0;34m)\u001b[0m\u001b[0;34m\u001b[0m\u001b[0;34m\u001b[0m\u001b[0m\n\u001b[0m\u001b[1;32m    926\u001b[0m         \u001b[0;32melse\u001b[0m\u001b[0;34m:\u001b[0m\u001b[0;34m\u001b[0m\u001b[0;34m\u001b[0m\u001b[0m\n\u001b[1;32m    927\u001b[0m             \u001b[0;31m# we by definition only have the 0th axis\u001b[0m\u001b[0;34m\u001b[0m\u001b[0;34m\u001b[0m\u001b[0m\n",
      "\u001b[0;32m~/anaconda3/envs/sephi/lib/python3.9/site-packages/pandas/core/indexing.py\u001b[0m in \u001b[0;36m_getitem_tuple\u001b[0;34m(self, tup)\u001b[0m\n\u001b[1;32m   1098\u001b[0m     \u001b[0;32mdef\u001b[0m \u001b[0m_getitem_tuple\u001b[0m\u001b[0;34m(\u001b[0m\u001b[0mself\u001b[0m\u001b[0;34m,\u001b[0m \u001b[0mtup\u001b[0m\u001b[0;34m:\u001b[0m \u001b[0mtuple\u001b[0m\u001b[0;34m)\u001b[0m\u001b[0;34m:\u001b[0m\u001b[0;34m\u001b[0m\u001b[0;34m\u001b[0m\u001b[0m\n\u001b[1;32m   1099\u001b[0m         \u001b[0;32mwith\u001b[0m \u001b[0msuppress\u001b[0m\u001b[0;34m(\u001b[0m\u001b[0mIndexingError\u001b[0m\u001b[0;34m)\u001b[0m\u001b[0;34m:\u001b[0m\u001b[0;34m\u001b[0m\u001b[0;34m\u001b[0m\u001b[0m\n\u001b[0;32m-> 1100\u001b[0;31m             \u001b[0;32mreturn\u001b[0m \u001b[0mself\u001b[0m\u001b[0;34m.\u001b[0m\u001b[0m_getitem_lowerdim\u001b[0m\u001b[0;34m(\u001b[0m\u001b[0mtup\u001b[0m\u001b[0;34m)\u001b[0m\u001b[0;34m\u001b[0m\u001b[0;34m\u001b[0m\u001b[0m\n\u001b[0m\u001b[1;32m   1101\u001b[0m \u001b[0;34m\u001b[0m\u001b[0m\n\u001b[1;32m   1102\u001b[0m         \u001b[0;31m# no multi-index, so validate all of the indexers\u001b[0m\u001b[0;34m\u001b[0m\u001b[0;34m\u001b[0m\u001b[0m\n",
      "\u001b[0;32m~/anaconda3/envs/sephi/lib/python3.9/site-packages/pandas/core/indexing.py\u001b[0m in \u001b[0;36m_getitem_lowerdim\u001b[0;34m(self, tup)\u001b[0m\n\u001b[1;32m    836\u001b[0m                 \u001b[0;31m# We don't need to check for tuples here because those are\u001b[0m\u001b[0;34m\u001b[0m\u001b[0;34m\u001b[0m\u001b[0m\n\u001b[1;32m    837\u001b[0m                 \u001b[0;31m#  caught by the _is_nested_tuple_indexer check above.\u001b[0m\u001b[0;34m\u001b[0m\u001b[0;34m\u001b[0m\u001b[0m\n\u001b[0;32m--> 838\u001b[0;31m                 \u001b[0msection\u001b[0m \u001b[0;34m=\u001b[0m \u001b[0mself\u001b[0m\u001b[0;34m.\u001b[0m\u001b[0m_getitem_axis\u001b[0m\u001b[0;34m(\u001b[0m\u001b[0mkey\u001b[0m\u001b[0;34m,\u001b[0m \u001b[0maxis\u001b[0m\u001b[0;34m=\u001b[0m\u001b[0mi\u001b[0m\u001b[0;34m)\u001b[0m\u001b[0;34m\u001b[0m\u001b[0;34m\u001b[0m\u001b[0m\n\u001b[0m\u001b[1;32m    839\u001b[0m \u001b[0;34m\u001b[0m\u001b[0m\n\u001b[1;32m    840\u001b[0m                 \u001b[0;31m# We should never have a scalar section here, because\u001b[0m\u001b[0;34m\u001b[0m\u001b[0;34m\u001b[0m\u001b[0m\n",
      "\u001b[0;32m~/anaconda3/envs/sephi/lib/python3.9/site-packages/pandas/core/indexing.py\u001b[0m in \u001b[0;36m_getitem_axis\u001b[0;34m(self, key, axis)\u001b[0m\n\u001b[1;32m   1162\u001b[0m         \u001b[0;31m# fall thru to straight lookup\u001b[0m\u001b[0;34m\u001b[0m\u001b[0;34m\u001b[0m\u001b[0m\n\u001b[1;32m   1163\u001b[0m         \u001b[0mself\u001b[0m\u001b[0;34m.\u001b[0m\u001b[0m_validate_key\u001b[0m\u001b[0;34m(\u001b[0m\u001b[0mkey\u001b[0m\u001b[0;34m,\u001b[0m \u001b[0maxis\u001b[0m\u001b[0;34m)\u001b[0m\u001b[0;34m\u001b[0m\u001b[0;34m\u001b[0m\u001b[0m\n\u001b[0;32m-> 1164\u001b[0;31m         \u001b[0;32mreturn\u001b[0m \u001b[0mself\u001b[0m\u001b[0;34m.\u001b[0m\u001b[0m_get_label\u001b[0m\u001b[0;34m(\u001b[0m\u001b[0mkey\u001b[0m\u001b[0;34m,\u001b[0m \u001b[0maxis\u001b[0m\u001b[0;34m=\u001b[0m\u001b[0maxis\u001b[0m\u001b[0;34m)\u001b[0m\u001b[0;34m\u001b[0m\u001b[0;34m\u001b[0m\u001b[0m\n\u001b[0m\u001b[1;32m   1165\u001b[0m \u001b[0;34m\u001b[0m\u001b[0m\n\u001b[1;32m   1166\u001b[0m     \u001b[0;32mdef\u001b[0m \u001b[0m_get_slice_axis\u001b[0m\u001b[0;34m(\u001b[0m\u001b[0mself\u001b[0m\u001b[0;34m,\u001b[0m \u001b[0mslice_obj\u001b[0m\u001b[0;34m:\u001b[0m \u001b[0mslice\u001b[0m\u001b[0;34m,\u001b[0m \u001b[0maxis\u001b[0m\u001b[0;34m:\u001b[0m \u001b[0mint\u001b[0m\u001b[0;34m)\u001b[0m\u001b[0;34m:\u001b[0m\u001b[0;34m\u001b[0m\u001b[0;34m\u001b[0m\u001b[0m\n",
      "\u001b[0;32m~/anaconda3/envs/sephi/lib/python3.9/site-packages/pandas/core/indexing.py\u001b[0m in \u001b[0;36m_get_label\u001b[0;34m(self, label, axis)\u001b[0m\n\u001b[1;32m   1111\u001b[0m     \u001b[0;32mdef\u001b[0m \u001b[0m_get_label\u001b[0m\u001b[0;34m(\u001b[0m\u001b[0mself\u001b[0m\u001b[0;34m,\u001b[0m \u001b[0mlabel\u001b[0m\u001b[0;34m,\u001b[0m \u001b[0maxis\u001b[0m\u001b[0;34m:\u001b[0m \u001b[0mint\u001b[0m\u001b[0;34m)\u001b[0m\u001b[0;34m:\u001b[0m\u001b[0;34m\u001b[0m\u001b[0;34m\u001b[0m\u001b[0m\n\u001b[1;32m   1112\u001b[0m         \u001b[0;31m# GH#5667 this will fail if the label is not present in the axis.\u001b[0m\u001b[0;34m\u001b[0m\u001b[0;34m\u001b[0m\u001b[0m\n\u001b[0;32m-> 1113\u001b[0;31m         \u001b[0;32mreturn\u001b[0m \u001b[0mself\u001b[0m\u001b[0;34m.\u001b[0m\u001b[0mobj\u001b[0m\u001b[0;34m.\u001b[0m\u001b[0mxs\u001b[0m\u001b[0;34m(\u001b[0m\u001b[0mlabel\u001b[0m\u001b[0;34m,\u001b[0m \u001b[0maxis\u001b[0m\u001b[0;34m=\u001b[0m\u001b[0maxis\u001b[0m\u001b[0;34m)\u001b[0m\u001b[0;34m\u001b[0m\u001b[0;34m\u001b[0m\u001b[0m\n\u001b[0m\u001b[1;32m   1114\u001b[0m \u001b[0;34m\u001b[0m\u001b[0m\n\u001b[1;32m   1115\u001b[0m     \u001b[0;32mdef\u001b[0m \u001b[0m_handle_lowerdim_multi_index_axis0\u001b[0m\u001b[0;34m(\u001b[0m\u001b[0mself\u001b[0m\u001b[0;34m,\u001b[0m \u001b[0mtup\u001b[0m\u001b[0;34m:\u001b[0m \u001b[0mtuple\u001b[0m\u001b[0;34m)\u001b[0m\u001b[0;34m:\u001b[0m\u001b[0;34m\u001b[0m\u001b[0;34m\u001b[0m\u001b[0m\n",
      "\u001b[0;32m~/anaconda3/envs/sephi/lib/python3.9/site-packages/pandas/core/generic.py\u001b[0m in \u001b[0;36mxs\u001b[0;34m(self, key, axis, level, drop_level)\u001b[0m\n\u001b[1;32m   3774\u001b[0m                 \u001b[0;32mraise\u001b[0m \u001b[0mTypeError\u001b[0m\u001b[0;34m(\u001b[0m\u001b[0;34mf\"Expected label or tuple of labels, got {key}\"\u001b[0m\u001b[0;34m)\u001b[0m \u001b[0;32mfrom\u001b[0m \u001b[0me\u001b[0m\u001b[0;34m\u001b[0m\u001b[0;34m\u001b[0m\u001b[0m\n\u001b[1;32m   3775\u001b[0m         \u001b[0;32melse\u001b[0m\u001b[0;34m:\u001b[0m\u001b[0;34m\u001b[0m\u001b[0;34m\u001b[0m\u001b[0m\n\u001b[0;32m-> 3776\u001b[0;31m             \u001b[0mloc\u001b[0m \u001b[0;34m=\u001b[0m \u001b[0mindex\u001b[0m\u001b[0;34m.\u001b[0m\u001b[0mget_loc\u001b[0m\u001b[0;34m(\u001b[0m\u001b[0mkey\u001b[0m\u001b[0;34m)\u001b[0m\u001b[0;34m\u001b[0m\u001b[0;34m\u001b[0m\u001b[0m\n\u001b[0m\u001b[1;32m   3777\u001b[0m \u001b[0;34m\u001b[0m\u001b[0m\n\u001b[1;32m   3778\u001b[0m             \u001b[0;32mif\u001b[0m \u001b[0misinstance\u001b[0m\u001b[0;34m(\u001b[0m\u001b[0mloc\u001b[0m\u001b[0;34m,\u001b[0m \u001b[0mnp\u001b[0m\u001b[0;34m.\u001b[0m\u001b[0mndarray\u001b[0m\u001b[0;34m)\u001b[0m\u001b[0;34m:\u001b[0m\u001b[0;34m\u001b[0m\u001b[0;34m\u001b[0m\u001b[0m\n",
      "\u001b[0;32m~/anaconda3/envs/sephi/lib/python3.9/site-packages/pandas/core/indexes/base.py\u001b[0m in \u001b[0;36mget_loc\u001b[0;34m(self, key, method, tolerance)\u001b[0m\n\u001b[1;32m   3361\u001b[0m                 \u001b[0;32mreturn\u001b[0m \u001b[0mself\u001b[0m\u001b[0;34m.\u001b[0m\u001b[0m_engine\u001b[0m\u001b[0;34m.\u001b[0m\u001b[0mget_loc\u001b[0m\u001b[0;34m(\u001b[0m\u001b[0mcasted_key\u001b[0m\u001b[0;34m)\u001b[0m\u001b[0;34m\u001b[0m\u001b[0;34m\u001b[0m\u001b[0m\n\u001b[1;32m   3362\u001b[0m             \u001b[0;32mexcept\u001b[0m \u001b[0mKeyError\u001b[0m \u001b[0;32mas\u001b[0m \u001b[0merr\u001b[0m\u001b[0;34m:\u001b[0m\u001b[0;34m\u001b[0m\u001b[0;34m\u001b[0m\u001b[0m\n\u001b[0;32m-> 3363\u001b[0;31m                 \u001b[0;32mraise\u001b[0m \u001b[0mKeyError\u001b[0m\u001b[0;34m(\u001b[0m\u001b[0mkey\u001b[0m\u001b[0;34m)\u001b[0m \u001b[0;32mfrom\u001b[0m \u001b[0merr\u001b[0m\u001b[0;34m\u001b[0m\u001b[0;34m\u001b[0m\u001b[0m\n\u001b[0m\u001b[1;32m   3364\u001b[0m \u001b[0;34m\u001b[0m\u001b[0m\n\u001b[1;32m   3365\u001b[0m         \u001b[0;32mif\u001b[0m \u001b[0mis_scalar\u001b[0m\u001b[0;34m(\u001b[0m\u001b[0mkey\u001b[0m\u001b[0;34m)\u001b[0m \u001b[0;32mand\u001b[0m \u001b[0misna\u001b[0m\u001b[0;34m(\u001b[0m\u001b[0mkey\u001b[0m\u001b[0;34m)\u001b[0m \u001b[0;32mand\u001b[0m \u001b[0;32mnot\u001b[0m \u001b[0mself\u001b[0m\u001b[0;34m.\u001b[0m\u001b[0mhasnans\u001b[0m\u001b[0;34m:\u001b[0m\u001b[0;34m\u001b[0m\u001b[0;34m\u001b[0m\u001b[0m\n",
      "\u001b[0;31mKeyError\u001b[0m: 12"
     ]
    }
   ],
   "source": [
    "# Estimate L for stars with T and R listed\n",
    "for i in range(exoplanets.shape[0]):\n",
    "    if pd.notna(exoplanets.loc[i,\"st_teff\"]) and pd.notna(exoplanets.loc[i,\"st_rad\"]):\n",
    "        L, dL1, dL2 = calc_st_lum(exoplanets.loc[i,\"st_teff\"], exoplanets.loc[i,\"st_tefferr1\"], exoplanets.loc[i,\"st_tefferr2\"], exoplanets.loc[i,\"st_rad\"], exoplanets.loc[i,\"st_raderr1\"], exoplanets.loc[i,\"st_raderr2\"])\n",
    "        print(L, dL1, dL2)\n",
    "        #TODO: convert L to appropriate units [log(Solar)]\n",
    "        #TODO: calc percentage error in L\n",
    "        #TODO: calc percentage error in st_lum\n",
    "        #TODO: compare the two\n",
    "        #TODO: why are some of these repeating?\n",
    "        \n",
    "        #If st_lum is listed as nan or if it is a real value with a larger error than the new value then overwrite the previous values\n",
    "        if pd.isna(exoplanets.loc[i,\"st_lum\"]) or ( dL1 < exoplanets.loc[i,\"st_lumerr1\"] and pd.notna(exoplanets.loc[i,\"st_lum\"]) ): \n",
    "            #TODO: overwrite the previous values in exoplanets df\n",
    "            #exoplanets.loc[i,\"st_lum\"] = L\n",
    "            #exoplanets.loc[i, \"st_lumerr1\"] = dL1\n",
    "            #exoplanets.loc[i, \"st_lumerr2\"] = dL2               \n",
    "            print(L, dL1, dL2)\n",
    "            \n",
    "        else:                                                        \n",
    "            continue                                                        \n",
    "    else:\n",
    "        continue\n",
    "        "
   ]
  },
  {
   "cell_type": "code",
   "execution_count": null,
   "id": "21b1f15d-c6e4-4cf9-b95d-682e6d9138ba",
   "metadata": {},
   "outputs": [],
   "source": [
    "# Compare the unc in L if you calculate if vs the unc in the listed values. \n",
    "# If the unc. in the calculated value is smaller, replace the listed value"
   ]
  },
  {
   "cell_type": "code",
   "execution_count": null,
   "id": "e580456c-0670-4b86-81d7-382bc7a51880",
   "metadata": {},
   "outputs": [],
   "source": [
    "# Calculate other parameters\n",
    "# Estimate T for stars without it listed"
   ]
  },
  {
   "cell_type": "code",
   "execution_count": null,
   "id": "2f24c412-cf59-4a16-9315-64f19fca2ae0",
   "metadata": {},
   "outputs": [],
   "source": [
    "# I could then merge the exoplanets data with the phase-space densities calculated from edr3.\n",
    "# I would need to use a "
   ]
  }
 ],
 "metadata": {
  "kernelspec": {
   "display_name": "Python 3 (ipykernel)",
   "language": "python",
   "name": "python3"
  },
  "language_info": {
   "codemirror_mode": {
    "name": "ipython",
    "version": 3
   },
   "file_extension": ".py",
   "mimetype": "text/x-python",
   "name": "python",
   "nbconvert_exporter": "python",
   "pygments_lexer": "ipython3",
   "version": "3.9.7"
  }
 },
 "nbformat": 4,
 "nbformat_minor": 5
}
