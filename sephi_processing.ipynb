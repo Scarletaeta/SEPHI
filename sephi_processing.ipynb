{
 "cells": [
  {
   "cell_type": "code",
   "execution_count": 1,
   "id": "3bbbe58d-24fb-4ab2-880e-dde3b326b6fc",
   "metadata": {},
   "outputs": [],
   "source": [
    "import numpy as np\n",
    "import pandas as pd\n",
    "from math import pi, sqrt\n",
    "\n",
    "import astropy.table #import tables\n",
    "from astropy import units as u\n",
    "from astropy import constants as const\n",
    "\n",
    "from preprocessing.calc_stellar_params import calc_luminosity, calc_temp\n",
    "from preprocessing.analyse_errs import classify_err\n",
    "#from preprocessing.calc_sephi import get_sephi_RM17\n"
   ]
  },
  {
   "cell_type": "code",
   "execution_count": 2,
   "id": "cdbbadb7-da36-4706-be90-64a573103b9d",
   "metadata": {},
   "outputs": [],
   "source": [
    "# Exoplanet directory:\n",
    "#exoplanets_dir = \"~/Scarlett/OneDrive - Liverpool John Moores University/SEPHI_data/NASA_EA_2022_02_09.csv\"\n",
    "exoplanets_dir = \"~/OneDrive/SEPHI_data/NASA_EA_2022_02_09.csv\"\n",
    "\n",
    "# The length of the header in the exoplanets csv file:\n",
    "header_length = 116"
   ]
  },
  {
   "cell_type": "code",
   "execution_count": 3,
   "id": "d213db90-00a3-450b-a2ea-0454cd71e6f8",
   "metadata": {},
   "outputs": [],
   "source": [
    "# Read data\n",
    "exoplanets = pd.read_csv(exoplanets_dir, skiprows=header_length, \n",
    "                         usecols=[\"pl_name\", \"hostname\", \"gaia_id\", \"sy_snum\", \"sy_pnum\", \"discoverymethod\", \"pl_orbper\", \"pl_orbsmax\", \"pl_rade\", \"pl_bmasse\", \"pl_dens\", \"pl_orbeccen\", \"pl_eqt\", \"pl_orbincl\", \"st_teff\", \"st_tefferr1\", \"st_tefferr2\", \"st_rad\", \"st_raderr1\", \"st_raderr2\", \"st_mass\", \"st_met\", \"st_lum\", \"st_lumerr1\", \"st_lumerr2\", \"st_logg\", \"st_age\", \"st_ageerr1\", \"st_ageerr2\", \"sy_dist\", \"sy_plx\", \"sy_gaiamag\"])\n",
    "# pl_orbper = orbital period [days]\n",
    "# pl_orbsmax = orbit semi-major axis [au]\n",
    "#exculuded \"st_spectype\" due to csv formatting"
   ]
  },
  {
   "cell_type": "code",
   "execution_count": 4,
   "id": "1effc4d5-fa41-4818-94c7-bd9b3c1b2323",
   "metadata": {},
   "outputs": [],
   "source": [
    "#print(exoplanets.head())"
   ]
  },
  {
   "cell_type": "code",
   "execution_count": 5,
   "id": "a6ccf2aa-63af-4576-8989-cb099d61a039",
   "metadata": {},
   "outputs": [],
   "source": [
    "# Get rid of exoplanets whose star's haven't been observed by Gaia\n",
    "exoplanets.dropna(subset=[\"gaia_id\"], inplace=True)"
   ]
  },
  {
   "cell_type": "code",
   "execution_count": 6,
   "id": "72db17b1-7385-4a3e-856e-2c4fe78e1bd5",
   "metadata": {},
   "outputs": [
    {
     "name": "stdout",
     "output_type": "stream",
     "text": [
      "Number of exoplanets with no stellar age listed:  2450\n",
      "Number of exoplanets with stellar age listed:  2284\n"
     ]
    }
   ],
   "source": [
    "# Not many of the exoplanets have the stellar age listed. Working out how many have stellar age:\n",
    "print(\"Number of exoplanets with no stellar age listed: \", exoplanets[\"st_age\"].isna().sum())\n",
    "print(\"Number of exoplanets with stellar age listed: \", exoplanets[\"st_age\"].notna().sum())"
   ]
  },
  {
   "cell_type": "code",
   "execution_count": 7,
   "id": "22d06095-0e3e-4d44-aa2e-77954f8fc1e1",
   "metadata": {},
   "outputs": [
    {
     "name": "stdout",
     "output_type": "stream",
     "text": [
      "Number of exoplanets with no teff listed:  227\n",
      "Number of exoplanets with teff listed:  4507\n"
     ]
    }
   ],
   "source": [
    "# A few don't have stellar effective temperature listed (st_teff):\n",
    "print(\"Number of exoplanets with no teff listed: \", exoplanets[\"st_teff\"].isna().sum())\n",
    "print(\"Number of exoplanets with teff listed: \", exoplanets[\"st_teff\"].notna().sum())"
   ]
  },
  {
   "cell_type": "code",
   "execution_count": 8,
   "id": "0587b96a-0445-4158-9d04-f8a952b51333",
   "metadata": {},
   "outputs": [
    {
     "name": "stdout",
     "output_type": "stream",
     "text": [
      "Number of exoplanets with no st_rad listed:  320\n",
      "Number of exoplanets with st_rad listed:  4414\n",
      "Number of exoplanets with st_raderr1 listed:  4263\n",
      "Number of exoplanets with st_raderr2 listed:  4240\n"
     ]
    }
   ],
   "source": [
    "# Some don't have stellar radius listed\n",
    "print(\"Number of exoplanets with no st_rad listed: \", exoplanets[\"st_rad\"].isna().sum())\n",
    "print(\"Number of exoplanets with st_rad listed: \", exoplanets[\"st_rad\"].notna().sum())\n",
    "\n",
    "print(\"Number of exoplanets with st_raderr1 listed: \", exoplanets[\"st_raderr1\"].notna().sum())\n",
    "print(\"Number of exoplanets with st_raderr2 listed: \", exoplanets[\"st_raderr2\"].notna().sum())"
   ]
  },
  {
   "cell_type": "code",
   "execution_count": 9,
   "id": "49930776-d8c6-44f8-b373-d85fe9502818",
   "metadata": {},
   "outputs": [
    {
     "name": "stdout",
     "output_type": "stream",
     "text": [
      "Number of exoplanets with no st_age listed:  2450\n",
      "Number of exoplanets with st_age listed:  2284\n"
     ]
    }
   ],
   "source": [
    "# Some don't have stellar age listed\n",
    "print(\"Number of exoplanets with no st_age listed: \", exoplanets[\"st_age\"].isna().sum())\n",
    "print(\"Number of exoplanets with st_age listed: \", exoplanets[\"st_age\"].notna().sum())"
   ]
  },
  {
   "cell_type": "code",
   "execution_count": 10,
   "id": "1dec675a-74d7-40bc-b4ad-7703a40c561b",
   "metadata": {},
   "outputs": [
    {
     "name": "stdout",
     "output_type": "stream",
     "text": [
      "Number of exoplanets with st_eff and st_rad listed (can calc L):  4311\n",
      "Number of exoplanets with st_teff, st_rad and st_age listed (can calc SEPHI):  2148\n"
     ]
    }
   ],
   "source": [
    "# Number of stars with st_rad and st_teff:\n",
    "count = 0\n",
    "for i in range(exoplanets.shape[0]):\n",
    "    if pd.notna(exoplanets[\"st_teff\"].iloc[i]) and pd.notna(exoplanets[\"st_rad\"].iloc[i]):\n",
    "        count+=1\n",
    "    else:\n",
    "        continue\n",
    "print(\"Number of exoplanets with st_eff and st_rad listed (can calc L): \", count)\n",
    "    \n",
    "# Number of stars with st_rad, st_teff and st_age:\n",
    "count = 0\n",
    "for i in range(exoplanets.shape[0]):\n",
    "    if pd.notna(exoplanets[\"st_teff\"].iloc[i]) and pd.notna(exoplanets[\"st_rad\"].iloc[i]) and pd.notna(exoplanets[\"st_age\"].iloc[i]):\n",
    "        count+=1\n",
    "    else:\n",
    "        continue\n",
    "\n",
    "print(\"Number of exoplanets with st_teff, st_rad and st_age listed (can calc SEPHI): \", count)"
   ]
  },
  {
   "cell_type": "code",
   "execution_count": 11,
   "id": "4b76e482-acef-4a19-ab81-a0da2ea8111c",
   "metadata": {},
   "outputs": [
    {
     "name": "stdout",
     "output_type": "stream",
     "text": [
      "Number of exoplanets with no L listed:  3825\n",
      "Number of exoplanets with L listed:  909\n"
     ]
    }
   ],
   "source": [
    "# Not many have stellar luminosity listed (but this can be calculated):\n",
    "print(\"Number of exoplanets with no L listed: \", exoplanets[\"st_lum\"].isna().sum())\n",
    "print(\"Number of exoplanets with L listed: \", exoplanets[\"st_lum\"].notna().sum())\n",
    "\n",
    "# Do more have their luminosities listed in Gaia?"
   ]
  },
  {
   "cell_type": "code",
   "execution_count": 12,
   "id": "e17ed89a-f04a-40d6-91b4-a8de73dd397b",
   "metadata": {},
   "outputs": [
    {
     "name": "stdout",
     "output_type": "stream",
     "text": [
      "4734\n"
     ]
    }
   ],
   "source": [
    "print(exoplanets.shape[0])"
   ]
  },
  {
   "cell_type": "code",
   "execution_count": 13,
   "id": "3044524f-dee6-4525-b4d4-f1656d937341",
   "metadata": {},
   "outputs": [],
   "source": [
    "# Estimate L for stars in 'exoplanets'\n",
    "luminosities = np.zeros( (exoplanets.shape[0],5) )\n",
    "for i in range(exoplanets.shape[0]):\n",
    "    luminosities[i] = calc_luminosity(exoplanets[\"st_teff\"].iloc[i], exoplanets[\"st_tefferr1\"].iloc[i], exoplanets[\"st_tefferr2\"].iloc[i], exoplanets[\"st_rad\"].iloc[i], exoplanets[\"st_raderr1\"].iloc[i], exoplanets[\"st_raderr2\"].iloc[i]) \n",
    "\n",
    "#print(luminosities)"
   ]
  },
  {
   "cell_type": "code",
   "execution_count": 14,
   "id": "488429c6-268a-4606-8c63-acd5d584d4d9",
   "metadata": {},
   "outputs": [],
   "source": [
    "# Add the luminosities columns to the exoplanets data frame:\n",
    "exoplanets[ [\"calc_L\", \"calc_Lerr1\", \"calc_L%err1\", \"calc_Lerr2\", \"calc_L%err2\"] ] = luminosities\n",
    "#print(exoplanets)"
   ]
  },
  {
   "cell_type": "code",
   "execution_count": 15,
   "id": "c6c7f8eb-7795-4f98-974c-30a148766bf6",
   "metadata": {},
   "outputs": [],
   "source": [
    "# Array to store classification:\n",
    "classes_L = np.zeros( (exoplanets.shape[0]), dtype=int )\n",
    "#print(classes_L[0:40])\n",
    "\n",
    "# Classify the luminosity uncertainties using the function:\n",
    "for i in range(exoplanets.shape[0]):\n",
    "    classes_L[i] = classify_err(exoplanets[\"st_lum\"].iloc[i], exoplanets[\"st_lumerr1\"].iloc[i], exoplanets[\"st_lumerr2\"].iloc[i], exoplanets[\"calc_L%err1\"].iloc[i], exoplanets[\"calc_L%err2\"].iloc[i])\n",
    "                                                                                                             \n",
    "#print(classes_L[0:100])\n",
    "#print(len(classes_L))"
   ]
  },
  {
   "cell_type": "code",
   "execution_count": 16,
   "id": "04c4b578-bcc4-4058-8048-21b4f67251bb",
   "metadata": {},
   "outputs": [
    {
     "name": "stdout",
     "output_type": "stream",
     "text": [
      "Number of exoplanets with errors in st_lum < calc_L or no dcalc_L:  500 \n",
      "NB: there are 909 planets with st_lum listed.\n",
      "Number of exoplanets with errors in calc_L < st_lum or no dst_lum:  3722\n"
     ]
    }
   ],
   "source": [
    "print(\"Number of exoplanets with errors in st_lum < calc_L or no dcalc_L: \", np.count_nonzero(classes_L == 1),\"\\nNB: there are 909 planets with st_lum listed.\") \n",
    "print(\"Number of exoplanets with errors in calc_L < st_lum or no dst_lum: \", np.count_nonzero(classes_L == 2))"
   ]
  },
  {
   "cell_type": "code",
   "execution_count": 17,
   "id": "27603a96-4449-421a-93bc-92f3b1c4e1ee",
   "metadata": {},
   "outputs": [],
   "source": [
    "# Add the crror class column to the exoplanets data frame\n",
    "exoplanets[ \"Lerr_class\" ] = classes_L\n",
    "#print(exoplanets)"
   ]
  },
  {
   "cell_type": "code",
   "execution_count": 18,
   "id": "e580456c-0670-4b86-81d7-382bc7a51880",
   "metadata": {},
   "outputs": [],
   "source": [
    "# Estimate T for stars in 'exoplanets'\n",
    "temps = np.zeros( (exoplanets.shape[0], 5) )\n",
    "for i in range(exoplanets.shape[0]):\n",
    "    temps[i] = calc_temp(exoplanets[\"st_rad\"].iloc[i], exoplanets[\"st_raderr1\"].iloc[i], exoplanets[\"st_raderr2\"].iloc[i], exoplanets[\"st_lum\"].iloc[i], exoplanets[\"st_lumerr1\"].iloc[i], exoplanets[\"st_lumerr2\"].iloc[i]) \n",
    "\n",
    "#print(temps)"
   ]
  },
  {
   "cell_type": "code",
   "execution_count": 19,
   "id": "1e020d76-4866-4e01-a774-576a7c59818d",
   "metadata": {},
   "outputs": [],
   "source": [
    "# Add calc_teff to exoplanets df:\n",
    "exoplanets[ [\"calc_T\", \"calc_Terr1\", \"calc_T%err1\", \"calc_Terr2\", \"calc_T%err2\"] ] = temps\n",
    "#print(exoplanets.head(10))\n",
    "# Temps and errors look good!"
   ]
  },
  {
   "cell_type": "code",
   "execution_count": 20,
   "id": "48cacc73-e521-46d5-98b7-3c5459eedf51",
   "metadata": {},
   "outputs": [],
   "source": [
    "# Compare the uncertainties in st_teff and calc_teff: \n",
    "\n",
    "# Array to store classification:\n",
    "classes_T = np.zeros( (exoplanets.shape[0]), dtype=int )\n",
    "\n",
    "for i in range(exoplanets.shape[0]):\n",
    "    classes_T[i] = classify_err(exoplanets[\"st_teff\"].iloc[i], exoplanets[\"st_tefferr1\"].iloc[i], exoplanets[\"st_tefferr2\"].iloc[i], exoplanets[\"calc_T%err1\"].iloc[i], exoplanets[\"calc_T%err2\"].iloc[i])\n",
    "                                                                                                             \n",
    "#print(classes_T[0:100])\n",
    "#print(len(classes_T))"
   ]
  },
  {
   "cell_type": "code",
   "execution_count": 21,
   "id": "9c3f4051-f98c-4376-886d-c47fe8665de7",
   "metadata": {},
   "outputs": [
    {
     "name": "stdout",
     "output_type": "stream",
     "text": [
      "Number of exoplanets with errors in st_teff < calc_T or incomplete errors on calc_teff:  4103 \n",
      "NB: there are 4507 planets with st_teff listed.\n",
      "Number of exoplanets with errors in calc_T < st_teff or incomplete errors on st_teff:  272\n"
     ]
    }
   ],
   "source": [
    "# Counting how many st_teff have smaller error and how many temp have smaller error\n",
    "print(\"Number of exoplanets with errors in st_teff < calc_T or incomplete errors on calc_teff: \", np.count_nonzero(classes_T == 1),\"\\nNB: there are 4507 planets with st_teff listed.\") \n",
    "print(\"Number of exoplanets with errors in calc_T < st_teff or incomplete errors on st_teff: \", np.count_nonzero(classes_T == 2))"
   ]
  },
  {
   "cell_type": "code",
   "execution_count": 22,
   "id": "2f24c412-cf59-4a16-9315-64f19fca2ae0",
   "metadata": {},
   "outputs": [],
   "source": [
    "# Adding the classes_T array to the exoplanets df\n",
    "exoplanets[\"Terr_class\"] = classes_T\n",
    "#print(exoplanets)"
   ]
  },
  {
   "cell_type": "code",
   "execution_count": 23,
   "id": "c1f74785-c466-4ba2-b8c5-28c801ffa6af",
   "metadata": {},
   "outputs": [],
   "source": [
    "#exoplanets_tab = astropy.table.Table.from_pandas(exoplanets)\n",
    "#exoplanets[\"pl_rade\"].unit = astropy.units.earthRad"
   ]
  },
  {
   "cell_type": "code",
   "execution_count": 24,
   "id": "842c014e-9c1e-4a89-84f7-6b6f30e0f102",
   "metadata": {},
   "outputs": [],
   "source": [
    "# TODO: I can drop the two percentage errors on L and T"
   ]
  },
  {
   "cell_type": "code",
   "execution_count": 25,
   "id": "7858a9fa-6bc4-48ec-8e1f-fcbb01dde02f",
   "metadata": {},
   "outputs": [],
   "source": [
    "# I could then merge the exoplanets data with the phase-space densities calculated from edr3.\n",
    "# I would need to use a "
   ]
  },
  {
   "cell_type": "code",
   "execution_count": 26,
   "id": "0953efdf-2b09-4d29-b649-efc51062d609",
   "metadata": {
    "tags": []
   },
   "outputs": [
    {
     "name": "stdout",
     "output_type": "stream",
     "text": [
      "planet mass:  [6165.6     4684.8142  1525.5     ... 1313.22     162.09249  890.     ] earthMass \n",
      " data shape:  (4734,)\n"
     ]
    }
   ],
   "source": [
    "pl_mass = exoplanets[\"pl_bmasse\"].to_numpy() * u.earthMass\n",
    "pl_rad = exoplanets[\"pl_rade\"].to_numpy() * u.earthRad\n",
    "pl_a = exoplanets[\"pl_orbsmax\"].to_numpy() * u.AU\n",
    "#teff = exoplanets[\"st_teff\"].to_numpy() * u.K\n",
    "#lum = exoplanets[\"st_lum\"].to_numpy() * u.dex(u.L_sun)\n",
    "st_mass = exoplanets[\"st_mass\"].to_numpy() * u.solMass\n",
    "age = exoplanets[\"st_age\"].to_numpy() * u.Gyr\n",
    "print(\"planet mass: \", pl_mass, \"\\n data shape: \", pl_mass.shape)\n",
    "      #, pl_rad, pl_ a)"
   ]
  },
  {
   "cell_type": "code",
   "execution_count": 27,
   "id": "5eef5682-59d0-4a36-ac50-0757f50005ec",
   "metadata": {},
   "outputs": [],
   "source": [
    "from preprocessing.calc_sephi import get_sephi_RM17"
   ]
  },
  {
   "cell_type": "code",
   "execution_count": 28,
   "id": "92ea5de5-8f4e-4690-a04b-1904f08e2ddb",
   "metadata": {},
   "outputs": [],
   "source": [
    "#sephi = get_sephi_RM17(pl_mass, pl_rad, pl_a, teff, lum, st_mass, age, verbose=False)"
   ]
  },
  {
   "cell_type": "code",
   "execution_count": 29,
   "id": "9369ff6b-e7b8-4c5b-b3f3-8b7cf2a3a4a9",
   "metadata": {},
   "outputs": [],
   "source": [
    "#print(sephi)\n",
    "#print(sephi.shape)\n",
    "# Checking whether uncertainties are the right sign (+/-ve)\n",
    "#print( np.where( exoplanets[\"calc_Terr1\"] <0 ) )\n",
    "#print( np.where( exoplanets[\"calc_Terr2\"] >0 ) )\n",
    "#print( (np.where( np.isnan( exoplanets[\"calc_Terr2\"].head(100)) ) ) )"
   ]
  },
  {
   "cell_type": "code",
   "execution_count": 40,
   "id": "3913f6b5-e3b4-47cd-a8ec-2c8d0cb9b937",
   "metadata": {},
   "outputs": [
    {
     "name": "stdout",
     "output_type": "stream",
     "text": [
      "4734\n",
      "[2.243      2.40120052 1.7671425  ...        nan 1.8        1.83076776] dex(solLum)\n"
     ]
    }
   ],
   "source": [
    "# Collating the 'best' values for stellar luminosity\n",
    "\n",
    "# The conditions that determine which L value is the 'best':\n",
    "c1= np.where( (exoplanets[\"Lerr_class\"].to_numpy() == 0) | (exoplanets[\"Lerr_class\"].to_numpy() == 1) ) # indicies for which st_lum has smaller uncertainties\n",
    "#print(c1[0])\n",
    "#print(c1[0].size)\n",
    "c2 = np.where( (exoplanets[\"Lerr_class\"].to_numpy() == 2 ) ) # indicies for which calc_T has smaller uncertainties\n",
    "c3 = np.where( (exoplanets[\"Lerr_class\"].to_numpy() == 3 ) ) # indioies where neither st_lum nor calc_T have uncertainties, or both st_lum and calc_T are NaN\n",
    "\n",
    "# Empty array to store the 'best' luminosities:\n",
    "lum = np.zeros(exoplanets.shape[0])\n",
    "print(lum.size)\n",
    "\n",
    "lum[c1] = exoplanets[\"st_lum\"].iloc[c1] # st_lum has smaller uncertainties\n",
    "lum[c2] = exoplanets[\"calc_L\"].iloc[c2] # calc_L has smaller uncertainties\n",
    "lum[c3] = exoplanets[\"calc_L\"].iloc[c3] # these are all NaN\n",
    "\n",
    "lum = lum * u.dex(u.L_sun)\n",
    "print(lum)\n",
    "\n",
    "# NB: lums and teffs that aren't NaN but class 3 do not have uncertainties. Are these reliable results?"
   ]
  },
  {
   "cell_type": "code",
   "execution_count": 36,
   "id": "2d3a984c-ef21-4024-b458-e93b83d9c5bf",
   "metadata": {},
   "outputs": [
    {
     "name": "stdout",
     "output_type": "stream",
     "text": [
      "4734\n",
      "[4742.         4213.         4813.         ...           nan 4856.57558202\n",
      " 4780.        ] K\n"
     ]
    }
   ],
   "source": [
    "# Collating the 'best' values for effective temperature\n",
    "\n",
    "# The conditions that determine which teff value is the 'best':\n",
    "c1= np.where( (exoplanets[\"Terr_class\"].to_numpy() == 0) | (exoplanets[\"Terr_class\"].to_numpy() == 1) )\n",
    "#print(c1[0])\n",
    "#print(c1[0].size)\n",
    "c2 = np.where( (exoplanets[\"Terr_class\"].to_numpy() == 2 ) )\n",
    "c3 = np.where( (exoplanets[\"Terr_class\"].to_numpy() == 3 ) )\n",
    "\n",
    "# Empty array to store the 'best' luminosities:\n",
    "teff = np.zeros(exoplanets.shape[0])\n",
    "print(teff.size)\n",
    "\n",
    "teff[c1] = exoplanets[\"st_teff\"].iloc[c1] # st_teff has smaller uncertainties\n",
    "teff[c2] = exoplanets[\"calc_T\"].iloc[c2] # calc_T has smaller uncertainties\n",
    "teff[c3] = exoplanets[\"calc_T\"].iloc[c3] # these are all NaN\n",
    "\n",
    "teff = teff * u.K\n",
    "print(teff)"
   ]
  },
  {
   "cell_type": "code",
   "execution_count": 41,
   "id": "0360ed70-405d-4f63-8d9e-4cc7f6bcca01",
   "metadata": {},
   "outputs": [
    {
     "name": "stdout",
     "output_type": "stream",
     "text": [
      "Number of planets for which SEPHI cannot be calculated:  4242\n",
      "Number of planets for which SEPHI can be calculated:  492\n"
     ]
    }
   ],
   "source": [
    "sephi = get_sephi_RM17(pl_mass, pl_rad, pl_a, teff, lum, st_mass, age, verbose=False)"
   ]
  },
  {
   "cell_type": "code",
   "execution_count": 31,
   "id": "db9b4bd9-c816-46a2-b48c-7f4d2e691fbd",
   "metadata": {},
   "outputs": [],
   "source": [
    "# TODO: match with CKS stellar catalogue\n",
    "# TODO: redo best param search (flag where CKS used)\n",
    "# TODO: calc sephi for CKS planets only\n",
    "# TODO: match with CKS planet params\n",
    "# TODO: add the sephi to the data frame"
   ]
  }
 ],
 "metadata": {
  "kernelspec": {
   "display_name": "Python 3 (ipykernel)",
   "language": "python",
   "name": "python3"
  },
  "language_info": {
   "codemirror_mode": {
    "name": "ipython",
    "version": 3
   },
   "file_extension": ".py",
   "mimetype": "text/x-python",
   "name": "python",
   "nbconvert_exporter": "python",
   "pygments_lexer": "ipython3",
   "version": "3.9.7"
  }
 },
 "nbformat": 4,
 "nbformat_minor": 5
}
