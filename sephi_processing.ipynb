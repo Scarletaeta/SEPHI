{
 "cells": [
  {
   "cell_type": "code",
   "execution_count": 2,
   "id": "3bbbe58d-24fb-4ab2-880e-dde3b326b6fc",
   "metadata": {},
   "outputs": [],
   "source": [
    "import numpy as np\n",
    "import pandas as pd\n",
    "from math import pi, sqrt\n",
    "from os import path\n",
    "\n",
    "import astropy.table #import tables\n",
    "from astropy import units as u\n",
    "from astropy import constants as const\n",
    "\n",
    "#from preprocessing.calc_stellar_params import calc_luminosity, calc_temp\n",
    "from preprocessing.analyse_errs import classify_err\n",
    "#from preprocessing.calc_sephi import get_sephi_RM17\n"
   ]
  },
  {
   "cell_type": "code",
   "execution_count": 3,
   "id": "cdbbadb7-da36-4706-be90-64a573103b9d",
   "metadata": {},
   "outputs": [],
   "source": [
    "# Exoplanet directory:\n",
    "#NASAEA_dir = \"~/Scarlett/OneDrive - Liverpool John Moores University/SEPHI_data/NASA_EA_2022_02_09.csv\"\n",
    "NASAEA_dir = \"~/OneDrive/SEPHI_data/NASA_EA_2022_02_09.csv\"\n",
    "NEA_header_length = 116 # The length of the header in the exoplanets csv file\n",
    "\n",
    "# CKS directories:\n",
    "#CKS_stars_dir = \"~/Scarlett/OneDrive - Liverpool John Moores University/SEPHI_data/CKSII_2017_stars.tsv\"\n",
    "CKS_stars_dir = \"~/OneDrive/SEPHI_data/CKSII_2017_stars.tsv\"\n",
    "CKS_col_start = 100 # the row where containing the colum headers\n",
    "\n",
    "\n",
    "# GAIA DR2 directory:\n",
    "#dr2_directory = \"~/Scarlett/OneDrive - Liverpool John Moores University/SEPHI_data/dr2-result.csv\"\n",
    "dr2_directory = \"~/OneDrive/SEPHI_data/dr2-result.csv\"\n",
    "\n",
    "host_names_dir = \"~/Scarlett/OneDrive - Liverpool John Moores University/SEPHI_data/host_names.csv\"\n",
    "\n",
    "# Data directory:\n",
    "data_dir = \"~/OneDrive/SEPHI_data/\"\n",
    "#data_dir = \"~/Scarlett/OneDrive - Liverpool John Moores University/SEPHI_data/\"\n",
    "\n"
   ]
  },
  {
   "cell_type": "code",
   "execution_count": 4,
   "id": "d213db90-00a3-450b-a2ea-0454cd71e6f8",
   "metadata": {},
   "outputs": [],
   "source": [
    "# Read the exoplanets data:\n",
    "exoplanets = pd.read_csv(path.join(data_dir, f\"exoplanets.csv\")) \n",
    "\n",
    "# pl_orbper = orbital period [days]\n",
    "# pl_orbsmax = orbit semi-major axis [au]\n",
    "# exculuded \"st_spectype\" due to csv formatting"
   ]
  },
  {
   "cell_type": "code",
   "execution_count": 5,
   "id": "1effc4d5-fa41-4818-94c7-bd9b3c1b2323",
   "metadata": {},
   "outputs": [
    {
     "name": "stdout",
     "output_type": "stream",
     "text": [
      "      pl_name  hostname                   designation  sy_snum  sy_pnum  \\\n",
      "0    11 Com b    11 Com  Gaia DR2 3946945413106333696        2        1   \n",
      "1    11 UMi b    11 UMi  Gaia DR2 1696798367260229376        1        1   \n",
      "2    14 And b    14 And  Gaia DR2 1920113512486282240        1        1   \n",
      "3    14 Her b    14 Her  Gaia DR2 1385293808145621504        1        2   \n",
      "4  16 Cyg B b  16 Cyg B  Gaia DR2 2135550755683407232        3        1   \n",
      "\n",
      "   discoverymethod  NEA_pl_orbper  NEA_pl_orbsmax  NEA_pl_rade  NEA_pl_bmasse  \\\n",
      "0  Radial Velocity      326.03000            1.29          NaN      6165.6000   \n",
      "1  Radial Velocity      516.21997            1.53          NaN      4684.8142   \n",
      "2  Radial Velocity      185.84000            0.83          NaN      1525.5000   \n",
      "3  Radial Velocity     1773.40002            2.93          NaN      1481.0878   \n",
      "4  Radial Velocity      798.50000            1.66          NaN       565.7374   \n",
      "\n",
      "   ...  NEA_age  NEA_ageerr1  NEA_ageerr2            source_id    NEAc_lum  \\\n",
      "0  ...      NaN          NaN          NaN  3946945413106333696  164.454999   \n",
      "1  ...      NaN          NaN          NaN  1696798367260229376  251.883965   \n",
      "2  ...      NaN          NaN          NaN  1920113512486282240   58.498199   \n",
      "3  ...      NaN          NaN          NaN  1385293808145621504    0.632665   \n",
      "4  ...      NaN          NaN          NaN  2135550755683407232    1.257540   \n",
      "\n",
      "   NEAc_lumerr1  NEAc_lumerr2    NEAc_teff  NEAc_tefferr1  NEAc_tefferr2  \n",
      "0     37.297832    -37.297832  4816.147508     196.840213    -235.653776  \n",
      "1     49.270035    -49.270035          NaN            NaN            NaN  \n",
      "2     10.680389    -10.680389  4801.536536            NaN            NaN  \n",
      "3      0.018044     -0.018044          NaN            NaN            NaN  \n",
      "4      0.023332     -0.023332          NaN            NaN            NaN  \n",
      "\n",
      "[5 rows x 36 columns]\n"
     ]
    }
   ],
   "source": [
    "print(exoplanets.head())"
   ]
  },
  {
   "cell_type": "code",
   "execution_count": 6,
   "id": "72db17b1-7385-4a3e-856e-2c4fe78e1bd5",
   "metadata": {},
   "outputs": [],
   "source": [
    "# Not many of the exoplanets have the stellar age listed. Working out how many have stellar age:\n",
    "#print(\"Number of exoplanets with no stellar age listed: \", exoplanets[\"st_age\"].isna().sum())\n",
    "#print(\"Number of exoplanets with stellar age listed: \", exoplanets[\"st_age\"].notna().sum())"
   ]
  },
  {
   "cell_type": "code",
   "execution_count": 7,
   "id": "4b76e482-acef-4a19-ab81-a0da2ea8111c",
   "metadata": {},
   "outputs": [],
   "source": [
    "# Not many have stellar luminosity listed (but this can be calculated):\n",
    "#print(\"Number of exoplanets with no L listed: \", exoplanets[\"st_lum\"].isna().sum())\n",
    "#print(\"Number of exoplanets with L listed: \", exoplanets[\"st_lum\"].notna().sum())\n",
    "\n",
    "# Do more have their luminosities listed in Gaia?"
   ]
  },
  {
   "cell_type": "code",
   "execution_count": 8,
   "id": "e17ed89a-f04a-40d6-91b4-a8de73dd397b",
   "metadata": {},
   "outputs": [
    {
     "name": "stdout",
     "output_type": "stream",
     "text": [
      "4734\n"
     ]
    }
   ],
   "source": [
    "print(exoplanets.shape[0])"
   ]
  },
  {
   "cell_type": "code",
   "execution_count": 9,
   "id": "c6c7f8eb-7795-4f98-974c-30a148766bf6",
   "metadata": {},
   "outputs": [
    {
     "data": {
      "text/plain": [
       "'\\nclasses_L = np.zeros( (exoplanets.shape[0]), dtype=int )\\n#print(classes_L[0:40])\\n\\n# Classify the luminosity uncertainties using the function:\\nfor i in range(exoplanets.shape[0]):\\n    classes_L[i] = classify_err(exoplanets[\"st_lum\"].iloc[i], exoplanets[\"st_lumerr1\"].iloc[i], exoplanets[\"st_lumerr2\"].iloc[i], exoplanets[\"calc_L%err1\"].iloc[i], exoplanets[\"calc_L%err2\"].iloc[i])\\n                                                                                                             \\n#print(classes_L[0:100])\\n#print(len(classes_L))\\n'"
      ]
     },
     "execution_count": 9,
     "metadata": {},
     "output_type": "execute_result"
    }
   ],
   "source": [
    "# Array to store classification:\n",
    "\"\"\"\n",
    "classes_L = np.zeros( (exoplanets.shape[0]), dtype=int )\n",
    "#print(classes_L[0:40])\n",
    "\n",
    "# Classify the luminosity uncertainties using the function:\n",
    "for i in range(exoplanets.shape[0]):\n",
    "    classes_L[i] = classify_err(exoplanets[\"st_lum\"].iloc[i], exoplanets[\"st_lumerr1\"].iloc[i], exoplanets[\"st_lumerr2\"].iloc[i], exoplanets[\"calc_L%err1\"].iloc[i], exoplanets[\"calc_L%err2\"].iloc[i])\n",
    "                                                                                                             \n",
    "#print(classes_L[0:100])\n",
    "#print(len(classes_L))\n",
    "\"\"\""
   ]
  },
  {
   "cell_type": "code",
   "execution_count": 37,
   "id": "60110a80-9997-4645-88e3-a46a64731af0",
   "metadata": {},
   "outputs": [],
   "source": [
    "def calc_percent_errs(values, errs):\n",
    "    \"\"\"\n",
    "    values = values array/df\n",
    "    err = errors array/df\n",
    "    \n",
    "    returns percent_errs = df of percentage errors\n",
    "    \"\"\"\n",
    "    \n",
    "    values.to_numpy()\n",
    "    errs.to_numpy()\n",
    "    \n",
    "    percent_errs =  np.absolute( np.multiply(errs, values**(-1)) ) * 100\n",
    "    return percent_errs.to_numpy()\n",
    "\n",
    "def combined_percent_errs(values, errs1, errs2):\n",
    "    \"\"\"\n",
    "    values = values array/df\n",
    "    errs1 = +ve errors array/df\n",
    "    errs2 = -ve errors array/df\n",
    "    \n",
    "    returns a df of mean percentage errors\n",
    "    \"\"\"\n",
    "    \n",
    "    #values.to_numpy() These get converted to numpy in the percent_err function above\n",
    "    #errs1.to_numpy()\n",
    "    #errs2.to_numpy()\n",
    "    \n",
    "    means = ( calc_percent_errs(values, errs1) + calc_percent_errs(values, errs2) ) / 2\n",
    "    return means"
   ]
  },
  {
   "cell_type": "code",
   "execution_count": 38,
   "id": "06d4b14d-e531-4474-9466-4576f74d9970",
   "metadata": {},
   "outputs": [
    {
     "name": "stdout",
     "output_type": "stream",
     "text": [
      "[16.34835416         nan         nan ...         nan 50.88713056\n",
      "         nan]\n",
      "[19.57197329         nan         nan ...         nan 12.66421801\n",
      "         nan]\n",
      "[17.96016373         nan         nan ...         nan 31.77567428\n",
      "         nan]\n"
     ]
    }
   ],
   "source": [
    "# TODO: write conditions:\n",
    "# c1: both real values\n",
    "# c2: both nan\n",
    "\n",
    "# Empty array for % errs:\n",
    "NEA_comb_errs = np.empty(exoplanets.shape[0])\n",
    "NEAc_comb_errs = np.empty(exoplanets.shape[0])\n",
    "\n",
    "# Condition 1: there are +ve and -ve errors for both NEA_lum and NEAc_lum\n",
    "#c1 = np.where( np.isfinite(exoplanets[\"NEA_lumerr1\"]) & np.isfinite(exoplanets[\"NEA_lumerr2\"]) & np.isfinite(exoplanets[\"NEAc_lumerr1\"] ) np.isfinite(exoplanets[\"NEAc_lumerr2\"] ) )\n",
    "\n",
    "NEA_percent_errs1 = calc_percent_errs(exoplanets[\"NEA_lum\"], exoplanets[\"NEA_lumerr1\"])\n",
    "print(NEA_percent_errs1)\n",
    "NEA_percent_errs2 = calc_percent_errs(exoplanets[\"NEA_lum\"], exoplanets[\"NEA_lumerr2\"])\n",
    "print(NEA_percent_errs2)\n",
    "\n",
    "blah = (NEA_percent_errs1 + NEA_percent_errs2)/2\n",
    "print(blah)\n",
    "\n",
    "# Calc the percentage errors\n",
    "NEA_comb_errs = combined_percent_errs(exoplanets[\"NEA_lum\"], exoplanets[\"NEA_lumerr1\"], exoplanets[\"NEA_lumerr2\"] )\n",
    "NEAc_comb_errs = combined_percent_errs(exoplanets[\"NEAc_lum\"], exoplanets[\"NEAc_lumerr1\"], exoplanets[\"NEAc_lumerr2\"] )\n",
    "\n",
    "# Find which error is smaller, and assign a flag\n",
    "\n",
    "# Empty array for classifications:\n",
    "lum_flag = np.empty(exoplanets.shape[0])\n",
    "\n",
    "# Condition 2: if NEA errs = NEAc errs\n",
    "c2 = np.where(NEA_comb_errs == NEAc_comb_errs)\n",
    "lum_flag[c2] = 0\n",
    "\n",
    "# Condition 3: if NEA errs < NEAc errs\n",
    "c3 = np.where(NEA_comb_errs < NEAc_comb_errs)\n",
    "lum_flag[c3] = 1\n",
    "\n",
    "# Condition 4: if NEA errs > NEAc errs:\n",
    "c4 = np.where(NEA_comb_errs > NEAc_comb_errs)\n",
    "lum_flag[c4] = 2\n",
    "\n",
    "# Condition 5: both NEA errs NEAc errs NaN:\n",
    "c5 = np.where(np.isnan(NEA_comb_errs) & np.isnan(NEAc_comb_errs))\n",
    "lum_flag[c5] = 3\n",
    "\n",
    "\n",
    "\n"
   ]
  },
  {
   "cell_type": "code",
   "execution_count": null,
   "id": "04c4b578-bcc4-4058-8048-21b4f67251bb",
   "metadata": {},
   "outputs": [],
   "source": [
    "#print(\"Number of exoplanets with errors in st_lum < calc_L or no dcalc_L: \", np.count_nonzero(classes_L == 1),\"\\nNB: there are 909 planets with st_lum listed.\") \n",
    "#print(\"Number of exoplanets with errors in calc_L < st_lum or no dst_lum: \", np.count_nonzero(classes_L == 2))"
   ]
  },
  {
   "cell_type": "code",
   "execution_count": null,
   "id": "27603a96-4449-421a-93bc-92f3b1c4e1ee",
   "metadata": {},
   "outputs": [],
   "source": [
    "# Add the error class column to the exoplanets data frame\n",
    "#exoplanets[ \"Lerr_class\" ] = classes_L\n",
    "#print(exoplanets)"
   ]
  },
  {
   "cell_type": "code",
   "execution_count": null,
   "id": "e580456c-0670-4b86-81d7-382bc7a51880",
   "metadata": {},
   "outputs": [],
   "source": [
    "# Estimate T for stars in 'exoplanets'\n",
    "temps = np.zeros( (exoplanets.shape[0], 5) )\n",
    "for i in range(exoplanets.shape[0]):\n",
    "    temps[i] = calc_temp(exoplanets[\"st_rad\"].iloc[i], exoplanets[\"st_raderr1\"].iloc[i], exoplanets[\"st_raderr2\"].iloc[i], exoplanets[\"st_lum\"].iloc[i], exoplanets[\"st_lumerr1\"].iloc[i], exoplanets[\"st_lumerr2\"].iloc[i]) \n",
    "\n",
    "print(temps)"
   ]
  },
  {
   "cell_type": "code",
   "execution_count": null,
   "id": "1e020d76-4866-4e01-a774-576a7c59818d",
   "metadata": {},
   "outputs": [],
   "source": [
    "# Add calc_teff to exoplanets df:\n",
    "exoplanets[ [\"calc_T\", \"calc_Terr1\", \"calc_T%err1\", \"calc_Terr2\", \"calc_T%err2\"] ] = temps\n",
    "#print(exoplanets.head(10))\n",
    "# Temps and errors look good!"
   ]
  },
  {
   "cell_type": "code",
   "execution_count": null,
   "id": "48cacc73-e521-46d5-98b7-3c5459eedf51",
   "metadata": {},
   "outputs": [],
   "source": [
    "# Compare the uncertainties in st_teff and calc_teff: \n",
    "\n",
    "# Array to store classification:\n",
    "classes_T = np.zeros( (exoplanets.shape[0]), dtype=int )\n",
    "\n",
    "for i in range(exoplanets.shape[0]):\n",
    "    classes_T[i] = classify_err(exoplanets[\"st_teff\"].iloc[i], exoplanets[\"st_tefferr1\"].iloc[i], exoplanets[\"st_tefferr2\"].iloc[i], exoplanets[\"calc_T%err1\"].iloc[i], exoplanets[\"calc_T%err2\"].iloc[i])\n",
    "                                                                                                             \n",
    "print(classes_T[0:100])\n",
    "#print(len(classes_T))"
   ]
  },
  {
   "cell_type": "code",
   "execution_count": null,
   "id": "9c3f4051-f98c-4376-886d-c47fe8665de7",
   "metadata": {},
   "outputs": [],
   "source": [
    "# Counting how many st_teff have smaller error and how many temp have smaller error\n",
    "#print(\"Number of exoplanets with errors in st_teff < calc_T or incomplete errors on calc_teff: \", np.count_nonzero(classes_T == 1),\"\\nNB: there are 4507 planets with st_teff listed.\") \n",
    "#print(\"Number of exoplanets with errors in calc_T < st_teff or incomplete errors on st_teff: \", np.count_nonzero(classes_T == 2))"
   ]
  },
  {
   "cell_type": "code",
   "execution_count": null,
   "id": "2f24c412-cf59-4a16-9315-64f19fca2ae0",
   "metadata": {},
   "outputs": [],
   "source": [
    "# Adding the classes_T array to the exoplanets df\n",
    "exoplanets[\"Terr_class\"] = classes_T\n",
    "#print(exoplanets)"
   ]
  },
  {
   "cell_type": "code",
   "execution_count": null,
   "id": "0953efdf-2b09-4d29-b649-efc51062d609",
   "metadata": {
    "tags": []
   },
   "outputs": [],
   "source": [
    "pl_mass = exoplanets[\"pl_bmasse\"].to_numpy() * u.earthMass\n",
    "pl_rad = exoplanets[\"pl_rade\"].to_numpy() * u.earthRad\n",
    "pl_a = exoplanets[\"pl_orbsmax\"].to_numpy() * u.AU\n",
    "#teff = exoplanets[\"st_teff\"].to_numpy() * u.K\n",
    "#lum = exoplanets[\"st_lum\"].to_numpy() * u.dex(u.L_sun)\n",
    "st_mass = exoplanets[\"st_mass\"].to_numpy() * u.solMass\n",
    "age = exoplanets[\"st_age\"].to_numpy() * u.Gyr\n",
    "print(\"planet mass: \", pl_mass, \"\\n data shape: \", pl_mass.shape)\n",
    "      #, pl_rad, pl_ a)"
   ]
  },
  {
   "cell_type": "code",
   "execution_count": null,
   "id": "5eef5682-59d0-4a36-ac50-0757f50005ec",
   "metadata": {},
   "outputs": [],
   "source": [
    "from preprocessing.calc_sephi import get_sephi_RM17"
   ]
  },
  {
   "cell_type": "code",
   "execution_count": null,
   "id": "92ea5de5-8f4e-4690-a04b-1904f08e2ddb",
   "metadata": {},
   "outputs": [],
   "source": [
    "#sephi = get_sephi_RM17(pl_mass, pl_rad, pl_a, teff, lum, st_mass, age, verbose=False)"
   ]
  },
  {
   "cell_type": "code",
   "execution_count": null,
   "id": "9369ff6b-e7b8-4c5b-b3f3-8b7cf2a3a4a9",
   "metadata": {},
   "outputs": [],
   "source": [
    "#print(sephi)\n",
    "#print(sephi.shape)\n",
    "\n",
    "# Checking whether uncertainties are the right sign (+/-ve)\n",
    "#print( np.where( exoplanets[\"calc_Terr1\"] <0 ) )\n",
    "#print( np.where( exoplanets[\"calc_Terr2\"] >0 ) )\n",
    "#print( (np.where( np.isnan( exoplanets[\"calc_Terr2\"].head(100)) ) ) )"
   ]
  },
  {
   "cell_type": "code",
   "execution_count": null,
   "id": "3913f6b5-e3b4-47cd-a8ec-2c8d0cb9b937",
   "metadata": {},
   "outputs": [],
   "source": [
    "# Collating the 'best' values for stellar luminosity\n",
    "\n",
    "# The conditions that determine which L value is the 'best':\n",
    "c1= np.where( (exoplanets[\"Lerr_class\"].to_numpy() == 0) | (exoplanets[\"Lerr_class\"].to_numpy() == 1) ) # indicies for which st_lum has smaller uncertainties\n",
    "#print(c1[0])\n",
    "#print(c1[0].size)\n",
    "c2 = np.where( (exoplanets[\"Lerr_class\"].to_numpy() == 2 ) ) # indicies for which calc_T has smaller uncertainties\n",
    "c3 = np.where( (exoplanets[\"Lerr_class\"].to_numpy() == 3 ) ) # indioies where neither st_lum nor calc_T have uncertainties, or both st_lum and calc_T are NaN\n",
    "\n",
    "# Empty array to store the 'best' luminosities:\n",
    "lum = np.zeros(exoplanets.shape[0])\n",
    "print(lum.size)\n",
    "\n",
    "lum[c1] = exoplanets[\"st_lum\"].iloc[c1] # st_lum has smaller uncertainties\n",
    "lum[c2] = exoplanets[\"calc_L\"].iloc[c2] # calc_L has smaller uncertainties\n",
    "lum[c3] = exoplanets[\"calc_L\"].iloc[c3] # these are all NaN\n",
    "\n",
    "lum = lum * u.dex(u.L_sun)\n",
    "print(lum)\n",
    "\n",
    "# NB: lums and teffs that aren't NaN but class 3 do not have uncertainties. Are these reliable results?"
   ]
  },
  {
   "cell_type": "code",
   "execution_count": null,
   "id": "2d3a984c-ef21-4024-b458-e93b83d9c5bf",
   "metadata": {},
   "outputs": [],
   "source": [
    "# Collating the 'best' values for effective temperature\n",
    "\n",
    "# The conditions that determine which teff value is the 'best':\n",
    "c1= np.where( (exoplanets[\"Terr_class\"].to_numpy() == 0) | (exoplanets[\"Terr_class\"].to_numpy() == 1) )\n",
    "#print(c1[0])\n",
    "#print(c1[0].size)\n",
    "c2 = np.where( (exoplanets[\"Terr_class\"].to_numpy() == 2 ) )\n",
    "c3 = np.where( (exoplanets[\"Terr_class\"].to_numpy() == 3 ) )\n",
    "\n",
    "# Empty array to store the 'best' luminosities:\n",
    "teff = np.zeros(exoplanets.shape[0])\n",
    "print(teff.size)\n",
    "\n",
    "teff[c1] = exoplanets[\"st_teff\"].iloc[c1] # st_teff has smaller uncertainties\n",
    "teff[c2] = exoplanets[\"calc_T\"].iloc[c2] # calc_T has smaller uncertainties\n",
    "teff[c3] = exoplanets[\"calc_T\"].iloc[c3] # these are all NaN\n",
    "\n",
    "teff = teff * u.K\n",
    "#print(teff)"
   ]
  },
  {
   "cell_type": "code",
   "execution_count": null,
   "id": "0360ed70-405d-4f63-8d9e-4cc7f6bcca01",
   "metadata": {},
   "outputs": [],
   "source": [
    "sephi = get_sephi_RM17(pl_mass, pl_rad, pl_a, teff, lum, st_mass, age, verbose=False)"
   ]
  },
  {
   "cell_type": "code",
   "execution_count": null,
   "id": "77d8af8e-3cd3-4ab9-bc61-96018ace6657",
   "metadata": {},
   "outputs": [],
   "source": [
    "print(sephi)\n",
    "c1 = np.where( (sephi != 0) & np.isfinite(sephi) )\n",
    "print(c1[0].size)\n",
    "print(sephi[c1])\n",
    "# TODO: These SEPHI values are INCREDIBLY small, is calc_sephi.py okay?\n",
    "# It seemed okay when I tested/adapted it, see how it does when I have more params available"
   ]
  },
  {
   "cell_type": "code",
   "execution_count": null,
   "id": "50a730e5-d04e-4e77-811a-e02006e65a19",
   "metadata": {},
   "outputs": [],
   "source": [
    "exoplanets.rename(columns={ \"gaia_id\": \"designation\" }, inplace=True )"
   ]
  },
  {
   "cell_type": "code",
   "execution_count": null,
   "id": "dae566c5-888b-4f33-a6dc-a5018dbde9a1",
   "metadata": {},
   "outputs": [],
   "source": [
    "# TODO: match the dr2 stellar params with NASA EA\n",
    "\n",
    "# Things form Michal's exoplanets_gaia_crossmatch:\n",
    "exoplanets2 = exoplanets\n",
    "#print(exoplanets2[\"designation\"])\n",
    "# The Gaia ID in exoplanets is the DR followed by the star source ID (the designation)"
   ]
  },
  {
   "cell_type": "code",
   "execution_count": null,
   "id": "a5e61ccd-727e-4393-b686-e13b6ad586f4",
   "metadata": {},
   "outputs": [],
   "source": [
    "exoplanets2[\"source_id\"] = exoplanets2[\"designation\"].str.rsplit(\" \", n=1, expand=True)[1].astype(\"int64\")\n",
    "# This is the gaia_id without the DR listed\n",
    "#print(exoplanets2[\"source_id\"])\n",
    "# The same source_id as listed in Gaia"
   ]
  },
  {
   "cell_type": "code",
   "execution_count": null,
   "id": "ead0ed05-fc18-4d31-ae1c-a624e9e3d6ea",
   "metadata": {},
   "outputs": [],
   "source": [
    "print(exoplanets2[\"hostname\"])"
   ]
  },
  {
   "cell_type": "code",
   "execution_count": null,
   "id": "2c0343ce-3d6f-4b82-9884-201b76b6efaa",
   "metadata": {},
   "outputs": [],
   "source": [
    "exoplanets2.drop([\"designation\"], axis=1, inplace=True)\n",
    "exoplanets2[\"Host\"] = exoplanets2[\"hostname\"].str.replace(\" \", \"\")\n",
    "#print(exoplanets2[\"Host\"])\n",
    "#exoplanets2.drop_duplicates(subset=[\"Host\"], inplace=True)\n",
    "# TODO: I don't know what to do about that line, I think I want duplicates (at least later on so that all planets are listed with their respective star, even if stars are repeated)"
   ]
  },
  {
   "cell_type": "code",
   "execution_count": null,
   "id": "2e420985-4fe8-4823-930d-47a90176cdb5",
   "metadata": {},
   "outputs": [],
   "source": [
    "exoplanets[[\"Host\"]].to_csv(host_names_dir, index=False) #create a csv containing the source_id and Host"
   ]
  },
  {
   "cell_type": "code",
   "execution_count": null,
   "id": "136b80d1-8b09-4631-a72b-b769b6a6a708",
   "metadata": {},
   "outputs": [],
   "source": [
    "dr2 = pd.read_csv(dr2_directory, usecols=[\"designation\", \"source_id\", \"teff_val\", \"teff_percentile_lower\", \"teff_percentile_upper\", \"radius_val\", \"radius_percentile_lower\", \"radius_percentile_upper\", \n",
    "                                          \"lum_val\", \"lum_percentile_lower\", \"lum_percentile_upper\"])\n"
   ]
  },
  {
   "cell_type": "code",
   "execution_count": null,
   "id": "e93ef7a1-6d44-4e2a-9e68-246df04f4908",
   "metadata": {},
   "outputs": [],
   "source": [
    "print(dr2.shape[0])"
   ]
  },
  {
   "cell_type": "code",
   "execution_count": null,
   "id": "77a98ca0-e3fd-4b60-9218-5983e74dce1d",
   "metadata": {},
   "outputs": [],
   "source": [
    "exoplanets2 = pd.merge(exoplanets, dr2, on=\"source_id\", how=\"left\")"
   ]
  },
  {
   "cell_type": "code",
   "execution_count": null,
   "id": "e578e9b1-dcba-4d80-8a87-8be0ad424bd7",
   "metadata": {},
   "outputs": [],
   "source": [
    "print(exoplanets2.shape[0])\n",
    "# It looks like not all the exoplanet hosts are in dr2\n",
    "# Some might only be in edr3 (in which case, we defo don't have GAIA L for them) \n",
    "# I don't want any removed\n",
    "\n",
    "# TODO: [21/03/2021] - Are you sure that these are all of the exoplanet hosts in DR2? \n",
    "# List the Gaia IDs and search DR2 for those stars using the basic search website"
   ]
  },
  {
   "cell_type": "code",
   "execution_count": null,
   "id": "f04df761-ce37-4717-99ed-893afe7c5fe7",
   "metadata": {},
   "outputs": [],
   "source": [
    "#print(exoplanets2)"
   ]
  },
  {
   "cell_type": "code",
   "execution_count": null,
   "id": "6ee91224-3e3a-49fc-ace4-868fb8241b62",
   "metadata": {},
   "outputs": [],
   "source": [
    "# Changing Teff errors to +/- uncertainties:\n",
    "exoplanets2[\"teff_percentile_upper\"] = exoplanets2[\"teff_percentile_upper\"] - exoplanets2[\"teff_val\"] # should come out +ve\n",
    "exoplanets2[\"teff_percentile_lower\"] = exoplanets2[\"teff_percentile_lower\"] - exoplanets2[\"teff_val\"] # should come out -ve\n",
    "#exoplanets2.rename(columns={ \"teff_percentile_upper\": \"gaia_tefferr1\" }, inplace=True )\n",
    "#exoplanets2.rename(columns={ \"teff_percentile_lower\": \"gaia_tefferr2\" }, inplace=True )\n",
    "\n",
    "# Changing radius errors to +/- uncertainties:\n",
    "gaia_raderr1 = exoplanets2[\"radius_percentile_upper\"] - exoplanets2[\"radius_val\"] # should come out +ve\n",
    "gaia_raderr2 = exoplanets2[\"radius_percentile_lower\"] - exoplanets2[\"radius_val\"] # should come out -ve\n",
    "#exoplanets2.rename(columns={ \"radius_percentile_upper\": \"gaia_raderr1\" }, inplace=True )\n",
    "#exoplanets2.rename(columns={ \"radius_percentile_lower\": \"gaia_raderr2\" }, inplace=True )\n",
    "\n",
    "# Changing luminosity errors to +/- uncertainties:\n",
    "gaia_lumerr1 = exoplanets2[\"lum_percentile_upper\"] - exoplanets2[\"lum_val\"] # should come out +ve\n",
    "gaia_lumerr2 = exoplanets2[\"lum_percentile_lower\"] - exoplanets2[\"lum_val\"] # should come out -ve\n",
    "#exoplanets2.rename(columns={ \"lum_percentile_upper\": \"gaia_lumerr1\" }, inplace=True )\n",
    "#exoplanets2.rename(columns={ \"lum_percentile_lower\": \"gaia_lumerr2\" }, inplace=True )\n",
    "\n",
    "# TODO: Gaia lum is in solar units. Should I convert them or the Nasa EA units?"
   ]
  },
  {
   "cell_type": "code",
   "execution_count": null,
   "id": "4369bda9-1a28-4c34-b07d-ba0e6fcf06b9",
   "metadata": {},
   "outputs": [],
   "source": [
    "exoplanets2.rename(columns={ \"teff_percentile_upper\": \"gaia_tefferr1\" }, inplace=True )\n",
    "exoplanets2.rename(columns={ \"teff_percentile_lower\": \"gaia_tefferr2\" }, inplace=True )\n",
    "\n",
    "exoplanets2.rename(columns={ \"radius_percentile_upper\": \"gaia_raderr1\" }, inplace=True )\n",
    "exoplanets2.rename(columns={ \"radius_percentile_lower\": \"gaia_raderr2\" }, inplace=True )\n",
    "\n",
    "exoplanets2.rename(columns={ \"lum_percentile_upper\": \"gaia_lumerr1\" }, inplace=True )\n",
    "exoplanets2.rename(columns={ \"lum_percentile_lower\": \"gaia_lumerr2\" }, inplace=True )"
   ]
  },
  {
   "cell_type": "code",
   "execution_count": null,
   "id": "08717d78-6fa8-463a-86d5-0f8942538b78",
   "metadata": {},
   "outputs": [],
   "source": [
    "print(exoplanets2)"
   ]
  },
  {
   "cell_type": "code",
   "execution_count": null,
   "id": "4709abc6-a7b6-4d5d-81cd-82953371fd6c",
   "metadata": {},
   "outputs": [],
   "source": [
    "# TODO: Michal then does some stuff that I don't understand...\n",
    "\"\"\"\n",
    "#exoplanets.drop([\"pl_name\", \"hostname\"], axis=1, inplace=True)\n",
    "\n",
    "gaia = gaia[~gaia[\"source_id\"].isin(exoplanets[\"source_id\"])]\n",
    "\n",
    "gaia = gaia[4.5 < gaia[\"parallax\"] / gaia[\"parallax_error\"]] #removes stars with with parallax/parallax error > 4.5\n",
    "\n",
    "# Concatenate exoplanet hosts back, however at the top of the dataframe. This way for testing purposes we later\n",
    "# iterate only over first 1065 entries that are exoplanet hosts.\n",
    "gaia = pd.concat([exoplanets2, gaia]) #adding the exoplanet list back into the gaia df, at the top\n",
    "\n",
    "# Calculate distance in pc and drop any stars with negative or null distance\n",
    "gaia[\"distance_pc\"] = (1. / gaia[\"Fparallax\"]) * 1000 #closely aligned sources are only occasionally resolved in Gaia, confusion in observation-to-source matching can lead to spurious parallax values which are either very large or have a negative value very far away from zero\n",
    "gaia = gaia[gaia[\"distance_pc\"] > 0] #returns all of gaia for which distance_pc > 0 and overwrites the gaia df with it. Gets rid of all entries where distance_pc <= 0. For these entries, the solution returned by gaia is unphysical so we want to ditch it\n",
    "    \n",
    "# Convert from degrees to pc\n",
    "gaia[\"ra\"] = (gaia[\"ra\"] * np.pi) / 180.\n",
    "gaia[\"dec\"] = (gaia[\"dec\"] * np.pi) / 180.\n",
    "\"\"\""
   ]
  },
  {
   "cell_type": "code",
   "execution_count": null,
   "id": "db9b4bd9-c816-46a2-b48c-7f4d2e691fbd",
   "metadata": {},
   "outputs": [],
   "source": [
    "# TODO: match with CKS stellar catalogue\n",
    "# TODO: redo best param search (flag where CKS used)\n",
    "# TODO: calc sephi for CKS planets only\n",
    "# TODO: match with CKS planet params\n",
    "# TODO: add the sephi to the data frame"
   ]
  },
  {
   "cell_type": "code",
   "execution_count": null,
   "id": "c793a30f-8e09-46da-86b9-42cc1678d63a",
   "metadata": {},
   "outputs": [],
   "source": [
    "cks_stars = pandas.read_csv(CKS_stars_dir, sep = ';', header = CKS_col_start, usecols=[ \"Name\", \"Teff\", \"eTeff\", \"E_Teff\", \"Mass\", \"e_Mass\", \"e_Mass\", \"logA\", \"e_logA\", \"E_logA\" ])\n",
    "#\"Npl\", \"logg\", \"e_logg\", \"E_logg\", \"[Fe/H]\",\n",
    "# Name = Star name: mostly Kepler Object Identifier (KOI), or Kepler Input Calalog (KIC) number\n",
    "# Npl = number of planets in orbit\n",
    "# logA (log_10(age)) [ucd=time.age] TODO: what does that last bit mean?\n",
    "\n",
    "# TODO: match KOI with some other identifier in NASA EA or is KOI available in NASA EA?"
   ]
  },
  {
   "cell_type": "code",
   "execution_count": null,
   "id": "8c54d404-2f23-49cd-98a3-00b4bb1f22a7",
   "metadata": {},
   "outputs": [],
   "source": []
  }
 ],
 "metadata": {
  "kernelspec": {
   "display_name": "Python 3 (ipykernel)",
   "language": "python",
   "name": "python3"
  },
  "language_info": {
   "codemirror_mode": {
    "name": "ipython",
    "version": 3
   },
   "file_extension": ".py",
   "mimetype": "text/x-python",
   "name": "python",
   "nbconvert_exporter": "python",
   "pygments_lexer": "ipython3",
   "version": "3.9.7"
  }
 },
 "nbformat": 4,
 "nbformat_minor": 5
}
