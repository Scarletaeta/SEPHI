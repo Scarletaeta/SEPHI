{
 "cells": [
  {
   "cell_type": "code",
   "execution_count": 1,
   "id": "3bbbe58d-24fb-4ab2-880e-dde3b326b6fc",
   "metadata": {},
   "outputs": [],
   "source": [
    "import numpy as np\n",
    "import pandas as pd\n",
    "from math import pi, sqrt\n",
    "\n",
    "import astropy.table #import tables\n",
    "from astropy import units as u\n",
    "from astropy import constants as const\n",
    "\n",
    "from preprocessing.calc_stellar_params import calc_luminosity, calc_temp\n",
    "from preprocessing.analyse_errs import classify_err\n",
    "#from preprocessing.calc_sephi import get_sephi_RM17\n"
   ]
  },
  {
   "cell_type": "code",
   "execution_count": 2,
   "id": "cdbbadb7-da36-4706-be90-64a573103b9d",
   "metadata": {},
   "outputs": [],
   "source": [
    "# Exoplanet directory:\n",
    "exoplanets_dir = \"~/Scarlett/OneDrive - Liverpool John Moores University/SEPHI_data/NASA_EA_2022_02_09.csv\"\n",
    "#exoplanets_dir = \"~/OneDrive/SEPHI_data/NASA_EA_2022_02_09.csv\"\n",
    "\n",
    "# The length of the header in the exoplanets csv file:\n",
    "header_length = 116"
   ]
  },
  {
   "cell_type": "code",
   "execution_count": 3,
   "id": "d213db90-00a3-450b-a2ea-0454cd71e6f8",
   "metadata": {},
   "outputs": [],
   "source": [
    "# Read data\n",
    "exoplanets = pd.read_csv(exoplanets_dir, skiprows=header_length, \n",
    "                         usecols=[\"pl_name\", \"hostname\", \"gaia_id\", \"sy_snum\", \"sy_pnum\", \"discoverymethod\", \"pl_orbper\", \"pl_orbsmax\", \"pl_rade\", \"pl_bmasse\", \"pl_dens\", \"pl_orbeccen\", \"pl_eqt\", \"pl_orbincl\", \"st_teff\", \"st_tefferr1\", \"st_tefferr2\", \"st_rad\", \"st_raderr1\", \"st_raderr2\", \"st_mass\", \"st_met\", \"st_lum\", \"st_lumerr1\", \"st_lumerr2\", \"st_logg\", \"st_age\", \"st_ageerr1\", \"st_ageerr2\", \"sy_dist\", \"sy_plx\", \"sy_gaiamag\"])\n",
    "# pl_orbper = orbital period [days]\n",
    "# pl_orbsmax = orbit semi-major axis [au]\n",
    "#exculuded \"st_spectype\" due to csv formatting"
   ]
  },
  {
   "cell_type": "code",
   "execution_count": 4,
   "id": "1effc4d5-fa41-4818-94c7-bd9b3c1b2323",
   "metadata": {},
   "outputs": [],
   "source": [
    "#print(exoplanets.head())"
   ]
  },
  {
   "cell_type": "code",
   "execution_count": 4,
   "id": "a6ccf2aa-63af-4576-8989-cb099d61a039",
   "metadata": {},
   "outputs": [],
   "source": [
    "# Get rid of exoplanets whose star's haven't been observed by Gaia\n",
    "exoplanets.dropna(subset=[\"gaia_id\"], inplace=True)"
   ]
  },
  {
   "cell_type": "code",
   "execution_count": 31,
   "id": "72db17b1-7385-4a3e-856e-2c4fe78e1bd5",
   "metadata": {},
   "outputs": [
    {
     "name": "stdout",
     "output_type": "stream",
     "text": [
      "Number of exoplanets with no stellar age listed:  2450\n",
      "Number of exoplanets with stellar age listed:  2284\n"
     ]
    }
   ],
   "source": [
    "# Not many of the exoplanets have the stellar age listed. Working out how many have stellar age:\n",
    "#count_NaN = exoplanets[\"st_age\"].isna().sum()\n",
    "#count_value = exoplanets[\"st_age\"].notna().sum()\n",
    "\n",
    "print(\"Number of exoplanets with no stellar age listed: \", exoplanets[\"st_age\"].isna().sum())\n",
    "print(\"Number of exoplanets with stellar age listed: \", exoplanets[\"st_age\"].notna().sum())"
   ]
  },
  {
   "cell_type": "code",
   "execution_count": 5,
   "id": "22d06095-0e3e-4d44-aa2e-77954f8fc1e1",
   "metadata": {},
   "outputs": [
    {
     "name": "stdout",
     "output_type": "stream",
     "text": [
      "Number of exoplanets with no teff listed:  227\n",
      "Number of exoplanets with teff listed:  4507\n"
     ]
    }
   ],
   "source": [
    "# A few don't have stellar effective temperature listed (st_teff):\n",
    "print(\"Number of exoplanets with no teff listed: \", exoplanets[\"st_teff\"].isna().sum())\n",
    "print(\"Number of exoplanets with teff listed: \", exoplanets[\"st_teff\"].notna().sum())"
   ]
  },
  {
   "cell_type": "code",
   "execution_count": 10,
   "id": "0587b96a-0445-4158-9d04-f8a952b51333",
   "metadata": {},
   "outputs": [
    {
     "name": "stdout",
     "output_type": "stream",
     "text": [
      "Number of exoplanets with no st_rad listed:  456\n",
      "Number of exoplanets with st_rad listed:  4458\n",
      "Number of exoplanets with st_raderr1 listed:  4305\n",
      "Number of exoplanets with st_raderr2 listed:  4280\n"
     ]
    }
   ],
   "source": [
    "# Some don't have stellar radius listed\n",
    "print(\"Number of exoplanets with no st_rad listed: \", exoplanets[\"st_rad\"].isna().sum())\n",
    "print(\"Number of exoplanets with st_rad listed: \", exoplanets[\"st_rad\"].notna().sum())\n",
    "\n",
    "print(\"Number of exoplanets with st_raderr1 listed: \", exoplanets[\"st_raderr1\"].notna().sum())\n",
    "print(\"Number of exoplanets with st_raderr2 listed: \", exoplanets[\"st_raderr2\"].notna().sum())"
   ]
  },
  {
   "cell_type": "code",
   "execution_count": 7,
   "id": "49930776-d8c6-44f8-b373-d85fe9502818",
   "metadata": {},
   "outputs": [
    {
     "name": "stdout",
     "output_type": "stream",
     "text": [
      "Number of exoplanets with no st_age listed:  2450\n",
      "Number of exoplanets with st_age listed:  2284\n"
     ]
    }
   ],
   "source": [
    "# Some don't have stellar age listed\n",
    "print(\"Number of exoplanets with no st_age listed: \", exoplanets[\"st_age\"].isna().sum())\n",
    "print(\"Number of exoplanets with st_age listed: \", exoplanets[\"st_age\"].notna().sum())"
   ]
  },
  {
   "cell_type": "code",
   "execution_count": 41,
   "id": "1dec675a-74d7-40bc-b4ad-7703a40c561b",
   "metadata": {},
   "outputs": [
    {
     "name": "stdout",
     "output_type": "stream",
     "text": [
      "Number of exoplanets with st_eff and st_rad listed (can calc L):  4311\n",
      "Number of exoplanets with st_eff, st_rad and st_age listed (can calc SEPHI):  2148\n"
     ]
    }
   ],
   "source": [
    "# Number of stars with st_rad and st_teff:\n",
    "count = 0\n",
    "for i in range(exoplanets.shape[0]):\n",
    "    if pd.notna(exoplanets[\"st_teff\"].iloc[i]) and pd.notna(exoplanets[\"st_rad\"].iloc[i]):\n",
    "        count+=1\n",
    "    else:\n",
    "        continue\n",
    "\n",
    "print(\"Number of exoplanets with st_eff and st_rad listed (can calc L): \", count)\n",
    "\n",
    "#exoplanets[\"st_teff\"].iloc[i]\n",
    "    \n",
    "# Number of stars with st_rad, st_teff and st_age:\n",
    "count = 0\n",
    "for i in range(exoplanets.shape[0]):\n",
    "    if pd.notna(exoplanets[\"st_teff\"].iloc[i]) and pd.notna(exoplanets[\"st_rad\"].iloc[i]) and pd.notna(exoplanets[\"st_age\"].iloc[i]):\n",
    "        count+=1\n",
    "    else:\n",
    "        continue\n",
    "\n",
    "print(\"Number of exoplanets with st_teff, st_rad and st_age listed (can calc SEPHI): \", count)"
   ]
  },
  {
   "cell_type": "code",
   "execution_count": null,
   "id": "4b76e482-acef-4a19-ab81-a0da2ea8111c",
   "metadata": {},
   "outputs": [
    {
     "name": "stdout",
     "output_type": "stream",
     "text": [
      "Number of exoplanets with no L listed:  3825\n",
      "Number of exoplanets with L listed:  909\n"
     ]
    }
   ],
   "source": [
    "# Not many have stellar luminosity listed (but this can be calculated):\n",
    "print(\"Number of exoplanets with no L listed: \", exoplanets[\"st_lum\"].isna().sum())\n",
    "print(\"Number of exoplanets with L listed: \", exoplanets[\"st_lum\"].notna().sum())\n",
    "\n",
    "# Do more have their luminosities listed in Gaia?"
   ]
  },
  {
   "cell_type": "code",
   "execution_count": 18,
   "id": "e17ed89a-f04a-40d6-91b4-a8de73dd397b",
   "metadata": {},
   "outputs": [
    {
     "name": "stdout",
     "output_type": "stream",
     "text": [
      "4734\n"
     ]
    }
   ],
   "source": [
    "print(exoplanets.shape[0])"
   ]
  },
  {
   "cell_type": "code",
   "execution_count": 5,
   "id": "3044524f-dee6-4525-b4d4-f1656d937341",
   "metadata": {},
   "outputs": [],
   "source": [
    "# Estimate L for stars in 'exoplanets'\n",
    "luminosities = np.zeros( (exoplanets.shape[0],5) )\n",
    "for i in range(exoplanets.shape[0]):\n",
    "\n",
    "    luminosities[i] = calc_luminosity(exoplanets[\"st_teff\"].iloc[i], exoplanets[\"st_tefferr1\"].iloc[i], exoplanets[\"st_tefferr2\"].iloc[i], exoplanets[\"st_rad\"].iloc[i], exoplanets[\"st_raderr1\"].iloc[i], exoplanets[\"st_raderr2\"].iloc[i]) \n",
    "    # TODO: If st_lum is listed as nan or if it is a real value with a larger error than the new value then overwrite the previous values\n",
    "    \"\"\"\n",
    "    if pd.isna(exoplanets[\"st_lum\"].iloc[i]) or ( dL1 < exoplanets[\"st_lumerr1\"].iloc[i] and pd.notna(exoplanets[\"st_lum\"].iloc[i]) ): \n",
    "        #TODO: overwrite the previous values in exoplanets df\n",
    "        exoplanets.loc[i,\"st_lum\"] = L\n",
    "        exoplanets.loc[i, \"st_lumerr1\"] = dL1\n",
    "        exoplanets.loc[i, \"st_lumerr2\"] = dL2               \n",
    "        print(L, dL1, dL2)                   \n",
    "    else:                                                        \n",
    "        continue  \n",
    "        \"\"\"\n",
    "#print(luminosities)"
   ]
  },
  {
   "cell_type": "code",
   "execution_count": 6,
   "id": "488429c6-268a-4606-8c63-acd5d584d4d9",
   "metadata": {},
   "outputs": [],
   "source": [
    "# Add the luminosities columns to the exoplanets data frame:\n",
    "exoplanets[ [\"calc_L\", \"calc_Lerr1\", \"calc_L%err1\", \"calc_Lerr2\", \"calc_L%err2\"] ] = luminosities\n",
    "#print(exoplanets)"
   ]
  },
  {
   "cell_type": "code",
   "execution_count": 7,
   "id": "c6c7f8eb-7795-4f98-974c-30a148766bf6",
   "metadata": {},
   "outputs": [
    {
     "name": "stdout",
     "output_type": "stream",
     "text": [
      "[1 2 2 2 2 1 3 1 1 1 1 1 1 1 3 3 3 1 3 2 2 2 1 1 1 1 1 2 2 2 2 2 3 1 1 1 1\n",
      " 1 3 2 2 2 2 3 2 2 1 2 1 2 2 2 2 2 3 2 1 1 3 2 3 3 1 1 2 3 2 1 1 2 1 1 3 3\n",
      " 1 3 2 2 2 2 2 2 2 2 2 1 2 3 3 2 2 2 2 2 2 2 2 2 2 2]\n",
      "4734\n"
     ]
    }
   ],
   "source": [
    "# Array to store classification:\n",
    "classes_L = np.zeros( (exoplanets.shape[0]), dtype=int )\n",
    "#print(classes_L[0:40])\n",
    "\n",
    "# Classify the luminosity uncertainties using the function:\n",
    "for i in range(exoplanets.shape[0]):\n",
    "    classes_L[i] = classify_err(exoplanets[\"st_lum\"].iloc[i], exoplanets[\"st_lumerr1\"].iloc[i], exoplanets[\"st_lumerr2\"].iloc[i], exoplanets[\"calc_L%err1\"].iloc[i], exoplanets[\"calc_L%err2\"].iloc[i])\n",
    "                                                                                                             \n",
    "print(classes_L[0:100])\n",
    "print(len(classes_L))"
   ]
  },
  {
   "cell_type": "code",
   "execution_count": 8,
   "id": "04c4b578-bcc4-4058-8048-21b4f67251bb",
   "metadata": {},
   "outputs": [
    {
     "name": "stdout",
     "output_type": "stream",
     "text": [
      "Number of exoplanets with errors in st_lum < calc_L or no dcalc_L:  646 \n",
      "NB: there are 909 planets with st_lum listed.\n",
      "Number of exoplanets with errors in calc_L < st_lum or no dst_lum:  3574\n"
     ]
    }
   ],
   "source": [
    "print(\"Number of exoplanets with errors in st_lum < calc_L or no dcalc_L: \", np.count_nonzero(classes_L == 1),\"\\nNB: there are 909 planets with st_lum listed.\") \n",
    "print(\"Number of exoplanets with errors in calc_L < st_lum or no dst_lum: \", np.count_nonzero(classes_L == 2))"
   ]
  },
  {
   "cell_type": "code",
   "execution_count": 8,
   "id": "27603a96-4449-421a-93bc-92f3b1c4e1ee",
   "metadata": {},
   "outputs": [],
   "source": [
    "# Add the crror class column to the exoplanets data frame\n",
    "exoplanets[ \"Lerr_class\" ] = classes_L\n",
    "#print(exoplanets)"
   ]
  },
  {
   "cell_type": "code",
   "execution_count": 9,
   "id": "e580456c-0670-4b86-81d7-382bc7a51880",
   "metadata": {},
   "outputs": [],
   "source": [
    "# Estimate T for stars in 'exoplanets'\n",
    "temps = np.zeros( (exoplanets.shape[0], 5) )\n",
    "for i in range(exoplanets.shape[0]):\n",
    "\n",
    "    temps[i] = calc_temp(exoplanets[\"st_rad\"].iloc[i], exoplanets[\"st_raderr1\"].iloc[i], exoplanets[\"st_raderr2\"].iloc[i], exoplanets[\"st_lum\"].iloc[i], exoplanets[\"st_lumerr1\"].iloc[i], exoplanets[\"st_lumerr2\"].iloc[i]) \n",
    "\n",
    "#print(temps)"
   ]
  },
  {
   "cell_type": "code",
   "execution_count": 10,
   "id": "1e020d76-4866-4e01-a774-576a7c59818d",
   "metadata": {},
   "outputs": [],
   "source": [
    "# Add calc_teff to exoplanets df:\n",
    "exoplanets[ [\"calc_T\", \"calc_Terr1\", \"calc_T%err1\", \"calc_Terr2\", \"calc_T%err2\"] ] = temps\n",
    "#print(exoplanets.head(10))\n",
    "# Temps and errors look good!"
   ]
  },
  {
   "cell_type": "code",
   "execution_count": 11,
   "id": "48cacc73-e521-46d5-98b7-3c5459eedf51",
   "metadata": {},
   "outputs": [
    {
     "name": "stdout",
     "output_type": "stream",
     "text": [
      "[1 1 1 1 1 1 1 1 1 2 2 2 1 1 3 3 3 1 1 1 1 1 2 2 2 3 2 1 1 1 1 1 3 2 2 2 2\n",
      " 2 3 1 1 1 1 3 1 1 1 1 1 1 1 1 1 1 1 1 1 1 1 2 1 1 1 1 1 1 1 1 1 1 1 2 3 3\n",
      " 2 3 1 1 1 1 1 1 1 1 1 1 1 3 3 1 1 1 1 1 1 1 1 1 1 1]\n",
      "4734\n"
     ]
    }
   ],
   "source": [
    "# Compare the uncertainties in st_teff and calc_teff: \n",
    "# Give a classification according to which error is lower:\n",
    "# 0 (equal), 1 (st_lum_combined is 'best'), 2 (calc_L_combined is 'best'), 3 (no classification, neither have both +ve and -ve errors avaiable)\n",
    "\n",
    "# Array to store classification:\n",
    "classes_T = np.zeros( (exoplanets.shape[0]), dtype=int )\n",
    "\n",
    "for i in range(exoplanets.shape[0]):\n",
    "    classes_T[i] = classify_err(exoplanets[\"st_teff\"].iloc[i], exoplanets[\"st_tefferr1\"].iloc[i], exoplanets[\"st_tefferr2\"].iloc[i], exoplanets[\"calc_T%err1\"].iloc[i], exoplanets[\"calc_T%err2\"].iloc[i])\n",
    "                                                                                                             \n",
    "print(classes_T[0:100])\n",
    "print(len(classes_T))"
   ]
  },
  {
   "cell_type": "code",
   "execution_count": 14,
   "id": "9c3f4051-f98c-4376-886d-c47fe8665de7",
   "metadata": {},
   "outputs": [
    {
     "name": "stdout",
     "output_type": "stream",
     "text": [
      "Number of exoplanets with errors in st_teff < calc_teff or incomplete errors on calc_teff:  4103 \n",
      "NB: there are 4507 planets with st_teff listed.\n",
      "Number of exoplanets with errors in calc_T < st_teff or incomplete errors on st_teff:  272\n"
     ]
    }
   ],
   "source": [
    "# Counting how many st_teff have smaller error and how many temp have smaller error\n",
    "print(\"Number of exoplanets with errors in st_teff < calc_teff or incomplete errors on calc_teff: \", np.count_nonzero(classes_T == 1),\"\\nNB: there are 4507 planets with st_teff listed.\") \n",
    "print(\"Number of exoplanets with errors in calc_T < st_teff or incomplete errors on st_teff: \", np.count_nonzero(classes_T == 2))"
   ]
  },
  {
   "cell_type": "code",
   "execution_count": 12,
   "id": "2f24c412-cf59-4a16-9315-64f19fca2ae0",
   "metadata": {},
   "outputs": [
    {
     "name": "stdout",
     "output_type": "stream",
     "text": [
      "         pl_name  hostname                       gaia_id  sy_snum  sy_pnum  \\\n",
      "0       11 Com b    11 Com  Gaia DR2 3946945413106333696        2        1   \n",
      "1       11 UMi b    11 UMi  Gaia DR2 1696798367260229376        1        1   \n",
      "2       14 And b    14 And  Gaia DR2 1920113512486282240        1        1   \n",
      "3       14 Her b    14 Her  Gaia DR2 1385293808145621504        1        2   \n",
      "4     16 Cyg B b  16 Cyg B  Gaia DR2 2135550755683407232        3        1   \n",
      "...          ...       ...                           ...      ...      ...   \n",
      "4909   ups And b   ups And   Gaia DR2 348020448377061376        2        3   \n",
      "4910   ups And c   ups And   Gaia DR2 348020448377061376        2        3   \n",
      "4911   ups And d   ups And   Gaia DR2 348020448377061376        2        3   \n",
      "4912   ups Leo b   ups Leo  Gaia DR2 3794167001116433152        1        1   \n",
      "4913    xi Aql b    xi Aql  Gaia DR2 4298361114750843904        1        1   \n",
      "\n",
      "      discoverymethod    pl_orbper  pl_orbsmax  pl_rade   pl_bmasse  ...  \\\n",
      "0     Radial Velocity   326.030000    1.290000      NaN  6165.60000  ...   \n",
      "1     Radial Velocity   516.219970    1.530000      NaN  4684.81420  ...   \n",
      "2     Radial Velocity   185.840000    0.830000      NaN  1525.50000  ...   \n",
      "3     Radial Velocity  1773.400020    2.930000      NaN  1481.08780  ...   \n",
      "4     Radial Velocity   798.500000    1.660000      NaN   565.73740  ...   \n",
      "...               ...          ...         ...      ...         ...  ...   \n",
      "4909  Radial Velocity     4.617033    0.059222      NaN   218.53100  ...   \n",
      "4910  Radial Velocity   241.258000    0.827774      NaN   629.59500  ...   \n",
      "4911  Radial Velocity  1276.460000    2.513290      NaN  1313.22000  ...   \n",
      "4912  Radial Velocity   385.200000    1.180000      NaN   162.09249  ...   \n",
      "4913  Radial Velocity   136.750000    0.680000      NaN   890.00000  ...   \n",
      "\n",
      "      calc_L%err1  calc_Lerr2  calc_L%err2  Lerr_class       calc_T  \\\n",
      "0        4.444694   -0.098497     4.444694           1  4816.147508   \n",
      "1        3.537840   -0.084951     3.537840           2          NaN   \n",
      "2        4.487013   -0.079292     4.487013           2  4801.536536   \n",
      "3       -6.229751   -0.012386     6.229751           2          NaN   \n",
      "4        8.096364   -0.008058     8.096364           2          NaN   \n",
      "...           ...         ...          ...         ...          ...   \n",
      "4909          NaN         NaN          NaN           3          NaN   \n",
      "4910          NaN         NaN          NaN           3          NaN   \n",
      "4911          NaN         NaN          NaN           3          NaN   \n",
      "4912          NaN         NaN          NaN           1  4856.575582   \n",
      "4913          NaN         NaN          NaN           3  4802.705508   \n",
      "\n",
      "      calc_Terr1  calc_T%err1  calc_Terr2  calc_T%err2  Terr_class  \n",
      "0     196.840213     4.087089  235.653776     4.892993           1  \n",
      "1            NaN          NaN         NaN          NaN           1  \n",
      "2            NaN          NaN         NaN          NaN           1  \n",
      "3            NaN          NaN         NaN          NaN           1  \n",
      "4            NaN          NaN         NaN          NaN           1  \n",
      "...          ...          ...         ...          ...         ...  \n",
      "4909         NaN          NaN         NaN          NaN           3  \n",
      "4910         NaN          NaN         NaN          NaN           3  \n",
      "4911         NaN          NaN         NaN          NaN           3  \n",
      "4912  617.842989    12.721783  153.761830     3.166055           2  \n",
      "4913         NaN          NaN         NaN          NaN           1  \n",
      "\n",
      "[4734 rows x 44 columns]\n"
     ]
    }
   ],
   "source": [
    "# Adding the classes_T array to the exoplanets df\n",
    "exoplanets[\"Terr_class\"] = classes_T\n",
    "print(exoplanets)"
   ]
  },
  {
   "cell_type": "code",
   "execution_count": 14,
   "id": "c1f74785-c466-4ba2-b8c5-28c801ffa6af",
   "metadata": {},
   "outputs": [],
   "source": [
    "exoplanets_tab = astropy.table.Table.from_pandas(exoplanets)\n",
    "#exoplanets[\"pl_rade\"].unit = astropy.units.earthRad\n",
    "#print(exoplanets_tab)"
   ]
  },
  {
   "cell_type": "code",
   "execution_count": null,
   "id": "842c014e-9c1e-4a89-84f7-6b6f30e0f102",
   "metadata": {},
   "outputs": [],
   "source": [
    "# TODO: I can drop the two percentage errors on L and T\n"
   ]
  },
  {
   "cell_type": "code",
   "execution_count": 32,
   "id": "f1b4df8e-8b12-40fe-ab7a-d5bc810c83b2",
   "metadata": {},
   "outputs": [
    {
     "name": "stdout",
     "output_type": "stream",
     "text": [
      "-2.23 dex(solLum)\n",
      "<class 'astropy.units.function.logarithmic.Dex'>\n",
      "-2.23\n"
     ]
    }
   ],
   "source": [
    "lum = exoplanets[\"st_lum\"].iloc[13] * u.dex(u.L_sun)\n",
    "print(lum)\n",
    "print(type(lum))\n",
    "print(lum.value)"
   ]
  },
  {
   "cell_type": "code",
   "execution_count": 34,
   "id": "68adce73-494c-4390-be5f-7efe1504bb68",
   "metadata": {},
   "outputs": [
    {
     "name": "stdout",
     "output_type": "stream",
     "text": [
      "0.00588843655355589 solLum\n"
     ]
    }
   ],
   "source": [
    "# Convert dex(solar lum) to solar lum:\n",
    "lum_2 = lum.to(u.L_sun)\n",
    "print(lum_2)\n"
   ]
  },
  {
   "cell_type": "code",
   "execution_count": 13,
   "id": "b425ac10-7cb7-462c-a9fe-662583ebab3b",
   "metadata": {},
   "outputs": [
    {
     "name": "stdout",
     "output_type": "stream",
     "text": [
      "planet mass and radius:  4417.837 earthMass 16.141 earthRad\n"
     ]
    }
   ],
   "source": [
    "# TODO: run an exoplanet through the sephi code\n",
    "# convert the inputs add units\n",
    "pl_mass = exoplanets[\"pl_bmasse\"].iloc[13] * u.earthMass\n",
    "pl_rad = exoplanets[\"pl_rade\"].iloc[13] * u.earthRad\n",
    "pl_a = exoplanets[\"pl_orbsmax\"].iloc[13] * u.AU\n",
    "teff = exoplanets[\"st_teff\"].iloc[13] * u.K\n",
    "lum = exoplanets[\"st_lum\"].iloc[13] * u.dex(u.L_sun)\n",
    "#lum = lum.to(u.L_sun)\n",
    "age = exoplanets[\"st_age\"].iloc[13] * 10**9 * u.yr\n",
    "print(\"planet mass and radius: \", pl_mass, pl_rad)"
   ]
  },
  {
   "cell_type": "code",
   "execution_count": 14,
   "id": "e161414d-4895-4e37-9519-3cc393e030d0",
   "metadata": {},
   "outputs": [],
   "source": [
    "# Import SEPHI module\n",
    "from preprocessing.calc_sephi import get_sephi_RM17, likelihood_atmosphere, likelihood_telluric"
   ]
  },
  {
   "cell_type": "code",
   "execution_count": 15,
   "id": "745dae63-1288-4171-a937-abb9642e5cb6",
   "metadata": {},
   "outputs": [
    {
     "name": "stdout",
     "output_type": "stream",
     "text": [
      "Composition\n",
      "Sim 1: (Telluric planet) =  [0.] \n",
      "\n"
     ]
    },
    {
     "data": {
      "text/plain": [
       "array([0.])"
      ]
     },
     "execution_count": 15,
     "metadata": {},
     "output_type": "execute_result"
    }
   ],
   "source": [
    "likelihood_telluric(pl_mass, pl_rad, verbose=True)"
   ]
  },
  {
   "cell_type": "code",
   "execution_count": null,
   "id": "133f2531-3485-4f85-8012-2009e429d9f4",
   "metadata": {},
   "outputs": [],
   "source": [
    "import math as m\n",
    "\n",
    "#Function to determine likelihood that planet has an atmosphere.\n",
    "def likelihood_atmosphere2(planet_mass, planet_radius, verbose):\n",
    "    \n",
    "    if(verbose):\n",
    "        print(\"Normalised physical characteristics\")\n",
    "    \n",
    "    #calculating the relative escape velocity of planet wrt Earth\n",
    "    v_e = (planet_mass.to(u.kg) * const.R_earth / (const.M_earth * planet_radius.to(u.m)) )**0.5\n",
    "    if(verbose):\n",
    "        print (\"escape velocity relative to Earth\",v_e)\n",
    "        \n",
    "    # calculating likelihood    \n",
    "    c1 = np.where(v_e.value < 1.0)  #condition 1 - returning the indicies of where this condition is true\n",
    "    print(c1)\n",
    "    c2 = np.where(v_e.value >= 1.0) #condition 2\n",
    "    print(c2)\n",
    "\n",
    "    likelihood = np.zeros(planet_mass.size)  #initialising with zero likelihood  \n",
    "    print(likelihood)\n",
    "    #print(likelihood.type)\n",
    "    if(c1[0].size>0):\n",
    "        likelihood[c1] = np.exp(-0.5*(3.*(v_e.value[c1]-1.))**2)\n",
    "    if(c2[0].size>0):\n",
    "        likelihood[c2] = np.exp(-0.5*(3.*(v_e.value[c2]-1.)/7.66)**2) # TODO: stopping at this line. Index to scalar\n",
    "    \n",
    "    if(verbose):\n",
    "        print(\"Sim 2: (Atmosphere) = \", likelihood, \"\\n\")\n",
    "    return likelihood"
   ]
  },
  {
   "cell_type": "code",
   "execution_count": 15,
   "id": "b6cbf3b8-c338-4c55-a7dc-3d8f6362c562",
   "metadata": {},
   "outputs": [
    {
     "name": "stdout",
     "output_type": "stream",
     "text": [
      "Normalised physical characteristics\n",
      "escape velocity relative to Earth 16.543965864252865\n",
      "(array([], dtype=int64),)\n",
      "(array([0]),)\n",
      "[0.]\n"
     ]
    },
    {
     "ename": "AttributeError",
     "evalue": "'numpy.ndarray' object has no attribute 'type'",
     "output_type": "error",
     "traceback": [
      "\u001b[0;31m---------------------------------------------------------------------------\u001b[0m",
      "\u001b[0;31mAttributeError\u001b[0m                            Traceback (most recent call last)",
      "\u001b[0;32m/tmp/ipykernel_137/2285023412.py\u001b[0m in \u001b[0;36m<module>\u001b[0;34m\u001b[0m\n\u001b[0;32m----> 1\u001b[0;31m \u001b[0mlikelihood_atmosphere\u001b[0m\u001b[0;34m(\u001b[0m\u001b[0mpl_mass\u001b[0m\u001b[0;34m,\u001b[0m \u001b[0mpl_rad\u001b[0m\u001b[0;34m,\u001b[0m \u001b[0mverbose\u001b[0m\u001b[0;34m=\u001b[0m\u001b[0;32mTrue\u001b[0m\u001b[0;34m)\u001b[0m\u001b[0;34m\u001b[0m\u001b[0;34m\u001b[0m\u001b[0m\n\u001b[0m",
      "\u001b[0;32m/mnt/c/Users/Scarlett/SEPHI/preprocessing/calc_sephi.py\u001b[0m in \u001b[0;36mlikelihood_atmosphere\u001b[0;34m(planet_mass, planet_radius, verbose)\u001b[0m\n\u001b[1;32m     86\u001b[0m     \u001b[0mlikelihood\u001b[0m \u001b[0;34m=\u001b[0m \u001b[0mnp\u001b[0m\u001b[0;34m.\u001b[0m\u001b[0mzeros\u001b[0m\u001b[0;34m(\u001b[0m\u001b[0mplanet_mass\u001b[0m\u001b[0;34m.\u001b[0m\u001b[0msize\u001b[0m\u001b[0;34m)\u001b[0m  \u001b[0;31m#initialising with zero likelihood\u001b[0m\u001b[0;34m\u001b[0m\u001b[0;34m\u001b[0m\u001b[0m\n\u001b[1;32m     87\u001b[0m     \u001b[0mprint\u001b[0m\u001b[0;34m(\u001b[0m\u001b[0mlikelihood\u001b[0m\u001b[0;34m)\u001b[0m\u001b[0;34m\u001b[0m\u001b[0;34m\u001b[0m\u001b[0m\n\u001b[0;32m---> 88\u001b[0;31m     \u001b[0mprint\u001b[0m\u001b[0;34m(\u001b[0m\u001b[0mlikelihood\u001b[0m\u001b[0;34m.\u001b[0m\u001b[0mtype\u001b[0m\u001b[0;34m)\u001b[0m\u001b[0;34m\u001b[0m\u001b[0;34m\u001b[0m\u001b[0m\n\u001b[0m\u001b[1;32m     89\u001b[0m     \u001b[0;32mif\u001b[0m\u001b[0;34m(\u001b[0m\u001b[0mc1\u001b[0m\u001b[0;34m[\u001b[0m\u001b[0;36m0\u001b[0m\u001b[0;34m]\u001b[0m\u001b[0;34m.\u001b[0m\u001b[0msize\u001b[0m\u001b[0;34m>\u001b[0m\u001b[0;36m0\u001b[0m\u001b[0;34m)\u001b[0m\u001b[0;34m:\u001b[0m\u001b[0;34m\u001b[0m\u001b[0;34m\u001b[0m\u001b[0m\n\u001b[1;32m     90\u001b[0m         \u001b[0mlikelihood\u001b[0m\u001b[0;34m[\u001b[0m\u001b[0mc1\u001b[0m\u001b[0;34m]\u001b[0m \u001b[0;34m=\u001b[0m \u001b[0mnp\u001b[0m\u001b[0;34m.\u001b[0m\u001b[0mexp\u001b[0m\u001b[0;34m(\u001b[0m\u001b[0;34m-\u001b[0m\u001b[0;36m0.5\u001b[0m\u001b[0;34m*\u001b[0m\u001b[0;34m(\u001b[0m\u001b[0;36m3.\u001b[0m\u001b[0;34m*\u001b[0m\u001b[0;34m(\u001b[0m\u001b[0mv_e\u001b[0m\u001b[0;34m.\u001b[0m\u001b[0mvalue\u001b[0m\u001b[0;34m[\u001b[0m\u001b[0mc1\u001b[0m\u001b[0;34m]\u001b[0m\u001b[0;34m-\u001b[0m\u001b[0;36m1.\u001b[0m\u001b[0;34m)\u001b[0m\u001b[0;34m)\u001b[0m\u001b[0;34m**\u001b[0m\u001b[0;36m2\u001b[0m\u001b[0;34m)\u001b[0m\u001b[0;34m\u001b[0m\u001b[0;34m\u001b[0m\u001b[0m\n",
      "\u001b[0;31mAttributeError\u001b[0m: 'numpy.ndarray' object has no attribute 'type'"
     ]
    }
   ],
   "source": [
    "likelihood_atmosphere2(pl_mass, pl_rad, verbose=True)"
   ]
  },
  {
   "cell_type": "code",
   "execution_count": 40,
   "id": "e1ec90d9-4701-4ab9-af29-952dac5f9236",
   "metadata": {},
   "outputs": [
    {
     "ename": "IndexError",
     "evalue": "invalid index to scalar variable.",
     "output_type": "error",
     "traceback": [
      "\u001b[0;31m---------------------------------------------------------------------------\u001b[0m",
      "\u001b[0;31mIndexError\u001b[0m                                Traceback (most recent call last)",
      "\u001b[0;32m/tmp/ipykernel_801/3018680853.py\u001b[0m in \u001b[0;36m<module>\u001b[0;34m\u001b[0m\n\u001b[0;32m----> 1\u001b[0;31m \u001b[0mget_sephi_RM17\u001b[0m\u001b[0;34m(\u001b[0m\u001b[0mpl_mass\u001b[0m\u001b[0;34m,\u001b[0m \u001b[0mpl_rad\u001b[0m\u001b[0;34m,\u001b[0m \u001b[0mpl_a\u001b[0m\u001b[0;34m,\u001b[0m \u001b[0mteff\u001b[0m\u001b[0;34m,\u001b[0m \u001b[0mlum\u001b[0m\u001b[0;34m,\u001b[0m \u001b[0mage\u001b[0m\u001b[0;34m)\u001b[0m\u001b[0;34m\u001b[0m\u001b[0;34m\u001b[0m\u001b[0m\n\u001b[0m\u001b[1;32m      2\u001b[0m \u001b[0;34m\u001b[0m\u001b[0m\n\u001b[1;32m      3\u001b[0m \"\"\"\n\u001b[1;32m      4\u001b[0m \u001b[0;34m/\u001b[0m\u001b[0mmnt\u001b[0m\u001b[0;34m/\u001b[0m\u001b[0mc\u001b[0m\u001b[0;34m/\u001b[0m\u001b[0mUsers\u001b[0m\u001b[0;34m/\u001b[0m\u001b[0mScarlett\u001b[0m\u001b[0;34m/\u001b[0m\u001b[0mSEPHI\u001b[0m\u001b[0;34m/\u001b[0m\u001b[0mpreprocessing\u001b[0m\u001b[0;34m/\u001b[0m\u001b[0mcalc_sephi\u001b[0m\u001b[0;34m.\u001b[0m\u001b[0mpy\u001b[0m \u001b[0;32min\u001b[0m \u001b[0mlikelihood_atmosphere\u001b[0m\u001b[0;34m(\u001b[0m\u001b[0mplanet_mass\u001b[0m\u001b[0;34m,\u001b[0m \u001b[0mplanet_radius\u001b[0m\u001b[0;34m,\u001b[0m \u001b[0mverbose\u001b[0m\u001b[0;34m)\u001b[0m\u001b[0;34m\u001b[0m\u001b[0;34m\u001b[0m\u001b[0m\n\u001b[1;32m      5\u001b[0m      \u001b[0;36m84\u001b[0m         \u001b[0mlikelihood\u001b[0m\u001b[0;34m[\u001b[0m\u001b[0mc1\u001b[0m\u001b[0;34m]\u001b[0m \u001b[0;34m=\u001b[0m \u001b[0mnp\u001b[0m\u001b[0;34m.\u001b[0m\u001b[0mexp\u001b[0m\u001b[0;34m(\u001b[0m\u001b[0;34m-\u001b[0m\u001b[0;36m0.5\u001b[0m\u001b[0;34m*\u001b[0m\u001b[0;34m(\u001b[0m\u001b[0;36m3.\u001b[0m\u001b[0;34m*\u001b[0m\u001b[0;34m(\u001b[0m\u001b[0mv_e\u001b[0m\u001b[0;34m.\u001b[0m\u001b[0mvalue\u001b[0m\u001b[0;34m[\u001b[0m\u001b[0mc1\u001b[0m\u001b[0;34m]\u001b[0m\u001b[0;34m-\u001b[0m\u001b[0;36m1.\u001b[0m\u001b[0;34m)\u001b[0m\u001b[0;34m)\u001b[0m\u001b[0;34m**\u001b[0m\u001b[0;36m2\u001b[0m\u001b[0;34m)\u001b[0m\u001b[0;34m\u001b[0m\u001b[0;34m\u001b[0m\u001b[0m\n",
      "\u001b[0;32m/mnt/c/Users/Scarlett/SEPHI/preprocessing/calc_sephi.py\u001b[0m in \u001b[0;36mget_sephi_RM17\u001b[0;34m(planet_mass, planet_radius, planet_semi_major_axis, T_eff_star, L_star, planet_system_age)\u001b[0m\n\u001b[1;32m    370\u001b[0m         \u001b[0;31m# TODO: do I need to covert pl_rad?\u001b[0m\u001b[0;34m\u001b[0m\u001b[0;34m\u001b[0m\u001b[0m\n\u001b[1;32m    371\u001b[0m         \u001b[0mlikelihood_1\u001b[0m \u001b[0;34m=\u001b[0m \u001b[0mlikelihood_telluric\u001b[0m\u001b[0;34m(\u001b[0m\u001b[0mplanet_mass\u001b[0m\u001b[0;34m,\u001b[0m \u001b[0mplanet_radius\u001b[0m\u001b[0;34m,\u001b[0m \u001b[0mverbose\u001b[0m\u001b[0;34m)\u001b[0m\u001b[0;34m\u001b[0m\u001b[0;34m\u001b[0m\u001b[0m\n\u001b[0;32m--> 372\u001b[0;31m         \u001b[0mlikelihood_2\u001b[0m \u001b[0;34m=\u001b[0m \u001b[0mlikelihood_atmosphere\u001b[0m\u001b[0;34m(\u001b[0m\u001b[0mplanet_mass\u001b[0m\u001b[0;34m,\u001b[0m \u001b[0mplanet_radius\u001b[0m\u001b[0;34m,\u001b[0m \u001b[0mverbose\u001b[0m\u001b[0;34m)\u001b[0m\u001b[0;34m\u001b[0m\u001b[0;34m\u001b[0m\u001b[0m\n\u001b[0m\u001b[1;32m    373\u001b[0m         \u001b[0mlikelihood_3\u001b[0m \u001b[0;34m=\u001b[0m \u001b[0mlikelihood_surface_liquid_water\u001b[0m\u001b[0;34m(\u001b[0m\u001b[0mT_eff_star\u001b[0m\u001b[0;34m,\u001b[0m \u001b[0mL_star\u001b[0m\u001b[0;34m,\u001b[0m \u001b[0mplanet_mass\u001b[0m\u001b[0;34m,\u001b[0m  \u001b[0mplanet_semi_major_axis\u001b[0m\u001b[0;34m,\u001b[0m \u001b[0mverbose\u001b[0m\u001b[0;34m)\u001b[0m\u001b[0;34m\u001b[0m\u001b[0;34m\u001b[0m\u001b[0m\n\u001b[1;32m    374\u001b[0m         \u001b[0mlikelihood_4\u001b[0m \u001b[0;34m=\u001b[0m \u001b[0mlikelihood_magnetic_moment\u001b[0m\u001b[0;34m(\u001b[0m\u001b[0mstellar_mass\u001b[0m\u001b[0;34m,\u001b[0m \u001b[0mplanet_semi_major_axis\u001b[0m\u001b[0;34m,\u001b[0m \u001b[0mplanet_system_age\u001b[0m\u001b[0;34m,\u001b[0m \u001b[0mplanet_radius\u001b[0m\u001b[0;34m,\u001b[0m \u001b[0mplanet_mass\u001b[0m\u001b[0;34m,\u001b[0m \u001b[0mverbose\u001b[0m\u001b[0;34m)\u001b[0m\u001b[0;34m\u001b[0m\u001b[0;34m\u001b[0m\u001b[0m\n",
      "\u001b[0;32m/mnt/c/Users/Scarlett/SEPHI/preprocessing/calc_sephi.py\u001b[0m in \u001b[0;36mlikelihood_atmosphere\u001b[0;34m(planet_mass, planet_radius, verbose)\u001b[0m\n\u001b[1;32m     84\u001b[0m         \u001b[0mlikelihood\u001b[0m\u001b[0;34m[\u001b[0m\u001b[0mc1\u001b[0m\u001b[0;34m]\u001b[0m \u001b[0;34m=\u001b[0m \u001b[0mnp\u001b[0m\u001b[0;34m.\u001b[0m\u001b[0mexp\u001b[0m\u001b[0;34m(\u001b[0m\u001b[0;34m-\u001b[0m\u001b[0;36m0.5\u001b[0m\u001b[0;34m*\u001b[0m\u001b[0;34m(\u001b[0m\u001b[0;36m3.\u001b[0m\u001b[0;34m*\u001b[0m\u001b[0;34m(\u001b[0m\u001b[0mv_e\u001b[0m\u001b[0;34m.\u001b[0m\u001b[0mvalue\u001b[0m\u001b[0;34m[\u001b[0m\u001b[0mc1\u001b[0m\u001b[0;34m]\u001b[0m\u001b[0;34m-\u001b[0m\u001b[0;36m1.\u001b[0m\u001b[0;34m)\u001b[0m\u001b[0;34m)\u001b[0m\u001b[0;34m**\u001b[0m\u001b[0;36m2\u001b[0m\u001b[0;34m)\u001b[0m\u001b[0;34m\u001b[0m\u001b[0;34m\u001b[0m\u001b[0m\n\u001b[1;32m     85\u001b[0m     \u001b[0;32mif\u001b[0m\u001b[0;34m(\u001b[0m\u001b[0mc2\u001b[0m\u001b[0;34m[\u001b[0m\u001b[0;36m0\u001b[0m\u001b[0;34m]\u001b[0m\u001b[0;34m.\u001b[0m\u001b[0msize\u001b[0m\u001b[0;34m>\u001b[0m\u001b[0;36m0\u001b[0m\u001b[0;34m)\u001b[0m\u001b[0;34m:\u001b[0m\u001b[0;34m\u001b[0m\u001b[0;34m\u001b[0m\u001b[0m\n\u001b[0;32m---> 86\u001b[0;31m         \u001b[0mlikelihood\u001b[0m\u001b[0;34m[\u001b[0m\u001b[0mc2\u001b[0m\u001b[0;34m]\u001b[0m \u001b[0;34m=\u001b[0m \u001b[0mnp\u001b[0m\u001b[0;34m.\u001b[0m\u001b[0mexp\u001b[0m\u001b[0;34m(\u001b[0m\u001b[0;34m-\u001b[0m\u001b[0;36m0.5\u001b[0m\u001b[0;34m*\u001b[0m\u001b[0;34m(\u001b[0m\u001b[0;36m3.\u001b[0m\u001b[0;34m*\u001b[0m\u001b[0;34m(\u001b[0m\u001b[0mv_e\u001b[0m\u001b[0;34m.\u001b[0m\u001b[0mvalue\u001b[0m\u001b[0;34m[\u001b[0m\u001b[0mc2\u001b[0m\u001b[0;34m]\u001b[0m\u001b[0;34m-\u001b[0m\u001b[0;36m1.\u001b[0m\u001b[0;34m)\u001b[0m\u001b[0;34m/\u001b[0m\u001b[0;36m7.66\u001b[0m\u001b[0;34m)\u001b[0m\u001b[0;34m**\u001b[0m\u001b[0;36m2\u001b[0m\u001b[0;34m)\u001b[0m \u001b[0;31m# TODO: stopping at this line. Index to scalar\u001b[0m\u001b[0;34m\u001b[0m\u001b[0;34m\u001b[0m\u001b[0m\n\u001b[0m\u001b[1;32m     87\u001b[0m \u001b[0;34m\u001b[0m\u001b[0m\n\u001b[1;32m     88\u001b[0m     \u001b[0;32mif\u001b[0m\u001b[0;34m(\u001b[0m\u001b[0mverbose\u001b[0m\u001b[0;34m)\u001b[0m\u001b[0;34m:\u001b[0m\u001b[0;34m\u001b[0m\u001b[0;34m\u001b[0m\u001b[0m\n",
      "\u001b[0;31mIndexError\u001b[0m: invalid index to scalar variable."
     ]
    }
   ],
   "source": [
    "get_sephi_RM17(pl_mass, pl_rad, pl_a, teff, lum, age)\n",
    "\n",
    "\"\"\"\n",
    "/mnt/c/Users/Scarlett/SEPHI/preprocessing/calc_sephi.py in likelihood_atmosphere(planet_mass, planet_radius, verbose)\n",
    "     84         likelihood[c1] = np.exp(-0.5*(3.*(v_e.value[c1]-1.))**2)\n",
    "     85     if(c2[0].size>0):\n",
    "---> 86         likelihood[c2] = np.exp(-0.5*(3.*(v_e.value[c2]-1.)/7.66)**2)\n",
    "     87 \n",
    "     88     if(verbose):\n",
    "\n",
    "IndexError: invalid index to scalar variable.\n",
    "\"\"\""
   ]
  },
  {
   "cell_type": "code",
   "execution_count": 21,
   "id": "d9ef5b2d-0674-4000-8ab3-f600e1852cef",
   "metadata": {},
   "outputs": [
    {
     "ename": "AttributeError",
     "evalue": "'numpy.float64' object has no attribute 'to'",
     "output_type": "error",
     "traceback": [
      "\u001b[0;31m---------------------------------------------------------------------------\u001b[0m",
      "\u001b[0;31mAttributeError\u001b[0m                            Traceback (most recent call last)",
      "\u001b[0;32m/tmp/ipykernel_150/1741089544.py\u001b[0m in \u001b[0;36m<module>\u001b[0;34m\u001b[0m\n\u001b[1;32m      4\u001b[0m \u001b[0;34m\u001b[0m\u001b[0m\n\u001b[1;32m      5\u001b[0m \u001b[0;34m\u001b[0m\u001b[0m\n\u001b[0;32m----> 6\u001b[0;31m \u001b[0mget_sephi_RM17\u001b[0m\u001b[0;34m(\u001b[0m\u001b[0mexoplanets\u001b[0m\u001b[0;34m[\u001b[0m\u001b[0;34m\"pl_bmasse\"\u001b[0m\u001b[0;34m]\u001b[0m\u001b[0;34m.\u001b[0m\u001b[0miloc\u001b[0m\u001b[0;34m[\u001b[0m\u001b[0;36m13\u001b[0m\u001b[0;34m]\u001b[0m\u001b[0;34m,\u001b[0m \u001b[0mexoplanets\u001b[0m\u001b[0;34m[\u001b[0m\u001b[0;34m\"pl_rade\"\u001b[0m\u001b[0;34m]\u001b[0m\u001b[0;34m.\u001b[0m\u001b[0miloc\u001b[0m\u001b[0;34m[\u001b[0m\u001b[0;36m13\u001b[0m\u001b[0;34m]\u001b[0m\u001b[0;34m,\u001b[0m \u001b[0mexoplanets\u001b[0m\u001b[0;34m[\u001b[0m\u001b[0;34m\"pl_orbsmax\"\u001b[0m\u001b[0;34m]\u001b[0m\u001b[0;34m.\u001b[0m\u001b[0miloc\u001b[0m\u001b[0;34m[\u001b[0m\u001b[0;36m13\u001b[0m\u001b[0;34m]\u001b[0m\u001b[0;34m,\u001b[0m \u001b[0mexoplanets\u001b[0m\u001b[0;34m[\u001b[0m\u001b[0;34m\"st_teff\"\u001b[0m\u001b[0;34m]\u001b[0m\u001b[0;34m.\u001b[0m\u001b[0miloc\u001b[0m\u001b[0;34m[\u001b[0m\u001b[0;36m13\u001b[0m\u001b[0;34m]\u001b[0m\u001b[0;34m,\u001b[0m \u001b[0mexoplanets\u001b[0m\u001b[0;34m[\u001b[0m\u001b[0;34m\"st_lum\"\u001b[0m\u001b[0;34m]\u001b[0m\u001b[0;34m.\u001b[0m\u001b[0miloc\u001b[0m\u001b[0;34m[\u001b[0m\u001b[0;36m13\u001b[0m\u001b[0;34m]\u001b[0m\u001b[0;34m,\u001b[0m \u001b[0mexoplanets\u001b[0m\u001b[0;34m[\u001b[0m\u001b[0;34m\"st_age\"\u001b[0m\u001b[0;34m]\u001b[0m\u001b[0;34m.\u001b[0m\u001b[0miloc\u001b[0m\u001b[0;34m[\u001b[0m\u001b[0;36m13\u001b[0m\u001b[0;34m]\u001b[0m\u001b[0;34m)\u001b[0m\u001b[0;34m\u001b[0m\u001b[0;34m\u001b[0m\u001b[0m\n\u001b[0m\u001b[1;32m      7\u001b[0m \u001b[0;34m\u001b[0m\u001b[0m\n\u001b[1;32m      8\u001b[0m \u001b[0;34m\u001b[0m\u001b[0m\n",
      "\u001b[0;32m/mnt/c/Users/Scarlett/SEPHI/preprocessing/calc_sephi.py\u001b[0m in \u001b[0;36mget_sephi_RM17\u001b[0;34m(planet_mass, planet_radius, planet_semi_major_axis, T_eff_star, L_star, planet_system_age)\u001b[0m\n\u001b[1;32m    369\u001b[0m         \u001b[0;31m# TODO: should I convert L?\u001b[0m\u001b[0;34m\u001b[0m\u001b[0;34m\u001b[0m\u001b[0m\n\u001b[1;32m    370\u001b[0m         \u001b[0;31m# TODO: do I need to covert pl_rad?\u001b[0m\u001b[0;34m\u001b[0m\u001b[0;34m\u001b[0m\u001b[0m\n\u001b[0;32m--> 371\u001b[0;31m         \u001b[0mlikelihood_1\u001b[0m \u001b[0;34m=\u001b[0m \u001b[0mlikelihood_telluric\u001b[0m\u001b[0;34m(\u001b[0m\u001b[0mplanet_mass\u001b[0m\u001b[0;34m,\u001b[0m \u001b[0mplanet_radius\u001b[0m\u001b[0;34m,\u001b[0m \u001b[0mverbose\u001b[0m\u001b[0;34m)\u001b[0m\u001b[0;34m\u001b[0m\u001b[0;34m\u001b[0m\u001b[0m\n\u001b[0m\u001b[1;32m    372\u001b[0m         \u001b[0mlikelihood_2\u001b[0m \u001b[0;34m=\u001b[0m \u001b[0mlikelihood_atmosphere\u001b[0m\u001b[0;34m(\u001b[0m\u001b[0mplanet_mass\u001b[0m\u001b[0;34m,\u001b[0m \u001b[0mplanet_radius\u001b[0m\u001b[0;34m,\u001b[0m \u001b[0mverbose\u001b[0m\u001b[0;34m)\u001b[0m\u001b[0;34m\u001b[0m\u001b[0;34m\u001b[0m\u001b[0m\n\u001b[1;32m    373\u001b[0m         \u001b[0mlikelihood_3\u001b[0m \u001b[0;34m=\u001b[0m \u001b[0mlikelihood_surface_liquid_water\u001b[0m\u001b[0;34m(\u001b[0m\u001b[0mT_eff_star\u001b[0m\u001b[0;34m,\u001b[0m \u001b[0mL_star\u001b[0m\u001b[0;34m,\u001b[0m \u001b[0mplanet_mass\u001b[0m\u001b[0;34m,\u001b[0m  \u001b[0mplanet_semi_major_axis\u001b[0m\u001b[0;34m,\u001b[0m \u001b[0mverbose\u001b[0m\u001b[0;34m)\u001b[0m\u001b[0;34m\u001b[0m\u001b[0;34m\u001b[0m\u001b[0m\n",
      "\u001b[0;32m/mnt/c/Users/Scarlett/SEPHI/preprocessing/calc_sephi.py\u001b[0m in \u001b[0;36mlikelihood_telluric\u001b[0;34m(planet_mass, planet_radius, verbose)\u001b[0m\n\u001b[1;32m     37\u001b[0m     \u001b[0;31m# Using result of 3rd-order polynomial fit to Table 1 in Zeng & Sasselov 2013\u001b[0m\u001b[0;34m\u001b[0m\u001b[0;34m\u001b[0m\u001b[0m\n\u001b[1;32m     38\u001b[0m     \u001b[0mlog10_MgSiO3_radius\u001b[0m \u001b[0;34m=\u001b[0m \u001b[0mnp\u001b[0m\u001b[0;34m.\u001b[0m\u001b[0mpoly1d\u001b[0m\u001b[0;34m(\u001b[0m \u001b[0mnp\u001b[0m\u001b[0;34m.\u001b[0m\u001b[0marray\u001b[0m\u001b[0;34m(\u001b[0m\u001b[0;34m[\u001b[0m\u001b[0;34m-\u001b[0m\u001b[0;36m0.0066252\u001b[0m \u001b[0;34m,\u001b[0m \u001b[0;34m-\u001b[0m\u001b[0;36m0.02274424\u001b[0m\u001b[0;34m,\u001b[0m  \u001b[0;36m0.30285182\u001b[0m\u001b[0;34m,\u001b[0m  \u001b[0;36m0.02052977\u001b[0m\u001b[0;34m]\u001b[0m\u001b[0;34m)\u001b[0m\u001b[0;34m)\u001b[0m\u001b[0;34m\u001b[0m\u001b[0;34m\u001b[0m\u001b[0m\n\u001b[0;32m---> 39\u001b[0;31m     \u001b[0mMgSiO3_radius\u001b[0m \u001b[0;34m=\u001b[0m \u001b[0;36m10.\u001b[0m\u001b[0;34m**\u001b[0m\u001b[0;34m(\u001b[0m\u001b[0mlog10_MgSiO3_radius\u001b[0m\u001b[0;34m(\u001b[0m\u001b[0mplanet_mass\u001b[0m\u001b[0;34m.\u001b[0m\u001b[0mto\u001b[0m\u001b[0;34m(\u001b[0m\u001b[0mu\u001b[0m\u001b[0;34m.\u001b[0m\u001b[0mMearth\u001b[0m\u001b[0;34m)\u001b[0m\u001b[0;34m.\u001b[0m\u001b[0mvalue\u001b[0m\u001b[0;34m)\u001b[0m\u001b[0;34m)\u001b[0m\u001b[0;34m\u001b[0m\u001b[0;34m\u001b[0m\u001b[0m\n\u001b[0m\u001b[1;32m     40\u001b[0m \u001b[0;34m\u001b[0m\u001b[0m\n\u001b[1;32m     41\u001b[0m     \u001b[0;31m# Determining radius of a 50% MgSiO3, 50% H2O planet of the same mass\u001b[0m\u001b[0;34m\u001b[0m\u001b[0;34m\u001b[0m\u001b[0m\n",
      "\u001b[0;31mAttributeError\u001b[0m: 'numpy.float64' object has no attribute 'to'"
     ]
    }
   ],
   "source": [
    "# 2284 stars have st_age listed\n",
    "# TODO: calc pl_a\n",
    "\n",
    "get_sephi_RM17(exoplanets[\"pl_bmasse\"].iloc[13], exoplanets[\"pl_rade\"].iloc[13], exoplanets[\"pl_orbsmax\"].iloc[13], exoplanets[\"st_teff\"].iloc[13], exoplanets[\"st_lum\"].iloc[13], exoplanets[\"st_age\"].iloc[13])\n",
    "\n",
    "\n",
    "# TODO: calc SEPHI\n",
    "# TODO: how to add units to inputs?\n",
    "# TODO: add units to the df?\n",
    "\"\"\"\n",
    "---> 39     MgSiO3_radius = 10.**(log10_MgSiO3_radius(planet_mass.to(u.Mearth).value))\n",
    "     40 \n",
    "     41     # Determining radius of a 50% MgSiO3, 50% H2O planet of the same mass\n",
    "\n",
    "AttributeError: 'numpy.float64' object has no attribute 'to'\n",
    "\"\"\""
   ]
  },
  {
   "cell_type": "code",
   "execution_count": null,
   "id": "164f33d9-da42-410b-9eab-1fcf27f58d06",
   "metadata": {},
   "outputs": [],
   "source": [
    "# TODO"
   ]
  },
  {
   "cell_type": "code",
   "execution_count": null,
   "id": "681d715a-9e29-40c7-a7f8-d44c92c6a082",
   "metadata": {},
   "outputs": [],
   "source": []
  },
  {
   "cell_type": "code",
   "execution_count": null,
   "id": "7858a9fa-6bc4-48ec-8e1f-fcbb01dde02f",
   "metadata": {},
   "outputs": [],
   "source": [
    "# I could then merge the exoplanets data with the phase-space densities calculated from edr3.\n",
    "# I would need to use a "
   ]
  }
 ],
 "metadata": {
  "kernelspec": {
   "display_name": "Python 3 (ipykernel)",
   "language": "python",
   "name": "python3"
  },
  "language_info": {
   "codemirror_mode": {
    "name": "ipython",
    "version": 3
   },
   "file_extension": ".py",
   "mimetype": "text/x-python",
   "name": "python",
   "nbconvert_exporter": "python",
   "pygments_lexer": "ipython3",
   "version": "3.9.7"
  }
 },
 "nbformat": 4,
 "nbformat_minor": 5
}
