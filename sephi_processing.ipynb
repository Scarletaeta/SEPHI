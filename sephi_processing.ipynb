{
 "cells": [
  {
   "cell_type": "code",
   "execution_count": 1,
   "id": "3bbbe58d-24fb-4ab2-880e-dde3b326b6fc",
   "metadata": {},
   "outputs": [],
   "source": [
    "import numpy as np\n",
    "import pandas as pd\n",
    "from math import pi, sqrt\n",
    "\n",
    "import astropy.table #import tables\n",
    "from astropy import units as u\n",
    "from astropy import constants as const\n",
    "\n",
    "from preprocessing.calc_stellar_params import calc_luminosity, calc_temp\n",
    "from preprocessing.analyse_errs import classify_err\n",
    "#from preprocessing.calc_sephi import get_sephi_RM17\n"
   ]
  },
  {
   "cell_type": "code",
   "execution_count": 2,
   "id": "cdbbadb7-da36-4706-be90-64a573103b9d",
   "metadata": {},
   "outputs": [],
   "source": [
    "# Exoplanet directory:\n",
    "#NASAEA_dir = \"~/Scarlett/OneDrive - Liverpool John Moores University/SEPHI_data/NASA_EA_2022_02_09.csv\"\n",
    "NASAEA_dir = \"~/OneDrive/SEPHI_data/NASA_EA_2022_02_09.csv\"\n",
    "header_length = 116\n",
    "\n",
    "# CKS directories:\n",
    "CKS_stars_dir = \"~/OneDrive/SEPHI_data/CKSII_2017_stars.tsv\"\n",
    "CKS_col_start = 100 # the row where containing the colum headers\n",
    "# The length of the header in the exoplanets csv file:\n"
   ]
  },
  {
   "cell_type": "code",
   "execution_count": 3,
   "id": "d213db90-00a3-450b-a2ea-0454cd71e6f8",
   "metadata": {},
   "outputs": [],
   "source": [
    "# Read data\n",
    "exoplanets = pd.read_csv(NASAEA_dir, skiprows=header_length, \n",
    "                         usecols=[\"pl_name\", \"hostname\", \"gaia_id\", \"sy_snum\", \"sy_pnum\", \"discoverymethod\", \"pl_orbper\", \"pl_orbsmax\", \"pl_rade\", \"pl_bmasse\", \"pl_dens\", \"pl_orbeccen\", \"pl_eqt\", \"pl_orbincl\", \"st_teff\", \"st_tefferr1\", \"st_tefferr2\", \"st_rad\", \"st_raderr1\", \"st_raderr2\", \"st_mass\", \"st_met\", \"st_lum\", \"st_lumerr1\", \"st_lumerr2\", \"st_logg\", \"st_age\", \"st_ageerr1\", \"st_ageerr2\", \"sy_dist\", \"sy_plx\", \"sy_gaiamag\"])\n",
    "# pl_orbper = orbital period [days]\n",
    "# pl_orbsmax = orbit semi-major axis [au]\n",
    "#exculuded \"st_spectype\" due to csv formatting"
   ]
  },
  {
   "cell_type": "code",
   "execution_count": 4,
   "id": "1effc4d5-fa41-4818-94c7-bd9b3c1b2323",
   "metadata": {},
   "outputs": [],
   "source": [
    "#print(exoplanets.head())"
   ]
  },
  {
   "cell_type": "code",
   "execution_count": 5,
   "id": "a6ccf2aa-63af-4576-8989-cb099d61a039",
   "metadata": {},
   "outputs": [],
   "source": [
    "# Get rid of exoplanets whose star's haven't been observed by Gaia\n",
    "exoplanets.dropna(subset=[\"gaia_id\"], inplace=True)"
   ]
  },
  {
   "cell_type": "code",
   "execution_count": 6,
   "id": "72db17b1-7385-4a3e-856e-2c4fe78e1bd5",
   "metadata": {},
   "outputs": [],
   "source": [
    "# Not many of the exoplanets have the stellar age listed. Working out how many have stellar age:\n",
    "#print(\"Number of exoplanets with no stellar age listed: \", exoplanets[\"st_age\"].isna().sum())\n",
    "#print(\"Number of exoplanets with stellar age listed: \", exoplanets[\"st_age\"].notna().sum())"
   ]
  },
  {
   "cell_type": "code",
   "execution_count": 7,
   "id": "22d06095-0e3e-4d44-aa2e-77954f8fc1e1",
   "metadata": {},
   "outputs": [],
   "source": [
    "# A few don't have stellar effective temperature listed (st_teff):\n",
    "#print(\"Number of exoplanets with no teff listed: \", exoplanets[\"st_teff\"].isna().sum())\n",
    "#print(\"Number of exoplanets with teff listed: \", exoplanets[\"st_teff\"].notna().sum())"
   ]
  },
  {
   "cell_type": "code",
   "execution_count": 8,
   "id": "0587b96a-0445-4158-9d04-f8a952b51333",
   "metadata": {},
   "outputs": [],
   "source": [
    "# Some don't have stellar radius listed\n",
    "#print(\"Number of exoplanets with no st_rad listed: \", exoplanets[\"st_rad\"].isna().sum())\n",
    "#print(\"Number of exoplanets with st_rad listed: \", exoplanets[\"st_rad\"].notna().sum())\n",
    "\n",
    "#print(\"Number of exoplanets with st_raderr1 listed: \", exoplanets[\"st_raderr1\"].notna().sum())\n",
    "#print(\"Number of exoplanets with st_raderr2 listed: \", exoplanets[\"st_raderr2\"].notna().sum())"
   ]
  },
  {
   "cell_type": "code",
   "execution_count": 9,
   "id": "49930776-d8c6-44f8-b373-d85fe9502818",
   "metadata": {},
   "outputs": [],
   "source": [
    "# Some don't have stellar age listed\n",
    "#print(\"Number of exoplanets with no st_age listed: \", exoplanets[\"st_age\"].isna().sum())\n",
    "#print(\"Number of exoplanets with st_age listed: \", exoplanets[\"st_age\"].notna().sum())"
   ]
  },
  {
   "cell_type": "code",
   "execution_count": 10,
   "id": "1dec675a-74d7-40bc-b4ad-7703a40c561b",
   "metadata": {},
   "outputs": [
    {
     "data": {
      "text/plain": [
       "'\\ncount = 0\\nfor i in range(exoplanets.shape[0]):\\n    if pd.notna(exoplanets[\"st_teff\"].iloc[i]) and pd.notna(exoplanets[\"st_rad\"].iloc[i]):\\n        count+=1\\n    else:\\n        continue\\nprint(\"Number of exoplanets with st_eff and st_rad listed (can calc L): \", count)\\n    \\n# Number of stars with st_rad, st_teff and st_age:\\ncount = 0\\nfor i in range(exoplanets.shape[0]):\\n    if pd.notna(exoplanets[\"st_teff\"].iloc[i]) and pd.notna(exoplanets[\"st_rad\"].iloc[i]) and pd.notna(exoplanets[\"st_age\"].iloc[i]):\\n        count+=1\\n    else:\\n        continue\\n\\nprint(\"Number of exoplanets with st_teff, st_rad and st_age listed (can calc SEPHI): \", count)\\n'"
      ]
     },
     "execution_count": 10,
     "metadata": {},
     "output_type": "execute_result"
    }
   ],
   "source": [
    "# Number of stars with st_rad and st_teff:\n",
    "\"\"\"\n",
    "count = 0\n",
    "for i in range(exoplanets.shape[0]):\n",
    "    if pd.notna(exoplanets[\"st_teff\"].iloc[i]) and pd.notna(exoplanets[\"st_rad\"].iloc[i]):\n",
    "        count+=1\n",
    "    else:\n",
    "        continue\n",
    "print(\"Number of exoplanets with st_eff and st_rad listed (can calc L): \", count)\n",
    "    \n",
    "# Number of stars with st_rad, st_teff and st_age:\n",
    "count = 0\n",
    "for i in range(exoplanets.shape[0]):\n",
    "    if pd.notna(exoplanets[\"st_teff\"].iloc[i]) and pd.notna(exoplanets[\"st_rad\"].iloc[i]) and pd.notna(exoplanets[\"st_age\"].iloc[i]):\n",
    "        count+=1\n",
    "    else:\n",
    "        continue\n",
    "\n",
    "print(\"Number of exoplanets with st_teff, st_rad and st_age listed (can calc SEPHI): \", count)\n",
    "\"\"\""
   ]
  },
  {
   "cell_type": "code",
   "execution_count": 11,
   "id": "4b76e482-acef-4a19-ab81-a0da2ea8111c",
   "metadata": {},
   "outputs": [],
   "source": [
    "# Not many have stellar luminosity listed (but this can be calculated):\n",
    "#print(\"Number of exoplanets with no L listed: \", exoplanets[\"st_lum\"].isna().sum())\n",
    "#print(\"Number of exoplanets with L listed: \", exoplanets[\"st_lum\"].notna().sum())\n",
    "\n",
    "# Do more have their luminosities listed in Gaia?"
   ]
  },
  {
   "cell_type": "code",
   "execution_count": 12,
   "id": "e17ed89a-f04a-40d6-91b4-a8de73dd397b",
   "metadata": {},
   "outputs": [
    {
     "name": "stdout",
     "output_type": "stream",
     "text": [
      "4734\n"
     ]
    }
   ],
   "source": [
    "print(exoplanets.shape[0])"
   ]
  },
  {
   "cell_type": "code",
   "execution_count": 13,
   "id": "3044524f-dee6-4525-b4d4-f1656d937341",
   "metadata": {},
   "outputs": [],
   "source": [
    "# Estimate L for stars in 'exoplanets'\n",
    "luminosities = np.zeros( (exoplanets.shape[0],5) )\n",
    "for i in range(exoplanets.shape[0]):\n",
    "    luminosities[i] = calc_luminosity(exoplanets[\"st_teff\"].iloc[i], exoplanets[\"st_tefferr1\"].iloc[i], exoplanets[\"st_tefferr2\"].iloc[i], exoplanets[\"st_rad\"].iloc[i], exoplanets[\"st_raderr1\"].iloc[i], exoplanets[\"st_raderr2\"].iloc[i]) \n",
    "\n",
    "#print(luminosities)"
   ]
  },
  {
   "cell_type": "code",
   "execution_count": 14,
   "id": "488429c6-268a-4606-8c63-acd5d584d4d9",
   "metadata": {},
   "outputs": [],
   "source": [
    "# Add the luminosities columns to the exoplanets data frame:\n",
    "exoplanets[ [\"calc_L\", \"calc_Lerr1\", \"calc_L%err1\", \"calc_Lerr2\", \"calc_L%err2\"] ] = luminosities\n",
    "#print(exoplanets)"
   ]
  },
  {
   "cell_type": "code",
   "execution_count": 15,
   "id": "c6c7f8eb-7795-4f98-974c-30a148766bf6",
   "metadata": {},
   "outputs": [],
   "source": [
    "# Array to store classification:\n",
    "classes_L = np.zeros( (exoplanets.shape[0]), dtype=int )\n",
    "#print(classes_L[0:40])\n",
    "\n",
    "# Classify the luminosity uncertainties using the function:\n",
    "for i in range(exoplanets.shape[0]):\n",
    "    classes_L[i] = classify_err(exoplanets[\"st_lum\"].iloc[i], exoplanets[\"st_lumerr1\"].iloc[i], exoplanets[\"st_lumerr2\"].iloc[i], exoplanets[\"calc_L%err1\"].iloc[i], exoplanets[\"calc_L%err2\"].iloc[i])\n",
    "                                                                                                             \n",
    "#print(classes_L[0:100])\n",
    "#print(len(classes_L))"
   ]
  },
  {
   "cell_type": "code",
   "execution_count": 16,
   "id": "04c4b578-bcc4-4058-8048-21b4f67251bb",
   "metadata": {},
   "outputs": [],
   "source": [
    "#print(\"Number of exoplanets with errors in st_lum < calc_L or no dcalc_L: \", np.count_nonzero(classes_L == 1),\"\\nNB: there are 909 planets with st_lum listed.\") \n",
    "#print(\"Number of exoplanets with errors in calc_L < st_lum or no dst_lum: \", np.count_nonzero(classes_L == 2))"
   ]
  },
  {
   "cell_type": "code",
   "execution_count": 17,
   "id": "27603a96-4449-421a-93bc-92f3b1c4e1ee",
   "metadata": {},
   "outputs": [],
   "source": [
    "# Add the crror class column to the exoplanets data frame\n",
    "exoplanets[ \"Lerr_class\" ] = classes_L\n",
    "#print(exoplanets)"
   ]
  },
  {
   "cell_type": "code",
   "execution_count": 18,
   "id": "e580456c-0670-4b86-81d7-382bc7a51880",
   "metadata": {},
   "outputs": [],
   "source": [
    "# Estimate T for stars in 'exoplanets'\n",
    "temps = np.zeros( (exoplanets.shape[0], 5) )\n",
    "for i in range(exoplanets.shape[0]):\n",
    "    temps[i] = calc_temp(exoplanets[\"st_rad\"].iloc[i], exoplanets[\"st_raderr1\"].iloc[i], exoplanets[\"st_raderr2\"].iloc[i], exoplanets[\"st_lum\"].iloc[i], exoplanets[\"st_lumerr1\"].iloc[i], exoplanets[\"st_lumerr2\"].iloc[i]) \n",
    "\n",
    "#print(temps)"
   ]
  },
  {
   "cell_type": "code",
   "execution_count": 19,
   "id": "1e020d76-4866-4e01-a774-576a7c59818d",
   "metadata": {},
   "outputs": [],
   "source": [
    "# Add calc_teff to exoplanets df:\n",
    "exoplanets[ [\"calc_T\", \"calc_Terr1\", \"calc_T%err1\", \"calc_Terr2\", \"calc_T%err2\"] ] = temps\n",
    "#print(exoplanets.head(10))\n",
    "# Temps and errors look good!"
   ]
  },
  {
   "cell_type": "code",
   "execution_count": 20,
   "id": "48cacc73-e521-46d5-98b7-3c5459eedf51",
   "metadata": {},
   "outputs": [],
   "source": [
    "# Compare the uncertainties in st_teff and calc_teff: \n",
    "\n",
    "# Array to store classification:\n",
    "classes_T = np.zeros( (exoplanets.shape[0]), dtype=int )\n",
    "\n",
    "for i in range(exoplanets.shape[0]):\n",
    "    classes_T[i] = classify_err(exoplanets[\"st_teff\"].iloc[i], exoplanets[\"st_tefferr1\"].iloc[i], exoplanets[\"st_tefferr2\"].iloc[i], exoplanets[\"calc_T%err1\"].iloc[i], exoplanets[\"calc_T%err2\"].iloc[i])\n",
    "                                                                                                             \n",
    "#print(classes_T[0:100])\n",
    "#print(len(classes_T))"
   ]
  },
  {
   "cell_type": "code",
   "execution_count": 21,
   "id": "9c3f4051-f98c-4376-886d-c47fe8665de7",
   "metadata": {},
   "outputs": [],
   "source": [
    "# Counting how many st_teff have smaller error and how many temp have smaller error\n",
    "#print(\"Number of exoplanets with errors in st_teff < calc_T or incomplete errors on calc_teff: \", np.count_nonzero(classes_T == 1),\"\\nNB: there are 4507 planets with st_teff listed.\") \n",
    "#print(\"Number of exoplanets with errors in calc_T < st_teff or incomplete errors on st_teff: \", np.count_nonzero(classes_T == 2))"
   ]
  },
  {
   "cell_type": "code",
   "execution_count": 22,
   "id": "2f24c412-cf59-4a16-9315-64f19fca2ae0",
   "metadata": {},
   "outputs": [],
   "source": [
    "# Adding the classes_T array to the exoplanets df\n",
    "exoplanets[\"Terr_class\"] = classes_T\n",
    "#print(exoplanets)"
   ]
  },
  {
   "cell_type": "code",
   "execution_count": 23,
   "id": "0953efdf-2b09-4d29-b649-efc51062d609",
   "metadata": {
    "tags": []
   },
   "outputs": [
    {
     "name": "stdout",
     "output_type": "stream",
     "text": [
      "planet mass:  [6165.6     4684.8142  1525.5     ... 1313.22     162.09249  890.     ] earthMass \n",
      " data shape:  (4734,)\n"
     ]
    }
   ],
   "source": [
    "pl_mass = exoplanets[\"pl_bmasse\"].to_numpy() * u.earthMass\n",
    "pl_rad = exoplanets[\"pl_rade\"].to_numpy() * u.earthRad\n",
    "pl_a = exoplanets[\"pl_orbsmax\"].to_numpy() * u.AU\n",
    "#teff = exoplanets[\"st_teff\"].to_numpy() * u.K\n",
    "#lum = exoplanets[\"st_lum\"].to_numpy() * u.dex(u.L_sun)\n",
    "st_mass = exoplanets[\"st_mass\"].to_numpy() * u.solMass\n",
    "age = exoplanets[\"st_age\"].to_numpy() * u.Gyr\n",
    "print(\"planet mass: \", pl_mass, \"\\n data shape: \", pl_mass.shape)\n",
    "      #, pl_rad, pl_ a)"
   ]
  },
  {
   "cell_type": "code",
   "execution_count": 24,
   "id": "5eef5682-59d0-4a36-ac50-0757f50005ec",
   "metadata": {},
   "outputs": [],
   "source": [
    "from preprocessing.calc_sephi import get_sephi_RM17"
   ]
  },
  {
   "cell_type": "code",
   "execution_count": 25,
   "id": "92ea5de5-8f4e-4690-a04b-1904f08e2ddb",
   "metadata": {},
   "outputs": [],
   "source": [
    "#sephi = get_sephi_RM17(pl_mass, pl_rad, pl_a, teff, lum, st_mass, age, verbose=False)"
   ]
  },
  {
   "cell_type": "code",
   "execution_count": 26,
   "id": "9369ff6b-e7b8-4c5b-b3f3-8b7cf2a3a4a9",
   "metadata": {},
   "outputs": [],
   "source": [
    "#print(sephi)\n",
    "#print(sephi.shape)\n",
    "\n",
    "# Checking whether uncertainties are the right sign (+/-ve)\n",
    "#print( np.where( exoplanets[\"calc_Terr1\"] <0 ) )\n",
    "#print( np.where( exoplanets[\"calc_Terr2\"] >0 ) )\n",
    "#print( (np.where( np.isnan( exoplanets[\"calc_Terr2\"].head(100)) ) ) )"
   ]
  },
  {
   "cell_type": "code",
   "execution_count": 27,
   "id": "3913f6b5-e3b4-47cd-a8ec-2c8d0cb9b937",
   "metadata": {},
   "outputs": [
    {
     "name": "stdout",
     "output_type": "stream",
     "text": [
      "4734\n",
      "[2.243      2.40120052 1.7671425  ...        nan 1.8        1.83076776] dex(solLum)\n"
     ]
    }
   ],
   "source": [
    "# Collating the 'best' values for stellar luminosity\n",
    "\n",
    "# The conditions that determine which L value is the 'best':\n",
    "c1= np.where( (exoplanets[\"Lerr_class\"].to_numpy() == 0) | (exoplanets[\"Lerr_class\"].to_numpy() == 1) ) # indicies for which st_lum has smaller uncertainties\n",
    "#print(c1[0])\n",
    "#print(c1[0].size)\n",
    "c2 = np.where( (exoplanets[\"Lerr_class\"].to_numpy() == 2 ) ) # indicies for which calc_T has smaller uncertainties\n",
    "c3 = np.where( (exoplanets[\"Lerr_class\"].to_numpy() == 3 ) ) # indioies where neither st_lum nor calc_T have uncertainties, or both st_lum and calc_T are NaN\n",
    "\n",
    "# Empty array to store the 'best' luminosities:\n",
    "lum = np.zeros(exoplanets.shape[0])\n",
    "print(lum.size)\n",
    "\n",
    "lum[c1] = exoplanets[\"st_lum\"].iloc[c1] # st_lum has smaller uncertainties\n",
    "lum[c2] = exoplanets[\"calc_L\"].iloc[c2] # calc_L has smaller uncertainties\n",
    "lum[c3] = exoplanets[\"calc_L\"].iloc[c3] # these are all NaN\n",
    "\n",
    "lum = lum * u.dex(u.L_sun)\n",
    "print(lum)\n",
    "\n",
    "# NB: lums and teffs that aren't NaN but class 3 do not have uncertainties. Are these reliable results?"
   ]
  },
  {
   "cell_type": "code",
   "execution_count": 28,
   "id": "2d3a984c-ef21-4024-b458-e93b83d9c5bf",
   "metadata": {},
   "outputs": [
    {
     "name": "stdout",
     "output_type": "stream",
     "text": [
      "4734\n",
      "[4742.         4213.         4813.         ...           nan 4856.57558202\n",
      " 4780.        ] K\n"
     ]
    }
   ],
   "source": [
    "# Collating the 'best' values for effective temperature\n",
    "\n",
    "# The conditions that determine which teff value is the 'best':\n",
    "c1= np.where( (exoplanets[\"Terr_class\"].to_numpy() == 0) | (exoplanets[\"Terr_class\"].to_numpy() == 1) )\n",
    "#print(c1[0])\n",
    "#print(c1[0].size)\n",
    "c2 = np.where( (exoplanets[\"Terr_class\"].to_numpy() == 2 ) )\n",
    "c3 = np.where( (exoplanets[\"Terr_class\"].to_numpy() == 3 ) )\n",
    "\n",
    "# Empty array to store the 'best' luminosities:\n",
    "teff = np.zeros(exoplanets.shape[0])\n",
    "print(teff.size)\n",
    "\n",
    "teff[c1] = exoplanets[\"st_teff\"].iloc[c1] # st_teff has smaller uncertainties\n",
    "teff[c2] = exoplanets[\"calc_T\"].iloc[c2] # calc_T has smaller uncertainties\n",
    "teff[c3] = exoplanets[\"calc_T\"].iloc[c3] # these are all NaN\n",
    "\n",
    "teff = teff * u.K\n",
    "print(teff)"
   ]
  },
  {
   "cell_type": "code",
   "execution_count": 29,
   "id": "0360ed70-405d-4f63-8d9e-4cc7f6bcca01",
   "metadata": {},
   "outputs": [
    {
     "name": "stdout",
     "output_type": "stream",
     "text": [
      "Number of planets for which SEPHI cannot be calculated:  4242\n",
      "Number of planets for which SEPHI can be calculated:  492\n"
     ]
    }
   ],
   "source": [
    "sephi = get_sephi_RM17(pl_mass, pl_rad, pl_a, teff, lum, st_mass, age, verbose=False)"
   ]
  },
  {
   "cell_type": "code",
   "execution_count": 30,
   "id": "77d8af8e-3cd3-4ab9-bc61-96018ace6657",
   "metadata": {},
   "outputs": [
    {
     "name": "stdout",
     "output_type": "stream",
     "text": [
      "[nan nan nan ... nan nan nan]\n"
     ]
    }
   ],
   "source": [
    "print(sephi)\n",
    "# TODO: see how many planets have SEPHI = 0 so far"
   ]
  },
  {
   "cell_type": "code",
   "execution_count": 37,
   "id": "50a730e5-d04e-4e77-811a-e02006e65a19",
   "metadata": {},
   "outputs": [],
   "source": [
    "exoplanets.rename(columns={ \"gaia_id\": \"designation\" }, inplace=True )"
   ]
  },
  {
   "cell_type": "code",
   "execution_count": 31,
   "id": "dae566c5-888b-4f33-a6dc-a5018dbde9a1",
   "metadata": {},
   "outputs": [
    {
     "name": "stdout",
     "output_type": "stream",
     "text": [
      "0       Gaia DR2 3946945413106333696\n",
      "1       Gaia DR2 1696798367260229376\n",
      "2       Gaia DR2 1920113512486282240\n",
      "3       Gaia DR2 1385293808145621504\n",
      "4       Gaia DR2 2135550755683407232\n",
      "                    ...             \n",
      "4909     Gaia DR2 348020448377061376\n",
      "4910     Gaia DR2 348020448377061376\n",
      "4911     Gaia DR2 348020448377061376\n",
      "4912    Gaia DR2 3794167001116433152\n",
      "4913    Gaia DR2 4298361114750843904\n",
      "Name: gaia_id, Length: 4734, dtype: object\n"
     ]
    }
   ],
   "source": [
    "# TODO: match the dr2 stellar params with NASA EA\n",
    "\n",
    "# Things form Michal's exoplanets_gaia_crossmatch:\n",
    "exoplanets2 = exoplanets\n",
    "print(exoplanets2[\"designation\"])\n",
    "# The Gaia ID in exoplanets is the DR followed by the star source ID (the designation)"
   ]
  },
  {
   "cell_type": "code",
   "execution_count": 32,
   "id": "a5e61ccd-727e-4393-b686-e13b6ad586f4",
   "metadata": {},
   "outputs": [
    {
     "name": "stdout",
     "output_type": "stream",
     "text": [
      "0       3946945413106333696\n",
      "1       1696798367260229376\n",
      "2       1920113512486282240\n",
      "3       1385293808145621504\n",
      "4       2135550755683407232\n",
      "               ...         \n",
      "4909     348020448377061376\n",
      "4910     348020448377061376\n",
      "4911     348020448377061376\n",
      "4912    3794167001116433152\n",
      "4913    4298361114750843904\n",
      "Name: source_id, Length: 4734, dtype: int64\n"
     ]
    }
   ],
   "source": [
    "exoplanets2[\"source_id\"] = exoplanets2[\"designation\"].str.rsplit(\" \", n=1, expand=True)[1].astype(\"int64\")\n",
    "# This is the gaia_id without the DR listed\n",
    "print(exoplanets2[\"source_id\"])\n",
    "# The same source_id as listed in Gaia"
   ]
  },
  {
   "cell_type": "code",
   "execution_count": 33,
   "id": "ead0ed05-fc18-4d31-ae1c-a624e9e3d6ea",
   "metadata": {},
   "outputs": [
    {
     "name": "stdout",
     "output_type": "stream",
     "text": [
      "0         11 Com\n",
      "1         11 UMi\n",
      "2         14 And\n",
      "3         14 Her\n",
      "4       16 Cyg B\n",
      "          ...   \n",
      "4909     ups And\n",
      "4910     ups And\n",
      "4911     ups And\n",
      "4912     ups Leo\n",
      "4913      xi Aql\n",
      "Name: hostname, Length: 4734, dtype: object\n"
     ]
    }
   ],
   "source": [
    "print(exoplanets2[\"hostname\"])"
   ]
  },
  {
   "cell_type": "code",
   "execution_count": 34,
   "id": "2c0343ce-3d6f-4b82-9884-201b76b6efaa",
   "metadata": {},
   "outputs": [
    {
     "name": "stdout",
     "output_type": "stream",
     "text": [
      "0        11Com\n",
      "1        11UMi\n",
      "2        14And\n",
      "3        14Her\n",
      "4       16CygB\n",
      "         ...  \n",
      "4909    upsAnd\n",
      "4910    upsAnd\n",
      "4911    upsAnd\n",
      "4912    upsLeo\n",
      "4913     xiAql\n",
      "Name: Host, Length: 4734, dtype: object\n"
     ]
    }
   ],
   "source": [
    "exoplanets2.drop([\"designation\"], axis=1, inplace=True)\n",
    "exoplanets2[\"Host\"] = exoplanets2[\"hostname\"].str.replace(\" \", \"\")\n",
    "print(exoplanets2[\"Host\"])\n",
    "#exoplanets2.drop_duplicates(subset=[\"Host\"], inplace=True)\n",
    "# TODO: I don't know what to do about that line, I think I want duplicates (at least later on so that all planets are listed with their respective star, even if stars are repeated)"
   ]
  },
  {
   "cell_type": "code",
   "execution_count": 38,
   "id": "136b80d1-8b09-4631-a72b-b769b6a6a708",
   "metadata": {},
   "outputs": [
    {
     "ename": "AttributeError",
     "evalue": "'DataFrame' object has no attribute 'length'",
     "output_type": "error",
     "traceback": [
      "\u001b[0;31m---------------------------------------------------------------------------\u001b[0m",
      "\u001b[0;31mAttributeError\u001b[0m                            Traceback (most recent call last)",
      "\u001b[0;32m/tmp/ipykernel_19000/2618158367.py\u001b[0m in \u001b[0;36m<module>\u001b[0;34m\u001b[0m\n\u001b[1;32m      4\u001b[0m                                           \"lum_val\", \"lum_percentile_lower\", \"lum_percentile_upper\"])\n\u001b[1;32m      5\u001b[0m \u001b[0;34m\u001b[0m\u001b[0m\n\u001b[0;32m----> 6\u001b[0;31m \u001b[0mprint\u001b[0m\u001b[0;34m(\u001b[0m\u001b[0mdr2\u001b[0m\u001b[0;34m.\u001b[0m\u001b[0mlength\u001b[0m\u001b[0;34m)\u001b[0m\u001b[0;34m\u001b[0m\u001b[0;34m\u001b[0m\u001b[0m\n\u001b[0m",
      "\u001b[0;32m~/anaconda3/envs/sephi/lib/python3.9/site-packages/pandas/core/generic.py\u001b[0m in \u001b[0;36m__getattr__\u001b[0;34m(self, name)\u001b[0m\n\u001b[1;32m   5485\u001b[0m         ):\n\u001b[1;32m   5486\u001b[0m             \u001b[0;32mreturn\u001b[0m \u001b[0mself\u001b[0m\u001b[0;34m[\u001b[0m\u001b[0mname\u001b[0m\u001b[0;34m]\u001b[0m\u001b[0;34m\u001b[0m\u001b[0;34m\u001b[0m\u001b[0m\n\u001b[0;32m-> 5487\u001b[0;31m         \u001b[0;32mreturn\u001b[0m \u001b[0mobject\u001b[0m\u001b[0;34m.\u001b[0m\u001b[0m__getattribute__\u001b[0m\u001b[0;34m(\u001b[0m\u001b[0mself\u001b[0m\u001b[0;34m,\u001b[0m \u001b[0mname\u001b[0m\u001b[0;34m)\u001b[0m\u001b[0;34m\u001b[0m\u001b[0;34m\u001b[0m\u001b[0m\n\u001b[0m\u001b[1;32m   5488\u001b[0m \u001b[0;34m\u001b[0m\u001b[0m\n\u001b[1;32m   5489\u001b[0m     \u001b[0;32mdef\u001b[0m \u001b[0m__setattr__\u001b[0m\u001b[0;34m(\u001b[0m\u001b[0mself\u001b[0m\u001b[0;34m,\u001b[0m \u001b[0mname\u001b[0m\u001b[0;34m:\u001b[0m \u001b[0mstr\u001b[0m\u001b[0;34m,\u001b[0m \u001b[0mvalue\u001b[0m\u001b[0;34m)\u001b[0m \u001b[0;34m->\u001b[0m \u001b[0;32mNone\u001b[0m\u001b[0;34m:\u001b[0m\u001b[0;34m\u001b[0m\u001b[0;34m\u001b[0m\u001b[0m\n",
      "\u001b[0;31mAttributeError\u001b[0m: 'DataFrame' object has no attribute 'length'"
     ]
    }
   ],
   "source": [
    "dr2_directory = \"~/OneDrive/SEPHI_data/dr2-result.csv\"\n",
    "\n",
    "dr2 = pd.read_csv(dr2_directory, usecols=[\"designation\", \"source_id\", \"teff_val\", \"teff_percentile_lower\", \"teff_percentile_upper\", \"radius_val\", \"radius_percentile_lower\", \"radius_percentile_upper\", \n",
    "                                          \"lum_val\", \"lum_percentile_lower\", \"lum_percentile_upper\"])\n"
   ]
  },
  {
   "cell_type": "code",
   "execution_count": 39,
   "id": "e93ef7a1-6d44-4e2a-9e68-246df04f4908",
   "metadata": {},
   "outputs": [
    {
     "name": "stdout",
     "output_type": "stream",
     "text": [
      "7183262\n"
     ]
    }
   ],
   "source": [
    "print(dr2.shape[0])"
   ]
  },
  {
   "cell_type": "code",
   "execution_count": null,
   "id": "77a98ca0-e3fd-4b60-9218-5983e74dce1d",
   "metadata": {},
   "outputs": [],
   "source": [
    "exoplanets2 = pd.merge(exoplanets, dr2, on=\"source_id\")"
   ]
  },
  {
   "cell_type": "code",
   "execution_count": 35,
   "id": "e578e9b1-dcba-4d80-8a87-8be0ad424bd7",
   "metadata": {},
   "outputs": [
    {
     "name": "stdout",
     "output_type": "stream",
     "text": [
      "          pl_name hostname  sy_snum  sy_pnum  discoverymethod     pl_orbper  \\\n",
      "0        11 Com b   11 Com        2        1  Radial Velocity    326.030000   \n",
      "1        11 UMi b   11 UMi        1        1  Radial Velocity    516.219970   \n",
      "2        14 And b   14 And        1        1  Radial Velocity    185.840000   \n",
      "3        14 Her b   14 Her        1        2  Radial Velocity   1773.400020   \n",
      "4     HD 145675 c   14 Her        1        2  Radial Velocity  25000.000000   \n",
      "...           ...      ...      ...      ...              ...           ...   \n",
      "1839    ups And b  ups And        2        3  Radial Velocity      4.617033   \n",
      "1840    ups And c  ups And        2        3  Radial Velocity    241.258000   \n",
      "1841    ups And d  ups And        2        3  Radial Velocity   1276.460000   \n",
      "1842    ups Leo b  ups Leo        1        1  Radial Velocity    385.200000   \n",
      "1843     xi Aql b   xi Aql        1        1  Radial Velocity    136.750000   \n",
      "\n",
      "      pl_orbsmax  pl_rade   pl_bmasse  pl_dens  ...  \\\n",
      "0       1.290000      NaN  6165.60000      NaN  ...   \n",
      "1       1.530000      NaN  4684.81420      NaN  ...   \n",
      "2       0.830000      NaN  1525.50000      NaN  ...   \n",
      "3       2.930000      NaN  1481.08780      NaN  ...   \n",
      "4      16.400000      NaN  1843.40476      NaN  ...   \n",
      "...          ...      ...         ...      ...  ...   \n",
      "1839    0.059222      NaN   218.53100      NaN  ...   \n",
      "1840    0.827774      NaN   629.59500      NaN  ...   \n",
      "1841    2.513290      NaN  1313.22000      NaN  ...   \n",
      "1842    1.180000      NaN   162.09249      NaN  ...   \n",
      "1843    0.680000      NaN   890.00000      NaN  ...   \n",
      "\n",
      "                       designation  teff_val  teff_percentile_lower  \\\n",
      "0     Gaia DR2 3946945413106333696   4755.00              4680.0000   \n",
      "1     Gaia DR2 1696798367260229376   4248.70              4139.0000   \n",
      "2     Gaia DR2 1920113512486282240   4740.00              4681.1000   \n",
      "3     Gaia DR2 1385293808145621504   5282.00              5209.3335   \n",
      "4     Gaia DR2 1385293808145621504   5282.00              5209.3335   \n",
      "...                            ...       ...                    ...   \n",
      "1839   Gaia DR2 348020448377061376   6105.00              5929.5000   \n",
      "1840   Gaia DR2 348020448377061376   6105.00              5929.5000   \n",
      "1841   Gaia DR2 348020448377061376   6105.00              5929.5000   \n",
      "1842  Gaia DR2 3794167001116433152   4861.25              4790.0000   \n",
      "1843  Gaia DR2 4298361114750843904   4707.00              4670.0000   \n",
      "\n",
      "      teff_percentile_upper  radius_val  radius_percentile_lower  \\\n",
      "0                 5067.0000   17.181000                15.130305   \n",
      "1                 4510.7600   30.262005                26.847910   \n",
      "2                 4846.5000   11.147492                10.662951   \n",
      "3                 5533.0000    1.003684                 0.914687   \n",
      "4                 5533.0000    1.003684                 0.914687   \n",
      "...                     ...         ...                      ...   \n",
      "1839              6219.3335    1.705353                 1.643228   \n",
      "1840              6219.3335    1.705353                 1.643228   \n",
      "1841              6219.3335    1.705353                 1.643228   \n",
      "1842              4939.7500   11.126557                10.775732   \n",
      "1843              4743.0000   10.723029                10.560869   \n",
      "\n",
      "      radius_percentile_upper     lum_val  lum_percentile_lower  \\\n",
      "0                   17.736086  135.954530            132.774340   \n",
      "1                   31.887394  268.852720            263.849120   \n",
      "2                   11.429784   56.514830             55.881283   \n",
      "3                    1.031881    0.706451              0.705918   \n",
      "4                    1.031881    0.706451              0.705918   \n",
      "...                       ...         ...                   ...   \n",
      "1839                 1.807796    3.639703              3.610852   \n",
      "1840                 1.807796    3.639703              3.610852   \n",
      "1841                 1.807796    3.639703              3.610852   \n",
      "1842                11.460029   62.288536             61.035538   \n",
      "1843                10.893618   50.851820             50.260983   \n",
      "\n",
      "      lum_percentile_upper  \n",
      "0               139.134720  \n",
      "1               273.856320  \n",
      "2                57.148380  \n",
      "3                 0.706985  \n",
      "4                 0.706985  \n",
      "...                    ...  \n",
      "1839              3.668554  \n",
      "1840              3.668554  \n",
      "1841              3.668554  \n",
      "1842             63.541534  \n",
      "1843             51.442660  \n",
      "\n",
      "[1844 rows x 55 columns]\n"
     ]
    }
   ],
   "source": [
    "print(exoplanets2)\n",
    "# TODO: I lose a lot of exoplanets after merging with dr2\n",
    "# This could be becasue not all the exoplanet hosts are in dr2\n",
    "# Some might only be in edr3 (in which case, we defo don't have gaia L for them) \n",
    "# I don't want any removed"
   ]
  },
  {
   "cell_type": "code",
   "execution_count": 36,
   "id": "4709abc6-a7b6-4d5d-81cd-82953371fd6c",
   "metadata": {},
   "outputs": [
    {
     "ename": "NameError",
     "evalue": "name 'gaia' is not defined",
     "output_type": "error",
     "traceback": [
      "\u001b[0;31m---------------------------------------------------------------------------\u001b[0m",
      "\u001b[0;31mNameError\u001b[0m                                 Traceback (most recent call last)",
      "\u001b[0;32m/tmp/ipykernel_19000/2930636224.py\u001b[0m in \u001b[0;36m<module>\u001b[0;34m\u001b[0m\n\u001b[1;32m      2\u001b[0m \u001b[0mexoplanets\u001b[0m\u001b[0;34m.\u001b[0m\u001b[0mdrop\u001b[0m\u001b[0;34m(\u001b[0m\u001b[0;34m[\u001b[0m\u001b[0;34m\"pl_name\"\u001b[0m\u001b[0;34m,\u001b[0m \u001b[0;34m\"hostname\"\u001b[0m\u001b[0;34m]\u001b[0m\u001b[0;34m,\u001b[0m \u001b[0maxis\u001b[0m\u001b[0;34m=\u001b[0m\u001b[0;36m1\u001b[0m\u001b[0;34m,\u001b[0m \u001b[0minplace\u001b[0m\u001b[0;34m=\u001b[0m\u001b[0;32mTrue\u001b[0m\u001b[0;34m)\u001b[0m\u001b[0;34m\u001b[0m\u001b[0;34m\u001b[0m\u001b[0m\n\u001b[1;32m      3\u001b[0m \u001b[0;34m\u001b[0m\u001b[0m\n\u001b[0;32m----> 4\u001b[0;31m \u001b[0mgaia\u001b[0m \u001b[0;34m=\u001b[0m \u001b[0mgaia\u001b[0m\u001b[0;34m[\u001b[0m\u001b[0;34m~\u001b[0m\u001b[0mgaia\u001b[0m\u001b[0;34m[\u001b[0m\u001b[0;34m\"source_id\"\u001b[0m\u001b[0;34m]\u001b[0m\u001b[0;34m.\u001b[0m\u001b[0misin\u001b[0m\u001b[0;34m(\u001b[0m\u001b[0mexoplanets\u001b[0m\u001b[0;34m[\u001b[0m\u001b[0;34m\"source_id\"\u001b[0m\u001b[0;34m]\u001b[0m\u001b[0;34m)\u001b[0m\u001b[0;34m]\u001b[0m\u001b[0;34m\u001b[0m\u001b[0;34m\u001b[0m\u001b[0m\n\u001b[0m\u001b[1;32m      5\u001b[0m \u001b[0;34m\u001b[0m\u001b[0m\n\u001b[1;32m      6\u001b[0m \u001b[0mgaia\u001b[0m \u001b[0;34m=\u001b[0m \u001b[0mgaia\u001b[0m\u001b[0;34m[\u001b[0m\u001b[0;36m4.5\u001b[0m \u001b[0;34m<\u001b[0m \u001b[0mgaia\u001b[0m\u001b[0;34m[\u001b[0m\u001b[0;34m\"parallax\"\u001b[0m\u001b[0;34m]\u001b[0m \u001b[0;34m/\u001b[0m \u001b[0mgaia\u001b[0m\u001b[0;34m[\u001b[0m\u001b[0;34m\"parallax_error\"\u001b[0m\u001b[0;34m]\u001b[0m\u001b[0;34m]\u001b[0m \u001b[0;31m#removes stars with with parallax/parallax error > 4.5\u001b[0m\u001b[0;34m\u001b[0m\u001b[0;34m\u001b[0m\u001b[0m\n",
      "\u001b[0;31mNameError\u001b[0m: name 'gaia' is not defined"
     ]
    }
   ],
   "source": [
    "# TODO: Michal then does some stuff that I don't understand...\n",
    "exoplanets.drop([\"pl_name\", \"hostname\"], axis=1, inplace=True)\n",
    "\n",
    "gaia = gaia[~gaia[\"source_id\"].isin(exoplanets[\"source_id\"])]\n",
    "\n",
    "gaia = gaia[4.5 < gaia[\"parallax\"] / gaia[\"parallax_error\"]] #removes stars with with parallax/parallax error > 4.5\n",
    "\n",
    "# Concatenate exoplanet hosts back, however at the top of the dataframe. This way for testing purposes we later\n",
    "# iterate only over first 1065 entries that are exoplanet hosts.\n",
    "gaia = pd.concat([exoplanets, gaia]) #adding the exoplanet list back into the gaia df, at the top\n",
    "\n",
    "# Calculate distance in pc and drop any stars with negative or null distance\n",
    "gaia[\"distance_pc\"] = (1. / gaia[\"Fparallax\"]) * 1000 #closely aligned sources are only occasionally resolved in Gaia, confusion in observation-to-source matching can lead to spurious parallax values which are either very large or have a negative value very far away from zero\n",
    "gaia = gaia[gaia[\"distance_pc\"] > 0] #returns all of gaia for which distance_pc > 0 and overwrites the gaia df with it. Gets rid of all entries where distance_pc <= 0. For these entries, the solution returned by gaia is unphysical so we want to ditch it\n",
    "    \n",
    "# Convert from degrees to pc\n",
    "gaia[\"ra\"] = (gaia[\"ra\"] * np.pi) / 180.\n",
    "gaia[\"dec\"] = (gaia[\"dec\"] * np.pi) / 180."
   ]
  },
  {
   "cell_type": "code",
   "execution_count": null,
   "id": "db9b4bd9-c816-46a2-b48c-7f4d2e691fbd",
   "metadata": {},
   "outputs": [],
   "source": [
    "# TODO: match with CKS stellar catalogue\n",
    "# TODO: redo best param search (flag where CKS used)\n",
    "# TODO: calc sephi for CKS planets only\n",
    "# TODO: match with CKS planet params\n",
    "# TODO: add the sephi to the data frame"
   ]
  },
  {
   "cell_type": "code",
   "execution_count": null,
   "id": "c793a30f-8e09-46da-86b9-42cc1678d63a",
   "metadata": {},
   "outputs": [],
   "source": [
    "cks_stars = pandas.read_csv(CKS_stars_dir, sep = ';', header = CKS_col_start, usecols=[ \"Name\", \"Teff\", \"eTeff\", \"E_Teff\", \"Mass\", \"e_Mass\", \"e_Mass\", \"logA\", \"e_logA\", \"E_logA\" ])\n",
    "#\"Npl\", \"logg\", \"e_logg\", \"E_logg\", \"[Fe/H]\",\n",
    "# Name = Star name: mostly Kepler Object Identifier (KOI), or Kepler Input Calalog (KIC) number\n",
    "# logA (log_10(age)) [ucd=time.age] TODO: what does that last bit mean?\n",
    "\n",
    "# TODO: match KOI with some other identifier in NASA EA or is KOI available in NASA EA?"
   ]
  },
  {
   "cell_type": "code",
   "execution_count": null,
   "id": "8c54d404-2f23-49cd-98a3-00b4bb1f22a7",
   "metadata": {},
   "outputs": [],
   "source": []
  }
 ],
 "metadata": {
  "kernelspec": {
   "display_name": "Python 3 (ipykernel)",
   "language": "python",
   "name": "python3"
  },
  "language_info": {
   "codemirror_mode": {
    "name": "ipython",
    "version": 3
   },
   "file_extension": ".py",
   "mimetype": "text/x-python",
   "name": "python",
   "nbconvert_exporter": "python",
   "pygments_lexer": "ipython3",
   "version": "3.9.7"
  }
 },
 "nbformat": 4,
 "nbformat_minor": 5
}
