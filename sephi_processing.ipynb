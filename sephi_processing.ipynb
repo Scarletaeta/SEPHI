{
 "cells": [
  {
   "cell_type": "code",
   "execution_count": 1,
   "id": "3bbbe58d-24fb-4ab2-880e-dde3b326b6fc",
   "metadata": {},
   "outputs": [],
   "source": [
    "import numpy as np\n",
    "import pandas as pd\n",
    "from math import pi, sqrt\n",
    "\n",
    "import astropy.table #import tables\n",
    "from astropy import units as u\n",
    "from astropy import constants as const\n",
    "\n",
    "from preprocessing.calc_stellar_params import calc_luminosity, calc_temp\n",
    "from preprocessing.analyse_errs import classify_err\n",
    "#from preprocessing.calc_sephi import get_sephi_RM17\n"
   ]
  },
  {
   "cell_type": "code",
   "execution_count": 2,
   "id": "cdbbadb7-da36-4706-be90-64a573103b9d",
   "metadata": {},
   "outputs": [],
   "source": [
    "# Exoplanet directory:\n",
    "#exoplanets_dir = \"~/Scarlett/OneDrive - Liverpool John Moores University/SEPHI_data/NASA_EA_2022_02_09.csv\"\n",
    "exoplanets_dir = \"~/OneDrive/SEPHI_data/NASA_EA_2022_02_09.csv\"\n",
    "\n",
    "# The length of the header in the exoplanets csv file:\n",
    "header_length = 116"
   ]
  },
  {
   "cell_type": "code",
   "execution_count": 3,
   "id": "d213db90-00a3-450b-a2ea-0454cd71e6f8",
   "metadata": {},
   "outputs": [],
   "source": [
    "# Read data\n",
    "exoplanets = pd.read_csv(exoplanets_dir, skiprows=header_length, \n",
    "                         usecols=[\"pl_name\", \"hostname\", \"gaia_id\", \"sy_snum\", \"sy_pnum\", \"discoverymethod\", \"pl_orbper\", \"pl_orbsmax\", \"pl_rade\", \"pl_bmasse\", \"pl_dens\", \"pl_orbeccen\", \"pl_eqt\", \"pl_orbincl\", \"st_teff\", \"st_tefferr1\", \"st_tefferr2\", \"st_rad\", \"st_raderr1\", \"st_raderr2\", \"st_mass\", \"st_met\", \"st_lum\", \"st_lumerr1\", \"st_lumerr2\", \"st_logg\", \"st_age\", \"st_ageerr1\", \"st_ageerr2\", \"sy_dist\", \"sy_plx\", \"sy_gaiamag\"])\n",
    "# pl_orbper = orbital period [days]\n",
    "# pl_orbsmax = orbit semi-major axis [au]\n",
    "#exculuded \"st_spectype\" due to csv formatting"
   ]
  },
  {
   "cell_type": "code",
   "execution_count": 4,
   "id": "1effc4d5-fa41-4818-94c7-bd9b3c1b2323",
   "metadata": {},
   "outputs": [],
   "source": [
    "#print(exoplanets.head())"
   ]
  },
  {
   "cell_type": "code",
   "execution_count": 5,
   "id": "a6ccf2aa-63af-4576-8989-cb099d61a039",
   "metadata": {},
   "outputs": [],
   "source": [
    "# Get rid of exoplanets whose star's haven't been observed by Gaia\n",
    "exoplanets.dropna(subset=[\"gaia_id\"], inplace=True)"
   ]
  },
  {
   "cell_type": "code",
   "execution_count": 6,
   "id": "72db17b1-7385-4a3e-856e-2c4fe78e1bd5",
   "metadata": {},
   "outputs": [
    {
     "name": "stdout",
     "output_type": "stream",
     "text": [
      "Number of exoplanets with no stellar age listed:  2450\n",
      "Number of exoplanets with stellar age listed:  2284\n"
     ]
    }
   ],
   "source": [
    "# Not many of the exoplanets have the stellar age listed. Working out how many have stellar age:\n",
    "#count_NaN = exoplanets[\"st_age\"].isna().sum()\n",
    "#count_value = exoplanets[\"st_age\"].notna().sum()\n",
    "\n",
    "print(\"Number of exoplanets with no stellar age listed: \", exoplanets[\"st_age\"].isna().sum())\n",
    "print(\"Number of exoplanets with stellar age listed: \", exoplanets[\"st_age\"].notna().sum())"
   ]
  },
  {
   "cell_type": "code",
   "execution_count": 7,
   "id": "22d06095-0e3e-4d44-aa2e-77954f8fc1e1",
   "metadata": {},
   "outputs": [
    {
     "name": "stdout",
     "output_type": "stream",
     "text": [
      "Number of exoplanets with no teff listed:  227\n",
      "Number of exoplanets with teff listed:  4507\n"
     ]
    }
   ],
   "source": [
    "# A few don't have stellar effective temperature listed (st_teff):\n",
    "print(\"Number of exoplanets with no teff listed: \", exoplanets[\"st_teff\"].isna().sum())\n",
    "print(\"Number of exoplanets with teff listed: \", exoplanets[\"st_teff\"].notna().sum())"
   ]
  },
  {
   "cell_type": "code",
   "execution_count": 8,
   "id": "0587b96a-0445-4158-9d04-f8a952b51333",
   "metadata": {},
   "outputs": [
    {
     "name": "stdout",
     "output_type": "stream",
     "text": [
      "Number of exoplanets with no st_rad listed:  320\n",
      "Number of exoplanets with st_rad listed:  4414\n",
      "Number of exoplanets with st_raderr1 listed:  4263\n",
      "Number of exoplanets with st_raderr2 listed:  4240\n"
     ]
    }
   ],
   "source": [
    "# Some don't have stellar radius listed\n",
    "print(\"Number of exoplanets with no st_rad listed: \", exoplanets[\"st_rad\"].isna().sum())\n",
    "print(\"Number of exoplanets with st_rad listed: \", exoplanets[\"st_rad\"].notna().sum())\n",
    "\n",
    "print(\"Number of exoplanets with st_raderr1 listed: \", exoplanets[\"st_raderr1\"].notna().sum())\n",
    "print(\"Number of exoplanets with st_raderr2 listed: \", exoplanets[\"st_raderr2\"].notna().sum())"
   ]
  },
  {
   "cell_type": "code",
   "execution_count": 9,
   "id": "49930776-d8c6-44f8-b373-d85fe9502818",
   "metadata": {},
   "outputs": [
    {
     "name": "stdout",
     "output_type": "stream",
     "text": [
      "Number of exoplanets with no st_age listed:  2450\n",
      "Number of exoplanets with st_age listed:  2284\n"
     ]
    }
   ],
   "source": [
    "# Some don't have stellar age listed\n",
    "print(\"Number of exoplanets with no st_age listed: \", exoplanets[\"st_age\"].isna().sum())\n",
    "print(\"Number of exoplanets with st_age listed: \", exoplanets[\"st_age\"].notna().sum())"
   ]
  },
  {
   "cell_type": "code",
   "execution_count": 10,
   "id": "1dec675a-74d7-40bc-b4ad-7703a40c561b",
   "metadata": {},
   "outputs": [
    {
     "name": "stdout",
     "output_type": "stream",
     "text": [
      "Number of exoplanets with st_eff and st_rad listed (can calc L):  4311\n",
      "Number of exoplanets with st_teff, st_rad and st_age listed (can calc SEPHI):  2148\n"
     ]
    }
   ],
   "source": [
    "# Number of stars with st_rad and st_teff:\n",
    "count = 0\n",
    "for i in range(exoplanets.shape[0]):\n",
    "    if pd.notna(exoplanets[\"st_teff\"].iloc[i]) and pd.notna(exoplanets[\"st_rad\"].iloc[i]):\n",
    "        count+=1\n",
    "    else:\n",
    "        continue\n",
    "\n",
    "print(\"Number of exoplanets with st_eff and st_rad listed (can calc L): \", count)\n",
    "\n",
    "#exoplanets[\"st_teff\"].iloc[i]\n",
    "    \n",
    "# Number of stars with st_rad, st_teff and st_age:\n",
    "count = 0\n",
    "for i in range(exoplanets.shape[0]):\n",
    "    if pd.notna(exoplanets[\"st_teff\"].iloc[i]) and pd.notna(exoplanets[\"st_rad\"].iloc[i]) and pd.notna(exoplanets[\"st_age\"].iloc[i]):\n",
    "        count+=1\n",
    "    else:\n",
    "        continue\n",
    "\n",
    "print(\"Number of exoplanets with st_teff, st_rad and st_age listed (can calc SEPHI): \", count)"
   ]
  },
  {
   "cell_type": "code",
   "execution_count": 11,
   "id": "4b76e482-acef-4a19-ab81-a0da2ea8111c",
   "metadata": {},
   "outputs": [
    {
     "name": "stdout",
     "output_type": "stream",
     "text": [
      "Number of exoplanets with no L listed:  3825\n",
      "Number of exoplanets with L listed:  909\n"
     ]
    }
   ],
   "source": [
    "# Not many have stellar luminosity listed (but this can be calculated):\n",
    "print(\"Number of exoplanets with no L listed: \", exoplanets[\"st_lum\"].isna().sum())\n",
    "print(\"Number of exoplanets with L listed: \", exoplanets[\"st_lum\"].notna().sum())\n",
    "\n",
    "# Do more have their luminosities listed in Gaia?"
   ]
  },
  {
   "cell_type": "code",
   "execution_count": 12,
   "id": "e17ed89a-f04a-40d6-91b4-a8de73dd397b",
   "metadata": {},
   "outputs": [
    {
     "name": "stdout",
     "output_type": "stream",
     "text": [
      "4734\n"
     ]
    }
   ],
   "source": [
    "print(exoplanets.shape[0])"
   ]
  },
  {
   "cell_type": "code",
   "execution_count": 13,
   "id": "3044524f-dee6-4525-b4d4-f1656d937341",
   "metadata": {},
   "outputs": [],
   "source": [
    "# Estimate L for stars in 'exoplanets'\n",
    "luminosities = np.zeros( (exoplanets.shape[0],5) )\n",
    "for i in range(exoplanets.shape[0]):\n",
    "\n",
    "    luminosities[i] = calc_luminosity(exoplanets[\"st_teff\"].iloc[i], exoplanets[\"st_tefferr1\"].iloc[i], exoplanets[\"st_tefferr2\"].iloc[i], exoplanets[\"st_rad\"].iloc[i], exoplanets[\"st_raderr1\"].iloc[i], exoplanets[\"st_raderr2\"].iloc[i]) \n",
    "    # TODO: If st_lum is listed as nan or if it is a real value with a larger error than the new value then overwrite the previous values\n",
    "    \"\"\"\n",
    "    if pd.isna(exoplanets[\"st_lum\"].iloc[i]) or ( dL1 < exoplanets[\"st_lumerr1\"].iloc[i] and pd.notna(exoplanets[\"st_lum\"].iloc[i]) ): \n",
    "        #TODO: overwrite the previous values in exoplanets df\n",
    "        exoplanets.loc[i,\"st_lum\"] = L\n",
    "        exoplanets.loc[i, \"st_lumerr1\"] = dL1\n",
    "        exoplanets.loc[i, \"st_lumerr2\"] = dL2               \n",
    "        print(L, dL1, dL2)                   \n",
    "    else:                                                        \n",
    "        continue  \n",
    "        \"\"\"\n",
    "#print(luminosities)"
   ]
  },
  {
   "cell_type": "code",
   "execution_count": 14,
   "id": "488429c6-268a-4606-8c63-acd5d584d4d9",
   "metadata": {},
   "outputs": [],
   "source": [
    "# Add the luminosities columns to the exoplanets data frame:\n",
    "exoplanets[ [\"calc_L\", \"calc_Lerr1\", \"calc_L%err1\", \"calc_Lerr2\", \"calc_L%err2\"] ] = luminosities\n",
    "#print(exoplanets)"
   ]
  },
  {
   "cell_type": "code",
   "execution_count": 15,
   "id": "c6c7f8eb-7795-4f98-974c-30a148766bf6",
   "metadata": {},
   "outputs": [
    {
     "name": "stdout",
     "output_type": "stream",
     "text": [
      "[1 2 2 2 2 1 3 1 1 1 1 1 1 1 3 3 3 1 3 2 2 2 1 1 1 1 1 2 2 2 2 2 3 1 1 1 1\n",
      " 1 3 2 2 2 2 3 2 2 1 2 1 2 2 2 2 2 3 2 1 1 3 2 3 3 1 1 2 3 2 1 1 2 1 1 3 3\n",
      " 1 3 2 2 2 2 2 2 2 2 2 1 2 3 3 2 2 2 2 2 2 2 2 2 2 2]\n",
      "4734\n"
     ]
    }
   ],
   "source": [
    "# Array to store classification:\n",
    "classes_L = np.zeros( (exoplanets.shape[0]), dtype=int )\n",
    "#print(classes_L[0:40])\n",
    "\n",
    "# Classify the luminosity uncertainties using the function:\n",
    "for i in range(exoplanets.shape[0]):\n",
    "    classes_L[i] = classify_err(exoplanets[\"st_lum\"].iloc[i], exoplanets[\"st_lumerr1\"].iloc[i], exoplanets[\"st_lumerr2\"].iloc[i], exoplanets[\"calc_L%err1\"].iloc[i], exoplanets[\"calc_L%err2\"].iloc[i])\n",
    "                                                                                                             \n",
    "print(classes_L[0:100])\n",
    "print(len(classes_L))"
   ]
  },
  {
   "cell_type": "code",
   "execution_count": 16,
   "id": "04c4b578-bcc4-4058-8048-21b4f67251bb",
   "metadata": {},
   "outputs": [
    {
     "name": "stdout",
     "output_type": "stream",
     "text": [
      "Number of exoplanets with errors in st_lum < calc_L or no dcalc_L:  646 \n",
      "NB: there are 909 planets with st_lum listed.\n",
      "Number of exoplanets with errors in calc_L < st_lum or no dst_lum:  3574\n"
     ]
    }
   ],
   "source": [
    "print(\"Number of exoplanets with errors in st_lum < calc_L or no dcalc_L: \", np.count_nonzero(classes_L == 1),\"\\nNB: there are 909 planets with st_lum listed.\") \n",
    "print(\"Number of exoplanets with errors in calc_L < st_lum or no dst_lum: \", np.count_nonzero(classes_L == 2))"
   ]
  },
  {
   "cell_type": "code",
   "execution_count": 17,
   "id": "27603a96-4449-421a-93bc-92f3b1c4e1ee",
   "metadata": {},
   "outputs": [],
   "source": [
    "# Add the crror class column to the exoplanets data frame\n",
    "exoplanets[ \"Lerr_class\" ] = classes_L\n",
    "#print(exoplanets)"
   ]
  },
  {
   "cell_type": "code",
   "execution_count": 18,
   "id": "e580456c-0670-4b86-81d7-382bc7a51880",
   "metadata": {},
   "outputs": [],
   "source": [
    "# Estimate T for stars in 'exoplanets'\n",
    "temps = np.zeros( (exoplanets.shape[0], 5) )\n",
    "for i in range(exoplanets.shape[0]):\n",
    "\n",
    "    temps[i] = calc_temp(exoplanets[\"st_rad\"].iloc[i], exoplanets[\"st_raderr1\"].iloc[i], exoplanets[\"st_raderr2\"].iloc[i], exoplanets[\"st_lum\"].iloc[i], exoplanets[\"st_lumerr1\"].iloc[i], exoplanets[\"st_lumerr2\"].iloc[i]) \n",
    "\n",
    "#print(temps)"
   ]
  },
  {
   "cell_type": "code",
   "execution_count": 19,
   "id": "1e020d76-4866-4e01-a774-576a7c59818d",
   "metadata": {},
   "outputs": [],
   "source": [
    "# Add calc_teff to exoplanets df:\n",
    "exoplanets[ [\"calc_T\", \"calc_Terr1\", \"calc_T%err1\", \"calc_Terr2\", \"calc_T%err2\"] ] = temps\n",
    "#print(exoplanets.head(10))\n",
    "# Temps and errors look good!"
   ]
  },
  {
   "cell_type": "code",
   "execution_count": 20,
   "id": "48cacc73-e521-46d5-98b7-3c5459eedf51",
   "metadata": {},
   "outputs": [
    {
     "name": "stdout",
     "output_type": "stream",
     "text": [
      "[1 1 1 1 1 1 1 1 1 2 2 2 1 1 3 3 3 1 1 1 1 1 2 2 2 3 2 1 1 1 1 1 3 2 2 2 2\n",
      " 2 3 1 1 1 1 3 1 1 1 1 1 1 1 1 1 1 1 1 1 1 1 2 1 1 1 1 1 1 1 1 1 1 1 2 3 3\n",
      " 2 3 1 1 1 1 1 1 1 1 1 1 1 3 3 1 1 1 1 1 1 1 1 1 1 1]\n",
      "4734\n"
     ]
    }
   ],
   "source": [
    "# Compare the uncertainties in st_teff and calc_teff: \n",
    "# Give a classification according to which error is lower:\n",
    "# 0 (equal), 1 (st_lum_combined is 'best'), 2 (calc_L_combined is 'best'), 3 (no classification, neither have both +ve and -ve errors avaiable)\n",
    "\n",
    "# Array to store classification:\n",
    "classes_T = np.zeros( (exoplanets.shape[0]), dtype=int )\n",
    "\n",
    "for i in range(exoplanets.shape[0]):\n",
    "    classes_T[i] = classify_err(exoplanets[\"st_teff\"].iloc[i], exoplanets[\"st_tefferr1\"].iloc[i], exoplanets[\"st_tefferr2\"].iloc[i], exoplanets[\"calc_T%err1\"].iloc[i], exoplanets[\"calc_T%err2\"].iloc[i])\n",
    "                                                                                                             \n",
    "print(classes_T[0:100])\n",
    "print(len(classes_T))"
   ]
  },
  {
   "cell_type": "code",
   "execution_count": 21,
   "id": "9c3f4051-f98c-4376-886d-c47fe8665de7",
   "metadata": {},
   "outputs": [
    {
     "name": "stdout",
     "output_type": "stream",
     "text": [
      "Number of exoplanets with errors in st_teff < calc_teff or incomplete errors on calc_teff:  4103 \n",
      "NB: there are 4507 planets with st_teff listed.\n",
      "Number of exoplanets with errors in calc_T < st_teff or incomplete errors on st_teff:  272\n"
     ]
    }
   ],
   "source": [
    "# Counting how many st_teff have smaller error and how many temp have smaller error\n",
    "print(\"Number of exoplanets with errors in st_teff < calc_teff or incomplete errors on calc_teff: \", np.count_nonzero(classes_T == 1),\"\\nNB: there are 4507 planets with st_teff listed.\") \n",
    "print(\"Number of exoplanets with errors in calc_T < st_teff or incomplete errors on st_teff: \", np.count_nonzero(classes_T == 2))"
   ]
  },
  {
   "cell_type": "code",
   "execution_count": 22,
   "id": "2f24c412-cf59-4a16-9315-64f19fca2ae0",
   "metadata": {},
   "outputs": [
    {
     "name": "stdout",
     "output_type": "stream",
     "text": [
      "         pl_name  hostname                       gaia_id  sy_snum  sy_pnum  \\\n",
      "0       11 Com b    11 Com  Gaia DR2 3946945413106333696        2        1   \n",
      "1       11 UMi b    11 UMi  Gaia DR2 1696798367260229376        1        1   \n",
      "2       14 And b    14 And  Gaia DR2 1920113512486282240        1        1   \n",
      "3       14 Her b    14 Her  Gaia DR2 1385293808145621504        1        2   \n",
      "4     16 Cyg B b  16 Cyg B  Gaia DR2 2135550755683407232        3        1   \n",
      "...          ...       ...                           ...      ...      ...   \n",
      "4909   ups And b   ups And   Gaia DR2 348020448377061376        2        3   \n",
      "4910   ups And c   ups And   Gaia DR2 348020448377061376        2        3   \n",
      "4911   ups And d   ups And   Gaia DR2 348020448377061376        2        3   \n",
      "4912   ups Leo b   ups Leo  Gaia DR2 3794167001116433152        1        1   \n",
      "4913    xi Aql b    xi Aql  Gaia DR2 4298361114750843904        1        1   \n",
      "\n",
      "      discoverymethod    pl_orbper  pl_orbsmax  pl_rade   pl_bmasse  ...  \\\n",
      "0     Radial Velocity   326.030000    1.290000      NaN  6165.60000  ...   \n",
      "1     Radial Velocity   516.219970    1.530000      NaN  4684.81420  ...   \n",
      "2     Radial Velocity   185.840000    0.830000      NaN  1525.50000  ...   \n",
      "3     Radial Velocity  1773.400020    2.930000      NaN  1481.08780  ...   \n",
      "4     Radial Velocity   798.500000    1.660000      NaN   565.73740  ...   \n",
      "...               ...          ...         ...      ...         ...  ...   \n",
      "4909  Radial Velocity     4.617033    0.059222      NaN   218.53100  ...   \n",
      "4910  Radial Velocity   241.258000    0.827774      NaN   629.59500  ...   \n",
      "4911  Radial Velocity  1276.460000    2.513290      NaN  1313.22000  ...   \n",
      "4912  Radial Velocity   385.200000    1.180000      NaN   162.09249  ...   \n",
      "4913  Radial Velocity   136.750000    0.680000      NaN   890.00000  ...   \n",
      "\n",
      "      calc_L%err1  calc_Lerr2  calc_L%err2  Lerr_class       calc_T  \\\n",
      "0        4.444694   -0.098497     4.444694           1  4816.147508   \n",
      "1        3.537840   -0.084951     3.537840           2          NaN   \n",
      "2        4.487013   -0.079292     4.487013           2  4801.536536   \n",
      "3       -6.229751   -0.012386     6.229751           2          NaN   \n",
      "4        8.096364   -0.008058     8.096364           2          NaN   \n",
      "...           ...         ...          ...         ...          ...   \n",
      "4909          NaN         NaN          NaN           3          NaN   \n",
      "4910          NaN         NaN          NaN           3          NaN   \n",
      "4911          NaN         NaN          NaN           3          NaN   \n",
      "4912          NaN         NaN          NaN           1  4856.575582   \n",
      "4913          NaN         NaN          NaN           3  4802.705508   \n",
      "\n",
      "      calc_Terr1  calc_T%err1  calc_Terr2  calc_T%err2  Terr_class  \n",
      "0     196.840213     4.087089  235.653776     4.892993           1  \n",
      "1            NaN          NaN         NaN          NaN           1  \n",
      "2            NaN          NaN         NaN          NaN           1  \n",
      "3            NaN          NaN         NaN          NaN           1  \n",
      "4            NaN          NaN         NaN          NaN           1  \n",
      "...          ...          ...         ...          ...         ...  \n",
      "4909         NaN          NaN         NaN          NaN           3  \n",
      "4910         NaN          NaN         NaN          NaN           3  \n",
      "4911         NaN          NaN         NaN          NaN           3  \n",
      "4912  617.842989    12.721783  153.761830     3.166055           2  \n",
      "4913         NaN          NaN         NaN          NaN           1  \n",
      "\n",
      "[4734 rows x 44 columns]\n"
     ]
    }
   ],
   "source": [
    "# Adding the classes_T array to the exoplanets df\n",
    "exoplanets[\"Terr_class\"] = classes_T\n",
    "print(exoplanets)"
   ]
  },
  {
   "cell_type": "code",
   "execution_count": 23,
   "id": "c1f74785-c466-4ba2-b8c5-28c801ffa6af",
   "metadata": {},
   "outputs": [],
   "source": [
    "#exoplanets_tab = astropy.table.Table.from_pandas(exoplanets)\n",
    "#exoplanets[\"pl_rade\"].unit = astropy.units.earthRad\n",
    "#print(exoplanets_tab)"
   ]
  },
  {
   "cell_type": "code",
   "execution_count": 24,
   "id": "842c014e-9c1e-4a89-84f7-6b6f30e0f102",
   "metadata": {},
   "outputs": [],
   "source": [
    "# TODO: I can drop the two percentage errors on L and T"
   ]
  },
  {
   "cell_type": "code",
   "execution_count": 25,
   "id": "b425ac10-7cb7-462c-a9fe-662583ebab3b",
   "metadata": {},
   "outputs": [
    {
     "data": {
      "text/plain": [
       "'\\n# convert the inputs add units\\npl_mass = exoplanets[\"pl_bmasse\"].iloc[13] * u.earthMass\\npl_rad = exoplanets[\"pl_rade\"].iloc[13] * u.earthRad\\npl_a = exoplanets[\"pl_orbsmax\"].iloc[13] * u.AU\\nteff = exoplanets[\"st_teff\"].iloc[13] * u.K\\nlum = exoplanets[\"st_lum\"].iloc[13] * u.dex(u.L_sun)\\nage = exoplanets[\"st_age\"].iloc[13] * 10**9 * u.yr\\nprint(\"planet mass, radius and semi-major axis: \", pl_mass, pl_rad, pl_ a)\\n'"
      ]
     },
     "execution_count": 25,
     "metadata": {},
     "output_type": "execute_result"
    }
   ],
   "source": [
    "'''\n",
    "# convert the inputs add units\n",
    "pl_mass = exoplanets[\"pl_bmasse\"].iloc[13] * u.earthMass\n",
    "pl_rad = exoplanets[\"pl_rade\"].iloc[13] * u.earthRad\n",
    "pl_a = exoplanets[\"pl_orbsmax\"].iloc[13] * u.AU\n",
    "teff = exoplanets[\"st_teff\"].iloc[13] * u.K\n",
    "lum = exoplanets[\"st_lum\"].iloc[13] * u.dex(u.L_sun)\n",
    "age = exoplanets[\"st_age\"].iloc[13] * 10**9 * u.yr\n",
    "print(\"planet mass, radius and semi-major axis: \", pl_mass, pl_rad, pl_ a)\n",
    "'''"
   ]
  },
  {
   "cell_type": "code",
   "execution_count": 26,
   "id": "7858a9fa-6bc4-48ec-8e1f-fcbb01dde02f",
   "metadata": {},
   "outputs": [],
   "source": [
    "# I could then merge the exoplanets data with the phase-space densities calculated from edr3.\n",
    "# I would need to use a "
   ]
  },
  {
   "cell_type": "code",
   "execution_count": 27,
   "id": "b290d2a3-a53c-4093-8cae-fa747aeec9c7",
   "metadata": {},
   "outputs": [],
   "source": [
    "def likelihood_telluric(planet_mass, planet_radius, verbose):\n",
    "    \n",
    "    \"\"\"\n",
    "    planet_mass: units are converted to Earth masses\n",
    "    planet_radius: units are converted to Earth radii\n",
    "    verbose: \n",
    "    \"\"\"\n",
    "    \n",
    "    if(verbose):\n",
    "        print(\"Composition\")\n",
    "    \n",
    "    # Determining radius of a 100% MgSiO3 planet of the same mass\n",
    "    # Using result of 3rd-order polynomial fit to Table 1 in Zeng & Sasselov 2013\n",
    "    log10_MgSiO3_radius = np.poly1d( np.array([-0.0066252 , -0.02274424,  0.30285182,  0.02052977]))\n",
    "    MgSiO3_radius = 10.**(log10_MgSiO3_radius(planet_mass.to(u.Mearth).value))\n",
    "    #print(\"MgSi03 radius: \", MgSiO3_radius)\n",
    "   \n",
    "    # Determining radius of a 50% MgSiO3, 50% H2O planet of the same mass\n",
    "    # Using result of 3rd-order polynomial fit to Table 1 in Zeng & Sasselov 2013\n",
    "    log10_MgSiO3_H2O_radius = np.poly1d( np.array([-0.00637393, -0.01837899,  0.28980072,  0.10391018]))\n",
    "    MgSiO3_H2O_radius = 10.**(log10_MgSiO3_H2O_radius(planet_mass.to(u.Mearth).value)) # converted to Earth masses\n",
    "\n",
    "    sigma = (MgSiO3_H2O_radius - MgSiO3_radius) / 3.0\n",
    "    \n",
    "    #--------------------------\n",
    "    # Calculating likelihood\n",
    "\n",
    "    c1 = np.where(planet_radius.to(u.Rearth).value <= MgSiO3_radius) #condition 1\n",
    "    c2 = np.where(np.logical_and( planet_radius.to(u.Rearth).value > MgSiO3_radius, \\\n",
    "                                  planet_radius.to(u.Rearth).value <= MgSiO3_H2O_radius) ) #condition 2\n",
    "    \n",
    "    likelihood = np.zeros(planet_mass.size)  #initialising with zero likelihood   \n",
    "    if(c1[0].size>0):\n",
    "        likelihood[c1] = 1.0\n",
    "        #print(\"c1: \", c1)\n",
    "    if(c2[0].size>0):\n",
    "        likelihood[c2] = np.exp( -0.5 * ( (planet_radius.to(u.Rearth).value[c2] - MgSiO3_radius[c2])/sigma[c2] )**2 )\n",
    "        #print(\"c2: \", c2)\n",
    "    \n",
    "    if(verbose):\n",
    "        print(\"Sim 1: (Telluric planet) = \", likelihood, \"\\n\")\n",
    "\n",
    "    return likelihood"
   ]
  },
  {
   "cell_type": "code",
   "execution_count": 28,
   "id": "b2e4c863-38e7-4de2-a6ff-9a5e5911a8ac",
   "metadata": {},
   "outputs": [],
   "source": [
    "#Function to determine likelihood that planet has an atmosphere.\n",
    "def likelihood_atmosphere(planet_mass, planet_radius, verbose):\n",
    "    \n",
    "    if(verbose):\n",
    "        print(\"Normalised physical characteristics\")\n",
    "    \n",
    "    #calculating the relative escape velocity of planet wrt Earth\n",
    "    v_e = (planet_mass.to(u.kg) * const.R_earth / (const.M_earth * planet_radius.to(u.m)) )**0.5\n",
    "    if(verbose):\n",
    "        print (\"escape velocity relative to Earth\",v_e)\n",
    "        \n",
    "    # calculating likelihood    \n",
    "    c1 = np.where(v_e.value < 1.0)  #condition 1\n",
    "    #print(\"c1: \", c1)\n",
    "    c2 = np.where(v_e.value >= 1.0) #condition 2\n",
    "    #print(\"c2: \", c2)\n",
    "\n",
    "    likelihood = np.zeros(planet_mass.size)  #initialising with zero likelihood  \n",
    "    #print(likelihood)\n",
    "    if(c1[0].size>0):\n",
    "        likelihood[c1] = np.exp(-0.5*(3.*(v_e.value[c1]-1.))**2)\n",
    "    if(c2[0].size>0):\n",
    "        likelihood[c2] = np.exp(-0.5*(3.*(v_e.value[c2]-1.)/7.66)**2) # TODO: stopping at this line. Index to scalar\n",
    "    \n",
    "    if(verbose):\n",
    "        print(\"Sim 2: (Atmosphere) = \", likelihood, \"\\n\")\n",
    "    return likelihood"
   ]
  },
  {
   "cell_type": "code",
   "execution_count": 29,
   "id": "8d40ec40-9a7b-43e6-9b7b-877606102d3e",
   "metadata": {},
   "outputs": [],
   "source": [
    "#Function to determine likelihood that planet has an liquid water on surface.\n",
    "#Uses models in Kopparapu+13,ApJ,765,131 and Kopparapu+14,ApJL,787,29\n",
    "#Note: only works for stars with effective stellar temperatures of 2600K < T_eff <7200K,\n",
    "#corresponding to F,G,K,M stars.\n",
    "# SNL 3/8: At the moment the function deals 'correctly' with remnants, in that if \n",
    "# L_star = 0 and T_eff_star = nan, the function return a likelihood value = '0.'\n",
    "# However, the code produces warnings and errors, so in the future it would be \n",
    "# better to deal with this more elegantly. \n",
    "def likelihood_surface_liquid_water(T_eff_star, L_star, planet_mass, planet_semi_major_axis, verbose):\n",
    "\n",
    "    if(verbose):\n",
    "        print(\"Habitability\")\n",
    "    \n",
    "    possible_water = (L_star > 0.) & ~np.isinf(planet_semi_major_axis) # where the host star has non-zero luminosity and the planet is not free-floating\n",
    "\n",
    "    #Making sure the stellar effective temperature is in the correct range\n",
    "    if( np.any(T_eff_star[possible_water].value < 2600.) or np.any(T_eff_star[possible_water].value > 7200.) ):\n",
    "        # print(\"Warning: stellar effective temperature outside correct range of 2600K < T_eff <7200K. Truncating.\")\n",
    "        T_eff_star.value[np.where( np.logical_and(T_eff_star.value<2700., possible_water) )] = 2700.0 \n",
    "        T_eff_star.value[np.where( np.logical_and(T_eff_star.value>7200., possible_water) )] = 7200.0 \n",
    "        # return -1.0\n",
    "    \n",
    "    #Coefficient updates from Table 1 of Kopparapu+14,ApJL,787,29\n",
    "    #These are similar to Kopparapu+13,ApJ,765,131 but the runaway greenhouse depends on planet mass.\n",
    "    #To get coefficients: download HZs.f90 from Kop+14 electronic file associated with the paper, \n",
    "    #then compile and run that to generate HZs.dat and HZ_coefficients.dat. \n",
    "    #Coeffs copied here to avoid speed penalty in opening/reading from file\n",
    "    ##numbers: 1=recent venus,2=runaway greenhouse,3=max. greenhouse,4=early mars,5=run. ghouse (5Mearth), 6=run. ghouse (0.1Mearth)\n",
    "    \n",
    "    S_eff_sol=np.repeat(np.array([[1.77600E+00,1.10700E+00,3.56000E-01,3.20000E-01,1.18800E+00,9.90000E-01]]), T_eff_star.size, axis=0)\n",
    "    a=np.array([[2.13600E-04,1.33200E-04,6.17100E-05,5.54700E-05,1.43300E-04,1.20900E-04]])\n",
    "    b=np.array([[2.53300E-08,1.58000E-08,1.69800E-09,1.52600E-09,1.70700E-08,1.40400E-08]])\n",
    "    c=np.array([[-1.33200E-11,-8.30800E-12,-3.19800E-12,-2.87400E-12,-8.96800E-12,-7.41800E-12]])\n",
    "    d=np.array([[-3.09700E-15,-1.93100E-15,-5.57500E-16,-5.01100E-16,-2.08400E-15,-1.71300E-15]])\n",
    "    \n",
    "    # From Kopparapu. 5780K is the surface temp for sun They see how much cooler or hotter than the sun the star is\n",
    "    T_star_K = T_eff_star - 5780*u.K\n",
    "    T_star = np.reshape(T_star_K.value, (1,T_star_K.size))\n",
    "  \n",
    "    # Calculating the distance from the star for each of the boundaries. First the mass-independent ones\n",
    "    S_eff = S_eff_sol.T + np.dot(a.T,T_star) + np.dot(b.T,T_star**2) + np.dot(c.T,T_star**3) + np.dot(d.T,T_star**4)\n",
    "    D = (L_star.to(u.W)/const.L_sun/S_eff)**0.5 * u.au\n",
    "\n",
    "    #-------------------\n",
    "    # Calculating distance from star at which planet undergoes runaway greenhouse. In Kopparapu+14 this is planet-mass-dependent\n",
    "    # SNL: note the mass boundaries where the switch between different regimes occurs are not defined in SEPHI paper.\n",
    "    #      I've made the boundary roughly mid-range between the discrete masses but this may vary from the online calculator.\n",
    " \n",
    "    c1 = np.where( (planet_mass.value<0.5) & possible_water)\n",
    "    c2 = np.where( (planet_mass.value>2.) & possible_water)\n",
    "    c3 = np.where( np.logical_and(planet_mass.value>=0.5, planet_mass.value <=2.) & possible_water)\n",
    "    \n",
    "    D_RG = np.zeros(planet_mass.size)*u.au\n",
    "    if(c1[0].size>0):\n",
    "        D_RG[c1] = D[5,c1]; #print (c1[0].size, \"Planet mass <0.5Msun\")\n",
    "    if(c2[0].size>0):\n",
    "        D_RG[c2] = D[4,c2]; #print (c2[0].size, \"Planet mass >2Msun\")\n",
    "    if(c3[0].size>0):\n",
    "        D_RG[c3] = D[1,c3]; #print (c3[0].size, \"Planet mass 0.5 - 2 Msun\")\n",
    "    \n",
    "    # Checking distances make sense, i.e. D1<D_RG<D3<D4\n",
    "    # Note, these distances get screwed up if the temperature is outside the 2700K < T < 7200K range\n",
    "    # if not ( np.all(D[0,:]<D_RG) and np.all(D_RG<D[2,:]) and np.all(D[2,:]<D[3,:])):\n",
    "    #     print(\"Distance calculations incorrect, because temperature outside correct range of 2600K < T_eff <7200K\")\n",
    "        #return -1.\n",
    " \n",
    "    if(verbose):\n",
    "        print(\"Green Zone Inner Radius = \", D_RG)\n",
    "    if(verbose):\n",
    "        print(\"Green Zone Outer Radius = \", D[2,:])\n",
    "    if(verbose):\n",
    "        print(\"Incident Effective Flux = \", S_eff)\n",
    "    \n",
    "    #-------------------\n",
    "    # Determining the likelihood\n",
    "        \n",
    "    likelihood = np.zeros(planet_mass.size)  #initialising with zero likelihood \n",
    "        \n",
    "    c4 = np.where( (planet_semi_major_axis < D_RG) & possible_water)\n",
    "    c5 = np.where( np.logical_and(planet_semi_major_axis >= D_RG, planet_semi_major_axis <= D[2,:]) & possible_water)\n",
    "    c6 = np.where( (planet_semi_major_axis > D[2,:]) & possible_water)\n",
    " \n",
    "    if(c4[0].size>0): \n",
    "        sigma_31=(D_RG-D[0,:])/3.0   \n",
    "        likelihood[c4]=np.exp(-0.5*((planet_semi_major_axis[c4] - D_RG[c4])/sigma_31[c4])**2)\n",
    "        if(verbose):\n",
    "            print(\"Zone = Hot\")\n",
    "        \n",
    "    if(c5[0].size>0): \n",
    "        likelihood[c5] = 1.0\n",
    "        if(verbose):\n",
    "            print(\"Zone = Green\")\n",
    "    \n",
    "    if(c6[0].size>0): \n",
    "        sigma_32=(D[3,:]-D[2,:])/3.0 \n",
    "        likelihood[c6]=np.exp(-0.5*((planet_semi_major_axis[c6] - D[2,c6])/sigma_32[c6])**2)\n",
    "        if(verbose):\n",
    "            print(\"Zone = Cold\")\n",
    " \n",
    "    if(verbose):\n",
    "        print(\"Sim 3: (Liquid Water) = \", likelihood, \"\\n\")\n",
    "\n",
    "    return likelihood"
   ]
  },
  {
   "cell_type": "code",
   "execution_count": 36,
   "id": "adcf3b16-b93b-4fe2-a499-1223ed2a7b95",
   "metadata": {},
   "outputs": [],
   "source": [
    "#Function to determine the likelihood that a planet has a magnetic moment similar to the Earth.\n",
    "def likelihood_magnetic_moment(stellar_mass, planet_semi_major_axis, planet_system_age, planet_radius, planet_mass, verbose):\n",
    "    \n",
    "    if(verbose):\n",
    "        print(\"Normalised Magnetic Field\")\n",
    "    \n",
    "    #---------------------------\n",
    "    #Pre-amble preparation\n",
    "    \n",
    "    #Adding mass and radius of Neptune and Jupiter which are needed in defining planet types\n",
    "    neptune_radius = 24622000 * u.m; neptune_mass   = 1.02413E26 * u.kg\n",
    "    jupiter_radius = 71492000 * u.m; jupiter_mass   = 1.8982E27 * u.kg\n",
    "    \n",
    "    #calculating density ratio of planet with solar system objects as this is needed several times\n",
    "    planet_density_ratio_Earth   = (planet_mass.to(u.kg) * const.R_earth**3/planet_radius.to(u.m)**3/const.M_earth)\n",
    "    planet_density_ratio_Jupiter = (planet_mass.to(u.kg) * jupiter_radius **3/planet_radius.to(u.m)**3/jupiter_mass)\n",
    "    planet_density_ratio_Neptune = (planet_mass.to(u.kg) * neptune_radius **3/planet_radius.to(u.m)**3/neptune_mass)\n",
    "    \n",
    "    #---------------------------\n",
    "    #Determining whether the planet tidally locked. Using Eq 1 from \n",
    "    #Griessmeier+09, Icarus,199,526 to determine how long it takes a planet of given \n",
    "    #structure and radius from host star of given mass to become tidally locked.\n",
    "    #There are *many* assumptions and simplifications that go into this.\n",
    "    #However, from the discussion in G+09, many of the factors are not expected to vary \n",
    "    #by more than factors of a few for reasonable exoplanet properties.\n",
    "    #The tidal locking timescale is dominated primarily by the star-planet distance (^6) and \n",
    "    #secondly the star-planet mass ratio (^2)\n",
    "    #3 fiducial cases: 1. Earth, 2.\"small & big super Earth\" (6M_E, 1.63R_E & 10M_E, 1.86R_E), 3. \"Ocean planet\" (6M_E, 2R_E) \n",
    "    \n",
    "    #Determining factors of order unity\n",
    "    alpha_G07 = 1./3. #structure of planet. Assume planet structure similar to Earth.\n",
    "    omega_final = 0.0 / u.s #ignore final angular velocity of the planet (\"can be neglected...for the planets of interest in this work\")\n",
    "    #omega_initial_upper = 1.8 #upper value of initial angular velocity (based on early Earth-moon system, day length = 13.1 hours).\n",
    "    #omega_initial_lower = 0.8 #lower value of initial angular velocity (day length = 30 hours).\n",
    "    omega_initial = 1.0 / u.s #SNL: taking rough average between upper and lower values. Can therefore ignore from tau_synch calculation below.\n",
    "\n",
    "    #Calculating the tidal dissipation factor\n",
    "    k_2_p = 0.3     #Apparently this is suitable for Earth, \"small super Earth\", and \"ocean planet\" cases (need to check relevance of those for our work) \n",
    "    Q_P_Earth = 12  #planetary tidal dissipation factor for Earth (was larger in the past but Earth's shallow sees dissipataed energy. Was high when single continent)\n",
    "    Q_P_other = 100 #planetary tidal dissipation factor for both the super Earths and Ocean planet\n",
    "    Q_P_prime_Earth = (3. * Q_P_Earth)/(2.*k_2_p) #modified Q value for Earth\n",
    "    Q_P_prime_other = (3. * Q_P_other)/(2.*k_2_p) #modified Q value for super Earths and ocean world\n",
    "    \n",
    "    #First step of calculating tidal synchronisation time (how long till a planet gets tidally locked)\n",
    "    tau_synch = (4./9.) * alpha_G07 * (planet_radius.to(u.m)**3/const.G/planet_mass.to(u.kg)) \\\n",
    "                 * (omega_initial - omega_final) \\\n",
    "                 * (planet_mass.to(u.kg)/stellar_mass.to(u.kg))**2 \\\n",
    "                 * (planet_semi_major_axis.to(u.m)/planet_radius.to(u.m))**6\n",
    "    #print(\"tau_synch: \", tau_synch)\n",
    "    \n",
    "    #Next step: determining whether to use Earth-like, or \"other\" (super-Earth/Ocean) tidal dissipation factor\n",
    "    c1 = np.where(  np.logical_and(planet_mass.to(u.kg) < 2.0 * const.M_earth, planet_radius.to(u.m) < 1.5 * const.R_earth))\n",
    "    c2 = np.where(~(np.logical_and(planet_mass.to(u.kg) < 2.0 * const.M_earth, planet_radius.to(u.m) < 1.5 * const.R_earth)))\n",
    "  \n",
    "    if(c1[0].size>0):\n",
    "        tau_synch[c1] *=  Q_P_prime_Earth\n",
    "    if(c2[0].size>0):\n",
    "        tau_synch[c2] *=  Q_P_prime_other\n",
    "\n",
    "    #------------------------------\n",
    "    #Now determining the magnetic moment ratio between the planet and Earth that\n",
    "    #is used in the likelihood calculation. The ratio depends on whether the \n",
    "    #planet is tidally locked, and how its radius and density compare to \n",
    "    #terrestrial-like, ice giant and gas giant planets.\n",
    "    \n",
    "    # Determining conditions if planets tidally locked and density ranges wrt solar system planets\n",
    "    #print(\"tau_synch2: \", tau_synch)\n",
    "    #print(\"planet_system_age2 :\", planet_system_age)\n",
    "    tidally_locked     = tau_synch.to(u.Gyr) < planet_system_age.to(u.Gyr) #TODO: here is is trying to convert planet_system_age from solMass to Gyr\n",
    "    earth_like_density = planet_density_ratio_Earth >= 1.0\n",
    "    ice_giant_density  = np.logical_and(planet_density_ratio_Earth < 1.0, planet_density_ratio_Earth > 0.18)\n",
    "    neptune_density    = np.logical_and(planet_density_ratio_Earth <=0.18, planet_density_ratio_Earth >0.16) \n",
    "    jupiter_density    = planet_density_ratio_Earth <=0.16 \n",
    "    \n",
    "    c3 = np.where(tidally_locked)\n",
    "    c4 = np.where(np.logical_and(~tidally_locked, earth_like_density))\n",
    "    c5 = np.where(np.logical_and(~tidally_locked, ice_giant_density))\n",
    "    c6 = np.where(np.logical_and(~tidally_locked, neptune_density))\n",
    "    c7 = np.where(np.logical_and(~tidally_locked, jupiter_density))\n",
    "        \n",
    "    mag_moment_ratio = np.zeros(planet_mass.size) #initialising magnetic moment ratio array\n",
    "  \n",
    "    # ---------------------------\n",
    "    # Planet tidally locked: use Eq7 in Rodriguez-Mozoz & Moya (2017) (originally from Sano93)\n",
    "    if(c3[0].size>0):\n",
    "        \n",
    "        if(verbose):\n",
    "            print(\"Planet rotation = locked\")\n",
    "        \n",
    "        #SNL: need to assume something about angular frequency ratio of planet with that of Earth. Assume omega ratio = 1.\n",
    "        omega_ratio = 1.0\n",
    "        mag_moment_ratio[c3] = planet_density_ratio_Earth[c3]**0.5 \\\n",
    "                                 * (planet_radius.to(u.m)[c3]/const.R_earth)**(7./2.) \\\n",
    "                                     * omega_ratio \n",
    "                                     \n",
    "    else: \n",
    "        if(verbose):\n",
    "            print(\"Planet rotation = Free\")  \n",
    "                               \n",
    "    # ---------------------------\n",
    "    # Planet not tidally locked: use Eq 9 & 10 and Table 3 from Rodriguez-Mozoz & Moya (2017)     \n",
    "    \n",
    "    # Calculations below require knowing nature of dynamo (multipolar, internally heated, dipolar) to determine alpha_SOC: \n",
    "    #  - based on Olson & Christensen, 2006, Earth & Planet Science Letters, 250, 561\n",
    "    #  - These required obs pars are difficult/unknown even for SS objects -> now way can know these for exoplanets\n",
    "    #  - Pragmatic solution = use the discussion in section 6 and Figure 7 to determine a planet's SOC by similarity with SS objects\n",
    "    #       - Earth & Jupiter like = bipolor (alpha_SOC=1.0)\n",
    "    #       - Neptune-like & between Earth and ice giant = internally heated dynamo (alpha_SOC=0.15)\n",
    "                       \n",
    "    if(c4[0].size>0):                                  # Earth-like  \n",
    "        if(verbose):\n",
    "            print(\"Planet density = Earth-like \\nEstimated regime = Dipolar\") \n",
    "        alpha_SOC = 1.0 # dipolar        \n",
    "        beta_1 = planet_radius.to(u.m)/const.R_earth\n",
    "        mag_moment_ratio[c4] = alpha_SOC * beta_1[c4]**(10./3.) * beta_1[c4]**(1./3.)\n",
    "        \n",
    "    \n",
    "    if(c5[0].size>0):                                 # Between telluric and ice giant\n",
    "        if(verbose):\n",
    "            print(\"Planet density = Between telluric and ice giant \\nEstimated regime = Internally heated dynamo\") \n",
    "        alpha_SOC = 0.15 # internally heated dynamo\n",
    "        beta_1 = planet_radius.to(u.m)/const.R_earth\n",
    "        mag_moment_ratio[c5] = alpha_SOC * 0.45**0.5 * (1.8 * beta_1[c5])**(10./3.) * (4.*beta_1[c5])**(1./3.)\n",
    "               \n",
    "    if(c6[0].size>0):                                 # Neptune-like ice giant\n",
    "        if(verbose):\n",
    "            print(\"Planet density = Neptune-like \\nEstimated regime = Internally heated dynamo\") \n",
    "        alpha_SOC = 0.15 # internally heated dynamo\n",
    "        beta_1 = planet_radius.to(u.m)/neptune_radius\n",
    "        mag_moment_ratio[c6] = alpha_SOC * 0.18**0.5 * (4.5 * beta_1[c6])**(10./3.) * (20.*beta_1[c6])**(1./3.)\n",
    "   \n",
    "    if(c7[0].size>0):                                 # Jupiter-like gas giant\n",
    "        if(verbose):\n",
    "            print(\"Planet density = Jupiter-like \\nEstimated regime = Dipolar\") \n",
    "        alpha_SOC = 1.0 # dipolar \n",
    "        beta_1 = planet_radius.to(u.m)/jupiter_radius\n",
    "        beta_2 = planet_density_ratio_Jupiter\n",
    "        mag_moment_ratio[c7] = alpha_SOC * 0.16**0.5 * (16.*beta_1[c7]*beta_2[c7])**(10./3.) * (100.*beta_1[c7]*beta_2[c7])**(1./3.)\n",
    "  \n",
    "    #-------------------------------\n",
    "    #Finally, calculating and returning likelihood\n",
    "    #If magnetic moment ratio > 1.0, planet has stronger magnetic field than Earth so is protected: likelihood = 1.0.\n",
    "    #If magnetic moment ratio < 1.0, planet has weaker magnetic field, so likelihood drops         \n",
    "    \n",
    "    if(verbose):\n",
    "        print(\"magnetic moment ratio = \", mag_moment_ratio)\n",
    "    c8 = np.where(mag_moment_ratio < 1.0)    \n",
    "        \n",
    "    likelihood = np.ones(planet_mass.size)\n",
    "    if(c8[0].size>0):\n",
    "        likelihood[c8] = np.exp(-0.5*( 3.*(mag_moment_ratio[c8]-1.0))**2 ) \n",
    "\n",
    "    if(verbose):\n",
    "        print(\"Sim 4: (Magnetic Field) = \", likelihood, \"\\n\")\n",
    "\n",
    "    return likelihood"
   ]
  },
  {
   "cell_type": "code",
   "execution_count": 31,
   "id": "0b0faeec-60df-4826-9610-c24fdbb32c99",
   "metadata": {},
   "outputs": [],
   "source": [
    "def get_sephi_RM17(planet_mass, planet_radius, planet_semi_major_axis, T_eff_star, L_star, stellar_mass, planet_system_age, verbose=False):\n",
    "    \"\"\"\n",
    "    The inputs should be the already collated 'best' values'\n",
    "    planet_mass: array of planet masses. Any units, with units included in array\n",
    "    planet_radius: array of planet radii. Any units, with units included in array\n",
    "    planet_semi_major_axis: array, any distance units\n",
    "    T_eff_star: array, any temp units\n",
    "    L_star: array, any units\n",
    "    stelalr_mass: array, any mass units\n",
    "    \n",
    "    NB: this function assumes that the arrays are the same length and that indicies correspond to prioperties of the same planet\n",
    "    \"\"\"\n",
    "    \n",
    "    # Condition 1: stores the indicies where at least one of the necessary planet/stellar properties is NaN\n",
    "    # TODO: wheck whether this works with multiple NaN properties\n",
    "    c1 = np.where(np.isnan(planet_mass.value) | np.isnan(planet_radius.value) | np.isnan(planet_semi_major_axis.value) | np.isnan(T_eff_star.value) | np.isnan(L_star.value) | np.isnan(planet_system_age.value) )\n",
    "    #print(\"c1: \", c1)\n",
    "    \n",
    "    # Condition 2: stores the indicies where all planet/stellar properties are available\n",
    "    c2 = np.where(np.isfinite(planet_mass.value) & np.isfinite(planet_radius.value) & np.isfinite(planet_semi_major_axis.value) & np.isfinite(T_eff_star.value) & np.isfinite(L_star.value) & np.isfinite(planet_system_age.value) )\n",
    "    #print(\"c2: \", c2)\n",
    "    \n",
    "    # Empty arrays to store each likelihood:\n",
    "    likelihood_1 = np.zeros(planet_mass.size) # Empty array to store likelihood telluric\n",
    "    #print(\"Likelihood 1 shape: \", likelihood_1.shape)\n",
    "    #print(\"Likelihood 1: \", likelihood_1)\n",
    "    likelihood_2 = np.zeros(planet_mass.size) # Empty array to store likelihood atmosphere\n",
    "    likelihood_3 = np.zeros(planet_mass.size) # Empty array to store likelihood surface liquid water\n",
    "    likelihood_4 = np.zeros(planet_mass.size) # Empty array to store likelihood magnetic moment\n",
    "    \n",
    "    # Empty array to store the combined likelihoods (SEPHIs):\n",
    "    combined = np.zeros(planet_mass.size) \n",
    "    \n",
    "    # If there is at least one NaN value, then the likelihoods and combined likelihood is NaN; SEPHI cannot be calculated when parameters are missing:\n",
    "    if(c1[0].size>0):\n",
    "        likelihood_1[c1] = np.nan\n",
    "        likelihood_2[c1] = np.nan\n",
    "        likelihood_3[c1] = np.nan\n",
    "        likelihood_4[c1] = np.nan\n",
    "        combined[c1] = np.nan\n",
    "        \n",
    "    # If there is at least one planet with all planetary/stellar parameters available, calculate each likelihood and the combined likelihood (SEPHI):\n",
    "    if(c2[0].size>0):\n",
    "        #Determine likelihoods at 4 different stages:\n",
    "        likelihood_1[c2] = likelihood_telluric(planet_mass[c2], planet_radius[c2], verbose)\n",
    "        likelihood_2[c2] = likelihood_atmosphere(planet_mass[c2], planet_radius[c2], verbose)\n",
    "        likelihood_3[c2] = likelihood_surface_liquid_water(T_eff_star[c2], L_star[c2], planet_mass[c2],  planet_semi_major_axis[c2], verbose)\n",
    "        likelihood_4[c2] = likelihood_magnetic_moment(stellar_mass[c2], planet_semi_major_axis[c2], planet_system_age[c2], planet_radius[c2], planet_mass[c2], verbose)\n",
    "        # Determine SEPHI as geometric mean of the 4 different likelihoods:\n",
    "        combined[c2] = (likelihood_1[c2] * likelihood_2[c2] * likelihood_3[c2] * likelihood_4[c2])**(1./4.) \n",
    "\n",
    "    if(verbose):\n",
    "        print(\"Combined likelihood: = \", combined, \"\\n\" )\n",
    "        \n",
    "    return combined"
   ]
  },
  {
   "cell_type": "code",
   "execution_count": 32,
   "id": "0953efdf-2b09-4d29-b649-efc51062d609",
   "metadata": {},
   "outputs": [
    {
     "name": "stdout",
     "output_type": "stream",
     "text": [
      "planet mass:  [6165.6     4684.8142  1525.5     ... 1313.22     162.09249  890.     ] earthMass \n",
      " data shape:  (4734,)\n"
     ]
    }
   ],
   "source": [
    "pl_mass = exoplanets[\"pl_bmasse\"].to_numpy() * u.earthMass\n",
    "pl_rad = exoplanets[\"pl_rade\"].to_numpy() * u.earthRad\n",
    "pl_a = exoplanets[\"pl_orbsmax\"].to_numpy() * u.AU\n",
    "teff = exoplanets[\"st_teff\"].to_numpy() * u.K\n",
    "lum = exoplanets[\"st_lum\"].to_numpy() * u.dex(u.L_sun)\n",
    "st_mass = exoplanets[\"st_mass\"].to_numpy() * u.solMass\n",
    "age = exoplanets[\"st_age\"].to_numpy() * u.Gyr\n",
    "print(\"planet mass: \", pl_mass, \"\\n data shape: \", pl_mass.shape)\n",
    "      #, pl_rad, pl_ a)"
   ]
  },
  {
   "cell_type": "code",
   "execution_count": null,
   "id": "5eef5682-59d0-4a36-ac50-0757f50005ec",
   "metadata": {},
   "outputs": [],
   "source": [
    "from preprocessing.calc_sephi import get_sephi_RM17"
   ]
  },
  {
   "cell_type": "code",
   "execution_count": 38,
   "id": "92ea5de5-8f4e-4690-a04b-1904f08e2ddb",
   "metadata": {},
   "outputs": [],
   "source": [
    "sephi = get_sephi_RM17(pl_mass, pl_rad, pl_a, teff, lum, st_mass, age, verbose=False)"
   ]
  },
  {
   "cell_type": "code",
   "execution_count": 40,
   "id": "9369ff6b-e7b8-4c5b-b3f3-8b7cf2a3a4a9",
   "metadata": {},
   "outputs": [
    {
     "name": "stdout",
     "output_type": "stream",
     "text": [
      "[nan nan nan ... nan nan nan]\n",
      "(4734,)\n"
     ]
    }
   ],
   "source": [
    "print(sephi)\n",
    "print(sephi.shape)"
   ]
  },
  {
   "cell_type": "code",
   "execution_count": null,
   "id": "3913f6b5-e3b4-47cd-a8ec-2c8d0cb9b937",
   "metadata": {},
   "outputs": [],
   "source": [
    "# TODO: move the sephi functions back to sephi file\n",
    "# TODO: add the sephi to the data frame\n",
    "# TODO: Use the 'best' stellar parameters to calc sephi"
   ]
  }
 ],
 "metadata": {
  "kernelspec": {
   "display_name": "Python 3 (ipykernel)",
   "language": "python",
   "name": "python3"
  },
  "language_info": {
   "codemirror_mode": {
    "name": "ipython",
    "version": 3
   },
   "file_extension": ".py",
   "mimetype": "text/x-python",
   "name": "python",
   "nbconvert_exporter": "python",
   "pygments_lexer": "ipython3",
   "version": "3.9.7"
  }
 },
 "nbformat": 4,
 "nbformat_minor": 5
}
