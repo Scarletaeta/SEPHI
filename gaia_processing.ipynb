{
 "cells": [
  {
   "cell_type": "code",
   "execution_count": 1,
   "id": "86f6560f-48ae-4093-9bdd-f9b8a033d5ee",
   "metadata": {},
   "outputs": [],
   "source": [
    "import pandas as pd\n",
    "import numpy as np\n",
    "import tkinter\n",
    "from astroquery.gaia import Gaia\n",
    "\n",
    "#from preprocessing.download_gaia import GaiaDataset"
   ]
  },
  {
   "cell_type": "code",
   "execution_count": 2,
   "id": "04aed301-106c-47ca-aa3b-5c3146269b35",
   "metadata": {},
   "outputs": [],
   "source": [
    "# Download Gaia data with Luminosity, Teff, etc.\n",
    "#GaiaDataset().get_gaia()"
   ]
  },
  {
   "cell_type": "code",
   "execution_count": 3,
   "id": "486e092c-af42-4af3-9511-5443fc5effe8",
   "metadata": {},
   "outputs": [],
   "source": [
    "# Gaia data directory\n",
    "#gaia_dir = \"~/Scarlett/OneDrive - Liverpool John Moores University/SEPHI_data/gaiaedr3.csv\""
   ]
  },
  {
   "cell_type": "code",
   "execution_count": 4,
   "id": "fc62a325-a65b-474d-afac-eddee4757940",
   "metadata": {},
   "outputs": [],
   "source": [
    "# Read data\n",
    "#gaia = pd.read_csv(gaia_dir)"
   ]
  },
  {
   "cell_type": "code",
   "execution_count": 5,
   "id": "1068aefd-1e41-40f5-b05b-8ff188e0edec",
   "metadata": {},
   "outputs": [],
   "source": [
    "#print(gaia.head())"
   ]
  },
  {
   "cell_type": "code",
   "execution_count": 4,
   "id": "be4c5ad0-54f6-43a3-b1f2-68b592f0a9c9",
   "metadata": {},
   "outputs": [],
   "source": [
    "# Directory for edr3 data with the designations in:\n",
    "edr3_designation_dir = \"~/OneDrive/SEPHI_data/dr3-w_designation-result.csv\"\n",
    "#\"~/Scarlett/OneDrive - Liverpool John Moores University/SEPHI_data/dr3-w_designation-result.csv\"\n",
    "\n",
    "# NASA EA database dir\n",
    "NASAEA_dir = \"~/OneDrive/SEPHI_data/NASA_EA_2022_02_09.csv\"\n",
    "\n",
    "# Directory for the phase space density data folder (without designations)\n",
    "phase_space_dir = \"~/OneDrive/phase_space_density_data/classification/dr3/\""
   ]
  },
  {
   "cell_type": "code",
   "execution_count": 5,
   "id": "ef029980-06dd-4318-8739-4013a24a8668",
   "metadata": {},
   "outputs": [],
   "source": [
    "# Read the edr3 data with designations in:\n",
    "#edr3_designation = pd.read_csv(edr3_designation_dir, usecols=[\"designation\", \"source_id\"])\n",
    "\n",
    "# source_id is a long number (unique source identifier)\n",
    "# designation is GAIA ED3 followed by the same long number\n",
    "# I think using the souyrce_id to match stars is correct\n",
    "# The source_id is in the classifications files under \"Host\""
   ]
  },
  {
   "cell_type": "code",
   "execution_count": null,
   "id": "1c8712f1-0ac0-4d7e-a52e-de1a39680f0d",
   "metadata": {},
   "outputs": [],
   "source": []
  },
  {
   "cell_type": "code",
   "execution_count": null,
   "id": "f0e6bb79-56e8-46a1-a488-fd5a0af4df70",
   "metadata": {},
   "outputs": [],
   "source": []
  }
 ],
 "metadata": {
  "kernelspec": {
   "display_name": "Python 3 (ipykernel)",
   "language": "python",
   "name": "python3"
  },
  "language_info": {
   "codemirror_mode": {
    "name": "ipython",
    "version": 3
   },
   "file_extension": ".py",
   "mimetype": "text/x-python",
   "name": "python",
   "nbconvert_exporter": "python",
   "pygments_lexer": "ipython3",
   "version": "3.9.7"
  }
 },
 "nbformat": 4,
 "nbformat_minor": 5
}
