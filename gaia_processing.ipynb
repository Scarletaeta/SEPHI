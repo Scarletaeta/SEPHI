{
 "cells": [
  {
   "cell_type": "code",
   "execution_count": 15,
   "id": "86f6560f-48ae-4093-9bdd-f9b8a033d5ee",
   "metadata": {},
   "outputs": [],
   "source": [
    "import pandas as pd\n",
    "import numpy as np\n",
    "import tkinter\n",
    "\n",
    "from preprocessing.download_gaia import GaiaDataset"
   ]
  },
  {
   "cell_type": "code",
   "execution_count": 17,
   "id": "04aed301-106c-47ca-aa3b-5c3146269b35",
   "metadata": {},
   "outputs": [
    {
     "name": "stdout",
     "output_type": "stream",
     "text": [
      "INFO: Login to gaia TAP server [astroquery.gaia.core]\n",
      "OK\n",
      "INFO: Login to gaia data server [astroquery.gaia.core]\n",
      "OK\n",
      "INFO: Query finished. [astroquery.utils.tap.core]\n"
     ]
    }
   ],
   "source": [
    "# Download Gaia data with Luminosity, Teff, etc.\n",
    "#GaiaDataset().get_gaia() # cannot login"
   ]
  },
  {
   "cell_type": "code",
   "execution_count": 4,
   "id": "486e092c-af42-4af3-9511-5443fc5effe8",
   "metadata": {},
   "outputs": [],
   "source": [
    "# Gaia data directory\n",
    "gaia_dir = \"~/Scarlett/OneDrive - Liverpool John Moores University/SEPHI_data/gaiaedr3.csv\""
   ]
  },
  {
   "cell_type": "code",
   "execution_count": 8,
   "id": "fc62a325-a65b-474d-afac-eddee4757940",
   "metadata": {},
   "outputs": [],
   "source": [
    "# Read data\n",
    "gaia = pd.read_csv(gaia_dir)"
   ]
  },
  {
   "cell_type": "code",
   "execution_count": 10,
   "id": "1068aefd-1e41-40f5-b05b-8ff188e0edec",
   "metadata": {},
   "outputs": [
    {
     "name": "stdout",
     "output_type": "stream",
     "text": [
      "             source_id          ra  ra_error        dec  dec_error  parallax  \\\n",
      "0  4282338859504214528  282.785908  0.011250   5.648257   0.010881  0.932263   \n",
      "1  4089436927451879424  276.307287  0.015868 -23.559144   0.014007  0.480759   \n",
      "2  4282339611113854720  282.717639  0.018980   5.678589   0.018446  4.895652   \n",
      "3  4089436961811610752  276.261810  0.019102 -23.575342   0.016849  0.889500   \n",
      "4  4282339718497802368  282.693206  0.044804   5.676382   0.047415  0.220562   \n",
      "\n",
      "   parallax_error       pmra  pmra_error      pmdec  pmdec_error  \\\n",
      "0        0.012898   0.032933    0.013984  -3.393563     0.014206   \n",
      "1        0.016674  -1.294703    0.021944  -4.438685     0.016833   \n",
      "2        0.023608  12.920215    0.022806 -12.157485     0.020005   \n",
      "3        0.018416   2.852077    0.026938   2.816054     0.020369   \n",
      "4        0.056072  -2.776552    0.052576  -5.106474     0.047889   \n",
      "\n",
      "   dr2_radial_velocity  dr2_radial_velocity_error  \n",
      "0            17.328890                   0.455194  \n",
      "1            -4.846311                   0.431333  \n",
      "2           -17.226954                   0.598977  \n",
      "3            -9.293663                  14.794000  \n",
      "4           101.800800                   3.921371  \n"
     ]
    }
   ],
   "source": [
    "print(gaia.head())"
   ]
  },
  {
   "cell_type": "code",
   "execution_count": null,
   "id": "f2dd79ba-38e3-47c9-9eda-c0c4e5336167",
   "metadata": {},
   "outputs": [],
   "source": []
  }
 ],
 "metadata": {
  "kernelspec": {
   "display_name": "Python 3 (ipykernel)",
   "language": "python",
   "name": "python3"
  },
  "language_info": {
   "codemirror_mode": {
    "name": "ipython",
    "version": 3
   },
   "file_extension": ".py",
   "mimetype": "text/x-python",
   "name": "python",
   "nbconvert_exporter": "python",
   "pygments_lexer": "ipython3",
   "version": "3.9.7"
  }
 },
 "nbformat": 4,
 "nbformat_minor": 5
}
