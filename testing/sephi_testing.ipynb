{
 "cells": [
  {
   "cell_type": "code",
   "execution_count": 1,
   "id": "81b33c35-395f-4b11-aeb2-60981df0da70",
   "metadata": {},
   "outputs": [],
   "source": [
    "import numpy as np\n",
    "from astropy import units as u\n",
    "from astropy import constants as const\n",
    "import math as m"
   ]
  },
  {
   "cell_type": "code",
   "execution_count": 2,
   "id": "4a89b739-e5b5-4006-8ba0-e4a25181c3ed",
   "metadata": {},
   "outputs": [],
   "source": [
    "def likelihood_telluric(planet_mass, planet_radius, verbose):\n",
    "    \n",
    "    \"\"\"\n",
    "    planet_mass: units are converted to Earth masses\n",
    "    planet_radius: units are converted to Earth radii\n",
    "    verbose: \n",
    "    \"\"\"\n",
    "    \n",
    "    if(verbose):\n",
    "        print(\"Composition\")\n",
    "    \n",
    "    # Determining radius of a 100% MgSiO3 planet of the same mass\n",
    "    # Using result of 3rd-order polynomial fit to Table 1 in Zeng & Sasselov 2013\n",
    "    log10_MgSiO3_radius = np.poly1d( np.array([-0.0066252 , -0.02274424,  0.30285182,  0.02052977]))\n",
    "    MgSiO3_radius = 10.**(log10_MgSiO3_radius(planet_mass.to(u.Mearth).value))\n",
    "    #print(\"MgSi03 radius: \", MgSiO3_radius)\n",
    "   \n",
    "    # Determining radius of a 50% MgSiO3, 50% H2O planet of the same mass\n",
    "    # Using result of 3rd-order polynomial fit to Table 1 in Zeng & Sasselov 2013\n",
    "    log10_MgSiO3_H2O_radius = np.poly1d( np.array([-0.00637393, -0.01837899,  0.28980072,  0.10391018]))\n",
    "    MgSiO3_H2O_radius = 10.**(log10_MgSiO3_H2O_radius(planet_mass.to(u.Mearth).value)) # converted to Earth masses\n",
    "\n",
    "    sigma = (MgSiO3_H2O_radius - MgSiO3_radius) / 3.0\n",
    "    \n",
    "    #--------------------------\n",
    "    # Calculating likelihood\n",
    "\n",
    "    c1 = np.where(planet_radius.to(u.Rearth).value <= MgSiO3_radius) #condition 1\n",
    "    c2 = np.where(np.logical_and( planet_radius.to(u.Rearth).value > MgSiO3_radius, \\\n",
    "                                  planet_radius.to(u.Rearth).value <= MgSiO3_H2O_radius) ) #condition 2\n",
    "    \n",
    "    likelihood = np.zeros(planet_mass.size)  #initialising with zero likelihood   \n",
    "    if(c1[0].size>0):\n",
    "        likelihood[c1] = 1.0\n",
    "        print(\"c1: \", c1)\n",
    "    if(c2[0].size>0):\n",
    "        likelihood[c2] = np.exp( -0.5 * ( (planet_radius.to(u.Rearth).value[c2] - MgSiO3_radius[c2])/sigma[c2] )**2 )\n",
    "        print(\"c2: \", c2)\n",
    "    \n",
    "    if(verbose):\n",
    "        print(\"Sim 1: (Telluric planet) = \", likelihood, \"\\n\")\n",
    "\n",
    "    return likelihood"
   ]
  },
  {
   "cell_type": "code",
   "execution_count": 3,
   "id": "e091828b-1d87-42dc-b9a9-ee85f7fb758f",
   "metadata": {},
   "outputs": [],
   "source": [
    "#pl_mass = [3,400] * u.earthMass\n",
    "#pl_rad = [3,2] * u.earthRad\n",
    "\n",
    "#pl_mass = np.linspace(3,4,50)* u.earthMass\n",
    "#pl_mass = ( np.zeros(50) + 2 )* u.earthMass\n",
    "#pl_rad = np.linspace(2,3,50)* u.earthRad"
   ]
  },
  {
   "cell_type": "code",
   "execution_count": 18,
   "id": "365a3842-3d1f-4573-9e09-9ab64656e67a",
   "metadata": {},
   "outputs": [
    {
     "name": "stdout",
     "output_type": "stream",
     "text": [
      "planet_system_age:  [ 5.  4. 80.  7.] Gyr\n"
     ]
    }
   ],
   "source": [
    "pl_mass = [3,400, np.nan, 1] * u.earthMass\n",
    "pl_rad = [3,2, 10, 8] * u.earthRad\n",
    "T_eff_star = [4000, 10000, 5000, np.nan]*u.K\n",
    "L_star = [1,80, 2, np.nan]*u.L_sun\n",
    "planet_semi_major_axis = [2, 156, 8, 10]*u.AU\n",
    "stellar_mass = [1, 80, 7, 5] * u.solMass\n",
    "planet_system_age = [5, 4, 80, 7] * u.Gyr\n",
    "print(\"planet_system_age: \", planet_system_age)"
   ]
  },
  {
   "cell_type": "code",
   "execution_count": 5,
   "id": "381351e8-e216-48ff-b1da-5b9ca06948a6",
   "metadata": {},
   "outputs": [
    {
     "name": "stdout",
     "output_type": "stream",
     "text": [
      "Composition\n",
      "MgSi03 radius:  [3.51161318 0.                nan]\n",
      "c1:  (array([0]),)\n",
      "Sim 1: (Telluric planet) =  [1. 0. 0.] \n",
      "\n"
     ]
    },
    {
     "data": {
      "text/plain": [
       "array([1., 0., 0.])"
      ]
     },
     "execution_count": 5,
     "metadata": {},
     "output_type": "execute_result"
    }
   ],
   "source": [
    "likelihood_telluric(pl_mass, pl_rad, verbose=True)\n",
    "# TODO: this seems to be either 0 or 1"
   ]
  },
  {
   "cell_type": "code",
   "execution_count": 6,
   "id": "8df42da3-c2ab-4fd2-b616-2757c917559f",
   "metadata": {},
   "outputs": [
    {
     "name": "stdout",
     "output_type": "stream",
     "text": [
      "Composition\n",
      "MgSi03 radius:  [3.51161318 0.                nan]\n",
      "c1:  (array([0]),)\n",
      "Sim 1: (Telluric planet) =  [1. 0. 0.] \n",
      "\n"
     ]
    },
    {
     "data": {
      "text/plain": [
       "array([1., 0., 0.])"
      ]
     },
     "execution_count": 6,
     "metadata": {},
     "output_type": "execute_result"
    }
   ],
   "source": [
    "likelihood_telluric(pl_mass, pl_rad, verbose=True)"
   ]
  },
  {
   "cell_type": "code",
   "execution_count": 7,
   "id": "3c666645-e4f7-4c15-b376-aa078185d905",
   "metadata": {},
   "outputs": [],
   "source": [
    "#Function to determine likelihood that planet has an atmosphere.\n",
    "def likelihood_atmosphere(planet_mass, planet_radius, verbose):\n",
    "    \n",
    "    if(verbose):\n",
    "        print(\"Normalised physical characteristics\")\n",
    "    \n",
    "    #calculating the relative escape velocity of planet wrt Earth\n",
    "    v_e = (planet_mass.to(u.kg) * const.R_earth / (const.M_earth * planet_radius.to(u.m)) )**0.5\n",
    "    if(verbose):\n",
    "        print (\"escape velocity relative to Earth\",v_e)\n",
    "        \n",
    "    # calculating likelihood    \n",
    "    c1 = np.where(v_e.value < 1.0)  #condition 1\n",
    "    print(\"c1: \", c1)\n",
    "    c2 = np.where(v_e.value >= 1.0) #condition 2\n",
    "    print(\"c2: \", c2)\n",
    "\n",
    "    likelihood = np.zeros(planet_mass.size)  #initialising with zero likelihood  \n",
    "    print(likelihood)\n",
    "    if(c1[0].size>0):\n",
    "        likelihood[c1] = np.exp(-0.5*(3.*(v_e.value[c1]-1.))**2)\n",
    "    if(c2[0].size>0):\n",
    "        likelihood[c2] = np.exp(-0.5*(3.*(v_e.value[c2]-1.)/7.66)**2) # TODO: stopping at this line. Index to scalar\n",
    "    \n",
    "    if(verbose):\n",
    "        print(\"Sim 2: (Atmosphere) = \", likelihood, \"\\n\")\n",
    "    return likelihood"
   ]
  },
  {
   "cell_type": "code",
   "execution_count": 8,
   "id": "24c7f3b7-be66-4ded-b43c-5e5c0c511007",
   "metadata": {},
   "outputs": [
    {
     "name": "stdout",
     "output_type": "stream",
     "text": [
      "Normalised physical characteristics\n",
      "escape velocity relative to Earth [ 1.         14.14213562         nan]\n",
      "c1:  (array([], dtype=int64),)\n",
      "c2:  (array([0, 1]),)\n",
      "[0. 0. 0.]\n",
      "Sim 2: (Atmosphere) =  [1.00000000e+00 1.76728789e-06 0.00000000e+00] \n",
      "\n"
     ]
    },
    {
     "data": {
      "text/plain": [
       "array([1.00000000e+00, 1.76728789e-06, 0.00000000e+00])"
      ]
     },
     "execution_count": 8,
     "metadata": {},
     "output_type": "execute_result"
    }
   ],
   "source": [
    "likelihood_atmosphere(pl_mass, pl_rad, verbose=True)"
   ]
  },
  {
   "cell_type": "code",
   "execution_count": 9,
   "id": "06108471-0ada-44b4-abb6-adbd8485caaa",
   "metadata": {},
   "outputs": [],
   "source": [
    "#Function to determine likelihood that planet has an liquid water on surface.\n",
    "#Uses models in Kopparapu+13,ApJ,765,131 and Kopparapu+14,ApJL,787,29\n",
    "#Note: only works for stars with effective stellar temperatures of 2600K < T_eff <7200K,\n",
    "#corresponding to F,G,K,M stars.\n",
    "# SNL 3/8: At the moment the function deals 'correctly' with remnants, in that if \n",
    "# L_star = 0 and T_eff_star = nan, the function return a likelihood value = '0.'\n",
    "# However, the code produces warnings and errors, so in the future it would be \n",
    "# better to deal with this more elegantly. \n",
    "def likelihood_surface_liquid_water(T_eff_star, L_star, planet_mass, planet_semi_major_axis, verbose):\n",
    "\n",
    "    if(verbose):\n",
    "        print(\"Habitability\")\n",
    "    \n",
    "    possible_water = (L_star > 0.) & ~np.isinf(planet_semi_major_axis) # where the host star has non-zero luminosity and the planet is not free-floating\n",
    "\n",
    "    #Making sure the stellar effective temperature is in the correct range\n",
    "    if( np.any(T_eff_star[possible_water].value < 2600.) or np.any(T_eff_star[possible_water].value > 7200.) ):\n",
    "        # print(\"Warning: stellar effective temperature outside correct range of 2600K < T_eff <7200K. Truncating.\")\n",
    "        T_eff_star.value[np.where( np.logical_and(T_eff_star.value<2700., possible_water) )] = 2700.0 \n",
    "        T_eff_star.value[np.where( np.logical_and(T_eff_star.value>7200., possible_water) )] = 7200.0 \n",
    "        # return -1.0\n",
    "    \n",
    "    #Coefficient updates from Table 1 of Kopparapu+14,ApJL,787,29\n",
    "    #These are similar to Kopparapu+13,ApJ,765,131 but the runaway greenhouse depends on planet mass.\n",
    "    #To get coefficients: download HZs.f90 from Kop+14 electronic file associated with the paper, \n",
    "    #then compile and run that to generate HZs.dat and HZ_coefficients.dat. \n",
    "    #Coeffs copied here to avoid speed penalty in opening/reading from file\n",
    "    ##numbers: 1=recent venus,2=runaway greenhouse,3=max. greenhouse,4=early mars,5=run. ghouse (5Mearth), 6=run. ghouse (0.1Mearth)\n",
    "    \n",
    "    S_eff_sol=np.repeat(np.array([[1.77600E+00,1.10700E+00,3.56000E-01,3.20000E-01,1.18800E+00,9.90000E-01]]), T_eff_star.size, axis=0)\n",
    "    a=np.array([[2.13600E-04,1.33200E-04,6.17100E-05,5.54700E-05,1.43300E-04,1.20900E-04]])\n",
    "    b=np.array([[2.53300E-08,1.58000E-08,1.69800E-09,1.52600E-09,1.70700E-08,1.40400E-08]])\n",
    "    c=np.array([[-1.33200E-11,-8.30800E-12,-3.19800E-12,-2.87400E-12,-8.96800E-12,-7.41800E-12]])\n",
    "    d=np.array([[-3.09700E-15,-1.93100E-15,-5.57500E-16,-5.01100E-16,-2.08400E-15,-1.71300E-15]])\n",
    "    \n",
    "    # From Kopparapu. 5780K is the surface temp for sun They see how much cooler or hotter than the sun the star is\n",
    "    T_star_K = T_eff_star - 5780*u.K\n",
    "    T_star = np.reshape(T_star_K.value, (1,T_star_K.size))\n",
    "  \n",
    "    # Calculating the distance from the star for each of the boundaries. First the mass-independent ones\n",
    "    S_eff = S_eff_sol.T + np.dot(a.T,T_star) + np.dot(b.T,T_star**2) + np.dot(c.T,T_star**3) + np.dot(d.T,T_star**4)\n",
    "    D = (L_star.to(u.W)/const.L_sun/S_eff)**0.5 * u.au\n",
    "\n",
    "    #-------------------\n",
    "    # Calculating distance from star at which planet undergoes runaway greenhouse. In Kopparapu+14 this is planet-mass-dependent\n",
    "    # SNL: note the mass boundaries where the switch between different regimes occurs are not defined in SEPHI paper.\n",
    "    #      I've made the boundary roughly mid-range between the discrete masses but this may vary from the online calculator.\n",
    " \n",
    "    c1 = np.where( (planet_mass.value<0.5) & possible_water)\n",
    "    c2 = np.where( (planet_mass.value>2.) & possible_water)\n",
    "    c3 = np.where( np.logical_and(planet_mass.value>=0.5, planet_mass.value <=2.) & possible_water)\n",
    "    \n",
    "    D_RG = np.zeros(planet_mass.size)*u.au\n",
    "    if(c1[0].size>0):\n",
    "        D_RG[c1] = D[5,c1]; #print (c1[0].size, \"Planet mass <0.5Msun\")\n",
    "    if(c2[0].size>0):\n",
    "        D_RG[c2] = D[4,c2]; #print (c2[0].size, \"Planet mass >2Msun\")\n",
    "    if(c3[0].size>0):\n",
    "        D_RG[c3] = D[1,c3]; #print (c3[0].size, \"Planet mass 0.5 - 2 Msun\")\n",
    "    \n",
    "    # Checking distances make sense, i.e. D1<D_RG<D3<D4\n",
    "    # Note, these distances get screwed up if the temperature is outside the 2700K < T < 7200K range\n",
    "    # if not ( np.all(D[0,:]<D_RG) and np.all(D_RG<D[2,:]) and np.all(D[2,:]<D[3,:])):\n",
    "    #     print(\"Distance calculations incorrect, because temperature outside correct range of 2600K < T_eff <7200K\")\n",
    "        #return -1.\n",
    " \n",
    "    if(verbose):\n",
    "        print(\"Green Zone Inner Radius = \", D_RG)\n",
    "    if(verbose):\n",
    "        print(\"Green Zone Outer Radius = \", D[2,:])\n",
    "    if(verbose):\n",
    "        print(\"Incident Effective Flux = \", S_eff)\n",
    "    \n",
    "    #-------------------\n",
    "    # Determining the likelihood\n",
    "        \n",
    "    likelihood = np.zeros(planet_mass.size)  #initialising with zero likelihood \n",
    "        \n",
    "    c4 = np.where( (planet_semi_major_axis < D_RG) & possible_water)\n",
    "    c5 = np.where( np.logical_and(planet_semi_major_axis >= D_RG, planet_semi_major_axis <= D[2,:]) & possible_water)\n",
    "    c6 = np.where( (planet_semi_major_axis > D[2,:]) & possible_water)\n",
    " \n",
    "    if(c4[0].size>0): \n",
    "        sigma_31=(D_RG-D[0,:])/3.0   \n",
    "        likelihood[c4]=np.exp(-0.5*((planet_semi_major_axis[c4] - D_RG[c4])/sigma_31[c4])**2)\n",
    "        if(verbose):\n",
    "            print(\"Zone = Hot\")\n",
    "        \n",
    "    if(c5[0].size>0): \n",
    "        likelihood[c5] = 1.0\n",
    "        if(verbose):\n",
    "            print(\"Zone = Green\")\n",
    "    \n",
    "    if(c6[0].size>0): \n",
    "        sigma_32=(D[3,:]-D[2,:])/3.0 \n",
    "        likelihood[c6]=np.exp(-0.5*((planet_semi_major_axis[c6] - D[2,c6])/sigma_32[c6])**2)\n",
    "        if(verbose):\n",
    "            print(\"Zone = Cold\")\n",
    " \n",
    "    if(verbose):\n",
    "        print(\"Sim 3: (Liquid Water) = \", likelihood, \"\\n\")\n",
    "\n",
    "    return likelihood"
   ]
  },
  {
   "cell_type": "code",
   "execution_count": 10,
   "id": "9ff88162-0a18-46c5-ba58-7625bb3268e9",
   "metadata": {},
   "outputs": [
    {
     "name": "stdout",
     "output_type": "stream",
     "text": [
      "Habitability\n",
      "Green Zone Inner Radius =  [0.99176919 7.58164846 0.        ] AU\n",
      "Green Zone Outer Radius =  [ 1.94633781 13.55148336  2.53914052] AU\n",
      "Incident Effective Flux =  [[1.52007903 2.07965642 1.62997745]\n",
      " [0.94743494 1.29636373 1.01594454]\n",
      " [0.26397546 0.43562853 0.31021052]\n",
      " [0.2372766  0.39157793 0.2788402 ]\n",
      " [1.01666711 1.39175471 1.09009578]\n",
      " [0.84392162 1.16178355 0.90712609]]\n",
      "Zone = Cold\n",
      "Sim 3: (Liquid Water) =  [0.31960473 0.         0.        ] \n",
      "\n"
     ]
    },
    {
     "data": {
      "text/plain": [
       "array([0.31960473, 0.        , 0.        ])"
      ]
     },
     "execution_count": 10,
     "metadata": {},
     "output_type": "execute_result"
    }
   ],
   "source": [
    "likelihood_surface_liquid_water(T_eff_star, L_star, pl_mass, planet_semi_major_axis, verbose=True)"
   ]
  },
  {
   "cell_type": "code",
   "execution_count": 11,
   "id": "c94d3604-df8a-46a5-a287-caf71cb0bde7",
   "metadata": {},
   "outputs": [],
   "source": [
    "#Function to determine the likelihood that a planet has a magnetic moment similar to the Earth.\n",
    "def likelihood_magnetic_moment(stellar_mass, planet_semi_major_axis, planet_system_age, planet_radius, planet_mass, verbose):\n",
    "    \n",
    "    if(verbose):\n",
    "        print(\"Normalised Magnetic Field\")\n",
    "    \n",
    "    #---------------------------\n",
    "    #Pre-amble preparation\n",
    "    \n",
    "    #Adding mass and radius of Neptune and Jupiter which are needed in defining planet types\n",
    "    neptune_radius = 24622000 * u.m; neptune_mass   = 1.02413E26 * u.kg\n",
    "    jupiter_radius = 71492000 * u.m; jupiter_mass   = 1.8982E27 * u.kg\n",
    "    \n",
    "    #calculating density ratio of planet with solar system objects as this is needed several times\n",
    "    planet_density_ratio_Earth   = (planet_mass.to(u.kg) * const.R_earth**3/planet_radius.to(u.m)**3/const.M_earth)\n",
    "    planet_density_ratio_Jupiter = (planet_mass.to(u.kg) * jupiter_radius **3/planet_radius.to(u.m)**3/jupiter_mass)\n",
    "    planet_density_ratio_Neptune = (planet_mass.to(u.kg) * neptune_radius **3/planet_radius.to(u.m)**3/neptune_mass)\n",
    "    \n",
    "    #---------------------------\n",
    "    #Determining whether the planet tidally locked. Using Eq 1 from \n",
    "    #Griessmeier+09, Icarus,199,526 to determine how long it takes a planet of given \n",
    "    #structure and radius from host star of given mass to become tidally locked.\n",
    "    #There are *many* assumptions and simplifications that go into this.\n",
    "    #However, from the discussion in G+09, many of the factors are not expected to vary \n",
    "    #by more than factors of a few for reasonable exoplanet properties.\n",
    "    #The tidal locking timescale is dominated primarily by the star-planet distance (^6) and \n",
    "    #secondly the star-planet mass ratio (^2)\n",
    "    #3 fiducial cases: 1. Earth, 2.\"small & big super Earth\" (6M_E, 1.63R_E & 10M_E, 1.86R_E), 3. \"Ocean planet\" (6M_E, 2R_E) \n",
    "    \n",
    "    #Determining factors of order unity\n",
    "    alpha_G07 = 1./3. #structure of planet. Assume planet structure similar to Earth.\n",
    "    omega_final = 0.0 / u.s #ignore final angular velocity of the planet (\"can be neglected...for the planets of interest in this work\")\n",
    "    #omega_initial_upper = 1.8 #upper value of initial angular velocity (based on early Earth-moon system, day length = 13.1 hours).\n",
    "    #omega_initial_lower = 0.8 #lower value of initial angular velocity (day length = 30 hours).\n",
    "    omega_initial = 1.0 / u.s #SNL: taking rough average between upper and lower values. Can therefore ignore from tau_synch calculation below.\n",
    "\n",
    "    #Calculating the tidal dissipation factor\n",
    "    k_2_p = 0.3     #Apparently this is suitable for Earth, \"small super Earth\", and \"ocean planet\" cases (need to check relevance of those for our work) \n",
    "    Q_P_Earth = 12  #planetary tidal dissipation factor for Earth (was larger in the past but Earth's shallow sees dissipataed energy. Was high when single continent)\n",
    "    Q_P_other = 100 #planetary tidal dissipation factor for both the super Earths and Ocean planet\n",
    "    Q_P_prime_Earth = (3. * Q_P_Earth)/(2.*k_2_p) #modified Q value for Earth\n",
    "    Q_P_prime_other = (3. * Q_P_other)/(2.*k_2_p) #modified Q value for super Earths and ocean world\n",
    "    \n",
    "    #First step of calculating tidal synchronisation time (how long till a planet gets tidally locked)\n",
    "    tau_synch = (4./9.) * alpha_G07 * (planet_radius.to(u.m)**3/const.G/planet_mass.to(u.kg)) \\\n",
    "                 * (omega_initial - omega_final) \\\n",
    "                 * (planet_mass.to(u.kg)/stellar_mass.to(u.kg))**2 \\\n",
    "                 * (planet_semi_major_axis.to(u.m)/planet_radius.to(u.m))**6\n",
    "    print(\"tau_synch: \", tau_synch)\n",
    "    \n",
    "    #Next step: determining whether to use Earth-like, or \"other\" (super-Earth/Ocean) tidal dissipation factor\n",
    "    c1 = np.where(  np.logical_and(planet_mass.to(u.kg) < 2.0 * const.M_earth, planet_radius.to(u.m) < 1.5 * const.R_earth))\n",
    "    c2 = np.where(~(np.logical_and(planet_mass.to(u.kg) < 2.0 * const.M_earth, planet_radius.to(u.m) < 1.5 * const.R_earth)))\n",
    "  \n",
    "    if(c1[0].size>0):\n",
    "        tau_synch[c1] *=  Q_P_prime_Earth\n",
    "    if(c2[0].size>0):\n",
    "        tau_synch[c2] *=  Q_P_prime_other\n",
    "\n",
    "    #------------------------------\n",
    "    #Now determining the magnetic moment ratio between the planet and Earth that\n",
    "    #is used in the likelihood calculation. The ratio depends on whether the \n",
    "    #planet is tidally locked, and how its radius and density compare to \n",
    "    #terrestrial-like, ice giant and gas giant planets.\n",
    "    \n",
    "    # Determining conditions if planets tidally locked and density ranges wrt solar system planets\n",
    "    print(\"tau_synch2: \", tau_synch)\n",
    "    print(\"planet_system_age2 :\", planet_system_age)\n",
    "    tidally_locked     = tau_synch.to(u.Gyr) < planet_system_age.to(u.Gyr) #TODO: here is is trying to convert planet_system_age from solMass to Gyr\n",
    "    earth_like_density = planet_density_ratio_Earth >= 1.0\n",
    "    ice_giant_density  = np.logical_and(planet_density_ratio_Earth < 1.0, planet_density_ratio_Earth > 0.18)\n",
    "    neptune_density    = np.logical_and(planet_density_ratio_Earth <=0.18, planet_density_ratio_Earth >0.16) \n",
    "    jupiter_density    = planet_density_ratio_Earth <=0.16 \n",
    "    \n",
    "    c3 = np.where(tidally_locked)\n",
    "    c4 = np.where(np.logical_and(~tidally_locked, earth_like_density))\n",
    "    c5 = np.where(np.logical_and(~tidally_locked, ice_giant_density))\n",
    "    c6 = np.where(np.logical_and(~tidally_locked, neptune_density))\n",
    "    c7 = np.where(np.logical_and(~tidally_locked, jupiter_density))\n",
    "        \n",
    "    mag_moment_ratio = np.zeros(planet_mass.size) #initialising magnetic moment ratio array\n",
    "  \n",
    "    # ---------------------------\n",
    "    # Planet tidally locked: use Eq7 in Rodriguez-Mozoz & Moya (2017) (originally from Sano93)\n",
    "    if(c3[0].size>0):\n",
    "        \n",
    "        if(verbose):\n",
    "            print(\"Planet rotation = locked\")\n",
    "        \n",
    "        #SNL: need to assume something about angular frequency ratio of planet with that of Earth. Assume omega ratio = 1.\n",
    "        omega_ratio = 1.0\n",
    "        mag_moment_ratio[c3] = planet_density_ratio_Earth[c3]**0.5 \\\n",
    "                                 * (planet_radius.to(u.m)[c3]/const.R_earth)**(7./2.) \\\n",
    "                                     * omega_ratio \n",
    "                                     \n",
    "    else: \n",
    "        if(verbose):\n",
    "            print(\"Planet rotation = Free\")  \n",
    "                               \n",
    "    # ---------------------------\n",
    "    # Planet not tidally locked: use Eq 9 & 10 and Table 3 from Rodriguez-Mozoz & Moya (2017)     \n",
    "    \n",
    "    # Calculations below require knowing nature of dynamo (multipolar, internally heated, dipolar) to determine alpha_SOC: \n",
    "    #  - based on Olson & Christensen, 2006, Earth & Planet Science Letters, 250, 561\n",
    "    #  - These required obs pars are difficult/unknown even for SS objects -> now way can know these for exoplanets\n",
    "    #  - Pragmatic solution = use the discussion in section 6 and Figure 7 to determine a planet's SOC by similarity with SS objects\n",
    "    #       - Earth & Jupiter like = bipolor (alpha_SOC=1.0)\n",
    "    #       - Neptune-like & between Earth and ice giant = internally heated dynamo (alpha_SOC=0.15)\n",
    "                       \n",
    "    if(c4[0].size>0):                                  # Earth-like  \n",
    "        if(verbose):\n",
    "            print(\"Planet density = Earth-like \\nEstimated regime = Dipolar\") \n",
    "        alpha_SOC = 1.0 # dipolar        \n",
    "        beta_1 = planet_radius.to(u.m)/const.R_earth\n",
    "        mag_moment_ratio[c4] = alpha_SOC * beta_1[c4]**(10./3.) * beta_1[c4]**(1./3.)\n",
    "        \n",
    "    \n",
    "    if(c5[0].size>0):                                 # Between telluric and ice giant\n",
    "        if(verbose):\n",
    "            print(\"Planet density = Between telluric and ice giant \\nEstimated regime = Internally heated dynamo\") \n",
    "        alpha_SOC = 0.15 # internally heated dynamo\n",
    "        beta_1 = planet_radius.to(u.m)/const.R_earth\n",
    "        mag_moment_ratio[c5] = alpha_SOC * 0.45**0.5 * (1.8 * beta_1[c5])**(10./3.) * (4.*beta_1[c5])**(1./3.)\n",
    "               \n",
    "    if(c6[0].size>0):                                 # Neptune-like ice giant\n",
    "        if(verbose):\n",
    "            print(\"Planet density = Neptune-like \\nEstimated regime = Internally heated dynamo\") \n",
    "        alpha_SOC = 0.15 # internally heated dynamo\n",
    "        beta_1 = planet_radius.to(u.m)/neptune_radius\n",
    "        mag_moment_ratio[c6] = alpha_SOC * 0.18**0.5 * (4.5 * beta_1[c6])**(10./3.) * (20.*beta_1[c6])**(1./3.)\n",
    "   \n",
    "    if(c7[0].size>0):                                 # Jupiter-like gas giant\n",
    "        if(verbose):\n",
    "            print(\"Planet density = Jupiter-like \\nEstimated regime = Dipolar\") \n",
    "        alpha_SOC = 1.0 # dipolar \n",
    "        beta_1 = planet_radius.to(u.m)/jupiter_radius\n",
    "        beta_2 = planet_density_ratio_Jupiter\n",
    "        mag_moment_ratio[c7] = alpha_SOC * 0.16**0.5 * (16.*beta_1[c7]*beta_2[c7])**(10./3.) * (100.*beta_1[c7]*beta_2[c7])**(1./3.)\n",
    "  \n",
    "    #-------------------------------\n",
    "    #Finally, calculating and returning likelihood\n",
    "    #If magnetic moment ratio > 1.0, planet has stronger magnetic field than Earth so is protected: likelihood = 1.0.\n",
    "    #If magnetic moment ratio < 1.0, planet has weaker magnetic field, so likelihood drops         \n",
    "    \n",
    "    if(verbose):\n",
    "        print(\"magnetic moment ratio = \", mag_moment_ratio)\n",
    "    c8 = np.where(mag_moment_ratio < 1.0)    \n",
    "        \n",
    "    likelihood = np.ones(planet_mass.size)\n",
    "    if(c8[0].size>0):\n",
    "        likelihood[c8] = np.exp(-0.5*( 3.*(mag_moment_ratio[c8]-1.0))**2 ) \n",
    "\n",
    "    if(verbose):\n",
    "        print(\"Sim 4: (Magnetic Field) = \", likelihood, \"\\n\")\n",
    "\n",
    "    return likelihood"
   ]
  },
  {
   "cell_type": "code",
   "execution_count": 12,
   "id": "19dd8a8c-8a8b-44ca-8af0-0d1da3f93d0c",
   "metadata": {},
   "outputs": [
    {
     "name": "stdout",
     "output_type": "stream",
     "text": [
      "Normalised Magnetic Field\n",
      "tau_synch:  [1.02997493e+21 1.63089804e+31            nan] s\n",
      "tau_synch2:  [5.14987465e+23 8.15449018e+33            nan] s\n",
      "planet_system_age2 : [ 5.  4. 80.] Gyr\n",
      "Planet rotation = Free\n",
      "Planet density = Earth-like \n",
      "Estimated regime = Dipolar\n",
      "Planet density = Jupiter-like \n",
      "Estimated regime = Dipolar\n",
      "magnetic moment ratio =  [11.35177312 12.69920842  0.        ]\n",
      "Sim 4: (Magnetic Field) =  [1.       1.       0.011109] \n",
      "\n"
     ]
    },
    {
     "data": {
      "text/plain": [
       "array([1.      , 1.      , 0.011109])"
      ]
     },
     "execution_count": 12,
     "metadata": {},
     "output_type": "execute_result"
    }
   ],
   "source": [
    "likelihood_magnetic_moment(stellar_mass, planet_semi_major_axis, planet_system_age, pl_rad, pl_mass, verbose=True)"
   ]
  },
  {
   "cell_type": "code",
   "execution_count": 13,
   "id": "b55d0e1a-476d-44d1-bf37-fb5c42f4c8e3",
   "metadata": {},
   "outputs": [],
   "source": [
    "def get_sephi_RM17(planet_mass, planet_radius, planet_semi_major_axis, T_eff_star, L_star, stellar_mass, planet_system_age, verbose=False):\n",
    "    \"\"\"\n",
    "    The inputs should be the already collated 'best' values'\n",
    "    planet_mass: array of planet masses. Any units, with units included in array\n",
    "    planet_radius: array of planet radii. Any units, with units included in array\n",
    "    planet_semi_major_axis: array, any distance units\n",
    "    T_eff_star: array, any temp units\n",
    "    L_star: array, any units\n",
    "    stelalr_mass: array, any mass units\n",
    "    \n",
    "    NB: this function assumes that the arrays are the same length and that indicies correspond to prioperties of the same planet\n",
    "    \"\"\"\n",
    "    \n",
    "    #verbose = True\n",
    "    \n",
    "    # Condition 1: stores the indicies where at least one of the necessary planet/stellar properties is NaN\n",
    "    # TODO: wheck whether this works with multiple NaN properties\n",
    "    c1 = np.where(np.isnan(planet_mass.value) | np.isnan(planet_radius.value) | np.isnan(planet_semi_major_axis.value) | np.isnan(T_eff_star.value) | np.isnan(L_star.value) | np.isnan(planet_system_age.value) )\n",
    "    print(\"c1: \", c1)\n",
    "    \n",
    "    # Condition 2: stores the indicies where all planet/stellar properties are available\n",
    "    c2 = np.where(np.isfinite(planet_mass.value) & np.isfinite(planet_radius.value) & np.isfinite(planet_semi_major_axis.value) & np.isfinite(T_eff_star.value) & np.isfinite(L_star.value) & np.isfinite(planet_system_age.value) )\n",
    "    print(\"c2: \", c2)\n",
    "    \n",
    "    # Empty arrays to store each likelihood:\n",
    "    likelihood_1 = np.zeros(planet_mass.size) # Empty array to store likelihood telluric\n",
    "    print(\"Likelihood 1 shape: \", likelihood_1.shape)\n",
    "    print(\"Likelihood 1: \", likelihood_1)\n",
    "    likelihood_2 = np.zeros(planet_mass.size) # Empty array to store likelihood atmosphere\n",
    "    likelihood_3 = np.zeros(planet_mass.size) # Empty array to store likelihood surface liquid water\n",
    "    likelihood_4 = np.zeros(planet_mass.size) # Empty array to store likelihood magnetic moment\n",
    "    \n",
    "    # Empty array to store the combined likelihoods (SEPHIs):\n",
    "    combined = np.zeros(planet_mass.size) \n",
    "    \n",
    "    # If there is at least one NaN value, then the likelihoods and combined likelihood is NaN; SEPHI cannot be calculated when parameters are missing:\n",
    "    if(c1[0].size>0):\n",
    "        likelihood_1[c1] = np.nan\n",
    "        likelihood_2[c1] = np.nan\n",
    "        likelihood_3[c1] = np.nan\n",
    "        likelihood_4[c1] = np.nan\n",
    "        combined[c1] = np.nan\n",
    "        \n",
    "    # If there is at least one planet with all planetary/stellar parameters available, calculate each likelihood and the combined likelihood (SEPHI):\n",
    "    if(c2[0].size>0):\n",
    "        #Determine likelihoods at 4 different stages:\n",
    "        likelihood_1[c2] = likelihood_telluric(planet_mass[c2], planet_radius[c2], verbose)\n",
    "        likelihood_2[c2] = likelihood_atmosphere(planet_mass[c2], planet_radius[c2], verbose)\n",
    "        likelihood_3[c2] = likelihood_surface_liquid_water(T_eff_star[c2], L_star[c2], planet_mass[c2],  planet_semi_major_axis[c2], verbose)\n",
    "        likelihood_4[c2] = likelihood_magnetic_moment(stellar_mass[c2], planet_semi_major_axis[c2], planet_system_age[c2], planet_radius[c2], planet_mass[c2], verbose)\n",
    "        # Determine SEPHI as geometric mean of the 4 different likelihoods:\n",
    "        combined[c2] = (likelihood_1[c2] * likelihood_2[c2] * likelihood_3[c2] * likelihood_4[c2])**(1./4.) \n",
    "\n",
    "    if(verbose):\n",
    "        print(\"Combined likelihood: = \", combined, \"\\n\" )\n",
    "        \n",
    "    return combined"
   ]
  },
  {
   "cell_type": "code",
   "execution_count": 14,
   "id": "9b0ab69f-e023-48ff-9df6-9dfc10d7f584",
   "metadata": {},
   "outputs": [
    {
     "name": "stdout",
     "output_type": "stream",
     "text": [
      "[[2]]\n",
      "(array([2]),)\n"
     ]
    }
   ],
   "source": [
    "print(np.argwhere(np.isnan(pl_mass.value))) # np.argwhere() crea\\tes a matrix?\n",
    "print(np.where(np.isnan(pl_mass.value))) # np.where() creates an array"
   ]
  },
  {
   "cell_type": "code",
   "execution_count": 19,
   "id": "5d0cdba7-7036-4f95-b66c-80b998b8115d",
   "metadata": {},
   "outputs": [
    {
     "name": "stdout",
     "output_type": "stream",
     "text": [
      "c1:  (array([2, 3]),)\n",
      "c2:  (array([0, 1]),)\n",
      "Likelihood 1 shape:  (4,)\n",
      "Likelihood 1:  [0. 0. 0. 0.]\n",
      "Composition\n",
      "MgSi03 radius:  [3.51161318 0.        ]\n",
      "c1:  (array([0]),)\n",
      "Sim 1: (Telluric planet) =  [1. 0.] \n",
      "\n",
      "Normalised physical characteristics\n",
      "escape velocity relative to Earth [ 1.         14.14213562]\n",
      "c1:  (array([], dtype=int64),)\n",
      "c2:  (array([0, 1]),)\n",
      "[0. 0.]\n",
      "Sim 2: (Atmosphere) =  [1.00000000e+00 1.76728789e-06] \n",
      "\n",
      "Habitability\n",
      "Green Zone Inner Radius =  [0.99176919 7.58164846] AU\n",
      "Green Zone Outer Radius =  [ 1.94633781 13.55148336] AU\n",
      "Incident Effective Flux =  [[1.52007903 2.07965642]\n",
      " [0.94743494 1.29636373]\n",
      " [0.26397546 0.43562853]\n",
      " [0.2372766  0.39157793]\n",
      " [1.01666711 1.39175471]\n",
      " [0.84392162 1.16178355]]\n",
      "Zone = Cold\n",
      "Sim 3: (Liquid Water) =  [0.31960473 0.        ] \n",
      "\n",
      "Normalised Magnetic Field\n",
      "tau_synch:  [1.02997493e+21 1.63089804e+31] s\n",
      "tau_synch2:  [5.14987465e+23 8.15449018e+33] s\n",
      "planet_system_age2 : [5. 4.] Gyr\n",
      "Planet rotation = Free\n",
      "Planet density = Earth-like \n",
      "Estimated regime = Dipolar\n",
      "Planet density = Jupiter-like \n",
      "Estimated regime = Dipolar\n",
      "magnetic moment ratio =  [11.35177312 12.69920842]\n",
      "Sim 4: (Magnetic Field) =  [1. 1.] \n",
      "\n",
      "Combined liklihood: =  [0.75188825 0.                nan        nan] \n",
      "\n"
     ]
    },
    {
     "data": {
      "text/plain": [
       "array([0.75188825, 0.        ,        nan,        nan])"
      ]
     },
     "execution_count": 19,
     "metadata": {},
     "output_type": "execute_result"
    }
   ],
   "source": [
    "get_sephi_RM17(pl_mass, pl_rad, planet_semi_major_axis, T_eff_star, L_star, stellar_mass, planet_system_age, verbose=True)\n",
    "#get_sephi_RM17(planet_mass, planet_radius, planet_semi_major_axis, T_eff_star, L_star, stellar_mass, planet_system_age, verbose=True:"
   ]
  },
  {
   "cell_type": "code",
   "execution_count": 16,
   "id": "86a1b3e5-180d-417d-8103-a3de331fee8e",
   "metadata": {},
   "outputs": [],
   "source": [
    "#from preprocessing.calc_sephi import get_sephi_RM17\n",
    "#get_sephi_RM17(pl_mass, pl_rad, planet_semi_major_axis, T_eff_star, L_star, stellar_mass, planet_system_age)"
   ]
  },
  {
   "cell_type": "code",
   "execution_count": null,
   "id": "00ef6c6f-dad1-4609-ae2e-b807e68f6859",
   "metadata": {},
   "outputs": [],
   "source": []
  }
 ],
 "metadata": {
  "kernelspec": {
   "display_name": "Python 3 (ipykernel)",
   "language": "python",
   "name": "python3"
  },
  "language_info": {
   "codemirror_mode": {
    "name": "ipython",
    "version": 3
   },
   "file_extension": ".py",
   "mimetype": "text/x-python",
   "name": "python",
   "nbconvert_exporter": "python",
   "pygments_lexer": "ipython3",
   "version": "3.9.7"
  }
 },
 "nbformat": 4,
 "nbformat_minor": 5
}
