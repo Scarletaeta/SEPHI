{
 "cells": [
  {
   "cell_type": "code",
   "execution_count": 1,
   "id": "9c51f22c-e0d3-4789-a7ea-01f1deb1c848",
   "metadata": {},
   "outputs": [],
   "source": [
    "# This most of this should be deleted once GDR2_processing and NASAEA_processing are working\n",
    "# All crossmatching should be done in this file, minimal pre-crossmatch processing\n",
    "\n",
    "import numpy as np\n",
    "import pandas as pd\n",
    "\n",
    "from os import path\n",
    "\n",
    "import astropy.table #import tables\n",
    "from astropy import units as u\n",
    "from astropy import constants as const\n",
    "\n",
    "from preprocessing.calc_stellar_params import calc_luminosity, calc_temp\n",
    "from preprocessing.analyse_errs import classify_err"
   ]
  },
  {
   "cell_type": "code",
   "execution_count": 2,
   "id": "72378c7e-7845-4dcd-b54a-972c62fc7bd3",
   "metadata": {},
   "outputs": [],
   "source": [
    "# Exoplanet directory:\n",
    "NASAEA_dir = \"~/Scarlett/OneDrive - Liverpool John Moores University/SEPHI_data/NASA_EA_2022_02_09.csv\"\n",
    "#NASAEA_dir = \"~/OneDrive/SEPHI_data/NASA_EA_2022_02_09.csv\"\n",
    "header_length = 116\n",
    "\n",
    "# Exoplanet hostnames from NASA EA directory:\n",
    "host_names_dir = \"~/Scarlett/OneDrive - Liverpool John Moores University/SEPHI_data/host_names.csv\"\n",
    "source_ids_dir = \"~/Scarlett/OneDrive - Liverpool John Moores University/SEPHI_data/source_ids.csv\"\n",
    "\n",
    "data_dir = \"~/Scarlett/OneDrive - Liverpool John Moores University/SEPHI_data/\"\n",
    "\n",
    "# GAIA DR2 directory:\n",
    "dr2_directory = \"~/Scarlett/OneDrive - Liverpool John Moores University/SEPHI_data/dr2-result.csv\"\n",
    "#dr2_directory = \"~/OneDrive/SEPHI_data/dr2-result.csv\"\n",
    "\n",
    "# CKS directories:\n",
    "CKS_stars_dir = \"~/Scarlett/OneDrive - Liverpool John Moores University/SEPHI_data/CKSII_2017_stars.tsv\"\n",
    "#CKS_stars_dir = \"~/OneDrive/SEPHI_data/CKSII_2017_stars.tsv\"\n",
    "CKS_col_start = 100 # the row where containing the colum headers\n",
    "# The length of the header in the exoplanets csv file:"
   ]
  },
  {
   "cell_type": "code",
   "execution_count": 3,
   "id": "d9f1e2ce-6b58-4cc6-ae68-6c428f65fb7a",
   "metadata": {},
   "outputs": [
    {
     "name": "stdout",
     "output_type": "stream",
     "text": [
      "4734\n"
     ]
    }
   ],
   "source": [
    "# Read NASA EA exoplanets data:\n",
    "exoplanets = pd.read_csv(NASAEA_dir, skiprows=header_length, \n",
    "                         usecols=[\"pl_name\", \"hostname\", \"gaia_id\", \"sy_snum\", \"sy_pnum\", \"discoverymethod\", \"pl_orbper\", \"pl_orbsmax\", \"pl_rade\", \"pl_bmasse\", \"pl_dens\", \"pl_orbeccen\", \"pl_eqt\", \"pl_orbincl\", \"st_teff\", \"st_tefferr1\", \"st_tefferr2\", \"st_rad\", \"st_raderr1\", \"st_raderr2\", \"st_mass\", \"st_met\", \"st_lum\", \"st_lumerr1\", \"st_lumerr2\", \"st_logg\", \"st_age\", \"st_ageerr1\", \"st_ageerr2\", \"sy_dist\", \"sy_plx\", \"sy_gaiamag\"])\n",
    "# pl_orbper = orbital period [days]\n",
    "# pl_orbsmax = orbit semi-major axis [au]\n",
    "\n",
    "# Get rid of exoplanets whose star's haven't been observed by Gaia\n",
    "exoplanets.dropna(subset=[\"gaia_id\"], inplace=True)\n",
    "\n",
    "# The gaia_id in exoplanets is called the 'designation' in Gaia tables, so rename it:\n",
    "# The designation is the Gaia + space + DR + no. + space + Gaia source_id\n",
    "# e.g. Gaia DR2 3946945413106333696\n",
    "exoplanets.rename(columns={ \"gaia_id\": \"designation\" }, inplace=True )\n",
    "\n",
    "# Add a new column called 'source_id' which is listed in Gaia tables\n",
    "# The source_id is the number in the designation, e.g. 3946945413106333696\n",
    "exoplanets[\"source_id\"] = exoplanets[\"designation\"].str.rsplit(\" \", n=1, expand=True)[1].astype(\"int64\")\n",
    "\n",
    "# Remove the space in 'hostname' (e.g. 11 Com -> 11Com):\n",
    "#exoplanets[\"hostname\"] = exoplanets[\"hostname\"].str.replace(\" \", \"\")\n",
    "\n",
    "print(exoplanets.shape[0])"
   ]
  },
  {
   "cell_type": "code",
   "execution_count": 4,
   "id": "8e8b5291-bcc9-4f6f-bd47-ebcb8ba83718",
   "metadata": {},
   "outputs": [],
   "source": [
    "# Create a csv containing the designations:\n",
    "exoplanets[[\"designation\"]].to_csv(path.join(data_dir, f\"designations.csv\"), index=False)\n",
    "\n",
    "# I used the designations to serch dr2 for stars in the NASA EA"
   ]
  },
  {
   "cell_type": "code",
   "execution_count": 5,
   "id": "9ca5b5c7-ee38-488f-ab65-8dc8c5c11a9b",
   "metadata": {},
   "outputs": [],
   "source": [
    "dr2 = pd.read_csv(path.join(data_dir, f\"dr2-all-exo-hosts2-result.csv\"), usecols=[\"designation\", \"source_id\", \"teff_val\", \"teff_percentile_lower\", \"teff_percentile_upper\", \"radius_val\", \"radius_percentile_lower\", \"radius_percentile_upper\", \n",
    "                                          \"lum_val\", \"lum_percentile_lower\", \"lum_percentile_upper\"])\n"
   ]
  },
  {
   "cell_type": "code",
   "execution_count": 6,
   "id": "43946857-69bb-44ed-a6f4-c98eec81d79b",
   "metadata": {},
   "outputs": [
    {
     "name": "stdout",
     "output_type": "stream",
     "text": [
      "                     designation            source_id   teff_val  \\\n",
      "0   Gaia DR2 3946945413106333696  3946945413106333696  4755.0000   \n",
      "1   Gaia DR2 1696798367260229376  1696798367260229376  4248.7000   \n",
      "2   Gaia DR2 1920113512486282240  1920113512486282240  4740.0000   \n",
      "3   Gaia DR2 1385293808145621504  1385293808145621504  5282.0000   \n",
      "4   Gaia DR2 2135550755683407232  2135550755683407232  5777.2500   \n",
      "..                           ...                  ...        ...   \n",
      "95  Gaia DR2 3107471240241980800  3107471240241980800        NaN   \n",
      "96  Gaia DR2 3107471240236703104  3107471240236703104  5031.7354   \n",
      "97  Gaia DR2 4285572454497223296  4285572454497223296        NaN   \n",
      "98  Gaia DR2 4285572454508521600  4285572454508521600        NaN   \n",
      "99  Gaia DR2 4285572454508522496  4285572454508522496  5245.5234   \n",
      "\n",
      "    teff_percentile_lower  teff_percentile_upper  radius_val  \\\n",
      "0               4680.0000              5067.0000   17.181000   \n",
      "1               4139.0000              4510.7600   30.262005   \n",
      "2               4681.1000              4846.5000   11.147492   \n",
      "3               5209.3335              5533.0000    1.003684   \n",
      "4               5696.5000              5890.0000    1.119800   \n",
      "..                    ...                    ...         ...   \n",
      "95                    NaN                    NaN         NaN   \n",
      "96              4874.2534              5199.4100         NaN   \n",
      "97                    NaN                    NaN         NaN   \n",
      "98                    NaN                    NaN         NaN   \n",
      "99              4823.1226              5646.6665    1.229803   \n",
      "\n",
      "    radius_percentile_lower  radius_percentile_upper     lum_val  \\\n",
      "0                 15.130305                17.736086  135.954530   \n",
      "1                 26.847910                31.887394  268.852720   \n",
      "2                 10.662951                11.429784   56.514830   \n",
      "3                  0.914687                 1.031881    0.706451   \n",
      "4                  1.077339                 1.151772    1.258521   \n",
      "..                      ...                      ...         ...   \n",
      "95                      NaN                      NaN         NaN   \n",
      "96                      NaN                      NaN         NaN   \n",
      "97                      NaN                      NaN         NaN   \n",
      "98                      NaN                      NaN         NaN   \n",
      "99                 1.061278                 1.454644    1.031624   \n",
      "\n",
      "    lum_percentile_lower  lum_percentile_upper  \n",
      "0             132.774340            139.134720  \n",
      "1             263.849120            273.856320  \n",
      "2              55.881283             57.148380  \n",
      "3               0.705918              0.706985  \n",
      "4               1.257291              1.259751  \n",
      "..                   ...                   ...  \n",
      "95                   NaN                   NaN  \n",
      "96                   NaN                   NaN  \n",
      "97                   NaN                   NaN  \n",
      "98                   NaN                   NaN  \n",
      "99              0.986413              1.076834  \n",
      "\n",
      "[100 rows x 11 columns]\n"
     ]
    }
   ],
   "source": [
    "print(dr2.head(100))"
   ]
  },
  {
   "cell_type": "code",
   "execution_count": 7,
   "id": "0c123a55-0dde-4fd6-b8a4-80545999ad3d",
   "metadata": {},
   "outputs": [
    {
     "name": "stdout",
     "output_type": "stream",
     "text": [
      "Length of dr2:  5732\n",
      "The number of duplicates:  1456\n",
      "The number of stars in dr2 without duplicates:  4276\n",
      "The duplicates have been deleted. No. rows in dr2:  4276\n"
     ]
    }
   ],
   "source": [
    "# Checking for duplicates in dr2:\n",
    "\n",
    "# The length of dr2 is > the length of exoplanets, so there must be duplicates\n",
    "print(\"Length of dr2: \", dr2.shape[0])\n",
    "\n",
    "no_duplicates = dr2.duplicated().sum()\n",
    "print(\"The number of duplicates: \", no_duplicates)\n",
    "# All columns are duplicated for these rows, so any row can be deleted\n",
    "print(\"The number of stars in dr2 without duplicates: \", dr2.shape[0] - no_duplicates)\n",
    "\n",
    "# Deleting duplicates from dr2:\n",
    "dr2.drop_duplicates(subset=None, keep=\"first\", inplace=True, ignore_index=False)\n",
    "print(\"The duplicates have been deleted. No. rows in dr2: \", dr2.shape[0])"
   ]
  },
  {
   "cell_type": "code",
   "execution_count": 8,
   "id": "110e3084-a496-4d24-86b1-acf96a176dfe",
   "metadata": {},
   "outputs": [],
   "source": [
    "# NB: Gaia lum [lum solar], NASA EA lum [log(soalr lum)]"
   ]
  },
  {
   "cell_type": "code",
   "execution_count": 9,
   "id": "b042e013-19a2-4a94-bbaf-f5e263df6603",
   "metadata": {},
   "outputs": [],
   "source": [
    "# Changing the dr2 uncertainties to +/- uncertainties\n",
    "\n",
    "dr2[\"teff_percentile_upper\"] = dr2[\"teff_percentile_upper\"] - dr2[\"teff_val\"] # should come out +ve\n",
    "dr2[\"teff_percentile_lower\"] = dr2[\"teff_percentile_lower\"] - dr2[\"teff_val\"] # should come out -ve\n",
    "\n",
    "# Changing radius errors to +/- uncertainties:\n",
    "dr2[\"radius_percentile_upper\"] = dr2[\"radius_percentile_upper\"] - dr2[\"radius_val\"] # should come out +ve\n",
    "dr2[\"radius_percentile_lower\"] = dr2[\"radius_percentile_lower\"] - dr2[\"radius_val\"] # should come out -ve\n",
    "\n",
    "# Changing luminosity errors to +/- uncertainties:\n",
    "dr2[\"lum_percentile_upper\"] = dr2[\"lum_percentile_upper\"] - dr2[\"lum_val\"] # should come out +ve\n",
    "dr2[\"lum_percentile_lower\"] = dr2[\"lum_percentile_lower\"] - dr2[\"lum_val\"] # should come out -ve\n",
    "\n",
    "# Renaming the columns:\n",
    "new_cols = {\"teff_val\": \"gdr2_teff\",\n",
    "            \"teff_percentile_upper\": \"gdr2_tefferr1\",\n",
    "           \"teff_percentile_lower\": \"gdr2_tefferr2\",\n",
    "            \"radius_val\": \"gdr2_rad\",\n",
    "           \"radius_percentile_upper\": \"gdr2_raderr1\",\n",
    "           \"radius_percentile_lower\": \"gdr2_raderr2\",\n",
    "            \"lum_val\": \"gdr2_lum\",\n",
    "           \"lum_percentile_upper\": \"gdr2_lumerr1\",\n",
    "           \"lum_percentile_lower\": \"gdr2_lumerr2\"}\n",
    "dr2.rename( columns=new_cols, inplace=True )\n",
    "\n",
    "# Delete the designation column from dr2\n",
    "dr2.drop(labels=\"designation\", axis=1, inplace=True)"
   ]
  },
  {
   "cell_type": "code",
   "execution_count": 10,
   "id": "24a817c7-d226-4ce0-b298-a7d93ceed751",
   "metadata": {},
   "outputs": [
    {
     "name": "stdout",
     "output_type": "stream",
     "text": [
      "                source_id  gdr2_teff  gdr2_tefferr2  gdr2_tefferr1   gdr2_rad  \\\n",
      "0     3946945413106333696  4755.0000       -75.0000       312.0000  17.181000   \n",
      "1     1696798367260229376  4248.7000      -109.7000       262.0600  30.262005   \n",
      "2     1920113512486282240  4740.0000       -58.9000       106.5000  11.147492   \n",
      "3     1385293808145621504  5282.0000       -72.6665       251.0000   1.003684   \n",
      "4     2135550755683407232  5777.2500       -80.7500       112.7500   1.119800   \n",
      "...                   ...        ...            ...            ...        ...   \n",
      "5725   886479673641474304        NaN            NaN            NaN        NaN   \n",
      "5726   886479673643096448  4408.3335       -68.3335        50.0000  31.158610   \n",
      "5727   348020448377061376  6105.0000      -175.5000       114.3335   1.705353   \n",
      "5730  3794167001116433152  4861.2500       -71.2500        78.5000  11.126557   \n",
      "5731  4298361114750843904  4707.0000       -37.0000        36.0000  10.723029   \n",
      "\n",
      "      gdr2_raderr2  gdr2_raderr1    gdr2_lum  gdr2_lumerr2  gdr2_lumerr1  \n",
      "0        -2.050695      0.555086  135.954530     -3.180190      3.180190  \n",
      "1        -3.414095      1.625389  268.852720     -5.003600      5.003600  \n",
      "2        -0.484541      0.282292   56.514830     -0.633547      0.633550  \n",
      "3        -0.088997      0.028197    0.706451     -0.000534      0.000534  \n",
      "4        -0.042461      0.031972    1.258521     -0.001230      0.001230  \n",
      "...            ...           ...         ...           ...           ...  \n",
      "5725           NaN           NaN         NaN           NaN           NaN  \n",
      "5726     -0.694968      0.988912  330.330440    -13.481140     13.481140  \n",
      "5727     -0.062125      0.102443    3.639703     -0.028851      0.028851  \n",
      "5730     -0.350825      0.333472   62.288536     -1.252998      1.252998  \n",
      "5731     -0.162160      0.170589   50.851820     -0.590837      0.590840  \n",
      "\n",
      "[4276 rows x 10 columns]\n"
     ]
    }
   ],
   "source": [
    "print(dr2)"
   ]
  },
  {
   "cell_type": "code",
   "execution_count": 11,
   "id": "e2733c17-7efb-46ca-ad47-b58007ea574e",
   "metadata": {},
   "outputs": [],
   "source": [
    "# Merge with exoplanet df:\n",
    "exoplanets = pd.merge(exoplanets, dr2, on=\"source_id\", how=\"left\")"
   ]
  },
  {
   "cell_type": "code",
   "execution_count": 12,
   "id": "e04bfd6b-f2a2-4d25-96d5-1504f38362c5",
   "metadata": {},
   "outputs": [
    {
     "name": "stdout",
     "output_type": "stream",
     "text": [
      "         pl_name  hostname                   designation  sy_snum  sy_pnum  \\\n",
      "0       11 Com b    11 Com  Gaia DR2 3946945413106333696        2        1   \n",
      "1       11 UMi b    11 UMi  Gaia DR2 1696798367260229376        1        1   \n",
      "2       14 And b    14 And  Gaia DR2 1920113512486282240        1        1   \n",
      "3       14 Her b    14 Her  Gaia DR2 1385293808145621504        1        2   \n",
      "4     16 Cyg B b  16 Cyg B  Gaia DR2 2135550755683407232        3        1   \n",
      "...          ...       ...                           ...      ...      ...   \n",
      "4729   ups And b   ups And   Gaia DR2 348020448377061376        2        3   \n",
      "4730   ups And c   ups And   Gaia DR2 348020448377061376        2        3   \n",
      "4731   ups And d   ups And   Gaia DR2 348020448377061376        2        3   \n",
      "4732   ups Leo b   ups Leo  Gaia DR2 3794167001116433152        1        1   \n",
      "4733    xi Aql b    xi Aql  Gaia DR2 4298361114750843904        1        1   \n",
      "\n",
      "      discoverymethod    pl_orbper  pl_orbsmax  pl_rade   pl_bmasse  ...  \\\n",
      "0     Radial Velocity   326.030000    1.290000      NaN  6165.60000  ...   \n",
      "1     Radial Velocity   516.219970    1.530000      NaN  4684.81420  ...   \n",
      "2     Radial Velocity   185.840000    0.830000      NaN  1525.50000  ...   \n",
      "3     Radial Velocity  1773.400020    2.930000      NaN  1481.08780  ...   \n",
      "4     Radial Velocity   798.500000    1.660000      NaN   565.73740  ...   \n",
      "...               ...          ...         ...      ...         ...  ...   \n",
      "4729  Radial Velocity     4.617033    0.059222      NaN   218.53100  ...   \n",
      "4730  Radial Velocity   241.258000    0.827774      NaN   629.59500  ...   \n",
      "4731  Radial Velocity  1276.460000    2.513290      NaN  1313.22000  ...   \n",
      "4732  Radial Velocity   385.200000    1.180000      NaN   162.09249  ...   \n",
      "4733  Radial Velocity   136.750000    0.680000      NaN   890.00000  ...   \n",
      "\n",
      "                source_id  gdr2_teff  gdr2_tefferr2  gdr2_tefferr1   gdr2_rad  \\\n",
      "0     3946945413106333696    4755.00       -75.0000       312.0000  17.181000   \n",
      "1     1696798367260229376    4248.70      -109.7000       262.0600  30.262005   \n",
      "2     1920113512486282240    4740.00       -58.9000       106.5000  11.147492   \n",
      "3     1385293808145621504    5282.00       -72.6665       251.0000   1.003684   \n",
      "4     2135550755683407232    5777.25       -80.7500       112.7500   1.119800   \n",
      "...                   ...        ...            ...            ...        ...   \n",
      "4729   348020448377061376    6105.00      -175.5000       114.3335   1.705353   \n",
      "4730   348020448377061376    6105.00      -175.5000       114.3335   1.705353   \n",
      "4731   348020448377061376    6105.00      -175.5000       114.3335   1.705353   \n",
      "4732  3794167001116433152    4861.25       -71.2500        78.5000  11.126557   \n",
      "4733  4298361114750843904    4707.00       -37.0000        36.0000  10.723029   \n",
      "\n",
      "      gdr2_raderr2  gdr2_raderr1    gdr2_lum  gdr2_lumerr2  gdr2_lumerr1  \n",
      "0        -2.050695      0.555086  135.954530     -3.180190      3.180190  \n",
      "1        -3.414095      1.625389  268.852720     -5.003600      5.003600  \n",
      "2        -0.484541      0.282292   56.514830     -0.633547      0.633550  \n",
      "3        -0.088997      0.028197    0.706451     -0.000534      0.000534  \n",
      "4        -0.042461      0.031972    1.258521     -0.001230      0.001230  \n",
      "...            ...           ...         ...           ...           ...  \n",
      "4729     -0.062125      0.102443    3.639703     -0.028851      0.028851  \n",
      "4730     -0.062125      0.102443    3.639703     -0.028851      0.028851  \n",
      "4731     -0.062125      0.102443    3.639703     -0.028851      0.028851  \n",
      "4732     -0.350825      0.333472   62.288536     -1.252998      1.252998  \n",
      "4733     -0.162160      0.170589   50.851820     -0.590837      0.590840  \n",
      "\n",
      "[4734 rows x 42 columns]\n"
     ]
    }
   ],
   "source": [
    "print(exoplanets)"
   ]
  },
  {
   "cell_type": "code",
   "execution_count": null,
   "id": "047e4552-e907-425c-9334-e46b178be88f",
   "metadata": {},
   "outputs": [],
   "source": []
  }
 ],
 "metadata": {
  "kernelspec": {
   "display_name": "Python 3 (ipykernel)",
   "language": "python",
   "name": "python3"
  },
  "language_info": {
   "codemirror_mode": {
    "name": "ipython",
    "version": 3
   },
   "file_extension": ".py",
   "mimetype": "text/x-python",
   "name": "python",
   "nbconvert_exporter": "python",
   "pygments_lexer": "ipython3",
   "version": "3.9.7"
  }
 },
 "nbformat": 4,
 "nbformat_minor": 5
}
