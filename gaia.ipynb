{
 "cells": [
  {
   "cell_type": "code",
   "execution_count": 10,
   "id": "86f6560f-48ae-4093-9bdd-f9b8a033d5ee",
   "metadata": {},
   "outputs": [],
   "source": [
    "import pandas as pd\n",
    "import numpy as np\n",
    "\n",
    "from preprocessing.download_gaia import GaiaDataset"
   ]
  },
  {
   "cell_type": "code",
   "execution_count": 12,
   "id": "04aed301-106c-47ca-aa3b-5c3146269b35",
   "metadata": {},
   "outputs": [
    {
     "name": "stdout",
     "output_type": "stream",
     "text": [
      "INFO: Login to gaia TAP server [astroquery.gaia.core]\n",
      "OK\n",
      "INFO: Login to gaia data server [astroquery.gaia.core]\n",
      "OK\n",
      "INFO: Query finished. [astroquery.utils.tap.core]\n"
     ]
    }
   ],
   "source": [
    "GaiaDataset().get_gaia()"
   ]
  },
  {
   "cell_type": "code",
   "execution_count": null,
   "id": "486e092c-af42-4af3-9511-5443fc5effe8",
   "metadata": {},
   "outputs": [],
   "source": []
  }
 ],
 "metadata": {
  "kernelspec": {
   "display_name": "Python 3 (ipykernel)",
   "language": "python",
   "name": "python3"
  },
  "language_info": {
   "codemirror_mode": {
    "name": "ipython",
    "version": 3
   },
   "file_extension": ".py",
   "mimetype": "text/x-python",
   "name": "python",
   "nbconvert_exporter": "python",
   "pygments_lexer": "ipython3",
   "version": "3.9.7"
  }
 },
 "nbformat": 4,
 "nbformat_minor": 5
}
